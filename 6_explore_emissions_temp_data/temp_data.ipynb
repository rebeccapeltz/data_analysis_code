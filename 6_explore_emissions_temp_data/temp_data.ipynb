{
 "cells": [
  {
   "cell_type": "markdown",
   "id": "b3fc7fbf-621e-4cf9-8535-94cd5812c2f3",
   "metadata": {},
   "source": [
    "# NOAA Temperature Anomolies"
   ]
  },
  {
   "cell_type": "markdown",
   "id": "a47fd2c3-cde0-4322-92ba-1d6ed6492bc0",
   "metadata": {},
   "source": [
    "## Read raw data from data downloaded from NOAA"
   ]
  },
  {
   "cell_type": "code",
   "execution_count": 4,
   "id": "6e88944d-3480-4546-8320-f55e88ef381c",
   "metadata": {},
   "outputs": [
    {
     "name": "stdout",
     "output_type": "stream",
     "text": [
      "The range of years is: 175, min:1850, max: 2025\n",
      "columns: \n",
      " Index(['Year', 'Anomaly'], dtype='object')\n",
      "**************************************************\n",
      "isnull: \n",
      "       Year  Anomaly\n",
      "0    False    False\n",
      "1    False    False\n",
      "2    False    False\n",
      "3    False    False\n",
      "4    False    False\n",
      "..     ...      ...\n",
      "171  False    False\n",
      "172  False    False\n",
      "173  False    False\n",
      "174  False    False\n",
      "175  False    False\n",
      "\n",
      "[176 rows x 2 columns]\n",
      "**************************************************\n",
      "<class 'pandas.core.frame.DataFrame'>\n",
      "RangeIndex: 176 entries, 0 to 175\n",
      "Data columns (total 2 columns):\n",
      " #   Column   Non-Null Count  Dtype  \n",
      "---  ------   --------------  -----  \n",
      " 0   Year     176 non-null    int64  \n",
      " 1   Anomaly  176 non-null    float64\n",
      "dtypes: float64(1), int64(1)\n",
      "memory usage: 2.9 KB\n",
      "info: \n",
      " None\n",
      "**************************************************\n",
      "describe: \n",
      "               Year     Anomaly\n",
      "count   176.000000  176.000000\n",
      "mean   1937.500000    0.050966\n",
      "std      50.950957    0.401827\n",
      "min    1850.000000   -0.530000\n",
      "25%    1893.750000   -0.242500\n",
      "50%    1937.500000   -0.050000\n",
      "75%    1981.250000    0.262500\n",
      "max    2025.000000    1.290000\n",
      "**************************************************\n",
      "head: \n",
      "    Year  Anomaly\n",
      "0  1850    -0.35\n",
      "1  1851    -0.34\n",
      "2  1852    -0.32\n",
      "3  1853    -0.27\n",
      "4  1854    -0.12\n",
      "**************************************************\n",
      "tail: \n",
      "      Year  Anomaly\n",
      "171  2021     0.80\n",
      "172  2022     0.89\n",
      "173  2023     0.99\n",
      "174  2024     1.29\n",
      "175  2025     1.22\n",
      "**************************************************\n",
      "sample: \n",
      "      Year  Anomaly\n",
      "23   1873    -0.43\n",
      "66   1916    -0.20\n",
      "88   1938     0.06\n",
      "94   1944     0.20\n",
      "105  1955    -0.20\n",
      "106  1956    -0.24\n",
      "111  1961     0.15\n",
      "126  1976    -0.01\n",
      "157  2007     0.78\n",
      "159  2009     0.58\n",
      "**************************************************\n"
     ]
    }
   ],
   "source": [
    "import pandas as pd\n",
    "\n",
    "df_temp_anomalies = pd.read_csv('../data/global_temp_anomaly.csv',comment='#')\n",
    "\n",
    "year_range = df_temp_anomalies.Year.max() - df_temp_anomalies.Year.min()\n",
    "\n",
    "print(f\"The range of years is: {year_range}, min:{df_temp_anomalies.Year.min()}, max: {df_temp_anomalies.Year.max()}\")\n",
    "\n",
    "print('columns: \\n', df_temp_anomalies.columns)\n",
    "print('*' *50)\n",
    "print('isnull: \\n', df_temp_anomalies.isnull())\n",
    "print('*' *50)\n",
    "print('info: \\n', df_temp_anomalies.info())\n",
    "print('*' *50)\n",
    "print('describe: \\n',df_temp_anomalies.describe())\n",
    "print('*' *50)\n",
    "print('head: \\n',df_temp_anomalies.head())\n",
    "print('*' *50)\n",
    "print('tail: \\n', df_temp_anomalies.tail())\n",
    "print('*' *50)\n",
    "print('sample: \\n', df_temp_anomalies.sample(10).sort_values(by='Year'))\n",
    "print('*' *50)\n",
    "\n",
    "\n",
    "\n"
   ]
  },
  {
   "cell_type": "code",
   "execution_count": null,
   "id": "576dda39-f88a-42e5-a6b2-8f756e3c5254",
   "metadata": {},
   "outputs": [],
   "source": []
  }
 ],
 "metadata": {
  "kernelspec": {
   "display_name": "Python 3 (ipykernel)",
   "language": "python",
   "name": "python3"
  },
  "language_info": {
   "codemirror_mode": {
    "name": "ipython",
    "version": 3
   },
   "file_extension": ".py",
   "mimetype": "text/x-python",
   "name": "python",
   "nbconvert_exporter": "python",
   "pygments_lexer": "ipython3",
   "version": "3.13.3"
  }
 },
 "nbformat": 4,
 "nbformat_minor": 5
}
