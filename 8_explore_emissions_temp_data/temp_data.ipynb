{
 "cells": [
  {
   "cell_type": "markdown",
   "id": "b3fc7fbf-621e-4cf9-8535-94cd5812c2f3",
   "metadata": {},
   "source": [
    "# NOAA Temperature Anomolies"
   ]
  },
  {
   "cell_type": "markdown",
   "id": "a47fd2c3-cde0-4322-92ba-1d6ed6492bc0",
   "metadata": {},
   "source": [
    "## Read raw data from data downloaded from NOAA"
   ]
  },
  {
   "cell_type": "code",
   "execution_count": 1,
   "id": "038854a9-e428-4006-95db-89b18386cc66",
   "metadata": {},
   "outputs": [],
   "source": [
    "import pandas as pd\n",
    "import io # need this to get info\n",
    "\n",
    "df_temp_anomalies = pd.read_csv('../data/global_temp_anomaly.csv',comment='#',encoding='utf8')\n"
   ]
  },
  {
   "cell_type": "markdown",
   "id": "fbf2863f-b3fb-40eb-964c-71834ac790eb",
   "metadata": {},
   "source": [
    "## Test if empty"
   ]
  },
  {
   "cell_type": "code",
   "execution_count": 12,
   "id": "c4f6172a-5bd9-4db9-a45f-074dffb35941",
   "metadata": {},
   "outputs": [
    {
     "name": "stdout",
     "output_type": "stream",
     "text": [
      "empty: \n",
      " False\n",
      "**************************************************\n"
     ]
    }
   ],
   "source": [
    "# Test if empty\n",
    "print('empty: \\n', df_temp_anomalies.empty)\n",
    "print('*' *50)"
   ]
  },
  {
   "cell_type": "markdown",
   "id": "87966e9a-de86-4b4c-ba20-0c08dd38da15",
   "metadata": {},
   "source": [
    "## View Columns"
   ]
  },
  {
   "cell_type": "code",
   "execution_count": 10,
   "id": "e220d125-3d91-4b8d-a914-816deca9357a",
   "metadata": {},
   "outputs": [
    {
     "name": "stdout",
     "output_type": "stream",
     "text": [
      "columns: \n",
      " Index(['Year', 'Anomaly'], dtype='object')\n",
      "**************************************************\n"
     ]
    }
   ],
   "source": [
    "# View columns \n",
    "print('columns: \\n', df_temp_anomalies.columns)\n",
    "print('*' *50)"
   ]
  },
  {
   "cell_type": "markdown",
   "id": "d07d7afd-9663-4cac-a068-07cdded6bf2f",
   "metadata": {},
   "source": [
    "## View range of years"
   ]
  },
  {
   "cell_type": "code",
   "execution_count": 13,
   "id": "083bcb3c-d388-454b-8a71-0c62e9433a6c",
   "metadata": {},
   "outputs": [
    {
     "name": "stdout",
     "output_type": "stream",
     "text": [
      "The range of years is: 175, min:1850, max: 2025\n"
     ]
    }
   ],
   "source": [
    "# View range of years - this is data per year\n",
    "year_range = df_temp_anomalies.Year.max() - df_temp_anomalies.Year.min()\n",
    "print(f\"The range of years is: {year_range}, min:{df_temp_anomalies.Year.min()}, max: {df_temp_anomalies.Year.max()}\")"
   ]
  },
  {
   "cell_type": "markdown",
   "id": "893c0db6-70e7-431a-9268-0f470acfcac6",
   "metadata": {},
   "source": [
    "## View missing data"
   ]
  },
  {
   "cell_type": "code",
   "execution_count": 11,
   "id": "dd4fa659-1021-4335-9079-141ff061768e",
   "metadata": {},
   "outputs": [
    {
     "name": "stdout",
     "output_type": "stream",
     "text": [
      "isnull: \n",
      "       Year  Anomaly\n",
      "0    False    False\n",
      "1    False    False\n",
      "2    False    False\n",
      "3    False    False\n",
      "4    False    False\n",
      "..     ...      ...\n",
      "171  False    False\n",
      "172  False    False\n",
      "173  False    False\n",
      "174  False    False\n",
      "175  False    False\n",
      "\n",
      "[176 rows x 2 columns]\n",
      "**************************************************\n"
     ]
    }
   ],
   "source": [
    "# View missing data\n",
    "print('isnull: \\n', df_temp_anomalies.isnull())\n",
    "print('*' *50)"
   ]
  },
  {
   "cell_type": "markdown",
   "id": "4f87b5d6-8061-4fc1-b088-176850914d21",
   "metadata": {},
   "source": [
    "## View info"
   ]
  },
  {
   "cell_type": "code",
   "execution_count": 14,
   "id": "bf4042c2-5b09-4a85-9a50-c02f27665817",
   "metadata": {},
   "outputs": [
    {
     "name": "stdout",
     "output_type": "stream",
     "text": [
      "<class 'pandas.core.frame.DataFrame'>\n",
      "RangeIndex: 176 entries, 0 to 175\n",
      "Data columns (total 2 columns):\n",
      " #   Column   Non-Null Count  Dtype  \n",
      "---  ------   --------------  -----  \n",
      " 0   Year     176 non-null    int64  \n",
      " 1   Anomaly  176 non-null    float64\n",
      "dtypes: float64(1), int64(1)\n",
      "memory usage: 2.9 KB\n",
      "info: \n",
      " None\n",
      "**************************************************\n"
     ]
    }
   ],
   "source": [
    "# View info\n",
    "print('info: \\n', df_temp_anomalies.info())\n",
    "print('*' *50)"
   ]
  },
  {
   "cell_type": "markdown",
   "id": "d8a474d8-166f-4ed4-855f-c7371ca6f8e5",
   "metadata": {},
   "source": [
    "## View describe"
   ]
  },
  {
   "cell_type": "code",
   "execution_count": 16,
   "id": "10ebbc85-21f5-4140-9762-d3109b9fc623",
   "metadata": {},
   "outputs": [
    {
     "name": "stdout",
     "output_type": "stream",
     "text": [
      "describe: \n",
      "               Year     Anomaly\n",
      "count   176.000000  176.000000\n",
      "mean   1937.500000    0.050966\n",
      "std      50.950957    0.401827\n",
      "min    1850.000000   -0.530000\n",
      "25%    1893.750000   -0.242500\n",
      "50%    1937.500000   -0.050000\n",
      "75%    1981.250000    0.262500\n",
      "max    2025.000000    1.290000\n",
      "**************************************************\n"
     ]
    }
   ],
   "source": [
    "# View describe\n",
    "print('describe: \\n',df_temp_anomalies.describe())\n",
    "print('*' *50)"
   ]
  },
  {
   "cell_type": "markdown",
   "id": "de9aad35-87eb-4701-b688-591b8b360488",
   "metadata": {},
   "source": [
    "## View first 5 rows of data"
   ]
  },
  {
   "cell_type": "code",
   "execution_count": 17,
   "id": "c68598ed-8772-43e8-b600-a98418a559bd",
   "metadata": {},
   "outputs": [
    {
     "name": "stdout",
     "output_type": "stream",
     "text": [
      "head: \n",
      "    Year  Anomaly\n",
      "0  1850    -0.35\n",
      "1  1851    -0.34\n",
      "2  1852    -0.32\n",
      "3  1853    -0.27\n",
      "4  1854    -0.12\n",
      "**************************************************\n"
     ]
    }
   ],
   "source": [
    "# View first 5 rows of data\n",
    "print('head: \\n',df_temp_anomalies.head())\n",
    "print('*' *50)"
   ]
  },
  {
   "cell_type": "markdown",
   "id": "26ec2d01-2ce9-4c08-b11b-21fab7b5e8fa",
   "metadata": {},
   "source": [
    "## View last 5 rows of data"
   ]
  },
  {
   "cell_type": "code",
   "execution_count": 18,
   "id": "09c6b6e7-68a2-4de0-80fd-8ae02e2d2a18",
   "metadata": {},
   "outputs": [
    {
     "name": "stdout",
     "output_type": "stream",
     "text": [
      "tail: \n",
      "      Year  Anomaly\n",
      "171  2021     0.80\n",
      "172  2022     0.89\n",
      "173  2023     0.99\n",
      "174  2024     1.29\n",
      "175  2025     1.22\n",
      "**************************************************\n"
     ]
    }
   ],
   "source": [
    "# View last 5 rows of data\n",
    "print('tail: \\n', df_temp_anomalies.tail())\n",
    "print('*' *50)"
   ]
  },
  {
   "cell_type": "markdown",
   "id": "8e9f7965-528f-42f2-8051-861f0697dde5",
   "metadata": {},
   "source": [
    "## View random sample of 10 rows of date sorted by year"
   ]
  },
  {
   "cell_type": "code",
   "execution_count": 19,
   "id": "ca30e22e-b0d9-4d85-8121-2513b451fee4",
   "metadata": {},
   "outputs": [
    {
     "name": "stdout",
     "output_type": "stream",
     "text": [
      "sample: \n",
      "      Year  Anomaly\n",
      "0    1850    -0.35\n",
      "1    1851    -0.34\n",
      "9    1859    -0.04\n",
      "19   1869    -0.18\n",
      "29   1879    -0.15\n",
      "35   1885    -0.42\n",
      "42   1892    -0.26\n",
      "95   1945     0.29\n",
      "122  1972     0.06\n",
      "164  2014     0.79\n",
      "**************************************************\n"
     ]
    }
   ],
   "source": [
    "\n",
    "# View a random sample of 10 rows of data sorted by year\n",
    "print('sample: \\n', df_temp_anomalies.sample(10).sort_values(by='Year'))\n",
    "print('*' *50)\n"
   ]
  },
  {
   "cell_type": "markdown",
   "id": "a57caae4-05b6-4508-b6d9-60b939c44f8c",
   "metadata": {},
   "source": [
    "## Line Chart: Year vs Anomaly"
   ]
  },
  {
   "cell_type": "code",
   "execution_count": 7,
   "id": "352ea073-f619-4a85-b030-68371fea356a",
   "metadata": {},
   "outputs": [
    {
     "data": {
      "application/vnd.plotly.v1+json": {
       "config": {
        "plotlyServerURL": "https://plot.ly"
       },
       "data": [
        {
         "hovertemplate": "Year=%{x}<br>Anomaly=%{y}<extra></extra>",
         "legendgroup": "",
         "line": {
          "color": "#636efa",
          "dash": "solid"
         },
         "marker": {
          "symbol": "circle"
         },
         "mode": "lines",
         "name": "",
         "orientation": "v",
         "showlegend": false,
         "type": "scatter",
         "x": {
          "bdata": "Ogc7BzwHPQc+Bz8HQAdBB0IHQwdEB0UHRgdHB0gHSQdKB0sHTAdNB04HTwdQB1EHUgdTB1QHVQdWB1cHWAdZB1oHWwdcB10HXgdfB2AHYQdiB2MHZAdlB2YHZwdoB2kHagdrB2wHbQduB28HcAdxB3IHcwd0B3UHdgd3B3gHeQd6B3sHfAd9B34HfweAB4EHggeDB4QHhQeGB4cHiAeJB4oHiweMB40HjgePB5AHkQeSB5MHlAeVB5YHlweYB5kHmgebB5wHnQeeB58HoAehB6IHowekB6UHpgenB6gHqQeqB6sHrAetB64HrwewB7EHsgezB7QHtQe2B7cHuAe5B7oHuwe8B70Hvge/B8AHwQfCB8MHxAfFB8YHxwfIB8kHygfLB8wHzQfOB88H0AfRB9IH0wfUB9UH1gfXB9gH2QfaB9sH3AfdB94H3wfgB+EH4gfjB+QH5QfmB+cH6AfpBw==",
          "dtype": "i2"
         },
         "xaxis": "x",
         "y": {
          "bdata": "ZmZmZmZm1r/D9Shcj8LVv3sUrkfhetS/SOF6FK5H0b+4HoXrUbi+v+xRuB6F67G/mpmZmZmZyb/sUbgehevRvwrXo3A9Cse/exSuR+F6pL+amZmZmZnJv3sUrkfhetS/4XoUrkfh2r97FK5H4XrEv5qZmZmZmcm/SOF6FK5H0b9SuB6F61HIvz0K16NwPdq/4XoUrkfhyr8K16NwPQrHv+F6FK5H4cq/exSuR+F6hL/Xo3A9CtfTv4XrUbgehdu/MzMzMzMz079SuB6F61HIvzMzMzMzM9O/uB6F61G4nr8zMzMzMzPDPzMzMzMzM8O/mpmZmZmZub+4HoXrUbieP5qZmZmZmcm/mpmZmZmZyb/2KFyPwvXYv+F6FK5H4dq/AAAAAAAA0L8fhetRuB7Vv6RwPQrXo9C/7FG4HoXrsT/2KFyPwvXYvylcj8L1KMy/pHA9Ctej0L8fhetRuB7Vv+F6FK5H4dq/4XoUrkfhyr+PwvUoXI/Sv5qZmZmZmak/exSuR+F61L8pXI/C9SjMv6RwPQrXo8C/mpmZmZmZqT9I4XoUrkfRvz0K16NwPdq/pHA9Ctej4L8zMzMzMzPTv3sUrkfheoS/9ihcj8L12L9cj8L1KFzfv/YoXI/C9eC/rkfhehSu179SuB6F61HYvylcj8L1KMy/9ihcj8L12L9xPQrXo3DNv5qZmZmZmbk/mpmZmZmZyb+kcD0K16Pgvylcj8L1KNy/uB6F61G4nr9I4XoUrkfRv4/C9Shcj9K/MzMzMzMzw797FK5H4XrUv1K4HoXrUci/w/UoXI/Cxb97FK5H4XqUP4/C9Shcj9K/4XoUrkfhyr/2KFyPwvXYv6RwPQrXo8C/7FG4HoXrwb97FK5H4XqUv5qZmZmZmcm/pHA9Ctej0L8K16NwPQrXv+xRuB6F68G/exSuR+F6xL+4HoXrUbiuPylcj8L1KLy/cT0K16NwzT8AAAAAAADQP+xRuB6F68E/KVyPwvUovD+amZmZmZnJP4/C9Shcj9I/exSuR+F6lD8K16NwPQq3P5qZmZmZmam/mpmZmZmZqb/D9Shcj8LFvzMzMzMzM8O/CtejcD0Ktz8AAAAAAADQPzMzMzMzM8O/mpmZmZmZyb+4HoXrUbjOv5qZmZmZmak/7FG4HoXrsT8zMzMzMzPDP5qZmZmZmbm/MzMzMzMzwz+amZmZmZmpP7gehetRuJ6/pHA9Ctej0L/D9Shcj8LFvylcj8L1KLy/exSuR+F6hL+amZmZmZmpv1K4HoXrUcg/mpmZmZmZuT+4HoXrUbiuv7gehetRuK4/H4XrUbge1T/sUbgeheuxvwrXo3A9Crc/exSuR+F6hL+kcD0K16PQPzMzMzMzM8M/mpmZmZmZuT9mZmZmZmbWP8P1KFyPwtU/exSuR+F6xD/sUbgehevRP7gehetRuL4/MzMzMzMzwz+kcD0K16PQP0jhehSuR9E/zczMzMzM3D/Xo3A9CtfTP4XrUbgeheM/pHA9Ctej4D8zMzMzMzPTP3sUrkfhetQ/mpmZmZmZ2T8AAAAAAADgP8P1KFyPwtU/9ihcj8L12D8K16NwPQrnPwrXo3A9Ctc/4XoUrkfh4j/2KFyPwvXgP+xRuB6F6+E/PQrXo3A94j/Xo3A9CtfjPxSuR+F6FOY/mpmZmZmZ4T/2KFyPwvXoP6RwPQrXo+A/j8L1KFyP4j8pXI/C9SjsP3E9CtejcOU/CtejcD0K5z8zMzMzMzPjP0jhehSuR+k/PQrXo3A96j89CtejcD3yP2ZmZmZmZu4/H4XrUbge7T/NzMzMzMzwPz0K16NwPfI/mpmZmZmZ6T97FK5H4XrsP65H4XoUru8/pHA9Ctej9D+F61G4HoXzPw==",
          "dtype": "f8"
         },
         "yaxis": "y"
        }
       ],
       "layout": {
        "legend": {
         "tracegroupgap": 0
        },
        "margin": {
         "t": 60
        },
        "template": {
         "data": {
          "bar": [
           {
            "error_x": {
             "color": "#2a3f5f"
            },
            "error_y": {
             "color": "#2a3f5f"
            },
            "marker": {
             "line": {
              "color": "#E5ECF6",
              "width": 0.5
             },
             "pattern": {
              "fillmode": "overlay",
              "size": 10,
              "solidity": 0.2
             }
            },
            "type": "bar"
           }
          ],
          "barpolar": [
           {
            "marker": {
             "line": {
              "color": "#E5ECF6",
              "width": 0.5
             },
             "pattern": {
              "fillmode": "overlay",
              "size": 10,
              "solidity": 0.2
             }
            },
            "type": "barpolar"
           }
          ],
          "carpet": [
           {
            "aaxis": {
             "endlinecolor": "#2a3f5f",
             "gridcolor": "white",
             "linecolor": "white",
             "minorgridcolor": "white",
             "startlinecolor": "#2a3f5f"
            },
            "baxis": {
             "endlinecolor": "#2a3f5f",
             "gridcolor": "white",
             "linecolor": "white",
             "minorgridcolor": "white",
             "startlinecolor": "#2a3f5f"
            },
            "type": "carpet"
           }
          ],
          "choropleth": [
           {
            "colorbar": {
             "outlinewidth": 0,
             "ticks": ""
            },
            "type": "choropleth"
           }
          ],
          "contour": [
           {
            "colorbar": {
             "outlinewidth": 0,
             "ticks": ""
            },
            "colorscale": [
             [
              0,
              "#0d0887"
             ],
             [
              0.1111111111111111,
              "#46039f"
             ],
             [
              0.2222222222222222,
              "#7201a8"
             ],
             [
              0.3333333333333333,
              "#9c179e"
             ],
             [
              0.4444444444444444,
              "#bd3786"
             ],
             [
              0.5555555555555556,
              "#d8576b"
             ],
             [
              0.6666666666666666,
              "#ed7953"
             ],
             [
              0.7777777777777778,
              "#fb9f3a"
             ],
             [
              0.8888888888888888,
              "#fdca26"
             ],
             [
              1,
              "#f0f921"
             ]
            ],
            "type": "contour"
           }
          ],
          "contourcarpet": [
           {
            "colorbar": {
             "outlinewidth": 0,
             "ticks": ""
            },
            "type": "contourcarpet"
           }
          ],
          "heatmap": [
           {
            "colorbar": {
             "outlinewidth": 0,
             "ticks": ""
            },
            "colorscale": [
             [
              0,
              "#0d0887"
             ],
             [
              0.1111111111111111,
              "#46039f"
             ],
             [
              0.2222222222222222,
              "#7201a8"
             ],
             [
              0.3333333333333333,
              "#9c179e"
             ],
             [
              0.4444444444444444,
              "#bd3786"
             ],
             [
              0.5555555555555556,
              "#d8576b"
             ],
             [
              0.6666666666666666,
              "#ed7953"
             ],
             [
              0.7777777777777778,
              "#fb9f3a"
             ],
             [
              0.8888888888888888,
              "#fdca26"
             ],
             [
              1,
              "#f0f921"
             ]
            ],
            "type": "heatmap"
           }
          ],
          "histogram": [
           {
            "marker": {
             "pattern": {
              "fillmode": "overlay",
              "size": 10,
              "solidity": 0.2
             }
            },
            "type": "histogram"
           }
          ],
          "histogram2d": [
           {
            "colorbar": {
             "outlinewidth": 0,
             "ticks": ""
            },
            "colorscale": [
             [
              0,
              "#0d0887"
             ],
             [
              0.1111111111111111,
              "#46039f"
             ],
             [
              0.2222222222222222,
              "#7201a8"
             ],
             [
              0.3333333333333333,
              "#9c179e"
             ],
             [
              0.4444444444444444,
              "#bd3786"
             ],
             [
              0.5555555555555556,
              "#d8576b"
             ],
             [
              0.6666666666666666,
              "#ed7953"
             ],
             [
              0.7777777777777778,
              "#fb9f3a"
             ],
             [
              0.8888888888888888,
              "#fdca26"
             ],
             [
              1,
              "#f0f921"
             ]
            ],
            "type": "histogram2d"
           }
          ],
          "histogram2dcontour": [
           {
            "colorbar": {
             "outlinewidth": 0,
             "ticks": ""
            },
            "colorscale": [
             [
              0,
              "#0d0887"
             ],
             [
              0.1111111111111111,
              "#46039f"
             ],
             [
              0.2222222222222222,
              "#7201a8"
             ],
             [
              0.3333333333333333,
              "#9c179e"
             ],
             [
              0.4444444444444444,
              "#bd3786"
             ],
             [
              0.5555555555555556,
              "#d8576b"
             ],
             [
              0.6666666666666666,
              "#ed7953"
             ],
             [
              0.7777777777777778,
              "#fb9f3a"
             ],
             [
              0.8888888888888888,
              "#fdca26"
             ],
             [
              1,
              "#f0f921"
             ]
            ],
            "type": "histogram2dcontour"
           }
          ],
          "mesh3d": [
           {
            "colorbar": {
             "outlinewidth": 0,
             "ticks": ""
            },
            "type": "mesh3d"
           }
          ],
          "parcoords": [
           {
            "line": {
             "colorbar": {
              "outlinewidth": 0,
              "ticks": ""
             }
            },
            "type": "parcoords"
           }
          ],
          "pie": [
           {
            "automargin": true,
            "type": "pie"
           }
          ],
          "scatter": [
           {
            "fillpattern": {
             "fillmode": "overlay",
             "size": 10,
             "solidity": 0.2
            },
            "type": "scatter"
           }
          ],
          "scatter3d": [
           {
            "line": {
             "colorbar": {
              "outlinewidth": 0,
              "ticks": ""
             }
            },
            "marker": {
             "colorbar": {
              "outlinewidth": 0,
              "ticks": ""
             }
            },
            "type": "scatter3d"
           }
          ],
          "scattercarpet": [
           {
            "marker": {
             "colorbar": {
              "outlinewidth": 0,
              "ticks": ""
             }
            },
            "type": "scattercarpet"
           }
          ],
          "scattergeo": [
           {
            "marker": {
             "colorbar": {
              "outlinewidth": 0,
              "ticks": ""
             }
            },
            "type": "scattergeo"
           }
          ],
          "scattergl": [
           {
            "marker": {
             "colorbar": {
              "outlinewidth": 0,
              "ticks": ""
             }
            },
            "type": "scattergl"
           }
          ],
          "scattermap": [
           {
            "marker": {
             "colorbar": {
              "outlinewidth": 0,
              "ticks": ""
             }
            },
            "type": "scattermap"
           }
          ],
          "scattermapbox": [
           {
            "marker": {
             "colorbar": {
              "outlinewidth": 0,
              "ticks": ""
             }
            },
            "type": "scattermapbox"
           }
          ],
          "scatterpolar": [
           {
            "marker": {
             "colorbar": {
              "outlinewidth": 0,
              "ticks": ""
             }
            },
            "type": "scatterpolar"
           }
          ],
          "scatterpolargl": [
           {
            "marker": {
             "colorbar": {
              "outlinewidth": 0,
              "ticks": ""
             }
            },
            "type": "scatterpolargl"
           }
          ],
          "scatterternary": [
           {
            "marker": {
             "colorbar": {
              "outlinewidth": 0,
              "ticks": ""
             }
            },
            "type": "scatterternary"
           }
          ],
          "surface": [
           {
            "colorbar": {
             "outlinewidth": 0,
             "ticks": ""
            },
            "colorscale": [
             [
              0,
              "#0d0887"
             ],
             [
              0.1111111111111111,
              "#46039f"
             ],
             [
              0.2222222222222222,
              "#7201a8"
             ],
             [
              0.3333333333333333,
              "#9c179e"
             ],
             [
              0.4444444444444444,
              "#bd3786"
             ],
             [
              0.5555555555555556,
              "#d8576b"
             ],
             [
              0.6666666666666666,
              "#ed7953"
             ],
             [
              0.7777777777777778,
              "#fb9f3a"
             ],
             [
              0.8888888888888888,
              "#fdca26"
             ],
             [
              1,
              "#f0f921"
             ]
            ],
            "type": "surface"
           }
          ],
          "table": [
           {
            "cells": {
             "fill": {
              "color": "#EBF0F8"
             },
             "line": {
              "color": "white"
             }
            },
            "header": {
             "fill": {
              "color": "#C8D4E3"
             },
             "line": {
              "color": "white"
             }
            },
            "type": "table"
           }
          ]
         },
         "layout": {
          "annotationdefaults": {
           "arrowcolor": "#2a3f5f",
           "arrowhead": 0,
           "arrowwidth": 1
          },
          "autotypenumbers": "strict",
          "coloraxis": {
           "colorbar": {
            "outlinewidth": 0,
            "ticks": ""
           }
          },
          "colorscale": {
           "diverging": [
            [
             0,
             "#8e0152"
            ],
            [
             0.1,
             "#c51b7d"
            ],
            [
             0.2,
             "#de77ae"
            ],
            [
             0.3,
             "#f1b6da"
            ],
            [
             0.4,
             "#fde0ef"
            ],
            [
             0.5,
             "#f7f7f7"
            ],
            [
             0.6,
             "#e6f5d0"
            ],
            [
             0.7,
             "#b8e186"
            ],
            [
             0.8,
             "#7fbc41"
            ],
            [
             0.9,
             "#4d9221"
            ],
            [
             1,
             "#276419"
            ]
           ],
           "sequential": [
            [
             0,
             "#0d0887"
            ],
            [
             0.1111111111111111,
             "#46039f"
            ],
            [
             0.2222222222222222,
             "#7201a8"
            ],
            [
             0.3333333333333333,
             "#9c179e"
            ],
            [
             0.4444444444444444,
             "#bd3786"
            ],
            [
             0.5555555555555556,
             "#d8576b"
            ],
            [
             0.6666666666666666,
             "#ed7953"
            ],
            [
             0.7777777777777778,
             "#fb9f3a"
            ],
            [
             0.8888888888888888,
             "#fdca26"
            ],
            [
             1,
             "#f0f921"
            ]
           ],
           "sequentialminus": [
            [
             0,
             "#0d0887"
            ],
            [
             0.1111111111111111,
             "#46039f"
            ],
            [
             0.2222222222222222,
             "#7201a8"
            ],
            [
             0.3333333333333333,
             "#9c179e"
            ],
            [
             0.4444444444444444,
             "#bd3786"
            ],
            [
             0.5555555555555556,
             "#d8576b"
            ],
            [
             0.6666666666666666,
             "#ed7953"
            ],
            [
             0.7777777777777778,
             "#fb9f3a"
            ],
            [
             0.8888888888888888,
             "#fdca26"
            ],
            [
             1,
             "#f0f921"
            ]
           ]
          },
          "colorway": [
           "#636efa",
           "#EF553B",
           "#00cc96",
           "#ab63fa",
           "#FFA15A",
           "#19d3f3",
           "#FF6692",
           "#B6E880",
           "#FF97FF",
           "#FECB52"
          ],
          "font": {
           "color": "#2a3f5f"
          },
          "geo": {
           "bgcolor": "white",
           "lakecolor": "white",
           "landcolor": "#E5ECF6",
           "showlakes": true,
           "showland": true,
           "subunitcolor": "white"
          },
          "hoverlabel": {
           "align": "left"
          },
          "hovermode": "closest",
          "mapbox": {
           "style": "light"
          },
          "paper_bgcolor": "white",
          "plot_bgcolor": "#E5ECF6",
          "polar": {
           "angularaxis": {
            "gridcolor": "white",
            "linecolor": "white",
            "ticks": ""
           },
           "bgcolor": "#E5ECF6",
           "radialaxis": {
            "gridcolor": "white",
            "linecolor": "white",
            "ticks": ""
           }
          },
          "scene": {
           "xaxis": {
            "backgroundcolor": "#E5ECF6",
            "gridcolor": "white",
            "gridwidth": 2,
            "linecolor": "white",
            "showbackground": true,
            "ticks": "",
            "zerolinecolor": "white"
           },
           "yaxis": {
            "backgroundcolor": "#E5ECF6",
            "gridcolor": "white",
            "gridwidth": 2,
            "linecolor": "white",
            "showbackground": true,
            "ticks": "",
            "zerolinecolor": "white"
           },
           "zaxis": {
            "backgroundcolor": "#E5ECF6",
            "gridcolor": "white",
            "gridwidth": 2,
            "linecolor": "white",
            "showbackground": true,
            "ticks": "",
            "zerolinecolor": "white"
           }
          },
          "shapedefaults": {
           "line": {
            "color": "#2a3f5f"
           }
          },
          "ternary": {
           "aaxis": {
            "gridcolor": "white",
            "linecolor": "white",
            "ticks": ""
           },
           "baxis": {
            "gridcolor": "white",
            "linecolor": "white",
            "ticks": ""
           },
           "bgcolor": "#E5ECF6",
           "caxis": {
            "gridcolor": "white",
            "linecolor": "white",
            "ticks": ""
           }
          },
          "title": {
           "x": 0.05
          },
          "xaxis": {
           "automargin": true,
           "gridcolor": "white",
           "linecolor": "white",
           "ticks": "",
           "title": {
            "standoff": 15
           },
           "zerolinecolor": "white",
           "zerolinewidth": 2
          },
          "yaxis": {
           "automargin": true,
           "gridcolor": "white",
           "linecolor": "white",
           "ticks": "",
           "title": {
            "standoff": 15
           },
           "zerolinecolor": "white",
           "zerolinewidth": 2
          }
         }
        },
        "xaxis": {
         "anchor": "y",
         "domain": [
          0,
          1
         ],
         "title": {
          "text": "Year"
         }
        },
        "yaxis": {
         "anchor": "x",
         "domain": [
          0,
          1
         ],
         "title": {
          "text": "Anomaly"
         }
        }
       }
      },
      "image/png": "[encoded data removed]"
     },
     "metadata": {},
     "output_type": "display_data"
    }
   ],
   "source": [
    "import plotly.express as px\n",
    "fig = px.line(df_temp_anomalies,x='Year', y='Anomaly')\n",
    "fig.show()"
   ]
  },
  {
   "cell_type": "code",
   "execution_count": null,
   "id": "885b54ff-8aa4-4eaf-a74f-1959c607145f",
   "metadata": {},
   "outputs": [],
   "source": []
  }
 ],
 "metadata": {
  "kernelspec": {
   "display_name": "Python 3 (ipykernel)",
   "language": "python",
   "name": "python3"
  },
  "language_info": {
   "codemirror_mode": {
    "name": "ipython",
    "version": 3
   },
   "file_extension": ".py",
   "mimetype": "text/x-python",
   "name": "python",
   "nbconvert_exporter": "python",
   "pygments_lexer": "ipython3",
   "version": "3.13.3"
  }
 },
 "nbformat": 4,
 "nbformat_minor": 5
}
