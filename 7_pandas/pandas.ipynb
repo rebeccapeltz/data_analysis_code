{
 "cells": [
  {
   "cell_type": "markdown",
   "id": "f53b96b9-80f1-4a33-ba9c-c06e354a5e4d",
   "metadata": {},
   "source": [
    "# pandas\n",
    "## Data Transformation\n",
    "\n",
    "- dataframe\n",
    "- read CSV data\n",
    "- write CSV data\n",
    "- filter\n",
    "- merge and concatenate\n",
    "- group by\n",
    "- append\n",
    "- correlate\n",
    "- coefficent of correlation\n"
   ]
  },
  {
   "cell_type": "markdown",
   "id": "027fac5d-c889-498e-b3ad-5bd539e663e1",
   "metadata": {},
   "source": [
    "Two CSV data files: **Student.csv** and **CourseEnrollment.csv**\n",
    "\n",
    "Student\n",
    "\n",
    "```\n",
    "StudentID,Name,Age,Major,GPA\n",
    "1,Alice,18,Math,3.5\n",
    "2,Bob,19,Physics,3.2\n",
    "3,Charlie,18,Math,3.8\n",
    "4,David,20,Chemistry,3.0\n",
    "5,Eve,19,Physics,3.7\n",
    "6,Frank,18,Math,3.9\n",
    "7,Grace,20,Chemistry,3.1\n",
    "8,Heidi,19,Physics,3.4\n",
    "9,Ivan,20,Math,3.6\n",
    "10,Judy,18,Chemistry,3.3\n",
    "\n",
    "```\n",
    "\n",
    "Course Enrollment\n",
    "```\n",
    "EnrollmentID,StudentID,Course,Score\n",
    "101,1,Calculus I,90\n",
    "102,1,Linear Algebra,85\n",
    "103,2,Physics I,78\n",
    "104,3,Calculus I,92\n",
    "105,4,Chemistry I,88\n",
    "106,5,Physics I,95\n",
    "107,6,Calculus I,80\n",
    "108,7,Chemistry I,75\n",
    "109,8,Physics I,82\n",
    "110,9,Linear Algebra,88\n",
    "111,10,Chemistry I,90\n",
    "```\n"
   ]
  },
  {
   "cell_type": "markdown",
   "id": "043de61c-48b1-4d0b-8cea-43ee6ea71630",
   "metadata": {},
   "source": [
    "## Dataframe\n",
    "- rows/columns access (similar to list of lists)\n",
    "- 2 dimensional (rows and columns)\n",
    "- size mutable\n",
    "- heterogenous tabular data structure\n"
   ]
  },
  {
   "cell_type": "markdown",
   "id": "ac806164-453c-4497-ba01-655f9b5172d0",
   "metadata": {},
   "source": [
    "### Load Data into a Dataframe\n",
    "- Use `read_csv(filename)` to load DataFrame\n",
    "- Access rows and columns using `iloc` method"
   ]
  },
  {
   "cell_type": "code",
   "execution_count": 9,
   "id": "cf6b3912-75c2-4312-a0b9-e220a19171bf",
   "metadata": {},
   "outputs": [
    {
     "name": "stdout",
     "output_type": "stream",
     "text": [
      "first row of student data:\n",
      "  StudentID        1\n",
      "Name         Alice\n",
      "Age             18\n",
      "Major         Math\n",
      "GPA            3.5\n",
      "Name: 0, dtype: object\n",
      "\n",
      "first student:\n",
      "  1\n",
      "\n",
      "first row student enrollment data:\n",
      "  EnrollmentID           101\n",
      "StudentID                1\n",
      "Course          Calculus I\n",
      "Score                   90\n",
      "Name: 0, dtype: object\n",
      "\n",
      "first student enrollment:\n",
      "  101\n"
     ]
    }
   ],
   "source": [
    "import pandas as pd\n",
    "\n",
    "df_student = pd.read_csv('../data/student.csv')\n",
    "df_student_enrollment = pd.read_csv('../data/course_enrollment.csv')\n",
    "\n",
    "# print first row of studentLLL\n",
    "print('first row of student data:\\n ',df_student.iloc[0])\n",
    "\n",
    "# print first item in first row of student\n",
    "print('\\nfirst student:\\n ',df_student.iloc[0,0])\n",
    "      \n",
    "# print first row of student enrollment\n",
    "print('\\nfirst row student enrollment data:\\n ',df_student_enrollment.iloc[0]) \n",
    "      \n",
    "# print first item in first row of student enrollment\n",
    "print('\\nfirst student enrollment:\\n ', df_student_enrollment.iloc[0,0])"
   ]
  },
  {
   "cell_type": "markdown",
   "id": "f0506eb5-b489-41a2-a7e2-39c4df5940c1",
   "metadata": {},
   "source": [
    "## Filter"
   ]
  },
  {
   "cell_type": "code",
   "execution_count": 22,
   "id": "3b936e22-e943-48c6-b16e-1e4876fccc07",
   "metadata": {},
   "outputs": [
    {
     "name": "stdout",
     "output_type": "stream",
     "text": [
      "Students 18 years old\n",
      "\n",
      "   StudentID     Name  Age      Major  GPA\n",
      "0          1    Alice   18       Math  3.5\n",
      "2          3  Charlie   18       Math  3.8\n",
      "5          6    Frank   18       Math  3.9\n",
      "9         10     Judy   18  Chemistry  3.3\n",
      "--------------------------------------------------\n",
      "Students Enrolled in Calculus and Physics\n",
      "\n",
      "   EnrollmentID  StudentID      Course  Score\n",
      "0           101          1  Calculus I     90\n",
      "2           103          2   Physics I     78\n",
      "3           104          3  Calculus I     92\n",
      "5           106          5   Physics I     95\n",
      "6           107          6  Calculus I     80\n",
      "8           109          8   Physics I     82\n"
     ]
    }
   ],
   "source": [
    "#\n",
    "print(\"Students 18 years old\\n\")\n",
    "filtered_df = df_student[df_student['Age'] == 18]\n",
    "print(filtered_df)\n",
    "\n",
    "print('-'*50)\n",
    "\n",
    "print(\"Students Enrolled in Calculus and Physics\\n\")\n",
    "filtered_enrollments = df_student_enrollment[df_student_enrollment['Course'].isin(['Calculus I','Physics I'])]\n",
    "print(filtered_enrollments)\n"
   ]
  },
  {
   "cell_type": "markdown",
   "id": "c2cf2a06-11e4-45cc-a98d-d0e35594e49b",
   "metadata": {},
   "source": [
    "## Merge\n",
    "\n",
    "Types of merge:\n",
    "- **inner** matching values\n",
    "- **outer** all the data from both dataframes and missing data is NaN\n",
    "- left all the data from the left and missing data on the righ is NaN\n",
    "- right all the data from the right and missing data on the left is NaN\n",
    "- left-on and right-on used when merging column names don't match"
   ]
  },
  {
   "cell_type": "code",
   "execution_count": 25,
   "id": "d4d84fe2-5ebe-48d3-8229-bae6b1ac423c",
   "metadata": {},
   "outputs": [
    {
     "name": "stdout",
     "output_type": "stream",
     "text": [
      "    StudentID     Name  Age      Major  GPA  EnrollmentID          Course  \\\n",
      "0           1    Alice   18       Math  3.5           101      Calculus I   \n",
      "1           1    Alice   18       Math  3.5           102  Linear Algebra   \n",
      "2           2      Bob   19    Physics  3.2           103       Physics I   \n",
      "3           3  Charlie   18       Math  3.8           104      Calculus I   \n",
      "4           4    David   20  Chemistry  3.0           105     Chemistry I   \n",
      "5           5      Eve   19    Physics  3.7           106       Physics I   \n",
      "6           6    Frank   18       Math  3.9           107      Calculus I   \n",
      "7           7    Grace   20  Chemistry  3.1           108     Chemistry I   \n",
      "8           8    Heidi   19    Physics  3.4           109       Physics I   \n",
      "9           9     Ivan   20       Math  3.6           110  Linear Algebra   \n",
      "10         10     Judy   18  Chemistry  3.3           111     Chemistry I   \n",
      "\n",
      "    Score  \n",
      "0      90  \n",
      "1      85  \n",
      "2      78  \n",
      "3      92  \n",
      "4      88  \n",
      "5      95  \n",
      "6      80  \n",
      "7      75  \n",
      "8      82  \n",
      "9      88  \n",
      "10     90  \n",
      "    StudentID     Name  Age      Major  GPA  EnrollmentID          Course  \\\n",
      "0           1    Alice   18       Math  3.5           101      Calculus I   \n",
      "1           1    Alice   18       Math  3.5           102  Linear Algebra   \n",
      "2           2      Bob   19    Physics  3.2           103       Physics I   \n",
      "3           3  Charlie   18       Math  3.8           104      Calculus I   \n",
      "4           4    David   20  Chemistry  3.0           105     Chemistry I   \n",
      "5           5      Eve   19    Physics  3.7           106       Physics I   \n",
      "6           6    Frank   18       Math  3.9           107      Calculus I   \n",
      "7           7    Grace   20  Chemistry  3.1           108     Chemistry I   \n",
      "8           8    Heidi   19    Physics  3.4           109       Physics I   \n",
      "9           9     Ivan   20       Math  3.6           110  Linear Algebra   \n",
      "10         10     Judy   18  Chemistry  3.3           111     Chemistry I   \n",
      "\n",
      "    Score  \n",
      "0      90  \n",
      "1      85  \n",
      "2      78  \n",
      "3      92  \n",
      "4      88  \n",
      "5      95  \n",
      "6      80  \n",
      "7      75  \n",
      "8      82  \n",
      "9      88  \n",
      "10     90  \n"
     ]
    }
   ],
   "source": [
    "# Inner Merge\n",
    "df_merged  = pd.merge(df_student, df_student_enrollment, on='StudentID', how='inner')\n",
    "print(df_merged)\n",
    "\n",
    "# Outer Merge\n",
    "df_merged  = pd.merge(df_student, df_student_enrollment, on='StudentID', how='outer')\n",
    "print(df_merged)"
   ]
  },
  {
   "cell_type": "markdown",
   "id": "b4eda607-5f1e-451b-83aa-844a330bc79f",
   "metadata": {},
   "source": [
    "## Concatenate"
   ]
  },
  {
   "cell_type": "code",
   "execution_count": 41,
   "id": "ee3202bf-96b0-4fdf-8aa6-757ef3785631",
   "metadata": {},
   "outputs": [
    {
     "name": "stdout",
     "output_type": "stream",
     "text": [
      "   StudentID     Name  Age      Major  GPA\n",
      "0          1    Alice   18       Math  3.5\n",
      "1          2      Bob   19    Physics  3.2\n",
      "2          3  Charlie   18       Math  3.8\n",
      "3          4    David   20  Chemistry  3.0\n",
      "4          5      Eve   19    Physics  3.7\n",
      "5          6    Frank   18       Math  3.9\n",
      "6          7    Grace   20  Chemistry  3.1\n",
      "7          8    Heidi   19    Physics  3.4\n",
      "8          9     Ivan   20       Math  3.6\n",
      "9         10     Judy   18  Chemistry  3.3\n",
      "0         11     Zack   20  Philosphy  4.0\n"
     ]
    }
   ],
   "source": [
    "# Concatenate Vertically\n",
    "# axis = 0 means vertically stacking\n",
    "\n",
    "# create a new student\n",
    "new_student_data = {\n",
    "   'StudentID': [11],\n",
    "   'Name': ['Zack'],\n",
    "   'Age': [20],\n",
    "    \"Major\":[\"Philosphy\"],\n",
    "    \"GPA\":[4.0]\n",
    "}\n",
    "df_new_student = pd.DataFrame(new_student_data)\n",
    "\n",
    "\n",
    "concat_vert = pd.concat([df_student,df_new_student], axis=0)\n",
    "print(concat_vert)"
   ]
  },
  {
   "cell_type": "markdown",
   "id": "f5100b31-1d36-4cce-9943-9319c809536c",
   "metadata": {},
   "source": [
    "## Group by"
   ]
  },
  {
   "cell_type": "code",
   "execution_count": 29,
   "id": "fbd5fe9e-146e-4a28-8dce-1f4497934758",
   "metadata": {},
   "outputs": [
    {
     "name": "stdout",
     "output_type": "stream",
     "text": [
      "\n",
      "Mean of Value1:\n",
      "    Age       GPA\n",
      "0   18  3.625000\n",
      "1   19  3.433333\n",
      "2   20  3.233333\n"
     ]
    }
   ],
   "source": [
    "# Get Mean value of students by Age\n",
    "df_group_by_age = df_student.groupby(['Age'])[['GPA']].mean().reset_index()\n",
    "\n",
    "print(\"\\nMean of Value1:\\n\",df_group_by_age)"
   ]
  },
  {
   "cell_type": "markdown",
   "id": "890ba523-9414-4e34-b236-853d77559bd6",
   "metadata": {},
   "source": [
    "## Correlate\n",
    "- generate random positively correlated data\n",
    "- genrate random negatively correlated data"
   ]
  },
  {
   "cell_type": "code",
   "execution_count": 42,
   "id": "c9c667c2-3c65-42cf-a8b5-2ad937305eb5",
   "metadata": {},
   "outputs": [
    {
     "name": "stdout",
     "output_type": "stream",
     "text": [
      "age 0    18\n",
      "1    19\n",
      "2    18\n",
      "3    20\n",
      "4    19\n",
      "5    18\n",
      "6    20\n",
      "7    19\n",
      "8    20\n",
      "9    18\n",
      "Name: Age, dtype: int64\n",
      "gpa 0     90\n",
      "1     85\n",
      "2     78\n",
      "3     92\n",
      "4     88\n",
      "5     95\n",
      "6     80\n",
      "7     75\n",
      "8     82\n",
      "9     88\n",
      "10    90\n",
      "Name: Score, dtype: int64\n",
      "coefficent of correlation:  -0.23028596075970892\n"
     ]
    }
   ],
   "source": [
    "# print('age', df_student['Age'])\n",
    "# print('gpa',df_student_enrollment['Score'])\n",
    "correlation = df_student[\"Age\"].corr(df_student_enrollment[\"Score\"])\n",
    "print('coefficent of correlation: ',correlation)\n"
   ]
  },
  {
   "cell_type": "code",
   "execution_count": 32,
   "id": "cc4a6d55-9bd0-4ed6-bb13-24eaef01d1a6",
   "metadata": {},
   "outputs": [
    {
     "name": "stdout",
     "output_type": "stream",
     "text": [
      "\n",
      "Correlation between Study Hours and Exam Score:\n",
      "coefficient of correlation = 0.97\n"
     ]
    },
    {
     "data": {
      "application/vnd.plotly.v1+json": {
       "config": {
        "plotlyServerURL": "https://plot.ly"
       },
       "data": [
        {
         "hovertemplate": "name=Andy<br>score=%{x}<br>hours=%{y}<extra></extra>",
         "legendgroup": "Andy",
         "marker": {
          "color": "#636efa",
          "size": 15,
          "symbol": "circle"
         },
         "mode": "markers",
         "name": "Andy",
         "orientation": "v",
         "showlegend": true,
         "type": "scatter",
         "x": {
          "bdata": "PA==",
          "dtype": "i1"
         },
         "xaxis": "x",
         "y": {
          "bdata": "Ag==",
          "dtype": "i1"
         },
         "yaxis": "y"
        },
        {
         "hovertemplate": "name=Bob<br>score=%{x}<br>hours=%{y}<extra></extra>",
         "legendgroup": "Bob",
         "marker": {
          "color": "#EF553B",
          "size": 15,
          "symbol": "circle"
         },
         "mode": "markers",
         "name": "Bob",
         "orientation": "v",
         "showlegend": true,
         "type": "scatter",
         "x": {
          "bdata": "Sw==",
          "dtype": "i1"
         },
         "xaxis": "x",
         "y": {
          "bdata": "BA==",
          "dtype": "i1"
         },
         "yaxis": "y"
        },
        {
         "hovertemplate": "name=Carol<br>score=%{x}<br>hours=%{y}<extra></extra>",
         "legendgroup": "Carol",
         "marker": {
          "color": "#00cc96",
          "size": 15,
          "symbol": "circle"
         },
         "mode": "markers",
         "name": "Carol",
         "orientation": "v",
         "showlegend": true,
         "type": "scatter",
         "x": {
          "bdata": "VQ==",
          "dtype": "i1"
         },
         "xaxis": "x",
         "y": {
          "bdata": "Bg==",
          "dtype": "i1"
         },
         "yaxis": "y"
        },
        {
         "hovertemplate": "name=Dan<br>score=%{x}<br>hours=%{y}<extra></extra>",
         "legendgroup": "Dan",
         "marker": {
          "color": "#ab63fa",
          "size": 15,
          "symbol": "circle"
         },
         "mode": "markers",
         "name": "Dan",
         "orientation": "v",
         "showlegend": true,
         "type": "scatter",
         "x": {
          "bdata": "Wg==",
          "dtype": "i1"
         },
         "xaxis": "x",
         "y": {
          "bdata": "CA==",
          "dtype": "i1"
         },
         "yaxis": "y"
        },
        {
         "hovertemplate": "name=Eve<br>score=%{x}<br>hours=%{y}<extra></extra>",
         "legendgroup": "Eve",
         "marker": {
          "color": "#FFA15A",
          "size": 15,
          "symbol": "circle"
         },
         "mode": "markers",
         "name": "Eve",
         "orientation": "v",
         "showlegend": true,
         "type": "scatter",
         "x": {
          "bdata": "Xw==",
          "dtype": "i1"
         },
         "xaxis": "x",
         "y": {
          "bdata": "Cg==",
          "dtype": "i1"
         },
         "yaxis": "y"
        }
       ],
       "layout": {
        "legend": {
         "title": {
          "text": "name"
         },
         "tracegroupgap": 0
        },
        "template": {
         "data": {
          "bar": [
           {
            "error_x": {
             "color": "#2a3f5f"
            },
            "error_y": {
             "color": "#2a3f5f"
            },
            "marker": {
             "line": {
              "color": "#E5ECF6",
              "width": 0.5
             },
             "pattern": {
              "fillmode": "overlay",
              "size": 10,
              "solidity": 0.2
             }
            },
            "type": "bar"
           }
          ],
          "barpolar": [
           {
            "marker": {
             "line": {
              "color": "#E5ECF6",
              "width": 0.5
             },
             "pattern": {
              "fillmode": "overlay",
              "size": 10,
              "solidity": 0.2
             }
            },
            "type": "barpolar"
           }
          ],
          "carpet": [
           {
            "aaxis": {
             "endlinecolor": "#2a3f5f",
             "gridcolor": "white",
             "linecolor": "white",
             "minorgridcolor": "white",
             "startlinecolor": "#2a3f5f"
            },
            "baxis": {
             "endlinecolor": "#2a3f5f",
             "gridcolor": "white",
             "linecolor": "white",
             "minorgridcolor": "white",
             "startlinecolor": "#2a3f5f"
            },
            "type": "carpet"
           }
          ],
          "choropleth": [
           {
            "colorbar": {
             "outlinewidth": 0,
             "ticks": ""
            },
            "type": "choropleth"
           }
          ],
          "contour": [
           {
            "colorbar": {
             "outlinewidth": 0,
             "ticks": ""
            },
            "colorscale": [
             [
              0,
              "#0d0887"
             ],
             [
              0.1111111111111111,
              "#46039f"
             ],
             [
              0.2222222222222222,
              "#7201a8"
             ],
             [
              0.3333333333333333,
              "#9c179e"
             ],
             [
              0.4444444444444444,
              "#bd3786"
             ],
             [
              0.5555555555555556,
              "#d8576b"
             ],
             [
              0.6666666666666666,
              "#ed7953"
             ],
             [
              0.7777777777777778,
              "#fb9f3a"
             ],
             [
              0.8888888888888888,
              "#fdca26"
             ],
             [
              1,
              "#f0f921"
             ]
            ],
            "type": "contour"
           }
          ],
          "contourcarpet": [
           {
            "colorbar": {
             "outlinewidth": 0,
             "ticks": ""
            },
            "type": "contourcarpet"
           }
          ],
          "heatmap": [
           {
            "colorbar": {
             "outlinewidth": 0,
             "ticks": ""
            },
            "colorscale": [
             [
              0,
              "#0d0887"
             ],
             [
              0.1111111111111111,
              "#46039f"
             ],
             [
              0.2222222222222222,
              "#7201a8"
             ],
             [
              0.3333333333333333,
              "#9c179e"
             ],
             [
              0.4444444444444444,
              "#bd3786"
             ],
             [
              0.5555555555555556,
              "#d8576b"
             ],
             [
              0.6666666666666666,
              "#ed7953"
             ],
             [
              0.7777777777777778,
              "#fb9f3a"
             ],
             [
              0.8888888888888888,
              "#fdca26"
             ],
             [
              1,
              "#f0f921"
             ]
            ],
            "type": "heatmap"
           }
          ],
          "histogram": [
           {
            "marker": {
             "pattern": {
              "fillmode": "overlay",
              "size": 10,
              "solidity": 0.2
             }
            },
            "type": "histogram"
           }
          ],
          "histogram2d": [
           {
            "colorbar": {
             "outlinewidth": 0,
             "ticks": ""
            },
            "colorscale": [
             [
              0,
              "#0d0887"
             ],
             [
              0.1111111111111111,
              "#46039f"
             ],
             [
              0.2222222222222222,
              "#7201a8"
             ],
             [
              0.3333333333333333,
              "#9c179e"
             ],
             [
              0.4444444444444444,
              "#bd3786"
             ],
             [
              0.5555555555555556,
              "#d8576b"
             ],
             [
              0.6666666666666666,
              "#ed7953"
             ],
             [
              0.7777777777777778,
              "#fb9f3a"
             ],
             [
              0.8888888888888888,
              "#fdca26"
             ],
             [
              1,
              "#f0f921"
             ]
            ],
            "type": "histogram2d"
           }
          ],
          "histogram2dcontour": [
           {
            "colorbar": {
             "outlinewidth": 0,
             "ticks": ""
            },
            "colorscale": [
             [
              0,
              "#0d0887"
             ],
             [
              0.1111111111111111,
              "#46039f"
             ],
             [
              0.2222222222222222,
              "#7201a8"
             ],
             [
              0.3333333333333333,
              "#9c179e"
             ],
             [
              0.4444444444444444,
              "#bd3786"
             ],
             [
              0.5555555555555556,
              "#d8576b"
             ],
             [
              0.6666666666666666,
              "#ed7953"
             ],
             [
              0.7777777777777778,
              "#fb9f3a"
             ],
             [
              0.8888888888888888,
              "#fdca26"
             ],
             [
              1,
              "#f0f921"
             ]
            ],
            "type": "histogram2dcontour"
           }
          ],
          "mesh3d": [
           {
            "colorbar": {
             "outlinewidth": 0,
             "ticks": ""
            },
            "type": "mesh3d"
           }
          ],
          "parcoords": [
           {
            "line": {
             "colorbar": {
              "outlinewidth": 0,
              "ticks": ""
             }
            },
            "type": "parcoords"
           }
          ],
          "pie": [
           {
            "automargin": true,
            "type": "pie"
           }
          ],
          "scatter": [
           {
            "fillpattern": {
             "fillmode": "overlay",
             "size": 10,
             "solidity": 0.2
            },
            "type": "scatter"
           }
          ],
          "scatter3d": [
           {
            "line": {
             "colorbar": {
              "outlinewidth": 0,
              "ticks": ""
             }
            },
            "marker": {
             "colorbar": {
              "outlinewidth": 0,
              "ticks": ""
             }
            },
            "type": "scatter3d"
           }
          ],
          "scattercarpet": [
           {
            "marker": {
             "colorbar": {
              "outlinewidth": 0,
              "ticks": ""
             }
            },
            "type": "scattercarpet"
           }
          ],
          "scattergeo": [
           {
            "marker": {
             "colorbar": {
              "outlinewidth": 0,
              "ticks": ""
             }
            },
            "type": "scattergeo"
           }
          ],
          "scattergl": [
           {
            "marker": {
             "colorbar": {
              "outlinewidth": 0,
              "ticks": ""
             }
            },
            "type": "scattergl"
           }
          ],
          "scattermap": [
           {
            "marker": {
             "colorbar": {
              "outlinewidth": 0,
              "ticks": ""
             }
            },
            "type": "scattermap"
           }
          ],
          "scattermapbox": [
           {
            "marker": {
             "colorbar": {
              "outlinewidth": 0,
              "ticks": ""
             }
            },
            "type": "scattermapbox"
           }
          ],
          "scatterpolar": [
           {
            "marker": {
             "colorbar": {
              "outlinewidth": 0,
              "ticks": ""
             }
            },
            "type": "scatterpolar"
           }
          ],
          "scatterpolargl": [
           {
            "marker": {
             "colorbar": {
              "outlinewidth": 0,
              "ticks": ""
             }
            },
            "type": "scatterpolargl"
           }
          ],
          "scatterternary": [
           {
            "marker": {
             "colorbar": {
              "outlinewidth": 0,
              "ticks": ""
             }
            },
            "type": "scatterternary"
           }
          ],
          "surface": [
           {
            "colorbar": {
             "outlinewidth": 0,
             "ticks": ""
            },
            "colorscale": [
             [
              0,
              "#0d0887"
             ],
             [
              0.1111111111111111,
              "#46039f"
             ],
             [
              0.2222222222222222,
              "#7201a8"
             ],
             [
              0.3333333333333333,
              "#9c179e"
             ],
             [
              0.4444444444444444,
              "#bd3786"
             ],
             [
              0.5555555555555556,
              "#d8576b"
             ],
             [
              0.6666666666666666,
              "#ed7953"
             ],
             [
              0.7777777777777778,
              "#fb9f3a"
             ],
             [
              0.8888888888888888,
              "#fdca26"
             ],
             [
              1,
              "#f0f921"
             ]
            ],
            "type": "surface"
           }
          ],
          "table": [
           {
            "cells": {
             "fill": {
              "color": "#EBF0F8"
             },
             "line": {
              "color": "white"
             }
            },
            "header": {
             "fill": {
              "color": "#C8D4E3"
             },
             "line": {
              "color": "white"
             }
            },
            "type": "table"
           }
          ]
         },
         "layout": {
          "annotationdefaults": {
           "arrowcolor": "#2a3f5f",
           "arrowhead": 0,
           "arrowwidth": 1
          },
          "autotypenumbers": "strict",
          "coloraxis": {
           "colorbar": {
            "outlinewidth": 0,
            "ticks": ""
           }
          },
          "colorscale": {
           "diverging": [
            [
             0,
             "#8e0152"
            ],
            [
             0.1,
             "#c51b7d"
            ],
            [
             0.2,
             "#de77ae"
            ],
            [
             0.3,
             "#f1b6da"
            ],
            [
             0.4,
             "#fde0ef"
            ],
            [
             0.5,
             "#f7f7f7"
            ],
            [
             0.6,
             "#e6f5d0"
            ],
            [
             0.7,
             "#b8e186"
            ],
            [
             0.8,
             "#7fbc41"
            ],
            [
             0.9,
             "#4d9221"
            ],
            [
             1,
             "#276419"
            ]
           ],
           "sequential": [
            [
             0,
             "#0d0887"
            ],
            [
             0.1111111111111111,
             "#46039f"
            ],
            [
             0.2222222222222222,
             "#7201a8"
            ],
            [
             0.3333333333333333,
             "#9c179e"
            ],
            [
             0.4444444444444444,
             "#bd3786"
            ],
            [
             0.5555555555555556,
             "#d8576b"
            ],
            [
             0.6666666666666666,
             "#ed7953"
            ],
            [
             0.7777777777777778,
             "#fb9f3a"
            ],
            [
             0.8888888888888888,
             "#fdca26"
            ],
            [
             1,
             "#f0f921"
            ]
           ],
           "sequentialminus": [
            [
             0,
             "#0d0887"
            ],
            [
             0.1111111111111111,
             "#46039f"
            ],
            [
             0.2222222222222222,
             "#7201a8"
            ],
            [
             0.3333333333333333,
             "#9c179e"
            ],
            [
             0.4444444444444444,
             "#bd3786"
            ],
            [
             0.5555555555555556,
             "#d8576b"
            ],
            [
             0.6666666666666666,
             "#ed7953"
            ],
            [
             0.7777777777777778,
             "#fb9f3a"
            ],
            [
             0.8888888888888888,
             "#fdca26"
            ],
            [
             1,
             "#f0f921"
            ]
           ]
          },
          "colorway": [
           "#636efa",
           "#EF553B",
           "#00cc96",
           "#ab63fa",
           "#FFA15A",
           "#19d3f3",
           "#FF6692",
           "#B6E880",
           "#FF97FF",
           "#FECB52"
          ],
          "font": {
           "color": "#2a3f5f"
          },
          "geo": {
           "bgcolor": "white",
           "lakecolor": "white",
           "landcolor": "#E5ECF6",
           "showlakes": true,
           "showland": true,
           "subunitcolor": "white"
          },
          "hoverlabel": {
           "align": "left"
          },
          "hovermode": "closest",
          "mapbox": {
           "style": "light"
          },
          "paper_bgcolor": "white",
          "plot_bgcolor": "#E5ECF6",
          "polar": {
           "angularaxis": {
            "gridcolor": "white",
            "linecolor": "white",
            "ticks": ""
           },
           "bgcolor": "#E5ECF6",
           "radialaxis": {
            "gridcolor": "white",
            "linecolor": "white",
            "ticks": ""
           }
          },
          "scene": {
           "xaxis": {
            "backgroundcolor": "#E5ECF6",
            "gridcolor": "white",
            "gridwidth": 2,
            "linecolor": "white",
            "showbackground": true,
            "ticks": "",
            "zerolinecolor": "white"
           },
           "yaxis": {
            "backgroundcolor": "#E5ECF6",
            "gridcolor": "white",
            "gridwidth": 2,
            "linecolor": "white",
            "showbackground": true,
            "ticks": "",
            "zerolinecolor": "white"
           },
           "zaxis": {
            "backgroundcolor": "#E5ECF6",
            "gridcolor": "white",
            "gridwidth": 2,
            "linecolor": "white",
            "showbackground": true,
            "ticks": "",
            "zerolinecolor": "white"
           }
          },
          "shapedefaults": {
           "line": {
            "color": "#2a3f5f"
           }
          },
          "ternary": {
           "aaxis": {
            "gridcolor": "white",
            "linecolor": "white",
            "ticks": ""
           },
           "baxis": {
            "gridcolor": "white",
            "linecolor": "white",
            "ticks": ""
           },
           "bgcolor": "#E5ECF6",
           "caxis": {
            "gridcolor": "white",
            "linecolor": "white",
            "ticks": ""
           }
          },
          "title": {
           "x": 0.05
          },
          "xaxis": {
           "automargin": true,
           "gridcolor": "white",
           "linecolor": "white",
           "ticks": "",
           "title": {
            "standoff": 15
           },
           "zerolinecolor": "white",
           "zerolinewidth": 2
          },
          "yaxis": {
           "automargin": true,
           "gridcolor": "white",
           "linecolor": "white",
           "ticks": "",
           "title": {
            "standoff": 15
           },
           "zerolinecolor": "white",
           "zerolinewidth": 2
          }
         }
        },
        "title": {
         "text": "Positive Correlation"
        },
        "xaxis": {
         "anchor": "y",
         "domain": [
          0,
          1
         ],
         "title": {
          "text": "score"
         }
        },
        "yaxis": {
         "anchor": "x",
         "domain": [
          0,
          1
         ],
         "title": {
          "text": "hours"
         }
        }
       }
      },
      "image/png": "[encoded data removed]"
     },
     "metadata": {},
     "output_type": "display_data"
    }
   ],
   "source": [
    "# Example of positive correlation\n",
    "import pandas as pd\n",
    "import io\n",
    "import plotly.express as px\n",
    "\n",
    "study_hours_exam_score =\"\"\"\n",
    "name,hours,score\n",
    "Andy,2,60\n",
    "Bob,4,75\n",
    "Carol,6,85\n",
    "Dan,8,90\n",
    "Eve,10,95\n",
    "\"\"\"\n",
    "\n",
    "# convert string to file like string buffer in memory\n",
    "data = io.StringIO(study_hours_exam_score)\n",
    "df_positive = pd.read_csv(data)\n",
    "\n",
    "print('\\nCorrelation between Study Hours and Exam Score:')\n",
    "coefficient_of_correlation = df_positive['hours'].corr(df_positive['score'])\n",
    "print(f'coefficient of correlation = {coefficient_of_correlation:.2f}')\n",
    "\n",
    "fig = px.scatter(df_positive, x=\"score\", y=\"hours\", color=\"name\", \n",
    "                 title=\"Positive Correlation\")\n",
    "\n",
    "fig.update_traces(marker=dict(size=15))\n",
    "fig.show()\n"
   ]
  },
  {
   "cell_type": "code",
   "execution_count": 31,
   "id": "4d0fa2aa-4bef-4393-b386-7fc7ece9edfa",
   "metadata": {},
   "outputs": [
    {
     "name": "stdout",
     "output_type": "stream",
     "text": [
      "\n",
      "Correlation between Exercise Hours and Weight Change:\n",
      "coefficient of correlation = -0.99\n"
     ]
    },
    {
     "data": {
      "application/vnd.plotly.v1+json": {
       "config": {
        "plotlyServerURL": "https://plot.ly"
       },
       "data": [
        {
         "hovertemplate": "name=Andy<br>exercise_hours=%{x}<br>weight_change=%{y}<extra></extra>",
         "legendgroup": "Andy",
         "marker": {
          "color": "#636efa",
          "size": 15,
          "symbol": "circle"
         },
         "mode": "markers",
         "name": "Andy",
         "orientation": "v",
         "showlegend": true,
         "type": "scatter",
         "x": {
          "bdata": "BQ==",
          "dtype": "i1"
         },
         "xaxis": "x",
         "y": {
          "bdata": "FA==",
          "dtype": "i1"
         },
         "yaxis": "y"
        },
        {
         "hovertemplate": "name=Bob<br>exercise_hours=%{x}<br>weight_change=%{y}<extra></extra>",
         "legendgroup": "Bob",
         "marker": {
          "color": "#EF553B",
          "size": 15,
          "symbol": "circle"
         },
         "mode": "markers",
         "name": "Bob",
         "orientation": "v",
         "showlegend": true,
         "type": "scatter",
         "x": {
          "bdata": "Cg==",
          "dtype": "i1"
         },
         "xaxis": "x",
         "y": {
          "bdata": "Cg==",
          "dtype": "i1"
         },
         "yaxis": "y"
        },
        {
         "hovertemplate": "name=Carol<br>exercise_hours=%{x}<br>weight_change=%{y}<extra></extra>",
         "legendgroup": "Carol",
         "marker": {
          "color": "#00cc96",
          "size": 15,
          "symbol": "circle"
         },
         "mode": "markers",
         "name": "Carol",
         "orientation": "v",
         "showlegend": true,
         "type": "scatter",
         "x": {
          "bdata": "Dw==",
          "dtype": "i1"
         },
         "xaxis": "x",
         "y": {
          "bdata": "AA==",
          "dtype": "i1"
         },
         "yaxis": "y"
        },
        {
         "hovertemplate": "name=Dan<br>exercise_hours=%{x}<br>weight_change=%{y}<extra></extra>",
         "legendgroup": "Dan",
         "marker": {
          "color": "#ab63fa",
          "size": 15,
          "symbol": "circle"
         },
         "mode": "markers",
         "name": "Dan",
         "orientation": "v",
         "showlegend": true,
         "type": "scatter",
         "x": {
          "bdata": "FA==",
          "dtype": "i1"
         },
         "xaxis": "x",
         "y": {
          "bdata": "9g==",
          "dtype": "i1"
         },
         "yaxis": "y"
        },
        {
         "hovertemplate": "name=Eve<br>exercise_hours=%{x}<br>weight_change=%{y}<extra></extra>",
         "legendgroup": "Eve",
         "marker": {
          "color": "#FFA15A",
          "size": 15,
          "symbol": "circle"
         },
         "mode": "markers",
         "name": "Eve",
         "orientation": "v",
         "showlegend": true,
         "type": "scatter",
         "x": {
          "bdata": "GQ==",
          "dtype": "i1"
         },
         "xaxis": "x",
         "y": {
          "bdata": "8Q==",
          "dtype": "i1"
         },
         "yaxis": "y"
        }
       ],
       "layout": {
        "legend": {
         "title": {
          "text": "name"
         },
         "tracegroupgap": 0
        },
        "template": {
         "data": {
          "bar": [
           {
            "error_x": {
             "color": "#2a3f5f"
            },
            "error_y": {
             "color": "#2a3f5f"
            },
            "marker": {
             "line": {
              "color": "#E5ECF6",
              "width": 0.5
             },
             "pattern": {
              "fillmode": "overlay",
              "size": 10,
              "solidity": 0.2
             }
            },
            "type": "bar"
           }
          ],
          "barpolar": [
           {
            "marker": {
             "line": {
              "color": "#E5ECF6",
              "width": 0.5
             },
             "pattern": {
              "fillmode": "overlay",
              "size": 10,
              "solidity": 0.2
             }
            },
            "type": "barpolar"
           }
          ],
          "carpet": [
           {
            "aaxis": {
             "endlinecolor": "#2a3f5f",
             "gridcolor": "white",
             "linecolor": "white",
             "minorgridcolor": "white",
             "startlinecolor": "#2a3f5f"
            },
            "baxis": {
             "endlinecolor": "#2a3f5f",
             "gridcolor": "white",
             "linecolor": "white",
             "minorgridcolor": "white",
             "startlinecolor": "#2a3f5f"
            },
            "type": "carpet"
           }
          ],
          "choropleth": [
           {
            "colorbar": {
             "outlinewidth": 0,
             "ticks": ""
            },
            "type": "choropleth"
           }
          ],
          "contour": [
           {
            "colorbar": {
             "outlinewidth": 0,
             "ticks": ""
            },
            "colorscale": [
             [
              0,
              "#0d0887"
             ],
             [
              0.1111111111111111,
              "#46039f"
             ],
             [
              0.2222222222222222,
              "#7201a8"
             ],
             [
              0.3333333333333333,
              "#9c179e"
             ],
             [
              0.4444444444444444,
              "#bd3786"
             ],
             [
              0.5555555555555556,
              "#d8576b"
             ],
             [
              0.6666666666666666,
              "#ed7953"
             ],
             [
              0.7777777777777778,
              "#fb9f3a"
             ],
             [
              0.8888888888888888,
              "#fdca26"
             ],
             [
              1,
              "#f0f921"
             ]
            ],
            "type": "contour"
           }
          ],
          "contourcarpet": [
           {
            "colorbar": {
             "outlinewidth": 0,
             "ticks": ""
            },
            "type": "contourcarpet"
           }
          ],
          "heatmap": [
           {
            "colorbar": {
             "outlinewidth": 0,
             "ticks": ""
            },
            "colorscale": [
             [
              0,
              "#0d0887"
             ],
             [
              0.1111111111111111,
              "#46039f"
             ],
             [
              0.2222222222222222,
              "#7201a8"
             ],
             [
              0.3333333333333333,
              "#9c179e"
             ],
             [
              0.4444444444444444,
              "#bd3786"
             ],
             [
              0.5555555555555556,
              "#d8576b"
             ],
             [
              0.6666666666666666,
              "#ed7953"
             ],
             [
              0.7777777777777778,
              "#fb9f3a"
             ],
             [
              0.8888888888888888,
              "#fdca26"
             ],
             [
              1,
              "#f0f921"
             ]
            ],
            "type": "heatmap"
           }
          ],
          "histogram": [
           {
            "marker": {
             "pattern": {
              "fillmode": "overlay",
              "size": 10,
              "solidity": 0.2
             }
            },
            "type": "histogram"
           }
          ],
          "histogram2d": [
           {
            "colorbar": {
             "outlinewidth": 0,
             "ticks": ""
            },
            "colorscale": [
             [
              0,
              "#0d0887"
             ],
             [
              0.1111111111111111,
              "#46039f"
             ],
             [
              0.2222222222222222,
              "#7201a8"
             ],
             [
              0.3333333333333333,
              "#9c179e"
             ],
             [
              0.4444444444444444,
              "#bd3786"
             ],
             [
              0.5555555555555556,
              "#d8576b"
             ],
             [
              0.6666666666666666,
              "#ed7953"
             ],
             [
              0.7777777777777778,
              "#fb9f3a"
             ],
             [
              0.8888888888888888,
              "#fdca26"
             ],
             [
              1,
              "#f0f921"
             ]
            ],
            "type": "histogram2d"
           }
          ],
          "histogram2dcontour": [
           {
            "colorbar": {
             "outlinewidth": 0,
             "ticks": ""
            },
            "colorscale": [
             [
              0,
              "#0d0887"
             ],
             [
              0.1111111111111111,
              "#46039f"
             ],
             [
              0.2222222222222222,
              "#7201a8"
             ],
             [
              0.3333333333333333,
              "#9c179e"
             ],
             [
              0.4444444444444444,
              "#bd3786"
             ],
             [
              0.5555555555555556,
              "#d8576b"
             ],
             [
              0.6666666666666666,
              "#ed7953"
             ],
             [
              0.7777777777777778,
              "#fb9f3a"
             ],
             [
              0.8888888888888888,
              "#fdca26"
             ],
             [
              1,
              "#f0f921"
             ]
            ],
            "type": "histogram2dcontour"
           }
          ],
          "mesh3d": [
           {
            "colorbar": {
             "outlinewidth": 0,
             "ticks": ""
            },
            "type": "mesh3d"
           }
          ],
          "parcoords": [
           {
            "line": {
             "colorbar": {
              "outlinewidth": 0,
              "ticks": ""
             }
            },
            "type": "parcoords"
           }
          ],
          "pie": [
           {
            "automargin": true,
            "type": "pie"
           }
          ],
          "scatter": [
           {
            "fillpattern": {
             "fillmode": "overlay",
             "size": 10,
             "solidity": 0.2
            },
            "type": "scatter"
           }
          ],
          "scatter3d": [
           {
            "line": {
             "colorbar": {
              "outlinewidth": 0,
              "ticks": ""
             }
            },
            "marker": {
             "colorbar": {
              "outlinewidth": 0,
              "ticks": ""
             }
            },
            "type": "scatter3d"
           }
          ],
          "scattercarpet": [
           {
            "marker": {
             "colorbar": {
              "outlinewidth": 0,
              "ticks": ""
             }
            },
            "type": "scattercarpet"
           }
          ],
          "scattergeo": [
           {
            "marker": {
             "colorbar": {
              "outlinewidth": 0,
              "ticks": ""
             }
            },
            "type": "scattergeo"
           }
          ],
          "scattergl": [
           {
            "marker": {
             "colorbar": {
              "outlinewidth": 0,
              "ticks": ""
             }
            },
            "type": "scattergl"
           }
          ],
          "scattermap": [
           {
            "marker": {
             "colorbar": {
              "outlinewidth": 0,
              "ticks": ""
             }
            },
            "type": "scattermap"
           }
          ],
          "scattermapbox": [
           {
            "marker": {
             "colorbar": {
              "outlinewidth": 0,
              "ticks": ""
             }
            },
            "type": "scattermapbox"
           }
          ],
          "scatterpolar": [
           {
            "marker": {
             "colorbar": {
              "outlinewidth": 0,
              "ticks": ""
             }
            },
            "type": "scatterpolar"
           }
          ],
          "scatterpolargl": [
           {
            "marker": {
             "colorbar": {
              "outlinewidth": 0,
              "ticks": ""
             }
            },
            "type": "scatterpolargl"
           }
          ],
          "scatterternary": [
           {
            "marker": {
             "colorbar": {
              "outlinewidth": 0,
              "ticks": ""
             }
            },
            "type": "scatterternary"
           }
          ],
          "surface": [
           {
            "colorbar": {
             "outlinewidth": 0,
             "ticks": ""
            },
            "colorscale": [
             [
              0,
              "#0d0887"
             ],
             [
              0.1111111111111111,
              "#46039f"
             ],
             [
              0.2222222222222222,
              "#7201a8"
             ],
             [
              0.3333333333333333,
              "#9c179e"
             ],
             [
              0.4444444444444444,
              "#bd3786"
             ],
             [
              0.5555555555555556,
              "#d8576b"
             ],
             [
              0.6666666666666666,
              "#ed7953"
             ],
             [
              0.7777777777777778,
              "#fb9f3a"
             ],
             [
              0.8888888888888888,
              "#fdca26"
             ],
             [
              1,
              "#f0f921"
             ]
            ],
            "type": "surface"
           }
          ],
          "table": [
           {
            "cells": {
             "fill": {
              "color": "#EBF0F8"
             },
             "line": {
              "color": "white"
             }
            },
            "header": {
             "fill": {
              "color": "#C8D4E3"
             },
             "line": {
              "color": "white"
             }
            },
            "type": "table"
           }
          ]
         },
         "layout": {
          "annotationdefaults": {
           "arrowcolor": "#2a3f5f",
           "arrowhead": 0,
           "arrowwidth": 1
          },
          "autotypenumbers": "strict",
          "coloraxis": {
           "colorbar": {
            "outlinewidth": 0,
            "ticks": ""
           }
          },
          "colorscale": {
           "diverging": [
            [
             0,
             "#8e0152"
            ],
            [
             0.1,
             "#c51b7d"
            ],
            [
             0.2,
             "#de77ae"
            ],
            [
             0.3,
             "#f1b6da"
            ],
            [
             0.4,
             "#fde0ef"
            ],
            [
             0.5,
             "#f7f7f7"
            ],
            [
             0.6,
             "#e6f5d0"
            ],
            [
             0.7,
             "#b8e186"
            ],
            [
             0.8,
             "#7fbc41"
            ],
            [
             0.9,
             "#4d9221"
            ],
            [
             1,
             "#276419"
            ]
           ],
           "sequential": [
            [
             0,
             "#0d0887"
            ],
            [
             0.1111111111111111,
             "#46039f"
            ],
            [
             0.2222222222222222,
             "#7201a8"
            ],
            [
             0.3333333333333333,
             "#9c179e"
            ],
            [
             0.4444444444444444,
             "#bd3786"
            ],
            [
             0.5555555555555556,
             "#d8576b"
            ],
            [
             0.6666666666666666,
             "#ed7953"
            ],
            [
             0.7777777777777778,
             "#fb9f3a"
            ],
            [
             0.8888888888888888,
             "#fdca26"
            ],
            [
             1,
             "#f0f921"
            ]
           ],
           "sequentialminus": [
            [
             0,
             "#0d0887"
            ],
            [
             0.1111111111111111,
             "#46039f"
            ],
            [
             0.2222222222222222,
             "#7201a8"
            ],
            [
             0.3333333333333333,
             "#9c179e"
            ],
            [
             0.4444444444444444,
             "#bd3786"
            ],
            [
             0.5555555555555556,
             "#d8576b"
            ],
            [
             0.6666666666666666,
             "#ed7953"
            ],
            [
             0.7777777777777778,
             "#fb9f3a"
            ],
            [
             0.8888888888888888,
             "#fdca26"
            ],
            [
             1,
             "#f0f921"
            ]
           ]
          },
          "colorway": [
           "#636efa",
           "#EF553B",
           "#00cc96",
           "#ab63fa",
           "#FFA15A",
           "#19d3f3",
           "#FF6692",
           "#B6E880",
           "#FF97FF",
           "#FECB52"
          ],
          "font": {
           "color": "#2a3f5f"
          },
          "geo": {
           "bgcolor": "white",
           "lakecolor": "white",
           "landcolor": "#E5ECF6",
           "showlakes": true,
           "showland": true,
           "subunitcolor": "white"
          },
          "hoverlabel": {
           "align": "left"
          },
          "hovermode": "closest",
          "mapbox": {
           "style": "light"
          },
          "paper_bgcolor": "white",
          "plot_bgcolor": "#E5ECF6",
          "polar": {
           "angularaxis": {
            "gridcolor": "white",
            "linecolor": "white",
            "ticks": ""
           },
           "bgcolor": "#E5ECF6",
           "radialaxis": {
            "gridcolor": "white",
            "linecolor": "white",
            "ticks": ""
           }
          },
          "scene": {
           "xaxis": {
            "backgroundcolor": "#E5ECF6",
            "gridcolor": "white",
            "gridwidth": 2,
            "linecolor": "white",
            "showbackground": true,
            "ticks": "",
            "zerolinecolor": "white"
           },
           "yaxis": {
            "backgroundcolor": "#E5ECF6",
            "gridcolor": "white",
            "gridwidth": 2,
            "linecolor": "white",
            "showbackground": true,
            "ticks": "",
            "zerolinecolor": "white"
           },
           "zaxis": {
            "backgroundcolor": "#E5ECF6",
            "gridcolor": "white",
            "gridwidth": 2,
            "linecolor": "white",
            "showbackground": true,
            "ticks": "",
            "zerolinecolor": "white"
           }
          },
          "shapedefaults": {
           "line": {
            "color": "#2a3f5f"
           }
          },
          "ternary": {
           "aaxis": {
            "gridcolor": "white",
            "linecolor": "white",
            "ticks": ""
           },
           "baxis": {
            "gridcolor": "white",
            "linecolor": "white",
            "ticks": ""
           },
           "bgcolor": "#E5ECF6",
           "caxis": {
            "gridcolor": "white",
            "linecolor": "white",
            "ticks": ""
           }
          },
          "title": {
           "x": 0.05
          },
          "xaxis": {
           "automargin": true,
           "gridcolor": "white",
           "linecolor": "white",
           "ticks": "",
           "title": {
            "standoff": 15
           },
           "zerolinecolor": "white",
           "zerolinewidth": 2
          },
          "yaxis": {
           "automargin": true,
           "gridcolor": "white",
           "linecolor": "white",
           "ticks": "",
           "title": {
            "standoff": 15
           },
           "zerolinecolor": "white",
           "zerolinewidth": 2
          }
         }
        },
        "title": {
         "text": "Negative Correlation"
        },
        "xaxis": {
         "anchor": "y",
         "domain": [
          0,
          1
         ],
         "title": {
          "text": "exercise_hours"
         }
        },
        "yaxis": {
         "anchor": "x",
         "domain": [
          0,
          1
         ],
         "title": {
          "text": "weight_change"
         }
        }
       }
      },
      "image/png": "[encoded data removed]"
     },
     "metadata": {},
     "output_type": "display_data"
    }
   ],
   "source": [
    "# Example of negative correlation\n",
    "import pandas as pd\n",
    "import io\n",
    "\n",
    "exercise_hours_weight_change =\"\"\"\n",
    "name,exercise_hours,weight_change\n",
    "Andy,5,20\n",
    "Bob,10,10\n",
    "Carol,15,0\n",
    "Dan,20,-10\n",
    "Eve,25,-15\n",
    "\"\"\"\n",
    "\n",
    "# convert string to file like string buffer in memory\n",
    "data = io.StringIO(exercise_hours_weight_change)\n",
    "df_negative = pd.read_csv(data)\n",
    "\n",
    "print('\\nCorrelation between Exercise Hours and Weight Change:')\n",
    "coefficient_of_correlation = df_negative['exercise_hours'].corr(df_negative['weight_change'])\n",
    "print(f'coefficient of correlation = {coefficient_of_correlation:.2f}')\n",
    "\n",
    "fig = px.scatter(df_negative, x=\"exercise_hours\", y=\"weight_change\", color=\"name\", \n",
    "                 title=\"Negative Correlation\")\n",
    "\n",
    "fig.update_traces(marker=dict(size=15))\n",
    "fig.show()"
   ]
  },
  {
   "cell_type": "code",
   "execution_count": null,
   "id": "02bc1927-e766-4c2e-b31f-509086da199b",
   "metadata": {},
   "outputs": [],
   "source": []
  }
 ],
 "metadata": {
  "kernelspec": {
   "display_name": "Python 3 (ipykernel)",
   "language": "python",
   "name": "python3"
  },
  "language_info": {
   "codemirror_mode": {
    "name": "ipython",
    "version": 3
   },
   "file_extension": ".py",
   "mimetype": "text/x-python",
   "name": "python",
   "nbconvert_exporter": "python",
   "pygments_lexer": "ipython3",
   "version": "3.13.3"
  }
 },
 "nbformat": 4,
 "nbformat_minor": 5
}
