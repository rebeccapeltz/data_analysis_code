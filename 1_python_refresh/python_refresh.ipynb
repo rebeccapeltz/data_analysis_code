{
 "cells": [
  {
   "cell_type": "markdown",
   "id": "bd37b251-e99e-43fb-ad64-417999c038ee",
   "metadata": {},
   "source": [
    "# Python Refresh\n",
    "\n",
    "- Print\n",
    "- Variables and Types\n",
    "- Strings\n",
    "- Ints\n",
    "- Floats\n",
    "- Booleans\n",
    "- Special Characters\n",
    "- DateTime\n",
    "- f strings\n",
    "- Functions\n"
   ]
  },
  {
   "cell_type": "markdown",
   "id": "6467254f-e40a-4c65-bb06-f2d279e5b25a",
   "metadata": {},
   "source": [
    "## Variables and Types"
   ]
  },
  {
   "cell_type": "code",
   "execution_count": 5,
   "id": "e5a63f67-9765-4efd-bbb5-bb1d217d489f",
   "metadata": {},
   "outputs": [
    {
     "name": "stdout",
     "output_type": "stream",
     "text": [
      "Python <class 'str'>\n"
     ]
    }
   ],
   "source": [
    "# adding a type hint and default value for Python variables\n",
    "language = None\n",
    "language:str = 'Python'\n",
    "print(language, type(language))"
   ]
  },
  {
   "cell_type": "code",
   "execution_count": 6,
   "id": "6e004c6e-616b-4dd0-aeea-6fd5d9bde3cc",
   "metadata": {},
   "outputs": [
    {
     "name": "stdout",
     "output_type": "stream",
     "text": [
      "25 <class 'int'>\n",
      "25 <class 'str'>\n"
     ]
    }
   ],
   "source": [
    "# even though your provide a type, Python allows you to change it without error\n",
    "age:int = 25\n",
    "print(age, type(age))\n",
    "age = \"25\"\n",
    "print(age, type(age))"
   ]
  },
  {
   "cell_type": "markdown",
   "id": "24cf8489-3263-409c-9926-470ce0b48375",
   "metadata": {},
   "source": [
    "## Strings"
   ]
  },
  {
   "cell_type": "code",
   "execution_count": 2,
   "id": "630dbfb9-88bd-4aa7-8945-67d5efb688c6",
   "metadata": {},
   "outputs": [
    {
     "name": "stdout",
     "output_type": "stream",
     "text": [
      "It always seems impossible until it's done. (Nelson Mandela) <class 'str'> \n",
      "\n"
     ]
    }
   ],
   "source": [
    "newline = \"\\n\"\n",
    "# strings hold text\n",
    "famous_quote = \"It always seems impossible until it's done. (Nelson Mandela)\"\n",
    "print(famous_quote, type(famous_quote),newline)\n"
   ]
  },
  {
   "cell_type": "markdown",
   "id": "da5f6c6b-2497-4f6b-87c6-a2780360ffc0",
   "metadata": {},
   "source": [
    "## Ints"
   ]
  },
  {
   "cell_type": "code",
   "execution_count": 3,
   "id": "71fbd04d-a51a-4aca-9a89-4cb2b28566db",
   "metadata": {},
   "outputs": [
    {
     "name": "stdout",
     "output_type": "stream",
     "text": [
      "2025 <class 'int'> \n",
      "\n"
     ]
    }
   ],
   "source": [
    "# ints hold numbers without decimals\n",
    "year = 2025\n",
    "print(year, type(year),newline)"
   ]
  },
  {
   "cell_type": "markdown",
   "id": "e4384a04-2bbc-4f82-9e82-210ee59db7fe",
   "metadata": {},
   "source": [
    "## Floats"
   ]
  },
  {
   "cell_type": "code",
   "execution_count": 4,
   "id": "f3feec87-2925-45b0-966c-e4fb8c282e38",
   "metadata": {},
   "outputs": [
    {
     "name": "stdout",
     "output_type": "stream",
     "text": [
      "1.0 <class 'float'> \n",
      "\n"
     ]
    }
   ],
   "source": [
    "# floats hold numbers with decimals\n",
    "price = 1.00\n",
    "print(price, type(price),newline)"
   ]
  },
  {
   "cell_type": "markdown",
   "id": "c4fe0c54-2536-4122-b72d-4c3fb390775c",
   "metadata": {},
   "source": [
    "## Boolean"
   ]
  },
  {
   "cell_type": "code",
   "execution_count": 5,
   "id": "f52b55f7-ecfd-4819-b61a-fcfd828d1912",
   "metadata": {},
   "outputs": [
    {
     "name": "stdout",
     "output_type": "stream",
     "text": [
      "the sun rises in the east: True <class 'bool'> \n",
      "\n",
      "the sun sets in the east: False <class 'bool'> \n",
      "\n"
     ]
    }
   ],
   "source": [
    "\n",
    "# boolean holds True or False\n",
    "the_sun_rises_in_the_east = True\n",
    "the_sun_sets_in_the_east = False\n",
    "print(\"the sun rises in the east:\", the_sun_rises_in_the_east, type(the_sun_rises_in_the_east),newline)\n",
    "print(\"the sun sets in the east:\", the_sun_sets_in_the_east, type(the_sun_sets_in_the_east),newline)"
   ]
  },
  {
   "cell_type": "markdown",
   "id": "c6d0926a-2220-4ad5-b332-a27b0e2a1c52",
   "metadata": {},
   "source": [
    "## Special Characters"
   ]
  },
  {
   "cell_type": "code",
   "execution_count": 17,
   "id": "d3e6cb95-e72f-42f6-a46c-10dd184dfe22",
   "metadata": {},
   "outputs": [
    {
     "name": "stdout",
     "output_type": "stream",
     "text": [
      "line 1\n",
      "line 2\n",
      "section1\tsection 2\n"
     ]
    }
   ],
   "source": [
    "# newline\n",
    "\n",
    "print('line 1\\nline 2')\n",
    "\n",
    "# tab\n",
    "\n",
    "print('section1\\tsection 2')"
   ]
  },
  {
   "cell_type": "markdown",
   "id": "1e88f88a-d970-424d-b7ed-31eb174325d7",
   "metadata": {},
   "source": [
    "## Functions\n",
    "- use Datetime to get current time\n",
    "- create function to get current time"
   ]
  },
  {
   "cell_type": "code",
   "execution_count": 12,
   "id": "e2620794-a6a9-4e4a-bad1-e3b63c814ea4",
   "metadata": {},
   "outputs": [
    {
     "name": "stdout",
     "output_type": "stream",
     "text": [
      "Current time: 2025-06-11 14:43:42.939051\n"
     ]
    }
   ],
   "source": [
    "from datetime import datetime\n",
    "\n",
    "# function to get current time\n",
    "def get_current_time():\n",
    "    return datetime.now()\n",
    "\n",
    "# call function    \n",
    "current_time = get_current_time()\n",
    "\n",
    "# print text and data using fstring\n",
    "print(f'Current time: {get_current_time()}')"
   ]
  },
  {
   "cell_type": "code",
   "execution_count": null,
   "id": "38a0d6c9-25f6-40d8-a7ea-f3786ff6f05e",
   "metadata": {},
   "outputs": [],
   "source": []
  }
 ],
 "metadata": {
  "kernelspec": {
   "display_name": "Python 3 (ipykernel)",
   "language": "python",
   "name": "python3"
  },
  "language_info": {
   "codemirror_mode": {
    "name": "ipython",
    "version": 3
   },
   "file_extension": ".py",
   "mimetype": "text/x-python",
   "name": "python",
   "nbconvert_exporter": "python",
   "pygments_lexer": "ipython3",
   "version": "3.13.3"
  }
 },
 "nbformat": 4,
 "nbformat_minor": 5
}
