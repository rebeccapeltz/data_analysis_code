{
 "cells": [
  {
   "cell_type": "markdown",
   "id": "b3fc7fbf-621e-4cf9-8535-94cd5812c2f3",
   "metadata": {},
   "source": [
    "# Stock Ticker, Sector, Company Name"
   ]
  },
  {
   "cell_type": "markdown",
   "id": "a47fd2c3-cde0-4322-92ba-1d6ed6492bc0",
   "metadata": {},
   "source": [
    "## Read raw data describing stock ticker, sector and company name"
   ]
  },
  {
   "cell_type": "code",
   "execution_count": 4,
   "id": "038854a9-e428-4006-95db-89b18386cc66",
   "metadata": {},
   "outputs": [],
   "source": [
    "import pandas as pd\n",
    "import io # need this to get info\n",
    "\n",
    "df_stock_sector_company = pd.read_csv('../data/stock_sector_company.csv',encoding='utf8')\n"
   ]
  },
  {
   "cell_type": "markdown",
   "id": "fbf2863f-b3fb-40eb-964c-71834ac790eb",
   "metadata": {},
   "source": [
    "## Test if empty"
   ]
  },
  {
   "cell_type": "code",
   "execution_count": 5,
   "id": "c4f6172a-5bd9-4db9-a45f-074dffb35941",
   "metadata": {},
   "outputs": [
    {
     "name": "stdout",
     "output_type": "stream",
     "text": [
      "empty: \n",
      " False\n",
      "**************************************************\n"
     ]
    }
   ],
   "source": [
    "# Test if empty\n",
    "print('empty: \\n', df_stock_sector_company.empty)\n",
    "print('*' *50)"
   ]
  },
  {
   "cell_type": "markdown",
   "id": "87966e9a-de86-4b4c-ba20-0c08dd38da15",
   "metadata": {},
   "source": [
    "## View Columns"
   ]
  },
  {
   "cell_type": "code",
   "execution_count": 6,
   "id": "e220d125-3d91-4b8d-a914-816deca9357a",
   "metadata": {},
   "outputs": [
    {
     "name": "stdout",
     "output_type": "stream",
     "text": [
      "columns: \n",
      " Index(['stock', 'sector', 'company'], dtype='object')\n",
      "**************************************************\n"
     ]
    }
   ],
   "source": [
    "# View columns \n",
    "print('columns: \\n', df_stock_sector_company.columns)\n",
    "print('*' *50)"
   ]
  },
  {
   "cell_type": "markdown",
   "id": "893c0db6-70e7-431a-9268-0f470acfcac6",
   "metadata": {},
   "source": [
    "## View missing data"
   ]
  },
  {
   "cell_type": "code",
   "execution_count": 7,
   "id": "dd4fa659-1021-4335-9079-141ff061768e",
   "metadata": {},
   "outputs": [
    {
     "name": "stdout",
     "output_type": "stream",
     "text": [
      "isnull: \n",
      "     stock  sector  company\n",
      "0   False   False    False\n",
      "1   False   False    False\n",
      "2   False   False    False\n",
      "3   False   False    False\n",
      "4   False   False    False\n",
      "5   False   False    False\n",
      "6   False   False    False\n",
      "7   False   False    False\n",
      "8   False   False    False\n",
      "9   False   False    False\n",
      "10  False   False    False\n",
      "11  False   False    False\n",
      "12  False   False    False\n",
      "13  False   False    False\n",
      "14  False   False    False\n",
      "15  False   False    False\n",
      "16  False   False    False\n",
      "17  False   False    False\n",
      "18  False   False    False\n",
      "19  False   False    False\n",
      "20  False   False    False\n",
      "21  False   False    False\n",
      "22  False   False    False\n",
      "23  False   False    False\n",
      "24  False   False    False\n",
      "25  False   False    False\n",
      "26  False   False    False\n",
      "27  False   False    False\n",
      "28  False   False    False\n",
      "29  False   False    False\n",
      "30  False   False    False\n",
      "31  False   False    False\n",
      "**************************************************\n"
     ]
    }
   ],
   "source": [
    "# View missing data\n",
    "print('isnull: \\n', df_stock_sector_company.isnull())\n",
    "print('*' *50)"
   ]
  },
  {
   "cell_type": "markdown",
   "id": "4f87b5d6-8061-4fc1-b088-176850914d21",
   "metadata": {},
   "source": [
    "## View info"
   ]
  },
  {
   "cell_type": "code",
   "execution_count": 8,
   "id": "bf4042c2-5b09-4a85-9a50-c02f27665817",
   "metadata": {},
   "outputs": [
    {
     "name": "stdout",
     "output_type": "stream",
     "text": [
      "<class 'pandas.core.frame.DataFrame'>\n",
      "RangeIndex: 32 entries, 0 to 31\n",
      "Data columns (total 3 columns):\n",
      " #   Column   Non-Null Count  Dtype \n",
      "---  ------   --------------  ----- \n",
      " 0   stock    32 non-null     object\n",
      " 1   sector   32 non-null     object\n",
      " 2   company  32 non-null     object\n",
      "dtypes: object(3)\n",
      "memory usage: 900.0+ bytes\n",
      "info: \n",
      " None\n",
      "**************************************************\n"
     ]
    }
   ],
   "source": [
    "# View info\n",
    "print('info: \\n', df_stock_sector_company.info())\n",
    "print('*' *50)"
   ]
  },
  {
   "cell_type": "markdown",
   "id": "d8a474d8-166f-4ed4-855f-c7371ca6f8e5",
   "metadata": {},
   "source": [
    "## View describe"
   ]
  },
  {
   "cell_type": "code",
   "execution_count": 9,
   "id": "10ebbc85-21f5-4140-9762-d3109b9fc623",
   "metadata": {},
   "outputs": [
    {
     "name": "stdout",
     "output_type": "stream",
     "text": [
      "describe: \n",
      "        stock    sector company\n",
      "count     32        32      32\n",
      "unique    32         9      32\n",
      "top     AABA  Consumer  Altaba\n",
      "freq       1         8       1\n",
      "**************************************************\n"
     ]
    }
   ],
   "source": [
    "# View describe\n",
    "print('describe: \\n',df_stock_sector_company.describe())\n",
    "print('*' *50)"
   ]
  },
  {
   "cell_type": "markdown",
   "id": "de9aad35-87eb-4701-b688-591b8b360488",
   "metadata": {},
   "source": [
    "## View first 5 rows of data"
   ]
  },
  {
   "cell_type": "code",
   "execution_count": 10,
   "id": "c68598ed-8772-43e8-b600-a98418a559bd",
   "metadata": {},
   "outputs": [
    {
     "name": "stdout",
     "output_type": "stream",
     "text": [
      "head: \n",
      "   stock       sector                   company\n",
      "0  AABA   Financials                    Altaba\n",
      "1  AAPL   Technology                Apple Inc.\n",
      "2  AMZN   Technology           Amazon.com Inc.\n",
      "3   AXP   Financials  American Express Company\n",
      "4    BA  Industrials            Boeing Company\n",
      "**************************************************\n"
     ]
    }
   ],
   "source": [
    "# View first 5 rows of data\n",
    "print('head: \\n',df_stock_sector_company.head())\n",
    "print('*' *50)"
   ]
  },
  {
   "cell_type": "markdown",
   "id": "26ec2d01-2ce9-4c08-b11b-21fab7b5e8fa",
   "metadata": {},
   "source": [
    "## View last 5 rows of data"
   ]
  },
  {
   "cell_type": "code",
   "execution_count": 11,
   "id": "09c6b6e7-68a2-4de0-80fd-8ae02e2d2a18",
   "metadata": {},
   "outputs": [
    {
     "name": "stdout",
     "output_type": "stream",
     "text": [
      "tail: \n",
      "    stock         sector                          company\n",
      "27   UNH     Healthcare  UnitedHealth Group Incorporated\n",
      "28   UTX      Aerospace  United Technologies Corporation\n",
      "29    VZ  Communication      Verizon Communications Inc.\n",
      "30   WMT       Consumer                     Walmart Inc.\n",
      "31   XOM         Energy          Exxon Mobil Corporation\n",
      "**************************************************\n"
     ]
    }
   ],
   "source": [
    "# View last 5 rows of data\n",
    "print('tail: \\n', df_stock_sector_company.tail())\n",
    "print('*' *50)"
   ]
  },
  {
   "cell_type": "markdown",
   "id": "8e9f7965-528f-42f2-8051-861f0697dde5",
   "metadata": {},
   "source": [
    "## View sample of all rows of date sorted by stock ticker"
   ]
  },
  {
   "cell_type": "code",
   "execution_count": 16,
   "id": "ca30e22e-b0d9-4d85-8121-2513b451fee4",
   "metadata": {},
   "outputs": [
    {
     "name": "stdout",
     "output_type": "stream",
     "text": [
      "number of stocks:  32\n",
      "Sample includes all data\n",
      "sample: \n",
      "     stock         sector                                      company\n",
      "0    AABA     Financials                                       Altaba\n",
      "1    AAPL     Technology                                   Apple Inc.\n",
      "2    AMZN     Technology                              Amazon.com Inc.\n",
      "3     AXP     Financials                     American Express Company\n",
      "4      BA    Industrials                               Boeing Company\n",
      "5     CAT    Industrials                             Caterpillar Inc.\n",
      "6    CSCO     Technology                           Cisco Systems Inc.\n",
      "7     CVX         Energy                          Chevron Corporation\n",
      "8     DIS       Consumer                          Walt Disney Company\n",
      "9      GE    Industrials                     General Electric Company\n",
      "10  GOOGL     Technology                                Alphabet Inc.\n",
      "11     GS     Financials                     Goldman Sachs Group Inc.\n",
      "12     HD       Consumer                              Home Depot Inc.\n",
      "13    IBM     Technology  International Business Machines Corporation\n",
      "14   INTC     Technology                            Intel Corporation\n",
      "15    JNJ     Healthcare                            Johnson & Johnson\n",
      "16    JPM     Financials                         JPMorgan Chase & Co.\n",
      "18     KO       Consumer                            Coca-Cola Company\n",
      "19    MCD       Consumer                       McDonald's Corporation\n",
      "17    MDC       Consumer                     MDU Resources Group Inc.\n",
      "20    MMM    Industrials                                   3M Company\n",
      "21    MRK     Healthcare                             Merck & Co. Inc.\n",
      "22   MSFT     Technology                        Microsoft Corporation\n",
      "23    NKE       Consumer                                    Nike Inc.\n",
      "24    PFE     Healthcare                                  Pfizer Inc.\n",
      "25     PG       Consumer                         Procter & Gamble Co.\n",
      "26    TRV      Financial                     Travelers Companies Inc.\n",
      "27    UNH     Healthcare              UnitedHealth Group Incorporated\n",
      "28    UTX      Aerospace              United Technologies Corporation\n",
      "29     VZ  Communication                  Verizon Communications Inc.\n",
      "30    WMT       Consumer                                 Walmart Inc.\n",
      "31    XOM         Energy                      Exxon Mobil Corporation\n",
      "**************************************************\n"
     ]
    }
   ],
   "source": [
    "\n",
    "# View a random sample of 10 rows of data sorted by stock ticker\n",
    "number_stocks = len(df_stock_sector_company)\n",
    "print('number of stocks: ',number_stocks)\n",
    "print(\"Sample includes all data\")\n",
    "print('sample: \\n', df_stock_sector_company.sample(number_stocks).sort_values(by='stock'))\n",
    "print('*' *50)\n"
   ]
  },
  {
   "cell_type": "code",
   "execution_count": null,
   "id": "627117cd-a96a-4116-b703-992920986c83",
   "metadata": {},
   "outputs": [],
   "source": []
  }
 ],
 "metadata": {
  "kernelspec": {
   "display_name": "Python 3 (ipykernel)",
   "language": "python",
   "name": "python3"
  },
  "language_info": {
   "codemirror_mode": {
    "name": "ipython",
    "version": 3
   },
   "file_extension": ".py",
   "mimetype": "text/x-python",
   "name": "python",
   "nbconvert_exporter": "python",
   "pygments_lexer": "ipython3",
   "version": "3.13.3"
  }
 },
 "nbformat": 4,
 "nbformat_minor": 5
}
