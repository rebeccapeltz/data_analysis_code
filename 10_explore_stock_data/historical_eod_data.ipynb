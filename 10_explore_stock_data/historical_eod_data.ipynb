{
 "cells": [
  {
   "cell_type": "markdown",
   "id": "b3fc7fbf-621e-4cf9-8535-94cd5812c2f3",
   "metadata": {},
   "source": [
    "# Historical End of Day Stock Data\n",
    "Data has an entry for every stock close from Jan 2006 through Dec 1017"
   ]
  },
  {
   "cell_type": "markdown",
   "id": "a47fd2c3-cde0-4322-92ba-1d6ed6492bc0",
   "metadata": {},
   "source": [
    "## Read raw data describing stock ticker, sector and company name"
   ]
  },
  {
   "cell_type": "code",
   "execution_count": 3,
   "id": "038854a9-e428-4006-95db-89b18386cc66",
   "metadata": {},
   "outputs": [],
   "source": [
    "import pandas as pd\n",
    "import io # need this to get info\n",
    "\n",
    "df_historical_stock = pd.read_csv('../data/stock_data_2006_thru_2017.csv',encoding='utf8', comment='#')\n"
   ]
  },
  {
   "cell_type": "markdown",
   "id": "fbf2863f-b3fb-40eb-964c-71834ac790eb",
   "metadata": {},
   "source": [
    "## Test if empty"
   ]
  },
  {
   "cell_type": "code",
   "execution_count": 4,
   "id": "c4f6172a-5bd9-4db9-a45f-074dffb35941",
   "metadata": {},
   "outputs": [
    {
     "name": "stdout",
     "output_type": "stream",
     "text": [
      "empty: \n",
      " False\n",
      "**************************************************\n"
     ]
    }
   ],
   "source": [
    "# Test if empty\n",
    "print('empty: \\n', df_historical_stock.empty)\n",
    "print('*' *50)"
   ]
  },
  {
   "cell_type": "markdown",
   "id": "87966e9a-de86-4b4c-ba20-0c08dd38da15",
   "metadata": {},
   "source": [
    "## View Columns"
   ]
  },
  {
   "cell_type": "code",
   "execution_count": 5,
   "id": "e220d125-3d91-4b8d-a914-816deca9357a",
   "metadata": {},
   "outputs": [
    {
     "name": "stdout",
     "output_type": "stream",
     "text": [
      "columns: \n",
      " Index(['Date', 'Open', 'High', 'Low', 'Close', 'Volume', 'Name'], dtype='object')\n",
      "**************************************************\n"
     ]
    }
   ],
   "source": [
    "# View columns \n",
    "print('columns: \\n', df_historical_stock.columns)\n",
    "print('*' *50)"
   ]
  },
  {
   "cell_type": "markdown",
   "id": "893c0db6-70e7-431a-9268-0f470acfcac6",
   "metadata": {},
   "source": [
    "## View missing data"
   ]
  },
  {
   "cell_type": "code",
   "execution_count": 6,
   "id": "dd4fa659-1021-4335-9079-141ff061768e",
   "metadata": {},
   "outputs": [
    {
     "name": "stdout",
     "output_type": "stream",
     "text": [
      "isnull: \n",
      "         Date   Open   High    Low  Close  Volume   Name\n",
      "0      False  False  False  False  False   False  False\n",
      "1      False  False  False  False  False   False  False\n",
      "2      False  False  False  False  False   False  False\n",
      "3      False  False  False  False  False   False  False\n",
      "4      False  False  False  False  False   False  False\n",
      "...      ...    ...    ...    ...    ...     ...    ...\n",
      "93607  False  False  False  False  False   False  False\n",
      "93608  False  False  False  False  False   False  False\n",
      "93609  False  False  False  False  False   False  False\n",
      "93610  False  False  False  False  False   False  False\n",
      "93611  False  False  False  False  False   False  False\n",
      "\n",
      "[93612 rows x 7 columns]\n",
      "**************************************************\n"
     ]
    }
   ],
   "source": [
    "# View missing data\n",
    "print('isnull: \\n', df_historical_stock.isnull())\n",
    "print('*' *50)"
   ]
  },
  {
   "cell_type": "markdown",
   "id": "4f87b5d6-8061-4fc1-b088-176850914d21",
   "metadata": {},
   "source": [
    "## View info"
   ]
  },
  {
   "cell_type": "code",
   "execution_count": 7,
   "id": "bf4042c2-5b09-4a85-9a50-c02f27665817",
   "metadata": {},
   "outputs": [
    {
     "name": "stdout",
     "output_type": "stream",
     "text": [
      "<class 'pandas.core.frame.DataFrame'>\n",
      "RangeIndex: 93612 entries, 0 to 93611\n",
      "Data columns (total 7 columns):\n",
      " #   Column  Non-Null Count  Dtype  \n",
      "---  ------  --------------  -----  \n",
      " 0   Date    93612 non-null  object \n",
      " 1   Open    93587 non-null  float64\n",
      " 2   High    93602 non-null  float64\n",
      " 3   Low     93592 non-null  float64\n",
      " 4   Close   93612 non-null  float64\n",
      " 5   Volume  93612 non-null  int64  \n",
      " 6   Name    93612 non-null  object \n",
      "dtypes: float64(4), int64(1), object(2)\n",
      "memory usage: 5.0+ MB\n",
      "info: \n",
      " None\n",
      "**************************************************\n"
     ]
    }
   ],
   "source": [
    "# View info\n",
    "print('info: \\n', df_historical_stock.info())\n",
    "print('*' *50)"
   ]
  },
  {
   "cell_type": "markdown",
   "id": "d8a474d8-166f-4ed4-855f-c7371ca6f8e5",
   "metadata": {},
   "source": [
    "## View describe"
   ]
  },
  {
   "cell_type": "code",
   "execution_count": 9,
   "id": "10ebbc85-21f5-4140-9762-d3109b9fc623",
   "metadata": {},
   "outputs": [
    {
     "name": "stdout",
     "output_type": "stream",
     "text": [
      "describe: \n",
      "        stock    sector company\n",
      "count     32        32      32\n",
      "unique    32         9      32\n",
      "top     AABA  Consumer  Altaba\n",
      "freq       1         8       1\n",
      "**************************************************\n"
     ]
    }
   ],
   "source": [
    "# View describe\n",
    "print('describe: \\n',df_stock_sector_company.describe())\n",
    "print('*' *50)"
   ]
  },
  {
   "cell_type": "markdown",
   "id": "de9aad35-87eb-4701-b688-591b8b360488",
   "metadata": {},
   "source": [
    "## View first 5 rows of data"
   ]
  },
  {
   "cell_type": "code",
   "execution_count": 8,
   "id": "c68598ed-8772-43e8-b600-a98418a559bd",
   "metadata": {},
   "outputs": [
    {
     "name": "stdout",
     "output_type": "stream",
     "text": [
      "head: \n",
      "          Date   Open   High    Low  Close   Volume Name\n",
      "0  2006-01-03  77.76  79.35  77.24  79.11  3117200  MMM\n",
      "1  2006-01-04  79.49  79.49  78.25  78.71  2558000  MMM\n",
      "2  2006-01-05  78.41  78.65  77.56  77.99  2529500  MMM\n",
      "3  2006-01-06  78.64  78.90  77.64  78.63  2479500  MMM\n",
      "4  2006-01-09  78.50  79.83  78.46  79.02  1845600  MMM\n",
      "**************************************************\n"
     ]
    }
   ],
   "source": [
    "# View first 5 rows of data\n",
    "print('head: \\n',df_historical_stock.head())\n",
    "print('*' *50)"
   ]
  },
  {
   "cell_type": "markdown",
   "id": "26ec2d01-2ce9-4c08-b11b-21fab7b5e8fa",
   "metadata": {},
   "source": [
    "## View last 5 rows of data"
   ]
  },
  {
   "cell_type": "code",
   "execution_count": 9,
   "id": "09c6b6e7-68a2-4de0-80fd-8ae02e2d2a18",
   "metadata": {},
   "outputs": [
    {
     "name": "stdout",
     "output_type": "stream",
     "text": [
      "tail: \n",
      "              Date   Open   High    Low  Close    Volume  Name\n",
      "93607  2017-12-22  71.42  71.87  71.22  71.58  10979165  AABA\n",
      "93608  2017-12-26  70.94  71.39  69.63  69.86   8542802  AABA\n",
      "93609  2017-12-27  69.77  70.49  69.69  70.06   6345124  AABA\n",
      "93610  2017-12-28  70.12  70.32  69.51  69.82   7556877  AABA\n",
      "93611  2017-12-29  69.79  70.13  69.43  69.85   6613070  AABA\n",
      "**************************************************\n"
     ]
    }
   ],
   "source": [
    "# View last 5 rows of data\n",
    "print('tail: \\n', df_historical_stock.tail())\n",
    "print('*' *50)"
   ]
  },
  {
   "cell_type": "markdown",
   "id": "8e9f7965-528f-42f2-8051-861f0697dde5",
   "metadata": {},
   "source": [
    "## View sample of all rows of date sorted by stock ticker"
   ]
  },
  {
   "cell_type": "code",
   "execution_count": 11,
   "id": "ca30e22e-b0d9-4d85-8121-2513b451fee4",
   "metadata": {},
   "outputs": [
    {
     "name": "stdout",
     "output_type": "stream",
     "text": [
      "number of stocks:  93612\n",
      "Sample includes all data\n",
      "sample: \n",
      "              Date   Open   High    Low  Close    Volume  Name\n",
      "93368  2017-01-12  42.34  42.46  41.70  42.11   6024900  AABA\n",
      "90597  2006-01-09  43.10  43.66  42.82  43.42  16268338  AABA\n",
      "93281  2016-09-08  44.07  44.72  44.03  44.36   7882609  AABA\n",
      "92079  2011-11-28  15.24  15.47  15.21  15.35  19028944  AABA\n",
      "90982  2007-07-23  25.43  25.46  24.98  24.99  26631459  AABA\n",
      "...           ...    ...    ...    ...    ...       ...   ...\n",
      "29720  2016-02-09  79.98  80.67  78.69  80.08  18117320   XOM\n",
      "27982  2009-03-16  67.04  68.23  66.57  66.97  33593454   XOM\n",
      "28927  2012-12-13  89.16  89.45  88.27  88.58  12292525   XOM\n",
      "27593  2007-08-28  84.86  84.86  83.00  83.00  25860100   XOM\n",
      "29486  2015-03-06  86.41  86.60  85.32  85.63  16070466   XOM\n",
      "\n",
      "[93612 rows x 7 columns]\n",
      "**************************************************\n"
     ]
    }
   ],
   "source": [
    "\n",
    "# View a random sample of 10 rows of data sorted by stock ticker\n",
    "number_stocks = len(df_stock_sector_company)\n",
    "print('number of stocks: ',number_stocks)\n",
    "print(\"Sample includes all data\")\n",
    "print('sample: \\n', df_historical_stock.sample(number_stocks).sort_values(by='Name'))\n",
    "print('*' *50)\n"
   ]
  },
  {
   "cell_type": "markdown",
   "id": "0cf2fa20-e9b2-4a04-9a03-1cc98064471e",
   "metadata": {},
   "source": [
    "## Average Close Per Year"
   ]
  },
  {
   "cell_type": "code",
   "execution_count": 19,
   "id": "2242c94b-52f1-45c5-969f-8f9e9ee6e8fa",
   "metadata": {},
   "outputs": [
    {
     "name": "stdout",
     "output_type": "stream",
     "text": [
      "    Year   Avg_Close\n",
      "0   2006   52.961914\n",
      "1   2007   63.781723\n",
      "2   2008   55.660541\n",
      "3   2009   49.376502\n",
      "4   2010   60.584455\n",
      "5   2011   68.483080\n",
      "6   2012   75.686876\n",
      "7   2013   91.814780\n",
      "8   2014  105.834373\n",
      "9   2015  115.418111\n",
      "10  2016  128.194009\n",
      "11  2017  159.996171\n"
     ]
    },
    {
     "data": {
      "application/vnd.plotly.v1+json": {
       "config": {
        "plotlyServerURL": "https://plot.ly"
       },
       "data": [
        {
         "hovertemplate": "Year=%{x}<br>Avg_Close=%{y}<extra></extra>",
         "legendgroup": "",
         "line": {
          "color": "#636efa",
          "dash": "solid"
         },
         "marker": {
          "symbol": "circle"
         },
         "mode": "lines",
         "name": "",
         "orientation": "v",
         "showlegend": false,
         "type": "scatter",
         "x": {
          "bdata": "1gcAANcHAADYBwAA2QcAANoHAADbBwAA3AcAAN0HAADeBwAA3wcAAOAHAADhBwAA",
          "dtype": "i4"
         },
         "xaxis": "x",
         "y": {
          "bdata": "6J9r/B97SkAZv2iDD+RPQCCoPZiM1EtAmbDHOjGwSECMr4Rqz0pOQFlj3MfqHlFAL6ZLx/XrUkAHbkhaJfRWQHsQAV1mdVpAwkn1UsLaXEAIDNFSNQZgQD1A76Lg/2NA",
          "dtype": "f8"
         },
         "yaxis": "y"
        }
       ],
       "layout": {
        "legend": {
         "tracegroupgap": 0
        },
        "margin": {
         "t": 60
        },
        "template": {
         "data": {
          "bar": [
           {
            "error_x": {
             "color": "#2a3f5f"
            },
            "error_y": {
             "color": "#2a3f5f"
            },
            "marker": {
             "line": {
              "color": "#E5ECF6",
              "width": 0.5
             },
             "pattern": {
              "fillmode": "overlay",
              "size": 10,
              "solidity": 0.2
             }
            },
            "type": "bar"
           }
          ],
          "barpolar": [
           {
            "marker": {
             "line": {
              "color": "#E5ECF6",
              "width": 0.5
             },
             "pattern": {
              "fillmode": "overlay",
              "size": 10,
              "solidity": 0.2
             }
            },
            "type": "barpolar"
           }
          ],
          "carpet": [
           {
            "aaxis": {
             "endlinecolor": "#2a3f5f",
             "gridcolor": "white",
             "linecolor": "white",
             "minorgridcolor": "white",
             "startlinecolor": "#2a3f5f"
            },
            "baxis": {
             "endlinecolor": "#2a3f5f",
             "gridcolor": "white",
             "linecolor": "white",
             "minorgridcolor": "white",
             "startlinecolor": "#2a3f5f"
            },
            "type": "carpet"
           }
          ],
          "choropleth": [
           {
            "colorbar": {
             "outlinewidth": 0,
             "ticks": ""
            },
            "type": "choropleth"
           }
          ],
          "contour": [
           {
            "colorbar": {
             "outlinewidth": 0,
             "ticks": ""
            },
            "colorscale": [
             [
              0,
              "#0d0887"
             ],
             [
              0.1111111111111111,
              "#46039f"
             ],
             [
              0.2222222222222222,
              "#7201a8"
             ],
             [
              0.3333333333333333,
              "#9c179e"
             ],
             [
              0.4444444444444444,
              "#bd3786"
             ],
             [
              0.5555555555555556,
              "#d8576b"
             ],
             [
              0.6666666666666666,
              "#ed7953"
             ],
             [
              0.7777777777777778,
              "#fb9f3a"
             ],
             [
              0.8888888888888888,
              "#fdca26"
             ],
             [
              1,
              "#f0f921"
             ]
            ],
            "type": "contour"
           }
          ],
          "contourcarpet": [
           {
            "colorbar": {
             "outlinewidth": 0,
             "ticks": ""
            },
            "type": "contourcarpet"
           }
          ],
          "heatmap": [
           {
            "colorbar": {
             "outlinewidth": 0,
             "ticks": ""
            },
            "colorscale": [
             [
              0,
              "#0d0887"
             ],
             [
              0.1111111111111111,
              "#46039f"
             ],
             [
              0.2222222222222222,
              "#7201a8"
             ],
             [
              0.3333333333333333,
              "#9c179e"
             ],
             [
              0.4444444444444444,
              "#bd3786"
             ],
             [
              0.5555555555555556,
              "#d8576b"
             ],
             [
              0.6666666666666666,
              "#ed7953"
             ],
             [
              0.7777777777777778,
              "#fb9f3a"
             ],
             [
              0.8888888888888888,
              "#fdca26"
             ],
             [
              1,
              "#f0f921"
             ]
            ],
            "type": "heatmap"
           }
          ],
          "histogram": [
           {
            "marker": {
             "pattern": {
              "fillmode": "overlay",
              "size": 10,
              "solidity": 0.2
             }
            },
            "type": "histogram"
           }
          ],
          "histogram2d": [
           {
            "colorbar": {
             "outlinewidth": 0,
             "ticks": ""
            },
            "colorscale": [
             [
              0,
              "#0d0887"
             ],
             [
              0.1111111111111111,
              "#46039f"
             ],
             [
              0.2222222222222222,
              "#7201a8"
             ],
             [
              0.3333333333333333,
              "#9c179e"
             ],
             [
              0.4444444444444444,
              "#bd3786"
             ],
             [
              0.5555555555555556,
              "#d8576b"
             ],
             [
              0.6666666666666666,
              "#ed7953"
             ],
             [
              0.7777777777777778,
              "#fb9f3a"
             ],
             [
              0.8888888888888888,
              "#fdca26"
             ],
             [
              1,
              "#f0f921"
             ]
            ],
            "type": "histogram2d"
           }
          ],
          "histogram2dcontour": [
           {
            "colorbar": {
             "outlinewidth": 0,
             "ticks": ""
            },
            "colorscale": [
             [
              0,
              "#0d0887"
             ],
             [
              0.1111111111111111,
              "#46039f"
             ],
             [
              0.2222222222222222,
              "#7201a8"
             ],
             [
              0.3333333333333333,
              "#9c179e"
             ],
             [
              0.4444444444444444,
              "#bd3786"
             ],
             [
              0.5555555555555556,
              "#d8576b"
             ],
             [
              0.6666666666666666,
              "#ed7953"
             ],
             [
              0.7777777777777778,
              "#fb9f3a"
             ],
             [
              0.8888888888888888,
              "#fdca26"
             ],
             [
              1,
              "#f0f921"
             ]
            ],
            "type": "histogram2dcontour"
           }
          ],
          "mesh3d": [
           {
            "colorbar": {
             "outlinewidth": 0,
             "ticks": ""
            },
            "type": "mesh3d"
           }
          ],
          "parcoords": [
           {
            "line": {
             "colorbar": {
              "outlinewidth": 0,
              "ticks": ""
             }
            },
            "type": "parcoords"
           }
          ],
          "pie": [
           {
            "automargin": true,
            "type": "pie"
           }
          ],
          "scatter": [
           {
            "fillpattern": {
             "fillmode": "overlay",
             "size": 10,
             "solidity": 0.2
            },
            "type": "scatter"
           }
          ],
          "scatter3d": [
           {
            "line": {
             "colorbar": {
              "outlinewidth": 0,
              "ticks": ""
             }
            },
            "marker": {
             "colorbar": {
              "outlinewidth": 0,
              "ticks": ""
             }
            },
            "type": "scatter3d"
           }
          ],
          "scattercarpet": [
           {
            "marker": {
             "colorbar": {
              "outlinewidth": 0,
              "ticks": ""
             }
            },
            "type": "scattercarpet"
           }
          ],
          "scattergeo": [
           {
            "marker": {
             "colorbar": {
              "outlinewidth": 0,
              "ticks": ""
             }
            },
            "type": "scattergeo"
           }
          ],
          "scattergl": [
           {
            "marker": {
             "colorbar": {
              "outlinewidth": 0,
              "ticks": ""
             }
            },
            "type": "scattergl"
           }
          ],
          "scattermap": [
           {
            "marker": {
             "colorbar": {
              "outlinewidth": 0,
              "ticks": ""
             }
            },
            "type": "scattermap"
           }
          ],
          "scattermapbox": [
           {
            "marker": {
             "colorbar": {
              "outlinewidth": 0,
              "ticks": ""
             }
            },
            "type": "scattermapbox"
           }
          ],
          "scatterpolar": [
           {
            "marker": {
             "colorbar": {
              "outlinewidth": 0,
              "ticks": ""
             }
            },
            "type": "scatterpolar"
           }
          ],
          "scatterpolargl": [
           {
            "marker": {
             "colorbar": {
              "outlinewidth": 0,
              "ticks": ""
             }
            },
            "type": "scatterpolargl"
           }
          ],
          "scatterternary": [
           {
            "marker": {
             "colorbar": {
              "outlinewidth": 0,
              "ticks": ""
             }
            },
            "type": "scatterternary"
           }
          ],
          "surface": [
           {
            "colorbar": {
             "outlinewidth": 0,
             "ticks": ""
            },
            "colorscale": [
             [
              0,
              "#0d0887"
             ],
             [
              0.1111111111111111,
              "#46039f"
             ],
             [
              0.2222222222222222,
              "#7201a8"
             ],
             [
              0.3333333333333333,
              "#9c179e"
             ],
             [
              0.4444444444444444,
              "#bd3786"
             ],
             [
              0.5555555555555556,
              "#d8576b"
             ],
             [
              0.6666666666666666,
              "#ed7953"
             ],
             [
              0.7777777777777778,
              "#fb9f3a"
             ],
             [
              0.8888888888888888,
              "#fdca26"
             ],
             [
              1,
              "#f0f921"
             ]
            ],
            "type": "surface"
           }
          ],
          "table": [
           {
            "cells": {
             "fill": {
              "color": "#EBF0F8"
             },
             "line": {
              "color": "white"
             }
            },
            "header": {
             "fill": {
              "color": "#C8D4E3"
             },
             "line": {
              "color": "white"
             }
            },
            "type": "table"
           }
          ]
         },
         "layout": {
          "annotationdefaults": {
           "arrowcolor": "#2a3f5f",
           "arrowhead": 0,
           "arrowwidth": 1
          },
          "autotypenumbers": "strict",
          "coloraxis": {
           "colorbar": {
            "outlinewidth": 0,
            "ticks": ""
           }
          },
          "colorscale": {
           "diverging": [
            [
             0,
             "#8e0152"
            ],
            [
             0.1,
             "#c51b7d"
            ],
            [
             0.2,
             "#de77ae"
            ],
            [
             0.3,
             "#f1b6da"
            ],
            [
             0.4,
             "#fde0ef"
            ],
            [
             0.5,
             "#f7f7f7"
            ],
            [
             0.6,
             "#e6f5d0"
            ],
            [
             0.7,
             "#b8e186"
            ],
            [
             0.8,
             "#7fbc41"
            ],
            [
             0.9,
             "#4d9221"
            ],
            [
             1,
             "#276419"
            ]
           ],
           "sequential": [
            [
             0,
             "#0d0887"
            ],
            [
             0.1111111111111111,
             "#46039f"
            ],
            [
             0.2222222222222222,
             "#7201a8"
            ],
            [
             0.3333333333333333,
             "#9c179e"
            ],
            [
             0.4444444444444444,
             "#bd3786"
            ],
            [
             0.5555555555555556,
             "#d8576b"
            ],
            [
             0.6666666666666666,
             "#ed7953"
            ],
            [
             0.7777777777777778,
             "#fb9f3a"
            ],
            [
             0.8888888888888888,
             "#fdca26"
            ],
            [
             1,
             "#f0f921"
            ]
           ],
           "sequentialminus": [
            [
             0,
             "#0d0887"
            ],
            [
             0.1111111111111111,
             "#46039f"
            ],
            [
             0.2222222222222222,
             "#7201a8"
            ],
            [
             0.3333333333333333,
             "#9c179e"
            ],
            [
             0.4444444444444444,
             "#bd3786"
            ],
            [
             0.5555555555555556,
             "#d8576b"
            ],
            [
             0.6666666666666666,
             "#ed7953"
            ],
            [
             0.7777777777777778,
             "#fb9f3a"
            ],
            [
             0.8888888888888888,
             "#fdca26"
            ],
            [
             1,
             "#f0f921"
            ]
           ]
          },
          "colorway": [
           "#636efa",
           "#EF553B",
           "#00cc96",
           "#ab63fa",
           "#FFA15A",
           "#19d3f3",
           "#FF6692",
           "#B6E880",
           "#FF97FF",
           "#FECB52"
          ],
          "font": {
           "color": "#2a3f5f"
          },
          "geo": {
           "bgcolor": "white",
           "lakecolor": "white",
           "landcolor": "#E5ECF6",
           "showlakes": true,
           "showland": true,
           "subunitcolor": "white"
          },
          "hoverlabel": {
           "align": "left"
          },
          "hovermode": "closest",
          "mapbox": {
           "style": "light"
          },
          "paper_bgcolor": "white",
          "plot_bgcolor": "#E5ECF6",
          "polar": {
           "angularaxis": {
            "gridcolor": "white",
            "linecolor": "white",
            "ticks": ""
           },
           "bgcolor": "#E5ECF6",
           "radialaxis": {
            "gridcolor": "white",
            "linecolor": "white",
            "ticks": ""
           }
          },
          "scene": {
           "xaxis": {
            "backgroundcolor": "#E5ECF6",
            "gridcolor": "white",
            "gridwidth": 2,
            "linecolor": "white",
            "showbackground": true,
            "ticks": "",
            "zerolinecolor": "white"
           },
           "yaxis": {
            "backgroundcolor": "#E5ECF6",
            "gridcolor": "white",
            "gridwidth": 2,
            "linecolor": "white",
            "showbackground": true,
            "ticks": "",
            "zerolinecolor": "white"
           },
           "zaxis": {
            "backgroundcolor": "#E5ECF6",
            "gridcolor": "white",
            "gridwidth": 2,
            "linecolor": "white",
            "showbackground": true,
            "ticks": "",
            "zerolinecolor": "white"
           }
          },
          "shapedefaults": {
           "line": {
            "color": "#2a3f5f"
           }
          },
          "ternary": {
           "aaxis": {
            "gridcolor": "white",
            "linecolor": "white",
            "ticks": ""
           },
           "baxis": {
            "gridcolor": "white",
            "linecolor": "white",
            "ticks": ""
           },
           "bgcolor": "#E5ECF6",
           "caxis": {
            "gridcolor": "white",
            "linecolor": "white",
            "ticks": ""
           }
          },
          "title": {
           "x": 0.05
          },
          "xaxis": {
           "automargin": true,
           "gridcolor": "white",
           "linecolor": "white",
           "ticks": "",
           "title": {
            "standoff": 15
           },
           "zerolinecolor": "white",
           "zerolinewidth": 2
          },
          "yaxis": {
           "automargin": true,
           "gridcolor": "white",
           "linecolor": "white",
           "ticks": "",
           "title": {
            "standoff": 15
           },
           "zerolinecolor": "white",
           "zerolinewidth": 2
          }
         }
        },
        "xaxis": {
         "anchor": "y",
         "domain": [
          0,
          1
         ],
         "title": {
          "text": "Year"
         }
        },
        "yaxis": {
         "anchor": "x",
         "domain": [
          0,
          1
         ],
         "title": {
          "text": "Avg_Close"
         }
        }
       }
      },
      "image/png": "[encoded data removed]"
     },
     "metadata": {},
     "output_type": "display_data"
    }
   ],
   "source": [
    "import pandas as pd\n",
    "import plotly.express as px\n",
    "\n",
    "\n",
    "# Sample data (replace this with your actual data loading)\n",
    "df = pd.read_csv('../data/stock_data_2006_thru_2017.csv',encoding='utf8',comment='#')\n",
    "\n",
    "# Ensure 'Date' is in datetime format\n",
    "df['Date'] = pd.to_datetime(df['Date'])\n",
    "\n",
    "# Extract the year into a new column\n",
    "df['Year'] = df['Date'].dt.year\n",
    "\n",
    "# Group by 'Year' and calculate average Close\n",
    "df_yearly_avg = df.groupby('Year', as_index=False)['Close'].mean()\n",
    "\n",
    "# Group by 'Date' and calculate average Close\n",
    "# df_avg = df.groupby('Date', as_index=False)['Close'].mean()\n",
    "\n",
    "# Rename 'Close' to 'Avg_Close'\n",
    "df_yearly_avg.rename(columns={'Close': 'Avg_Close'}, inplace=True)\n",
    "\n",
    "# The resulting df_avg will have datetime-formatted 'Date'\n",
    "print(df_yearly_avg)\n",
    "\n",
    "fig = px.line(df_yearly_avg,x='Year', y='Avg_Close')\n",
    "fig.show()"
   ]
  },
  {
   "cell_type": "code",
   "execution_count": null,
   "id": "318169cb-820b-4c3e-8057-c0927788e02c",
   "metadata": {},
   "outputs": [],
   "source": []
  }
 ],
 "metadata": {
  "kernelspec": {
   "display_name": "Python 3 (ipykernel)",
   "language": "python",
   "name": "python3"
  },
  "language_info": {
   "codemirror_mode": {
    "name": "ipython",
    "version": 3
   },
   "file_extension": ".py",
   "mimetype": "text/x-python",
   "name": "python",
   "nbconvert_exporter": "python",
   "pygments_lexer": "ipython3",
   "version": "3.13.3"
  }
 },
 "nbformat": 4,
 "nbformat_minor": 5
}
