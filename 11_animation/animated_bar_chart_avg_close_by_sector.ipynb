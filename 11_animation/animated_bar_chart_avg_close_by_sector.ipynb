{
 "cells": [
  {
   "cell_type": "code",
   "execution_count": 1,
   "id": "e8c66984-98c6-45a1-b962-bf76017c3b84",
   "metadata": {},
   "outputs": [],
   "source": [
    "# Animated Bar Chart Example"
   ]
  },
  {
   "cell_type": "markdown",
   "id": "4bd0c1ed-cc56-4b3a-9a30-f14d1002fbc2",
   "metadata": {},
   "source": [
    "## Stock data"
   ]
  },
  {
   "cell_type": "code",
   "execution_count": 5,
   "id": "069cd0fd-e865-41c7-a2d4-a4567301f0ea",
   "metadata": {},
   "outputs": [
    {
     "name": "stdout",
     "output_type": "stream",
     "text": [
      "2006 AABA Financials Altaba\n",
      "2006 AAPL Technology Apple Inc.\n",
      "2006 AMZN Technology Amazon.com Inc.\n",
      "2006 AXP Financials American Express Company\n",
      "2006 BA Industrials Boeing Company\n"
     ]
    },
    {
     "data": {
      "application/vnd.plotly.v1+json": {
       "config": {
        "plotlyServerURL": "https://plot.ly"
       },
       "data": [
        {
         "customdata": [
          [
           "AABA",
           "Altaba"
          ],
          [
           "AXP",
           "American Express Company"
          ],
          [
           "GS",
           "Goldman Sachs Group Inc."
          ],
          [
           "JPM",
           "JPMorgan Chase & Co."
          ]
         ],
         "hovertemplate": "sector=%{x}<br>year=2006<br>avg_close=%{y}<br>stock=%{customdata[0]}<br>company=%{customdata[1]}<extra></extra>",
         "ids": [
          "AABA",
          "AXP",
          "GS",
          "JPM"
         ],
         "legendgroup": "Financials",
         "marker": {
          "color": "#636efa",
          "pattern": {
           "shape": ""
          }
         },
         "name": "Financials",
         "orientation": "v",
         "showlegend": true,
         "textposition": "auto",
         "type": "bar",
         "x": [
          "Financials",
          "Financials",
          "Financials",
          "Financials"
         ],
         "xaxis": "x",
         "y": {
          "bdata": "cJP2zCD0PUBnuMiY9TRLQAtM6JavCGRAS+pbkYf3RUA=",
          "dtype": "f8"
         },
         "yaxis": "y"
        },
        {
         "customdata": [
          [
           "AAPL",
           "Apple Inc."
          ],
          [
           "AMZN",
           "Amazon.com Inc."
          ],
          [
           "CSCO",
           "Cisco Systems Inc."
          ],
          [
           "GOOGL",
           "Alphabet Inc."
          ],
          [
           "IBM",
           "International Business Machines Corporation"
          ],
          [
           "INTC",
           "Intel Corporation"
          ],
          [
           "MSFT",
           "Microsoft Corporation"
          ]
         ],
         "hovertemplate": "sector=%{x}<br>year=2006<br>avg_close=%{y}<br>stock=%{customdata[0]}<br>company=%{customdata[1]}<extra></extra>",
         "ids": [
          "AAPL",
          "AMZN",
          "CSCO",
          "GOOGL",
          "IBM",
          "INTC",
          "MSFT"
         ],
         "legendgroup": "Technology",
         "marker": {
          "color": "#EF553B",
          "pattern": {
           "shape": ""
          }
         },
         "name": "Technology",
         "orientation": "v",
         "showlegend": true,
         "textposition": "auto",
         "type": "bar",
         "x": [
          "Technology",
          "Technology",
          "Technology",
          "Technology",
          "Technology",
          "Technology",
          "Technology"
         ],
         "xaxis": "x",
         "y": {
          "bdata": "CYuQ4xI7JEDwrsCvZPRBQEGWX3P8nDVARumOm4m5aUCBDWe2A8dUQLnImPXU9DNAQPRf8FRKOkA=",
          "dtype": "f8"
         },
         "yaxis": "y"
        },
        {
         "customdata": [
          [
           "BA",
           "Boeing Company"
          ],
          [
           "CAT",
           "Caterpillar Inc."
          ],
          [
           "GE",
           "General Electric Company"
          ],
          [
           "MMM",
           "3M Company"
          ]
         ],
         "hovertemplate": "sector=%{x}<br>year=2006<br>avg_close=%{y}<br>stock=%{customdata[0]}<br>company=%{customdata[1]}<extra></extra>",
         "ids": [
          "BA",
          "CAT",
          "GE",
          "MMM"
         ],
         "legendgroup": "Industrials",
         "marker": {
          "color": "#00cc96",
          "pattern": {
           "shape": ""
          }
         },
         "name": "Industrials",
         "orientation": "v",
         "showlegend": true,
         "textposition": "auto",
         "type": "bar",
         "x": [
          "Industrials",
          "Industrials",
          "Industrials",
          "Industrials"
         ],
         "xaxis": "x",
         "y": {
          "bdata": "GBGfF7/8U0C65StEUy1RQNwhluBVLUFAu4nwqHE6U0A=",
          "dtype": "f8"
         },
         "yaxis": "y"
        },
        {
         "customdata": [
          [
           "CVX",
           "Chevron Corporation"
          ],
          [
           "XOM",
           "Exxon Mobil Corporation"
          ]
         ],
         "hovertemplate": "sector=%{x}<br>year=2006<br>avg_close=%{y}<br>stock=%{customdata[0]}<br>company=%{customdata[1]}<extra></extra>",
         "ids": [
          "CVX",
          "XOM"
         ],
         "legendgroup": "Energy",
         "marker": {
          "color": "#ab63fa",
          "pattern": {
           "shape": ""
          }
         },
         "name": "Energy",
         "orientation": "v",
         "showlegend": true,
         "textposition": "auto",
         "type": "bar",
         "x": [
          "Energy",
          "Energy"
         ],
         "xaxis": "x",
         "y": {
          "bdata": "yPb1UY2IT0DSoN5llVZQQA==",
          "dtype": "f8"
         },
         "yaxis": "y"
        },
        {
         "customdata": [
          [
           "DIS",
           "Walt Disney Company"
          ],
          [
           "HD",
           "Home Depot Inc."
          ],
          [
           "KO",
           "Coca-Cola Company"
          ],
          [
           "MCD",
           "McDonald's Corporation"
          ],
          [
           "NKE",
           "Nike Inc."
          ],
          [
           "PG",
           "Procter & Gamble Co."
          ],
          [
           "WMT",
           "Walmart Inc."
          ]
         ],
         "hovertemplate": "sector=%{x}<br>year=2006<br>avg_close=%{y}<br>stock=%{customdata[0]}<br>company=%{customdata[1]}<extra></extra>",
         "ids": [
          "DIS",
          "HD",
          "KO",
          "MCD",
          "NKE",
          "PG",
          "WMT"
         ],
         "legendgroup": "Consumer",
         "marker": {
          "color": "#FFA15A",
          "pattern": {
           "shape": ""
          }
         },
         "name": "Consumer",
         "orientation": "v",
         "showlegend": true,
         "textposition": "auto",
         "type": "bar",
         "x": [
          "Consumer",
          "Consumer",
          "Consumer",
          "Consumer",
          "Consumer",
          "Consumer",
          "Consumer"
         ],
         "xaxis": "x",
         "y": {
          "bdata": "x9MTXqqQPUCtIHXDQyFDQJ8Xvzzl7zVA3ErHeZ1kQkCdqo6dTlMlQLSaEKOhwk1AotSMLJRQR0A=",
          "dtype": "f8"
         },
         "yaxis": "y"
        },
        {
         "customdata": [
          [
           "JNJ",
           "Johnson & Johnson"
          ],
          [
           "MRK",
           "Merck & Co. Inc."
          ],
          [
           "PFE",
           "Pfizer Inc."
          ],
          [
           "UNH",
           "UnitedHealth Group Incorporated"
          ]
         ],
         "hovertemplate": "sector=%{x}<br>year=2006<br>avg_close=%{y}<br>stock=%{customdata[0]}<br>company=%{customdata[1]}<extra></extra>",
         "ids": [
          "JNJ",
          "MRK",
          "PFE",
          "UNH"
         ],
         "legendgroup": "Healthcare",
         "marker": {
          "color": "#19d3f3",
          "pattern": {
           "shape": ""
          }
         },
         "name": "Healthcare",
         "orientation": "v",
         "showlegend": true,
         "textposition": "auto",
         "type": "bar",
         "x": [
          "Healthcare",
          "Healthcare",
          "Healthcare",
          "Healthcare"
         ],
         "xaxis": "x",
         "y": {
          "bdata": "jDLjleIaT0CURmpxDCVDQEBE/UBtrjlAKtVdrFWESUA=",
          "dtype": "f8"
         },
         "yaxis": "y"
        },
        {
         "customdata": [
          [
           "TRV",
           "Travelers Companies Inc."
          ]
         ],
         "hovertemplate": "sector=%{x}<br>year=2006<br>avg_close=%{y}<br>stock=%{customdata[0]}<br>company=%{customdata[1]}<extra></extra>",
         "ids": [
          "TRV"
         ],
         "legendgroup": "Financial",
         "marker": {
          "color": "#FF6692",
          "pattern": {
           "shape": ""
          }
         },
         "name": "Financial",
         "orientation": "v",
         "showlegend": true,
         "textposition": "auto",
         "type": "bar",
         "x": [
          "Financial"
         ],
         "xaxis": "x",
         "y": {
          "bdata": "izy8/jTvRkA=",
          "dtype": "f8"
         },
         "yaxis": "y"
        },
        {
         "customdata": [
          [
           "UTX",
           "United Technologies Corporation"
          ]
         ],
         "hovertemplate": "sector=%{x}<br>year=2006<br>avg_close=%{y}<br>stock=%{customdata[0]}<br>company=%{customdata[1]}<extra></extra>",
         "ids": [
          "UTX"
         ],
         "legendgroup": "Aerospace",
         "marker": {
          "color": "#B6E880",
          "pattern": {
           "shape": ""
          }
         },
         "name": "Aerospace",
         "orientation": "v",
         "showlegend": true,
         "textposition": "auto",
         "type": "bar",
         "x": [
          "Aerospace"
         ],
         "xaxis": "x",
         "y": {
          "bdata": "nFrxTDbPTkA=",
          "dtype": "f8"
         },
         "yaxis": "y"
        },
        {
         "customdata": [
          [
           "VZ",
           "Verizon Communications Inc."
          ]
         ],
         "hovertemplate": "sector=%{x}<br>year=2006<br>avg_close=%{y}<br>stock=%{customdata[0]}<br>company=%{customdata[1]}<extra></extra>",
         "ids": [
          "VZ"
         ],
         "legendgroup": "Communication",
         "marker": {
          "color": "#FF97FF",
          "pattern": {
           "shape": ""
          }
         },
         "name": "Communication",
         "orientation": "v",
         "showlegend": true,
         "textposition": "auto",
         "type": "bar",
         "x": [
          "Communication"
         ],
         "xaxis": "x",
         "y": {
          "bdata": "0aYtC/oFQUA=",
          "dtype": "f8"
         },
         "yaxis": "y"
        }
       ],
       "frames": [
        {
         "data": [
          {
           "customdata": [
            [
             "AABA",
             "Altaba"
            ],
            [
             "AXP",
             "American Express Company"
            ],
            [
             "GS",
             "Goldman Sachs Group Inc."
            ],
            [
             "JPM",
             "JPMorgan Chase & Co."
            ]
           ],
           "hovertemplate": "sector=%{x}<br>year=2006<br>avg_close=%{y}<br>stock=%{customdata[0]}<br>company=%{customdata[1]}<extra></extra>",
           "ids": [
            "AABA",
            "AXP",
            "GS",
            "JPM"
           ],
           "legendgroup": "Financials",
           "marker": {
            "color": "#636efa",
            "pattern": {
             "shape": ""
            }
           },
           "name": "Financials",
           "orientation": "v",
           "showlegend": true,
           "textposition": "auto",
           "type": "bar",
           "x": [
            "Financials",
            "Financials",
            "Financials",
            "Financials"
           ],
           "xaxis": "x",
           "y": {
            "bdata": "cJP2zCD0PUBnuMiY9TRLQAtM6JavCGRAS+pbkYf3RUA=",
            "dtype": "f8"
           },
           "yaxis": "y"
          },
          {
           "customdata": [
            [
             "AAPL",
             "Apple Inc."
            ],
            [
             "AMZN",
             "Amazon.com Inc."
            ],
            [
             "CSCO",
             "Cisco Systems Inc."
            ],
            [
             "GOOGL",
             "Alphabet Inc."
            ],
            [
             "IBM",
             "International Business Machines Corporation"
            ],
            [
             "INTC",
             "Intel Corporation"
            ],
            [
             "MSFT",
             "Microsoft Corporation"
            ]
           ],
           "hovertemplate": "sector=%{x}<br>year=2006<br>avg_close=%{y}<br>stock=%{customdata[0]}<br>company=%{customdata[1]}<extra></extra>",
           "ids": [
            "AAPL",
            "AMZN",
            "CSCO",
            "GOOGL",
            "IBM",
            "INTC",
            "MSFT"
           ],
           "legendgroup": "Technology",
           "marker": {
            "color": "#EF553B",
            "pattern": {
             "shape": ""
            }
           },
           "name": "Technology",
           "orientation": "v",
           "showlegend": true,
           "textposition": "auto",
           "type": "bar",
           "x": [
            "Technology",
            "Technology",
            "Technology",
            "Technology",
            "Technology",
            "Technology",
            "Technology"
           ],
           "xaxis": "x",
           "y": {
            "bdata": "CYuQ4xI7JEDwrsCvZPRBQEGWX3P8nDVARumOm4m5aUCBDWe2A8dUQLnImPXU9DNAQPRf8FRKOkA=",
            "dtype": "f8"
           },
           "yaxis": "y"
          },
          {
           "customdata": [
            [
             "BA",
             "Boeing Company"
            ],
            [
             "CAT",
             "Caterpillar Inc."
            ],
            [
             "GE",
             "General Electric Company"
            ],
            [
             "MMM",
             "3M Company"
            ]
           ],
           "hovertemplate": "sector=%{x}<br>year=2006<br>avg_close=%{y}<br>stock=%{customdata[0]}<br>company=%{customdata[1]}<extra></extra>",
           "ids": [
            "BA",
            "CAT",
            "GE",
            "MMM"
           ],
           "legendgroup": "Industrials",
           "marker": {
            "color": "#00cc96",
            "pattern": {
             "shape": ""
            }
           },
           "name": "Industrials",
           "orientation": "v",
           "showlegend": true,
           "textposition": "auto",
           "type": "bar",
           "x": [
            "Industrials",
            "Industrials",
            "Industrials",
            "Industrials"
           ],
           "xaxis": "x",
           "y": {
            "bdata": "GBGfF7/8U0C65StEUy1RQNwhluBVLUFAu4nwqHE6U0A=",
            "dtype": "f8"
           },
           "yaxis": "y"
          },
          {
           "customdata": [
            [
             "CVX",
             "Chevron Corporation"
            ],
            [
             "XOM",
             "Exxon Mobil Corporation"
            ]
           ],
           "hovertemplate": "sector=%{x}<br>year=2006<br>avg_close=%{y}<br>stock=%{customdata[0]}<br>company=%{customdata[1]}<extra></extra>",
           "ids": [
            "CVX",
            "XOM"
           ],
           "legendgroup": "Energy",
           "marker": {
            "color": "#ab63fa",
            "pattern": {
             "shape": ""
            }
           },
           "name": "Energy",
           "orientation": "v",
           "showlegend": true,
           "textposition": "auto",
           "type": "bar",
           "x": [
            "Energy",
            "Energy"
           ],
           "xaxis": "x",
           "y": {
            "bdata": "yPb1UY2IT0DSoN5llVZQQA==",
            "dtype": "f8"
           },
           "yaxis": "y"
          },
          {
           "customdata": [
            [
             "DIS",
             "Walt Disney Company"
            ],
            [
             "HD",
             "Home Depot Inc."
            ],
            [
             "KO",
             "Coca-Cola Company"
            ],
            [
             "MCD",
             "McDonald's Corporation"
            ],
            [
             "NKE",
             "Nike Inc."
            ],
            [
             "PG",
             "Procter & Gamble Co."
            ],
            [
             "WMT",
             "Walmart Inc."
            ]
           ],
           "hovertemplate": "sector=%{x}<br>year=2006<br>avg_close=%{y}<br>stock=%{customdata[0]}<br>company=%{customdata[1]}<extra></extra>",
           "ids": [
            "DIS",
            "HD",
            "KO",
            "MCD",
            "NKE",
            "PG",
            "WMT"
           ],
           "legendgroup": "Consumer",
           "marker": {
            "color": "#FFA15A",
            "pattern": {
             "shape": ""
            }
           },
           "name": "Consumer",
           "orientation": "v",
           "showlegend": true,
           "textposition": "auto",
           "type": "bar",
           "x": [
            "Consumer",
            "Consumer",
            "Consumer",
            "Consumer",
            "Consumer",
            "Consumer",
            "Consumer"
           ],
           "xaxis": "x",
           "y": {
            "bdata": "x9MTXqqQPUCtIHXDQyFDQJ8Xvzzl7zVA3ErHeZ1kQkCdqo6dTlMlQLSaEKOhwk1AotSMLJRQR0A=",
            "dtype": "f8"
           },
           "yaxis": "y"
          },
          {
           "customdata": [
            [
             "JNJ",
             "Johnson & Johnson"
            ],
            [
             "MRK",
             "Merck & Co. Inc."
            ],
            [
             "PFE",
             "Pfizer Inc."
            ],
            [
             "UNH",
             "UnitedHealth Group Incorporated"
            ]
           ],
           "hovertemplate": "sector=%{x}<br>year=2006<br>avg_close=%{y}<br>stock=%{customdata[0]}<br>company=%{customdata[1]}<extra></extra>",
           "ids": [
            "JNJ",
            "MRK",
            "PFE",
            "UNH"
           ],
           "legendgroup": "Healthcare",
           "marker": {
            "color": "#19d3f3",
            "pattern": {
             "shape": ""
            }
           },
           "name": "Healthcare",
           "orientation": "v",
           "showlegend": true,
           "textposition": "auto",
           "type": "bar",
           "x": [
            "Healthcare",
            "Healthcare",
            "Healthcare",
            "Healthcare"
           ],
           "xaxis": "x",
           "y": {
            "bdata": "jDLjleIaT0CURmpxDCVDQEBE/UBtrjlAKtVdrFWESUA=",
            "dtype": "f8"
           },
           "yaxis": "y"
          },
          {
           "customdata": [
            [
             "TRV",
             "Travelers Companies Inc."
            ]
           ],
           "hovertemplate": "sector=%{x}<br>year=2006<br>avg_close=%{y}<br>stock=%{customdata[0]}<br>company=%{customdata[1]}<extra></extra>",
           "ids": [
            "TRV"
           ],
           "legendgroup": "Financial",
           "marker": {
            "color": "#FF6692",
            "pattern": {
             "shape": ""
            }
           },
           "name": "Financial",
           "orientation": "v",
           "showlegend": true,
           "textposition": "auto",
           "type": "bar",
           "x": [
            "Financial"
           ],
           "xaxis": "x",
           "y": {
            "bdata": "izy8/jTvRkA=",
            "dtype": "f8"
           },
           "yaxis": "y"
          },
          {
           "customdata": [
            [
             "UTX",
             "United Technologies Corporation"
            ]
           ],
           "hovertemplate": "sector=%{x}<br>year=2006<br>avg_close=%{y}<br>stock=%{customdata[0]}<br>company=%{customdata[1]}<extra></extra>",
           "ids": [
            "UTX"
           ],
           "legendgroup": "Aerospace",
           "marker": {
            "color": "#B6E880",
            "pattern": {
             "shape": ""
            }
           },
           "name": "Aerospace",
           "orientation": "v",
           "showlegend": true,
           "textposition": "auto",
           "type": "bar",
           "x": [
            "Aerospace"
           ],
           "xaxis": "x",
           "y": {
            "bdata": "nFrxTDbPTkA=",
            "dtype": "f8"
           },
           "yaxis": "y"
          },
          {
           "customdata": [
            [
             "VZ",
             "Verizon Communications Inc."
            ]
           ],
           "hovertemplate": "sector=%{x}<br>year=2006<br>avg_close=%{y}<br>stock=%{customdata[0]}<br>company=%{customdata[1]}<extra></extra>",
           "ids": [
            "VZ"
           ],
           "legendgroup": "Communication",
           "marker": {
            "color": "#FF97FF",
            "pattern": {
             "shape": ""
            }
           },
           "name": "Communication",
           "orientation": "v",
           "showlegend": true,
           "textposition": "auto",
           "type": "bar",
           "x": [
            "Communication"
           ],
           "xaxis": "x",
           "y": {
            "bdata": "0aYtC/oFQUA=",
            "dtype": "f8"
           },
           "yaxis": "y"
          }
         ],
         "name": "2006"
        },
        {
         "data": [
          {
           "customdata": [
            [
             "AABA",
             "Altaba"
            ],
            [
             "AXP",
             "American Express Company"
            ],
            [
             "GS",
             "Goldman Sachs Group Inc."
            ],
            [
             "JPM",
             "JPMorgan Chase & Co."
            ]
           ],
           "hovertemplate": "sector=%{x}<br>year=2007<br>avg_close=%{y}<br>stock=%{customdata[0]}<br>company=%{customdata[1]}<extra></extra>",
           "ids": [
            "AABA",
            "AXP",
            "GS",
            "JPM"
           ],
           "legendgroup": "Financials",
           "marker": {
            "color": "#636efa",
            "pattern": {
             "shape": ""
            }
           },
           "name": "Financials",
           "orientation": "v",
           "showlegend": true,
           "textposition": "auto",
           "type": "bar",
           "x": [
            "Financials",
            "Financials",
            "Financials",
            "Financials"
           ],
           "xaxis": "x",
           "y": {
            "bdata": "nkY/e5GGO0Dk4fWneZ5NQILgq1nOempAAfqwWpvgR0A=",
            "dtype": "f8"
           },
           "yaxis": "y"
          },
          {
           "customdata": [
            [
             "AAPL",
             "Apple Inc."
            ],
            [
             "AMZN",
             "Amazon.com Inc."
            ],
            [
             "CSCO",
             "Cisco Systems Inc."
            ],
            [
             "GOOGL",
             "Alphabet Inc."
            ],
            [
             "IBM",
             "International Business Machines Corporation"
            ],
            [
             "INTC",
             "Intel Corporation"
            ],
            [
             "MSFT",
             "Microsoft Corporation"
            ]
           ],
           "hovertemplate": "sector=%{x}<br>year=2007<br>avg_close=%{y}<br>stock=%{customdata[0]}<br>company=%{customdata[1]}<extra></extra>",
           "ids": [
            "AAPL",
            "AMZN",
            "CSCO",
            "GOOGL",
            "IBM",
            "INTC",
            "MSFT"
           ],
           "legendgroup": "Technology",
           "marker": {
            "color": "#EF553B",
            "pattern": {
             "shape": ""
            }
           },
           "name": "Technology",
           "orientation": "v",
           "showlegend": true,
           "textposition": "auto",
           "type": "bar",
           "x": [
            "Technology",
            "Technology",
            "Technology",
            "Technology",
            "Technology",
            "Technology",
            "Technology"
           ],
           "xaxis": "x",
           "y": {
            "bdata": "mCRVcydTMkCuQZLVr85QQLtgvw8qkzxA+3uLt0/acEBUKdnnb3NaQNzLqerYaTdAcGgAUmJyPkA=",
            "dtype": "f8"
           },
           "yaxis": "y"
          },
          {
           "customdata": [
            [
             "BA",
             "Boeing Company"
            ],
            [
             "CAT",
             "Caterpillar Inc."
            ],
            [
             "GE",
             "General Electric Company"
            ],
            [
             "MMM",
             "3M Company"
            ]
           ],
           "hovertemplate": "sector=%{x}<br>year=2007<br>avg_close=%{y}<br>stock=%{customdata[0]}<br>company=%{customdata[1]}<extra></extra>",
           "ids": [
            "BA",
            "CAT",
            "GE",
            "MMM"
           ],
           "legendgroup": "Industrials",
           "marker": {
            "color": "#00cc96",
            "pattern": {
             "shape": ""
            }
           },
           "name": "Industrials",
           "orientation": "v",
           "showlegend": true,
           "textposition": "auto",
           "type": "bar",
           "x": [
            "Industrials",
            "Industrials",
            "Industrials",
            "Industrials"
           ],
           "xaxis": "x",
           "y": {
            "bdata": "ZUcONnGjV0Dw3UDuECtSQCorSqLS50JAWVkmHBoAVUA=",
            "dtype": "f8"
           },
           "yaxis": "y"
          },
          {
           "customdata": [
            [
             "CVX",
             "Chevron Corporation"
            ],
            [
             "XOM",
             "Exxon Mobil Corporation"
            ]
           ],
           "hovertemplate": "sector=%{x}<br>year=2007<br>avg_close=%{y}<br>stock=%{customdata[0]}<br>company=%{customdata[1]}<extra></extra>",
           "ids": [
            "CVX",
            "XOM"
           ],
           "legendgroup": "Energy",
           "marker": {
            "color": "#ab63fa",
            "pattern": {
             "shape": ""
            }
           },
           "name": "Energy",
           "orientation": "v",
           "showlegend": true,
           "textposition": "auto",
           "type": "bar",
           "x": [
            "Energy",
            "Energy"
           ],
           "xaxis": "x",
           "y": {
            "bdata": "TgNlHBibVED+jkWde85UQA==",
            "dtype": "f8"
           },
           "yaxis": "y"
          },
          {
           "customdata": [
            [
             "DIS",
             "Walt Disney Company"
            ],
            [
             "HD",
             "Home Depot Inc."
            ],
            [
             "KO",
             "Coca-Cola Company"
            ],
            [
             "MCD",
             "McDonald's Corporation"
            ],
            [
             "NKE",
             "Nike Inc."
            ],
            [
             "PG",
             "Procter & Gamble Co."
            ],
            [
             "WMT",
             "Walmart Inc."
            ]
           ],
           "hovertemplate": "sector=%{x}<br>year=2007<br>avg_close=%{y}<br>stock=%{customdata[0]}<br>company=%{customdata[1]}<extra></extra>",
           "ids": [
            "DIS",
            "HD",
            "KO",
            "MCD",
            "NKE",
            "PG",
            "WMT"
           ],
           "legendgroup": "Consumer",
           "marker": {
            "color": "#FFA15A",
            "pattern": {
             "shape": ""
            }
           },
           "name": "Consumer",
           "orientation": "v",
           "showlegend": true,
           "textposition": "auto",
           "type": "bar",
           "x": [
            "Consumer",
            "Consumer",
            "Consumer",
            "Consumer",
            "Consumer",
            "Consumer",
            "Consumer"
           ],
           "xaxis": "x",
           "y": {
            "bdata": "EXQhRH4jQUBYhuF4TwxCQK5wEhRc5TpAnKxTf8V9SUCp8uxwEE8sQC8sF5jQfVBAgQ1ntgN3R0A=",
            "dtype": "f8"
           },
           "yaxis": "y"
          },
          {
           "customdata": [
            [
             "JNJ",
             "Johnson & Johnson"
            ],
            [
             "MRK",
             "Merck & Co. Inc."
            ],
            [
             "PFE",
             "Pfizer Inc."
            ],
            [
             "UNH",
             "UnitedHealth Group Incorporated"
            ]
           ],
           "hovertemplate": "sector=%{x}<br>year=2007<br>avg_close=%{y}<br>stock=%{customdata[0]}<br>company=%{customdata[1]}<extra></extra>",
           "ids": [
            "JNJ",
            "MRK",
            "PFE",
            "UNH"
           ],
           "legendgroup": "Healthcare",
           "marker": {
            "color": "#19d3f3",
            "pattern": {
             "shape": ""
            }
           },
           "name": "Healthcare",
           "orientation": "v",
           "showlegend": true,
           "textposition": "auto",
           "type": "bar",
           "x": [
            "Healthcare",
            "Healthcare",
            "Healthcare",
            "Healthcare"
           ],
           "xaxis": "x",
           "y": {
            "bdata": "VzrO6yT9T0BWmpNK9FRJQL17jXwxQTlAAp51v7kdSkA=",
            "dtype": "f8"
           },
           "yaxis": "y"
          },
          {
           "customdata": [
            [
             "TRV",
             "Travelers Companies Inc."
            ]
           ],
           "hovertemplate": "sector=%{x}<br>year=2007<br>avg_close=%{y}<br>stock=%{customdata[0]}<br>company=%{customdata[1]}<extra></extra>",
           "ids": [
            "TRV"
           ],
           "legendgroup": "Financial",
           "marker": {
            "color": "#FF6692",
            "pattern": {
             "shape": ""
            }
           },
           "name": "Financial",
           "orientation": "v",
           "showlegend": true,
           "textposition": "auto",
           "type": "bar",
           "x": [
            "Financial"
           ],
           "xaxis": "x",
           "y": {
            "bdata": "4+kJL1VISkA=",
            "dtype": "f8"
           },
           "yaxis": "y"
          },
          {
           "customdata": [
            [
             "UTX",
             "United Technologies Corporation"
            ]
           ],
           "hovertemplate": "sector=%{x}<br>year=2007<br>avg_close=%{y}<br>stock=%{customdata[0]}<br>company=%{customdata[1]}<extra></extra>",
           "ids": [
            "UTX"
           ],
           "legendgroup": "Aerospace",
           "marker": {
            "color": "#B6E880",
            "pattern": {
             "shape": ""
            }
           },
           "name": "Aerospace",
           "orientation": "v",
           "showlegend": true,
           "textposition": "auto",
           "type": "bar",
           "x": [
            "Aerospace"
           ],
           "xaxis": "x",
           "y": {
            "bdata": "SSkE3urhUUA=",
            "dtype": "f8"
           },
           "yaxis": "y"
          },
          {
           "customdata": [
            [
             "VZ",
             "Verizon Communications Inc."
            ]
           ],
           "hovertemplate": "sector=%{x}<br>year=2007<br>avg_close=%{y}<br>stock=%{customdata[0]}<br>company=%{customdata[1]}<extra></extra>",
           "ids": [
            "VZ"
           ],
           "legendgroup": "Communication",
           "marker": {
            "color": "#FF97FF",
            "pattern": {
             "shape": ""
            }
           },
           "name": "Communication",
           "orientation": "v",
           "showlegend": true,
           "textposition": "auto",
           "type": "bar",
           "x": [
            "Communication"
           ],
           "xaxis": "x",
           "y": {
            "bdata": "G9S7rNKcREA=",
            "dtype": "f8"
           },
           "yaxis": "y"
          }
         ],
         "name": "2007"
        },
        {
         "data": [
          {
           "customdata": [
            [
             "AABA",
             "Altaba"
            ],
            [
             "AXP",
             "American Express Company"
            ],
            [
             "GS",
             "Goldman Sachs Group Inc."
            ],
            [
             "JPM",
             "JPMorgan Chase & Co."
            ]
           ],
           "hovertemplate": "sector=%{x}<br>year=2008<br>avg_close=%{y}<br>stock=%{customdata[0]}<br>company=%{customdata[1]}<extra></extra>",
           "ids": [
            "AABA",
            "AXP",
            "GS",
            "JPM"
           ],
           "legendgroup": "Financials",
           "marker": {
            "color": "#636efa",
            "pattern": {
             "shape": ""
            }
           },
           "name": "Financials",
           "orientation": "v",
           "showlegend": true,
           "textposition": "auto",
           "type": "bar",
           "x": [
            "Financials",
            "Financials",
            "Financials",
            "Financials"
           ],
           "xaxis": "x",
           "y": {
            "bdata": "O/+mmqcnNUCE+HSeAfhCQChVqF3eAmNAQrZl09XpQ0A=",
            "dtype": "f8"
           },
           "yaxis": "y"
          },
          {
           "customdata": [
            [
             "AAPL",
             "Apple Inc."
            ],
            [
             "AMZN",
             "Amazon.com Inc."
            ],
            [
             "CSCO",
             "Cisco Systems Inc."
            ],
            [
             "GOOGL",
             "Alphabet Inc."
            ],
            [
             "IBM",
             "International Business Machines Corporation"
            ],
            [
             "INTC",
             "Intel Corporation"
            ],
            [
             "MSFT",
             "Microsoft Corporation"
            ]
           ],
           "hovertemplate": "sector=%{x}<br>year=2008<br>avg_close=%{y}<br>stock=%{customdata[0]}<br>company=%{customdata[1]}<extra></extra>",
           "ids": [
            "AAPL",
            "AMZN",
            "CSCO",
            "GOOGL",
            "IBM",
            "INTC",
            "MSFT"
           ],
           "legendgroup": "Technology",
           "marker": {
            "color": "#EF553B",
            "pattern": {
             "shape": ""
            }
           },
           "name": "Technology",
           "orientation": "v",
           "showlegend": true,
           "textposition": "auto",
           "type": "bar",
           "x": [
            "Technology",
            "Technology",
            "Technology",
            "Technology",
            "Technology",
            "Technology",
            "Technology"
           ],
           "xaxis": "x",
           "y": {
            "bdata": "an9kOV5INEAggk2RUnhRQIlFYvQCezZAvuavrhQVbUD4Gzmp34JbQFo5+1329TNAXYwkNcOlOkA=",
            "dtype": "f8"
           },
           "yaxis": "y"
          },
          {
           "customdata": [
            [
             "BA",
             "Boeing Company"
            ],
            [
             "CAT",
             "Caterpillar Inc."
            ],
            [
             "GE",
             "General Electric Company"
            ],
            [
             "MMM",
             "3M Company"
            ]
           ],
           "hovertemplate": "sector=%{x}<br>year=2008<br>avg_close=%{y}<br>stock=%{customdata[0]}<br>company=%{customdata[1]}<extra></extra>",
           "ids": [
            "BA",
            "CAT",
            "GE",
            "MMM"
           ],
           "legendgroup": "Industrials",
           "marker": {
            "color": "#00cc96",
            "pattern": {
             "shape": ""
            }
           },
           "name": "Industrials",
           "orientation": "v",
           "showlegend": true,
           "textposition": "auto",
           "type": "bar",
           "x": [
            "Industrials",
            "Industrials",
            "Industrials",
            "Industrials"
           ],
           "xaxis": "x",
           "y": {
            "bdata": "VE/4hQqcUECw7yYGyDpQQLrooosu+jtA5RjVE37hUUA=",
            "dtype": "f8"
           },
           "yaxis": "y"
          },
          {
           "customdata": [
            [
             "CVX",
             "Chevron Corporation"
            ],
            [
             "XOM",
             "Exxon Mobil Corporation"
            ]
           ],
           "hovertemplate": "sector=%{x}<br>year=2008<br>avg_close=%{y}<br>stock=%{customdata[0]}<br>company=%{customdata[1]}<extra></extra>",
           "ids": [
            "CVX",
            "XOM"
           ],
           "legendgroup": "Energy",
           "marker": {
            "color": "#ab63fa",
            "pattern": {
             "shape": ""
            }
           },
           "name": "Energy",
           "orientation": "v",
           "showlegend": true,
           "textposition": "auto",
           "type": "bar",
           "x": [
            "Energy",
            "Energy"
           ],
           "xaxis": "x",
           "y": {
            "bdata": "xzRI6GE5VUCYEI5iqatUQA==",
            "dtype": "f8"
           },
           "yaxis": "y"
          },
          {
           "customdata": [
            [
             "DIS",
             "Walt Disney Company"
            ],
            [
             "HD",
             "Home Depot Inc."
            ],
            [
             "KO",
             "Coca-Cola Company"
            ],
            [
             "MCD",
             "McDonald's Corporation"
            ],
            [
             "NKE",
             "Nike Inc."
            ],
            [
             "PG",
             "Procter & Gamble Co."
            ],
            [
             "WMT",
             "Walmart Inc."
            ]
           ],
           "hovertemplate": "sector=%{x}<br>year=2008<br>avg_close=%{y}<br>stock=%{customdata[0]}<br>company=%{customdata[1]}<extra></extra>",
           "ids": [
            "DIS",
            "HD",
            "KO",
            "MCD",
            "NKE",
            "PG",
            "WMT"
           ],
           "legendgroup": "Consumer",
           "marker": {
            "color": "#FFA15A",
            "pattern": {
             "shape": ""
            }
           },
           "name": "Consumer",
           "orientation": "v",
           "showlegend": true,
           "textposition": "auto",
           "type": "bar",
           "x": [
            "Consumer",
            "Consumer",
            "Consumer",
            "Consumer",
            "Consumer",
            "Consumer",
            "Consumer"
           ],
           "xaxis": "x",
           "y": {
            "bdata": "rWLSKiatPUBy3mj9P6c5QLDeunsz6DpAu3Guwh4ITUBhpSIIuwcuQIl/jfjXiFBA6+D/1kCGS0A=",
            "dtype": "f8"
           },
           "yaxis": "y"
          },
          {
           "customdata": [
            [
             "JNJ",
             "Johnson & Johnson"
            ],
            [
             "MRK",
             "Merck & Co. Inc."
            ],
            [
             "PFE",
             "Pfizer Inc."
            ],
            [
             "UNH",
             "UnitedHealth Group Incorporated"
            ]
           ],
           "hovertemplate": "sector=%{x}<br>year=2008<br>avg_close=%{y}<br>stock=%{customdata[0]}<br>company=%{customdata[1]}<extra></extra>",
           "ids": [
            "JNJ",
            "MRK",
            "PFE",
            "UNH"
           ],
           "legendgroup": "Healthcare",
           "marker": {
            "color": "#19d3f3",
            "pattern": {
             "shape": ""
            }
           },
           "name": "Healthcare",
           "orientation": "v",
           "showlegend": true,
           "textposition": "auto",
           "type": "bar",
           "x": [
            "Healthcare",
            "Healthcare",
            "Healthcare",
            "Healthcare"
           ],
           "xaxis": "x",
           "y": {
            "bdata": "V3J7fn86UEDKExu3hI1CQMk/ePEqTzNAr5lfbpUkQEA=",
            "dtype": "f8"
           },
           "yaxis": "y"
          },
          {
           "customdata": [
            [
             "TRV",
             "Travelers Companies Inc."
            ]
           ],
           "hovertemplate": "sector=%{x}<br>year=2008<br>avg_close=%{y}<br>stock=%{customdata[0]}<br>company=%{customdata[1]}<extra></extra>",
           "ids": [
            "TRV"
           ],
           "legendgroup": "Financial",
           "marker": {
            "color": "#FF6692",
            "pattern": {
             "shape": ""
            }
           },
           "name": "Financial",
           "orientation": "v",
           "showlegend": true,
           "textposition": "auto",
           "type": "bar",
           "x": [
            "Financial"
           ],
           "xaxis": "x",
           "y": {
            "bdata": "CEex1DWWRkA=",
            "dtype": "f8"
           },
           "yaxis": "y"
          },
          {
           "customdata": [
            [
             "UTX",
             "United Technologies Corporation"
            ]
           ],
           "hovertemplate": "sector=%{x}<br>year=2008<br>avg_close=%{y}<br>stock=%{customdata[0]}<br>company=%{customdata[1]}<extra></extra>",
           "ids": [
            "UTX"
           ],
           "legendgroup": "Aerospace",
           "marker": {
            "color": "#B6E880",
            "pattern": {
             "shape": ""
            }
           },
           "name": "Aerospace",
           "orientation": "v",
           "showlegend": true,
           "textposition": "auto",
           "type": "bar",
           "x": [
            "Aerospace"
           ],
           "xaxis": "x",
           "y": {
            "bdata": "g/GNOerxT0A=",
            "dtype": "f8"
           },
           "yaxis": "y"
          },
          {
           "customdata": [
            [
             "VZ",
             "Verizon Communications Inc."
            ]
           ],
           "hovertemplate": "sector=%{x}<br>year=2008<br>avg_close=%{y}<br>stock=%{customdata[0]}<br>company=%{customdata[1]}<extra></extra>",
           "ids": [
            "VZ"
           ],
           "legendgroup": "Communication",
           "marker": {
            "color": "#FF97FF",
            "pattern": {
             "shape": ""
            }
           },
           "name": "Communication",
           "orientation": "v",
           "showlegend": true,
           "textposition": "auto",
           "type": "bar",
           "x": [
            "Communication"
           ],
           "xaxis": "x",
           "y": {
            "bdata": "1xfHRbRyQUA=",
            "dtype": "f8"
           },
           "yaxis": "y"
          }
         ],
         "name": "2008"
        },
        {
         "data": [
          {
           "customdata": [
            [
             "AABA",
             "Altaba"
            ],
            [
             "AXP",
             "American Express Company"
            ],
            [
             "GS",
             "Goldman Sachs Group Inc."
            ],
            [
             "JPM",
             "JPMorgan Chase & Co."
            ]
           ],
           "hovertemplate": "sector=%{x}<br>year=2009<br>avg_close=%{y}<br>stock=%{customdata[0]}<br>company=%{customdata[1]}<extra></extra>",
           "ids": [
            "AABA",
            "AXP",
            "GS",
            "JPM"
           ],
           "legendgroup": "Financials",
           "marker": {
            "color": "#636efa",
            "pattern": {
             "shape": ""
            }
           },
           "name": "Financials",
           "orientation": "v",
           "showlegend": true,
           "textposition": "auto",
           "type": "bar",
           "x": [
            "Financials",
            "Financials",
            "Financials",
            "Financials"
           ],
           "xaxis": "x",
           "y": {
            "bdata": "c/uDDJW9LUAMiE2lIfc6QNoSlKffmmFAJu1rWCC/QUA=",
            "dtype": "f8"
           },
           "yaxis": "y"
          },
          {
           "customdata": [
            [
             "AAPL",
             "Apple Inc."
            ],
            [
             "AMZN",
             "Amazon.com Inc."
            ],
            [
             "CSCO",
             "Cisco Systems Inc."
            ],
            [
             "GOOGL",
             "Alphabet Inc."
            ],
            [
             "IBM",
             "International Business Machines Corporation"
            ],
            [
             "INTC",
             "Intel Corporation"
            ],
            [
             "MSFT",
             "Microsoft Corporation"
            ]
           ],
           "hovertemplate": "sector=%{x}<br>year=2009<br>avg_close=%{y}<br>stock=%{customdata[0]}<br>company=%{customdata[1]}<extra></extra>",
           "ids": [
            "AAPL",
            "AMZN",
            "CSCO",
            "GOOGL",
            "IBM",
            "INTC",
            "MSFT"
           ],
           "legendgroup": "Technology",
           "marker": {
            "color": "#EF553B",
            "pattern": {
             "shape": ""
            }
           },
           "name": "Technology",
           "orientation": "v",
           "showlegend": true,
           "textposition": "auto",
           "type": "bar",
           "x": [
            "Technology",
            "Technology",
            "Technology",
            "Technology",
            "Technology",
            "Technology",
            "Technology"
           ],
           "xaxis": "x",
           "y": {
            "bdata": "xOG19xT5NEAHo2NtCdJVQOQ4juM4/jNAu3MIVA2Ca0Bnz1wznFFbQG033TkEGjFAoQ7qoA76NkA=",
            "dtype": "f8"
           },
           "yaxis": "y"
          },
          {
           "customdata": [
            [
             "BA",
             "Boeing Company"
            ],
            [
             "CAT",
             "Caterpillar Inc."
            ],
            [
             "GE",
             "General Electric Company"
            ],
            [
             "MMM",
             "3M Company"
            ]
           ],
           "hovertemplate": "sector=%{x}<br>year=2009<br>avg_close=%{y}<br>stock=%{customdata[0]}<br>company=%{customdata[1]}<extra></extra>",
           "ids": [
            "BA",
            "CAT",
            "GE",
            "MMM"
           ],
           "legendgroup": "Industrials",
           "marker": {
            "color": "#00cc96",
            "pattern": {
             "shape": ""
            }
           },
           "name": "Industrials",
           "orientation": "v",
           "showlegend": true,
           "textposition": "auto",
           "type": "bar",
           "x": [
            "Industrials",
            "Industrials",
            "Industrials",
            "Industrials"
           ],
           "xaxis": "x",
           "y": {
            "bdata": "mV62MviPRkAQPyR3pQJFQMJRTyi4tSpAO0xdbn/4T0A=",
            "dtype": "f8"
           },
           "yaxis": "y"
          },
          {
           "customdata": [
            [
             "CVX",
             "Chevron Corporation"
            ],
            [
             "XOM",
             "Exxon Mobil Corporation"
            ]
           ],
           "hovertemplate": "sector=%{x}<br>year=2009<br>avg_close=%{y}<br>stock=%{customdata[0]}<br>company=%{customdata[1]}<extra></extra>",
           "ids": [
            "CVX",
            "XOM"
           ],
           "legendgroup": "Energy",
           "marker": {
            "color": "#ab63fa",
            "pattern": {
             "shape": ""
            }
           },
           "name": "Energy",
           "orientation": "v",
           "showlegend": true,
           "textposition": "auto",
           "type": "bar",
           "x": [
            "Energy",
            "Energy"
           ],
           "xaxis": "x",
           "y": {
            "bdata": "mtR8ADuLUUAWyOfilLxRQA==",
            "dtype": "f8"
           },
           "yaxis": "y"
          },
          {
           "customdata": [
            [
             "DIS",
             "Walt Disney Company"
            ],
            [
             "HD",
             "Home Depot Inc."
            ],
            [
             "KO",
             "Coca-Cola Company"
            ],
            [
             "MCD",
             "McDonald's Corporation"
            ],
            [
             "NKE",
             "Nike Inc."
            ],
            [
             "PG",
             "Procter & Gamble Co."
            ],
            [
             "WMT",
             "Walmart Inc."
            ]
           ],
           "hovertemplate": "sector=%{x}<br>year=2009<br>avg_close=%{y}<br>stock=%{customdata[0]}<br>company=%{customdata[1]}<extra></extra>",
           "ids": [
            "DIS",
            "HD",
            "KO",
            "MCD",
            "NKE",
            "PG",
            "WMT"
           ],
           "legendgroup": "Consumer",
           "marker": {
            "color": "#FFA15A",
            "pattern": {
             "shape": ""
            }
           },
           "name": "Consumer",
           "orientation": "v",
           "showlegend": true,
           "textposition": "auto",
           "type": "bar",
           "x": [
            "Consumer",
            "Consumer",
            "Consumer",
            "Consumer",
            "Consumer",
            "Consumer",
            "Consumer"
           ],
           "xaxis": "x",
           "y": {
            "bdata": "m4UmNR+AOEDHNjlg0AI5QH4a2+SAYThAPFktb4y4TEC+ED8kd2UrQAfRdtOdO0tAzy4gNpVGSUA=",
            "dtype": "f8"
           },
           "yaxis": "y"
          },
          {
           "customdata": [
            [
             "JNJ",
             "Johnson & Johnson"
            ],
            [
             "MRK",
             "Merck & Co. Inc."
            ],
            [
             "PFE",
             "Pfizer Inc."
            ],
            [
             "UNH",
             "UnitedHealth Group Incorporated"
            ]
           ],
           "hovertemplate": "sector=%{x}<br>year=2009<br>avg_close=%{y}<br>stock=%{customdata[0]}<br>company=%{customdata[1]}<extra></extra>",
           "ids": [
            "JNJ",
            "MRK",
            "PFE",
            "UNH"
           ],
           "legendgroup": "Healthcare",
           "marker": {
            "color": "#19d3f3",
            "pattern": {
             "shape": ""
            }
           },
           "name": "Healthcare",
           "orientation": "v",
           "showlegend": true,
           "textposition": "auto",
           "type": "bar",
           "x": [
            "Healthcare",
            "Healthcare",
            "Healthcare",
            "Healthcare"
           ],
           "xaxis": "x",
           "y": {
            "bdata": "BNgZNwvlTEBqH6qSJ5I9QJGugsThdS9AiqIoiqI4OkA=",
            "dtype": "f8"
           },
           "yaxis": "y"
          },
          {
           "customdata": [
            [
             "TRV",
             "Travelers Companies Inc."
            ]
           ],
           "hovertemplate": "sector=%{x}<br>year=2009<br>avg_close=%{y}<br>stock=%{customdata[0]}<br>company=%{customdata[1]}<extra></extra>",
           "ids": [
            "TRV"
           ],
           "legendgroup": "Financial",
           "marker": {
            "color": "#FF6692",
            "pattern": {
             "shape": ""
            }
           },
           "name": "Financial",
           "orientation": "v",
           "showlegend": true,
           "textposition": "auto",
           "type": "bar",
           "x": [
            "Financial"
           ],
           "xaxis": "x",
           "y": {
            "bdata": "7IybhSYdRkA=",
            "dtype": "f8"
           },
           "yaxis": "y"
          },
          {
           "customdata": [
            [
             "UTX",
             "United Technologies Corporation"
            ]
           ],
           "hovertemplate": "sector=%{x}<br>year=2009<br>avg_close=%{y}<br>stock=%{customdata[0]}<br>company=%{customdata[1]}<extra></extra>",
           "ids": [
            "UTX"
           ],
           "legendgroup": "Aerospace",
           "marker": {
            "color": "#B6E880",
            "pattern": {
             "shape": ""
            }
           },
           "name": "Aerospace",
           "orientation": "v",
           "showlegend": true,
           "textposition": "auto",
           "type": "bar",
           "x": [
            "Aerospace"
           ],
           "xaxis": "x",
           "y": {
            "bdata": "r+u6ruuSS0A=",
            "dtype": "f8"
           },
           "yaxis": "y"
          },
          {
           "customdata": [
            [
             "VZ",
             "Verizon Communications Inc."
            ]
           ],
           "hovertemplate": "sector=%{x}<br>year=2009<br>avg_close=%{y}<br>stock=%{customdata[0]}<br>company=%{customdata[1]}<extra></extra>",
           "ids": [
            "VZ"
           ],
           "legendgroup": "Communication",
           "marker": {
            "color": "#FF97FF",
            "pattern": {
             "shape": ""
            }
           },
           "name": "Communication",
           "orientation": "v",
           "showlegend": true,
           "textposition": "auto",
           "type": "bar",
           "x": [
            "Communication"
           ],
           "xaxis": "x",
           "y": {
            "bdata": "In5I7kp1PkA=",
            "dtype": "f8"
           },
           "yaxis": "y"
          }
         ],
         "name": "2009"
        },
        {
         "data": [
          {
           "customdata": [
            [
             "AABA",
             "Altaba"
            ],
            [
             "AXP",
             "American Express Company"
            ],
            [
             "GS",
             "Goldman Sachs Group Inc."
            ],
            [
             "JPM",
             "JPMorgan Chase & Co."
            ]
           ],
           "hovertemplate": "sector=%{x}<br>year=2010<br>avg_close=%{y}<br>stock=%{customdata[0]}<br>company=%{customdata[1]}<extra></extra>",
           "ids": [
            "AABA",
            "AXP",
            "GS",
            "JPM"
           ],
           "legendgroup": "Financials",
           "marker": {
            "color": "#636efa",
            "pattern": {
             "shape": ""
            }
           },
           "name": "Financials",
           "orientation": "v",
           "showlegend": true,
           "textposition": "auto",
           "type": "bar",
           "x": [
            "Financials",
            "Financials",
            "Financials",
            "Financials"
           ],
           "xaxis": "x",
           "y": {
            "bdata": "K3vn8uorL0BmHrP+t9REQCOLGO9XZWNAdRUkDq8tREA=",
            "dtype": "f8"
           },
           "yaxis": "y"
          },
          {
           "customdata": [
            [
             "AAPL",
             "Apple Inc."
            ],
            [
             "AMZN",
             "Amazon.com Inc."
            ],
            [
             "CSCO",
             "Cisco Systems Inc."
            ],
            [
             "GOOGL",
             "Alphabet Inc."
            ],
            [
             "IBM",
             "International Business Machines Corporation"
            ],
            [
             "INTC",
             "Intel Corporation"
            ],
            [
             "MSFT",
             "Microsoft Corporation"
            ]
           ],
           "hovertemplate": "sector=%{x}<br>year=2010<br>avg_close=%{y}<br>stock=%{customdata[0]}<br>company=%{customdata[1]}<extra></extra>",
           "ids": [
            "AAPL",
            "AMZN",
            "CSCO",
            "GOOGL",
            "IBM",
            "INTC",
            "MSFT"
           ],
           "legendgroup": "Technology",
           "marker": {
            "color": "#EF553B",
            "pattern": {
             "shape": ""
            }
           },
           "name": "Technology",
           "orientation": "v",
           "showlegend": true,
           "textposition": "auto",
           "type": "bar",
           "x": [
            "Technology",
            "Technology",
            "Technology",
            "Technology",
            "Technology",
            "Technology",
            "Technology"
           ],
           "xaxis": "x",
           "y": {
            "bdata": "gZLT6iyRQkASP1JgbWVhQCdq8u41MjdAImkl+TfAcEDUEwpurXtgQI7MzpGuwzRAzczMzMwMO0A=",
            "dtype": "f8"
           },
           "yaxis": "y"
          },
          {
           "customdata": [
            [
             "BA",
             "Boeing Company"
            ],
            [
             "CAT",
             "Caterpillar Inc."
            ],
            [
             "GE",
             "General Electric Company"
            ],
            [
             "MMM",
             "3M Company"
            ]
           ],
           "hovertemplate": "sector=%{x}<br>year=2010<br>avg_close=%{y}<br>stock=%{customdata[0]}<br>company=%{customdata[1]}<extra></extra>",
           "ids": [
            "BA",
            "CAT",
            "GE",
            "MMM"
           ],
           "legendgroup": "Industrials",
           "marker": {
            "color": "#00cc96",
            "pattern": {
             "shape": ""
            }
           },
           "name": "Industrials",
           "orientation": "v",
           "showlegend": true,
           "textposition": "auto",
           "type": "bar",
           "x": [
            "Industrials",
            "Industrials",
            "Industrials",
            "Industrials"
           ],
           "xaxis": "x",
           "y": {
            "bdata": "vhA/JHeFUEA7EXoH3kpRQHh3d3d3hzBAbhaa1HzoVEA=",
            "dtype": "f8"
           },
           "yaxis": "y"
          },
          {
           "customdata": [
            [
             "CVX",
             "Chevron Corporation"
            ],
            [
             "XOM",
             "Exxon Mobil Corporation"
            ]
           ],
           "hovertemplate": "sector=%{x}<br>year=2010<br>avg_close=%{y}<br>stock=%{customdata[0]}<br>company=%{customdata[1]}<extra></extra>",
           "ids": [
            "CVX",
            "XOM"
           ],
           "legendgroup": "Energy",
           "marker": {
            "color": "#ab63fa",
            "pattern": {
             "shape": ""
            }
           },
           "name": "Energy",
           "orientation": "v",
           "showlegend": true,
           "textposition": "auto",
           "type": "bar",
           "x": [
            "Energy",
            "Energy"
           ],
           "xaxis": "x",
           "y": {
            "bdata": "Ggn45tWIU0AS8M2riT9QQA==",
            "dtype": "f8"
           },
           "yaxis": "y"
          },
          {
           "customdata": [
            [
             "DIS",
             "Walt Disney Company"
            ],
            [
             "HD",
             "Home Depot Inc."
            ],
            [
             "KO",
             "Coca-Cola Company"
            ],
            [
             "MCD",
             "McDonald's Corporation"
            ],
            [
             "NKE",
             "Nike Inc."
            ],
            [
             "PG",
             "Procter & Gamble Co."
            ],
            [
             "WMT",
             "Walmart Inc."
            ]
           ],
           "hovertemplate": "sector=%{x}<br>year=2010<br>avg_close=%{y}<br>stock=%{customdata[0]}<br>company=%{customdata[1]}<extra></extra>",
           "ids": [
            "DIS",
            "HD",
            "KO",
            "MCD",
            "NKE",
            "PG",
            "WMT"
           ],
           "legendgroup": "Consumer",
           "marker": {
            "color": "#FFA15A",
            "pattern": {
             "shape": ""
            }
           },
           "name": "Consumer",
           "orientation": "v",
           "showlegend": true,
           "textposition": "auto",
           "type": "bar",
           "x": [
            "Consumer",
            "Consumer",
            "Consumer",
            "Consumer",
            "Consumer",
            "Consumer",
            "Consumer"
           ],
           "xaxis": "x",
           "y": {
            "bdata": "DyWEdYsSQUBErToRejc/QIPRsbYERTxAc5KNP1+6UUA/9mM/9qMyQG8jatWJEE9Aa+JZ0UiASkA=",
            "dtype": "f8"
           },
           "yaxis": "y"
          },
          {
           "customdata": [
            [
             "JNJ",
             "Johnson & Johnson"
            ],
            [
             "MRK",
             "Merck & Co. Inc."
            ],
            [
             "PFE",
             "Pfizer Inc."
            ],
            [
             "UNH",
             "UnitedHealth Group Incorporated"
            ]
           ],
           "hovertemplate": "sector=%{x}<br>year=2010<br>avg_close=%{y}<br>stock=%{customdata[0]}<br>company=%{customdata[1]}<extra></extra>",
           "ids": [
            "JNJ",
            "MRK",
            "PFE",
            "UNH"
           ],
           "legendgroup": "Healthcare",
           "marker": {
            "color": "#19d3f3",
            "pattern": {
             "shape": ""
            }
           },
           "name": "Healthcare",
           "orientation": "v",
           "showlegend": true,
           "textposition": "auto",
           "type": "bar",
           "x": [
            "Healthcare",
            "Healthcare",
            "Healthcare",
            "Healthcare"
           ],
           "xaxis": "x",
           "y": {
            "bdata": "+jtZLW8UT0CSjT9fWgRCQKRwPQrXwzBAhiY1H8B+QEA=",
            "dtype": "f8"
           },
           "yaxis": "y"
          },
          {
           "customdata": [
            [
             "TRV",
             "Travelers Companies Inc."
            ]
           ],
           "hovertemplate": "sector=%{x}<br>year=2010<br>avg_close=%{y}<br>stock=%{customdata[0]}<br>company=%{customdata[1]}<extra></extra>",
           "ids": [
            "TRV"
           ],
           "legendgroup": "Financial",
           "marker": {
            "color": "#FF6692",
            "pattern": {
             "shape": ""
            }
           },
           "name": "Financial",
           "orientation": "v",
           "showlegend": true,
           "textposition": "auto",
           "type": "bar",
           "x": [
            "Financial"
           ],
           "xaxis": "x",
           "y": {
            "bdata": "SO5KFbv3SUA=",
            "dtype": "f8"
           },
           "yaxis": "y"
          },
          {
           "customdata": [
            [
             "UTX",
             "United Technologies Corporation"
            ]
           ],
           "hovertemplate": "sector=%{x}<br>year=2010<br>avg_close=%{y}<br>stock=%{customdata[0]}<br>company=%{customdata[1]}<extra></extra>",
           "ids": [
            "UTX"
           ],
           "legendgroup": "Aerospace",
           "marker": {
            "color": "#B6E880",
            "pattern": {
             "shape": ""
            }
           },
           "name": "Aerospace",
           "orientation": "v",
           "showlegend": true,
           "textposition": "auto",
           "type": "bar",
           "x": [
            "Aerospace"
           ],
           "xaxis": "x",
           "y": {
            "bdata": "sPiKr/jaUUA=",
            "dtype": "f8"
           },
           "yaxis": "y"
          },
          {
           "customdata": [
            [
             "VZ",
             "Verizon Communications Inc."
            ]
           ],
           "hovertemplate": "sector=%{x}<br>year=2010<br>avg_close=%{y}<br>stock=%{customdata[0]}<br>company=%{customdata[1]}<extra></extra>",
           "ids": [
            "VZ"
           ],
           "legendgroup": "Communication",
           "marker": {
            "color": "#FF97FF",
            "pattern": {
             "shape": ""
            }
           },
           "name": "Communication",
           "orientation": "v",
           "showlegend": true,
           "textposition": "auto",
           "type": "bar",
           "x": [
            "Communication"
           ],
           "xaxis": "x",
           "y": {
            "bdata": "vnk18axoPkA=",
            "dtype": "f8"
           },
           "yaxis": "y"
          }
         ],
         "name": "2010"
        },
        {
         "data": [
          {
           "customdata": [
            [
             "AABA",
             "Altaba"
            ],
            [
             "AXP",
             "American Express Company"
            ],
            [
             "GS",
             "Goldman Sachs Group Inc."
            ],
            [
             "JPM",
             "JPMorgan Chase & Co."
            ]
           ],
           "hovertemplate": "sector=%{x}<br>year=2011<br>avg_close=%{y}<br>stock=%{customdata[0]}<br>company=%{customdata[1]}<extra></extra>",
           "ids": [
            "AABA",
            "AXP",
            "GS",
            "JPM"
           ],
           "legendgroup": "Financials",
           "marker": {
            "color": "#636efa",
            "pattern": {
             "shape": ""
            }
           },
           "name": "Financials",
           "orientation": "v",
           "showlegend": true,
           "textposition": "auto",
           "type": "bar",
           "x": [
            "Financials",
            "Financials",
            "Financials",
            "Financials"
           ],
           "xaxis": "x",
           "y": {
            "bdata": "vTGCif4uL0AaCfjm1bxHQOm0gU4bWGBAEJtKQ86tQ0A=",
            "dtype": "f8"
           },
           "yaxis": "y"
          },
          {
           "customdata": [
            [
             "AAPL",
             "Apple Inc."
            ],
            [
             "AMZN",
             "Amazon.com Inc."
            ],
            [
             "CSCO",
             "Cisco Systems Inc."
            ],
            [
             "GOOGL",
             "Alphabet Inc."
            ],
            [
             "IBM",
             "International Business Machines Corporation"
            ],
            [
             "INTC",
             "Intel Corporation"
            ],
            [
             "MSFT",
             "Microsoft Corporation"
            ]
           ],
           "hovertemplate": "sector=%{x}<br>year=2011<br>avg_close=%{y}<br>stock=%{customdata[0]}<br>company=%{customdata[1]}<extra></extra>",
           "ids": [
            "AAPL",
            "AMZN",
            "CSCO",
            "GOOGL",
            "IBM",
            "INTC",
            "MSFT"
           ],
           "legendgroup": "Technology",
           "marker": {
            "color": "#EF553B",
            "pattern": {
             "shape": ""
            }
           },
           "name": "Technology",
           "orientation": "v",
           "showlegend": true,
           "textposition": "auto",
           "type": "bar",
           "x": [
            "Technology",
            "Technology",
            "Technology",
            "Technology",
            "Technology",
            "Technology",
            "Technology"
           ],
           "xaxis": "x",
           "y": {
            "bdata": "GnLuswsASkDa17BAPpVoQG6g0wY6XTFArf8tE2bMcUDn1cSzol1lQN3d3d3dDTZAOcnGny8NOkA=",
            "dtype": "f8"
           },
           "yaxis": "y"
          },
          {
           "customdata": [
            [
             "BA",
             "Boeing Company"
            ],
            [
             "CAT",
             "Caterpillar Inc."
            ],
            [
             "GE",
             "General Electric Company"
            ],
            [
             "MMM",
             "3M Company"
            ]
           ],
           "hovertemplate": "sector=%{x}<br>year=2011<br>avg_close=%{y}<br>stock=%{customdata[0]}<br>company=%{customdata[1]}<extra></extra>",
           "ids": [
            "BA",
            "CAT",
            "GE",
            "MMM"
           ],
           "legendgroup": "Industrials",
           "marker": {
            "color": "#00cc96",
            "pattern": {
             "shape": ""
            }
           },
           "name": "Industrials",
           "orientation": "v",
           "showlegend": true,
           "textposition": "auto",
           "type": "bar",
           "x": [
            "Industrials",
            "Industrials",
            "Industrials",
            "Industrials"
           ],
           "xaxis": "x",
           "y": {
            "bdata": "4yu+4ituUUAKbq2jBzdYQExdbn+QITJAWgwsJ9moVUA=",
            "dtype": "f8"
           },
           "yaxis": "y"
          },
          {
           "customdata": [
            [
             "CVX",
             "Chevron Corporation"
            ],
            [
             "XOM",
             "Exxon Mobil Corporation"
            ]
           ],
           "hovertemplate": "sector=%{x}<br>year=2011<br>avg_close=%{y}<br>stock=%{customdata[0]}<br>company=%{customdata[1]}<extra></extra>",
           "ids": [
            "CVX",
            "XOM"
           ],
           "legendgroup": "Energy",
           "marker": {
            "color": "#ab63fa",
            "pattern": {
             "shape": ""
            }
           },
           "name": "Energy",
           "orientation": "v",
           "showlegend": true,
           "textposition": "auto",
           "type": "bar",
           "x": [
            "Energy",
            "Energy"
           ],
           "xaxis": "x",
           "y": {
            "bdata": "3GcXEJs2WUBz+4MMle1TQA==",
            "dtype": "f8"
           },
           "yaxis": "y"
          },
          {
           "customdata": [
            [
             "DIS",
             "Walt Disney Company"
            ],
            [
             "HD",
             "Home Depot Inc."
            ],
            [
             "KO",
             "Coca-Cola Company"
            ],
            [
             "MCD",
             "McDonald's Corporation"
            ],
            [
             "NKE",
             "Nike Inc."
            ],
            [
             "PG",
             "Procter & Gamble Co."
            ],
            [
             "WMT",
             "Walmart Inc."
            ]
           ],
           "hovertemplate": "sector=%{x}<br>year=2011<br>avg_close=%{y}<br>stock=%{customdata[0]}<br>company=%{customdata[1]}<extra></extra>",
           "ids": [
            "DIS",
            "HD",
            "KO",
            "MCD",
            "NKE",
            "PG",
            "WMT"
           ],
           "legendgroup": "Consumer",
           "marker": {
            "color": "#FFA15A",
            "pattern": {
             "shape": ""
            }
           },
           "name": "Consumer",
           "orientation": "v",
           "showlegend": true,
           "textposition": "auto",
           "type": "bar",
           "x": [
            "Consumer",
            "Consumer",
            "Consumer",
            "Consumer",
            "Consumer",
            "Consumer",
            "Consumer"
           ],
           "xaxis": "x",
           "y": {
            "bdata": "orLD1OX+QkCItpvuHBJCQMo8Zv1vqUBAGB1rS1D+VEC31tGDo641QNqpndqp3U9AIXF47T0tS0A=",
            "dtype": "f8"
           },
           "yaxis": "y"
          },
          {
           "customdata": [
            [
             "JNJ",
             "Johnson & Johnson"
            ],
            [
             "MRK",
             "Merck & Co. Inc."
            ],
            [
             "PFE",
             "Pfizer Inc."
            ],
            [
             "UNH",
             "UnitedHealth Group Incorporated"
            ]
           ],
           "hovertemplate": "sector=%{x}<br>year=2011<br>avg_close=%{y}<br>stock=%{customdata[0]}<br>company=%{customdata[1]}<extra></extra>",
           "ids": [
            "JNJ",
            "MRK",
            "PFE",
            "UNH"
           ],
           "legendgroup": "Healthcare",
           "marker": {
            "color": "#19d3f3",
            "pattern": {
             "shape": ""
            }
           },
           "name": "Healthcare",
           "orientation": "v",
           "showlegend": true,
           "textposition": "auto",
           "type": "bar",
           "x": [
            "Healthcare",
            "Healthcare",
            "Healthcare",
            "Healthcare"
           ],
           "xaxis": "x",
           "y": {
            "bdata": "VZA4vPbGT0D1spXBfxJBQDScKQBphjNAjTKPWf87R0A=",
            "dtype": "f8"
           },
           "yaxis": "y"
          },
          {
           "customdata": [
            [
             "TRV",
             "Travelers Companies Inc."
            ]
           ],
           "hovertemplate": "sector=%{x}<br>year=2011<br>avg_close=%{y}<br>stock=%{customdata[0]}<br>company=%{customdata[1]}<extra></extra>",
           "ids": [
            "TRV"
           ],
           "legendgroup": "Financial",
           "marker": {
            "color": "#FF6692",
            "pattern": {
             "shape": ""
            }
           },
           "name": "Financial",
           "orientation": "v",
           "showlegend": true,
           "textposition": "auto",
           "type": "bar",
           "x": [
            "Financial"
           ],
           "xaxis": "x",
           "y": {
            "bdata": "Fl/xFV9BTEA=",
            "dtype": "f8"
           },
           "yaxis": "y"
          },
          {
           "customdata": [
            [
             "UTX",
             "United Technologies Corporation"
            ]
           ],
           "hovertemplate": "sector=%{x}<br>year=2011<br>avg_close=%{y}<br>stock=%{customdata[0]}<br>company=%{customdata[1]}<extra></extra>",
           "ids": [
            "UTX"
           ],
           "legendgroup": "Aerospace",
           "marker": {
            "color": "#B6E880",
            "pattern": {
             "shape": ""
            }
           },
           "name": "Aerospace",
           "orientation": "v",
           "showlegend": true,
           "textposition": "auto",
           "type": "bar",
           "x": [
            "Aerospace"
           ],
           "xaxis": "x",
           "y": {
            "bdata": "o+2mO4cAVEA=",
            "dtype": "f8"
           },
           "yaxis": "y"
          },
          {
           "customdata": [
            [
             "VZ",
             "Verizon Communications Inc."
            ]
           ],
           "hovertemplate": "sector=%{x}<br>year=2011<br>avg_close=%{y}<br>stock=%{customdata[0]}<br>company=%{customdata[1]}<extra></extra>",
           "ids": [
            "VZ"
           ],
           "legendgroup": "Communication",
           "marker": {
            "color": "#FF97FF",
            "pattern": {
             "shape": ""
            }
           },
           "name": "Communication",
           "orientation": "v",
           "showlegend": true,
           "textposition": "auto",
           "type": "bar",
           "x": [
            "Communication"
           ],
           "xaxis": "x",
           "y": {
            "bdata": "fhrb5IBRQkA=",
            "dtype": "f8"
           },
           "yaxis": "y"
          }
         ],
         "name": "2011"
        },
        {
         "data": [
          {
           "customdata": [
            [
             "AABA",
             "Altaba"
            ],
            [
             "AXP",
             "American Express Company"
            ],
            [
             "GS",
             "Goldman Sachs Group Inc."
            ],
            [
             "JPM",
             "JPMorgan Chase & Co."
            ]
           ],
           "hovertemplate": "sector=%{x}<br>year=2012<br>avg_close=%{y}<br>stock=%{customdata[0]}<br>company=%{customdata[1]}<extra></extra>",
           "ids": [
            "AABA",
            "AXP",
            "GS",
            "JPM"
           ],
           "legendgroup": "Financials",
           "marker": {
            "color": "#636efa",
            "pattern": {
             "shape": ""
            }
           },
           "name": "Financials",
           "orientation": "v",
           "showlegend": true,
           "textposition": "auto",
           "type": "bar",
           "x": [
            "Financials",
            "Financials",
            "Financials",
            "Financials"
           ],
           "xaxis": "x",
           "y": {
            "bdata": "IGPuWkL+L0AaUdobfAFMQLd6TnrfsFtAltQJaCKcQ0A=",
            "dtype": "f8"
           },
           "yaxis": "y"
          },
          {
           "customdata": [
            [
             "AAPL",
             "Apple Inc."
            ],
            [
             "AMZN",
             "Amazon.com Inc."
            ],
            [
             "CSCO",
             "Cisco Systems Inc."
            ],
            [
             "GOOGL",
             "Alphabet Inc."
            ],
            [
             "IBM",
             "International Business Machines Corporation"
            ],
            [
             "INTC",
             "Intel Corporation"
            ],
            [
             "MSFT",
             "Microsoft Corporation"
            ]
           ],
           "hovertemplate": "sector=%{x}<br>year=2012<br>avg_close=%{y}<br>stock=%{customdata[0]}<br>company=%{customdata[1]}<extra></extra>",
           "ids": [
            "AAPL",
            "AMZN",
            "CSCO",
            "GOOGL",
            "IBM",
            "INTC",
            "MSFT"
           ],
           "legendgroup": "Technology",
           "marker": {
            "color": "#EF553B",
            "pattern": {
             "shape": ""
            }
           },
           "name": "Technology",
           "orientation": "v",
           "showlegend": true,
           "textposition": "auto",
           "type": "bar",
           "x": [
            "Technology",
            "Technology",
            "Technology",
            "Technology",
            "Technology",
            "Technology",
            "Technology"
           ],
           "xaxis": "x",
           "y": {
            "bdata": "CRaHM7+SVEBgjh6/t4lrQL2kMVpHlTJAuYjvxKwbdEDQJ/Ik6ZJoQEXY8PRK+ThAilQYWwjSPUA=",
            "dtype": "f8"
           },
           "yaxis": "y"
          },
          {
           "customdata": [
            [
             "BA",
             "Boeing Company"
            ],
            [
             "CAT",
             "Caterpillar Inc."
            ],
            [
             "GE",
             "General Electric Company"
            ],
            [
             "MMM",
             "3M Company"
            ]
           ],
           "hovertemplate": "sector=%{x}<br>year=2012<br>avg_close=%{y}<br>stock=%{customdata[0]}<br>company=%{customdata[1]}<extra></extra>",
           "ids": [
            "BA",
            "CAT",
            "GE",
            "MMM"
           ],
           "legendgroup": "Industrials",
           "marker": {
            "color": "#00cc96",
            "pattern": {
             "shape": ""
            }
           },
           "name": "Industrials",
           "orientation": "v",
           "showlegend": true,
           "textposition": "auto",
           "type": "bar",
           "x": [
            "Industrials",
            "Industrials",
            "Industrials",
            "Industrials"
           ],
           "xaxis": "x",
           "y": {
            "bdata": "O3DOiNJOUkCP39v0Z3dXQLMkQE0tOzRAuqC+ZU5HVkA=",
            "dtype": "f8"
           },
           "yaxis": "y"
          },
          {
           "customdata": [
            [
             "CVX",
             "Chevron Corporation"
            ],
            [
             "XOM",
             "Exxon Mobil Corporation"
            ]
           ],
           "hovertemplate": "sector=%{x}<br>year=2012<br>avg_close=%{y}<br>stock=%{customdata[0]}<br>company=%{customdata[1]}<extra></extra>",
           "ids": [
            "CVX",
            "XOM"
           ],
           "legendgroup": "Energy",
           "marker": {
            "color": "#ab63fa",
            "pattern": {
             "shape": ""
            }
           },
           "name": "Energy",
           "orientation": "v",
           "showlegend": true,
           "textposition": "auto",
           "type": "bar",
           "x": [
            "Energy",
            "Energy"
           ],
           "xaxis": "x",
           "y": {
            "bdata": "M4rlllbjWkDEDfj8MKJVQA==",
            "dtype": "f8"
           },
           "yaxis": "y"
          },
          {
           "customdata": [
            [
             "DIS",
             "Walt Disney Company"
            ],
            [
             "HD",
             "Home Depot Inc."
            ],
            [
             "KO",
             "Coca-Cola Company"
            ],
            [
             "MCD",
             "McDonald's Corporation"
            ],
            [
             "NKE",
             "Nike Inc."
            ],
            [
             "PG",
             "Procter & Gamble Co."
            ],
            [
             "WMT",
             "Walmart Inc."
            ]
           ],
           "hovertemplate": "sector=%{x}<br>year=2012<br>avg_close=%{y}<br>stock=%{customdata[0]}<br>company=%{customdata[1]}<extra></extra>",
           "ids": [
            "DIS",
            "HD",
            "KO",
            "MCD",
            "NKE",
            "PG",
            "WMT"
           ],
           "legendgroup": "Consumer",
           "marker": {
            "color": "#FFA15A",
            "pattern": {
             "shape": ""
            }
           },
           "name": "Consumer",
           "orientation": "v",
           "showlegend": true,
           "textposition": "auto",
           "type": "bar",
           "x": [
            "Consumer",
            "Consumer",
            "Consumer",
            "Consumer",
            "Consumer",
            "Consumer",
            "Consumer"
           ],
           "xaxis": "x",
           "y": {
            "bdata": "nS6Lic03R0DzdoTTgsdKQCv2l92Th0JARcAhVKkhV0B7oBUYsjo5QJjdk4eFilBAhIHn3sPNUEA=",
            "dtype": "f8"
           },
           "yaxis": "y"
          },
          {
           "customdata": [
            [
             "JNJ",
             "Johnson & Johnson"
            ],
            [
             "MRK",
             "Merck & Co. Inc."
            ],
            [
             "PFE",
             "Pfizer Inc."
            ],
            [
             "UNH",
             "UnitedHealth Group Incorporated"
            ]
           ],
           "hovertemplate": "sector=%{x}<br>year=2012<br>avg_close=%{y}<br>stock=%{customdata[0]}<br>company=%{customdata[1]}<extra></extra>",
           "ids": [
            "JNJ",
            "MRK",
            "PFE",
            "UNH"
           ],
           "legendgroup": "Healthcare",
           "marker": {
            "color": "#19d3f3",
            "pattern": {
             "shape": ""
            }
           },
           "name": "Healthcare",
           "orientation": "v",
           "showlegend": true,
           "textposition": "auto",
           "type": "bar",
           "x": [
            "Healthcare",
            "Healthcare",
            "Healthcare",
            "Healthcare"
           ],
           "xaxis": "x",
           "y": {
            "bdata": "6QlLPKC8UED6m1CIgKNEQIp2FVJ+MjdAmyDqPgCJS0A=",
            "dtype": "f8"
           },
           "yaxis": "y"
          },
          {
           "customdata": [
            [
             "TRV",
             "Travelers Companies Inc."
            ]
           ],
           "hovertemplate": "sector=%{x}<br>year=2012<br>avg_close=%{y}<br>stock=%{customdata[0]}<br>company=%{customdata[1]}<extra></extra>",
           "ids": [
            "TRV"
           ],
           "legendgroup": "Financial",
           "marker": {
            "color": "#FF6692",
            "pattern": {
             "shape": ""
            }
           },
           "name": "Financial",
           "orientation": "v",
           "showlegend": true,
           "textposition": "auto",
           "type": "bar",
           "x": [
            "Financial"
           ],
           "xaxis": "x",
           "y": {
            "bdata": "x/SEJR4QUEA=",
            "dtype": "f8"
           },
           "yaxis": "y"
          },
          {
           "customdata": [
            [
             "UTX",
             "United Technologies Corporation"
            ]
           ],
           "hovertemplate": "sector=%{x}<br>year=2012<br>avg_close=%{y}<br>stock=%{customdata[0]}<br>company=%{customdata[1]}<extra></extra>",
           "ids": [
            "UTX"
           ],
           "legendgroup": "Aerospace",
           "marker": {
            "color": "#B6E880",
            "pattern": {
             "shape": ""
            }
           },
           "name": "Aerospace",
           "orientation": "v",
           "showlegend": true,
           "textposition": "auto",
           "type": "bar",
           "x": [
            "Aerospace"
           ],
           "xaxis": "x",
           "y": {
            "bdata": "+wW7YduiU0A=",
            "dtype": "f8"
           },
           "yaxis": "y"
          },
          {
           "customdata": [
            [
             "VZ",
             "Verizon Communications Inc."
            ]
           ],
           "hovertemplate": "sector=%{x}<br>year=2012<br>avg_close=%{y}<br>stock=%{customdata[0]}<br>company=%{customdata[1]}<extra></extra>",
           "ids": [
            "VZ"
           ],
           "legendgroup": "Communication",
           "marker": {
            "color": "#FF97FF",
            "pattern": {
             "shape": ""
            }
           },
           "name": "Communication",
           "orientation": "v",
           "showlegend": true,
           "textposition": "auto",
           "type": "bar",
           "x": [
            "Communication"
           ],
           "xaxis": "x",
           "y": {
            "bdata": "44i1+BQARUA=",
            "dtype": "f8"
           },
           "yaxis": "y"
          }
         ],
         "name": "2012"
        },
        {
         "data": [
          {
           "customdata": [
            [
             "AABA",
             "Altaba"
            ],
            [
             "AXP",
             "American Express Company"
            ],
            [
             "GS",
             "Goldman Sachs Group Inc."
            ],
            [
             "JPM",
             "JPMorgan Chase & Co."
            ]
           ],
           "hovertemplate": "sector=%{x}<br>year=2013<br>avg_close=%{y}<br>stock=%{customdata[0]}<br>company=%{customdata[1]}<extra></extra>",
           "ids": [
            "AABA",
            "AXP",
            "GS",
            "JPM"
           ],
           "legendgroup": "Financials",
           "marker": {
            "color": "#636efa",
            "pattern": {
             "shape": ""
            }
           },
           "name": "Financials",
           "orientation": "v",
           "showlegend": true,
           "textposition": "auto",
           "type": "bar",
           "x": [
            "Financials",
            "Financials",
            "Financials",
            "Financials"
           ],
           "xaxis": "x",
           "y": {
            "bdata": "4hEe4RG+O0Am7WtYIDdSQFM7tVM7k2NAnrlmOFPwSUA=",
            "dtype": "f8"
           },
           "yaxis": "y"
          },
          {
           "customdata": [
            [
             "AAPL",
             "Apple Inc."
            ],
            [
             "AMZN",
             "Amazon.com Inc."
            ],
            [
             "CSCO",
             "Cisco Systems Inc."
            ],
            [
             "GOOGL",
             "Alphabet Inc."
            ],
            [
             "IBM",
             "International Business Machines Corporation"
            ],
            [
             "INTC",
             "Intel Corporation"
            ],
            [
             "MSFT",
             "Microsoft Corporation"
            ]
           ],
           "hovertemplate": "sector=%{x}<br>year=2013<br>avg_close=%{y}<br>stock=%{customdata[0]}<br>company=%{customdata[1]}<extra></extra>",
           "ids": [
            "AAPL",
            "AMZN",
            "CSCO",
            "GOOGL",
            "IBM",
            "INTC",
            "MSFT"
           ],
           "legendgroup": "Technology",
           "marker": {
            "color": "#EF553B",
            "pattern": {
             "shape": ""
            }
           },
           "name": "Technology",
           "orientation": "v",
           "showlegend": true,
           "textposition": "auto",
           "type": "bar",
           "x": [
            "Technology",
            "Technology",
            "Technology",
            "Technology",
            "Technology",
            "Technology",
            "Technology"
           ],
           "xaxis": "x",
           "y": {
            "bdata": "oWoQbTfhUEBi6nL7g6ByQDiBEziBozZAimdFIwGpe0BSXPi4wkRoQFreGMFEDzdAb+iGbug+QEA=",
            "dtype": "f8"
           },
           "yaxis": "y"
          },
          {
           "customdata": [
            [
             "BA",
             "Boeing Company"
            ],
            [
             "CAT",
             "Caterpillar Inc."
            ],
            [
             "GE",
             "General Electric Company"
            ],
            [
             "MMM",
             "3M Company"
            ]
           ],
           "hovertemplate": "sector=%{x}<br>year=2013<br>avg_close=%{y}<br>stock=%{customdata[0]}<br>company=%{customdata[1]}<extra></extra>",
           "ids": [
            "BA",
            "CAT",
            "GE",
            "MMM"
           ],
           "legendgroup": "Industrials",
           "marker": {
            "color": "#00cc96",
            "pattern": {
             "shape": ""
            }
           },
           "name": "Industrials",
           "orientation": "v",
           "showlegend": true,
           "textposition": "auto",
           "type": "bar",
           "x": [
            "Industrials",
            "Industrials",
            "Industrials",
            "Industrials"
           ],
           "xaxis": "x",
           "y": {
            "bdata": "5M+XFgPHWUBCWLeovr1VQE6E3oG3AThAuOOhhLBuXEA=",
            "dtype": "f8"
           },
           "yaxis": "y"
          },
          {
           "customdata": [
            [
             "CVX",
             "Chevron Corporation"
            ],
            [
             "XOM",
             "Exxon Mobil Corporation"
            ]
           ],
           "hovertemplate": "sector=%{x}<br>year=2013<br>avg_close=%{y}<br>stock=%{customdata[0]}<br>company=%{customdata[1]}<extra></extra>",
           "ids": [
            "CVX",
            "XOM"
           ],
           "legendgroup": "Energy",
           "marker": {
            "color": "#ab63fa",
            "pattern": {
             "shape": ""
            }
           },
           "name": "Energy",
           "orientation": "v",
           "showlegend": true,
           "textposition": "auto",
           "type": "bar",
           "x": [
            "Energy",
            "Energy"
           ],
           "xaxis": "x",
           "y": {
            "bdata": "aIAGaIAOXkCVtK9hgaBWQA==",
            "dtype": "f8"
           },
           "yaxis": "y"
          },
          {
           "customdata": [
            [
             "DIS",
             "Walt Disney Company"
            ],
            [
             "HD",
             "Home Depot Inc."
            ],
            [
             "KO",
             "Coca-Cola Company"
            ],
            [
             "MCD",
             "McDonald's Corporation"
            ],
            [
             "NKE",
             "Nike Inc."
            ],
            [
             "PG",
             "Procter & Gamble Co."
            ],
            [
             "WMT",
             "Walmart Inc."
            ]
           ],
           "hovertemplate": "sector=%{x}<br>year=2013<br>avg_close=%{y}<br>stock=%{customdata[0]}<br>company=%{customdata[1]}<extra></extra>",
           "ids": [
            "DIS",
            "HD",
            "KO",
            "MCD",
            "NKE",
            "PG",
            "WMT"
           ],
           "legendgroup": "Consumer",
           "marker": {
            "color": "#FFA15A",
            "pattern": {
             "shape": ""
            }
           },
           "name": "Consumer",
           "orientation": "v",
           "showlegend": true,
           "textposition": "auto",
           "type": "bar",
           "x": [
            "Consumer",
            "Consumer",
            "Consumer",
            "Consumer",
            "Consumer",
            "Consumer",
            "Consumer"
           ],
           "xaxis": "x",
           "y": {
            "bdata": "tAuITaVxT0AHo2NtCZ5SQB09OOoJ1UNA6D67gNhQWEAqpEIqpDJAQFmWZVmWpVNA7xwCVYPUUkA=",
            "dtype": "f8"
           },
           "yaxis": "y"
          },
          {
           "customdata": [
            [
             "JNJ",
             "Johnson & Johnson"
            ],
            [
             "MRK",
             "Merck & Co. Inc."
            ],
            [
             "PFE",
             "Pfizer Inc."
            ],
            [
             "UNH",
             "UnitedHealth Group Incorporated"
            ]
           ],
           "hovertemplate": "sector=%{x}<br>year=2013<br>avg_close=%{y}<br>stock=%{customdata[0]}<br>company=%{customdata[1]}<extra></extra>",
           "ids": [
            "JNJ",
            "MRK",
            "PFE",
            "UNH"
           ],
           "legendgroup": "Healthcare",
           "marker": {
            "color": "#19d3f3",
            "pattern": {
             "shape": ""
            }
           },
           "name": "Healthcare",
           "orientation": "v",
           "showlegend": true,
           "textposition": "auto",
           "type": "bar",
           "x": [
            "Healthcare",
            "Healthcare",
            "Healthcare",
            "Healthcare"
           ],
           "xaxis": "x",
           "y": {
            "bdata": "CpzACZxwVUC91Vu91TNHQHWsLUF5+jxABBP9naxSUEA=",
            "dtype": "f8"
           },
           "yaxis": "y"
          },
          {
           "customdata": [
            [
             "TRV",
             "Travelers Companies Inc."
            ]
           ],
           "hovertemplate": "sector=%{x}<br>year=2013<br>avg_close=%{y}<br>stock=%{customdata[0]}<br>company=%{customdata[1]}<extra></extra>",
           "ids": [
            "TRV"
           ],
           "legendgroup": "Financial",
           "marker": {
            "color": "#FF6692",
            "pattern": {
             "shape": ""
            }
           },
           "name": "Financial",
           "orientation": "v",
           "showlegend": true,
           "textposition": "auto",
           "type": "bar",
           "x": [
            "Financial"
           ],
           "xaxis": "x",
           "y": {
            "bdata": "bSoNOffZVEA=",
            "dtype": "f8"
           },
           "yaxis": "y"
          },
          {
           "customdata": [
            [
             "UTX",
             "United Technologies Corporation"
            ]
           ],
           "hovertemplate": "sector=%{x}<br>year=2013<br>avg_close=%{y}<br>stock=%{customdata[0]}<br>company=%{customdata[1]}<extra></extra>",
           "ids": [
            "UTX"
           ],
           "legendgroup": "Aerospace",
           "marker": {
            "color": "#B6E880",
            "pattern": {
             "shape": ""
            }
           },
           "name": "Aerospace",
           "orientation": "v",
           "showlegend": true,
           "textposition": "auto",
           "type": "bar",
           "x": [
            "Aerospace"
           ],
           "xaxis": "x",
           "y": {
            "bdata": "GqABGqDFWEA=",
            "dtype": "f8"
           },
           "yaxis": "y"
          },
          {
           "customdata": [
            [
             "VZ",
             "Verizon Communications Inc."
            ]
           ],
           "hovertemplate": "sector=%{x}<br>year=2013<br>avg_close=%{y}<br>stock=%{customdata[0]}<br>company=%{customdata[1]}<extra></extra>",
           "ids": [
            "VZ"
           ],
           "legendgroup": "Communication",
           "marker": {
            "color": "#FF97FF",
            "pattern": {
             "shape": ""
            }
           },
           "name": "Communication",
           "orientation": "v",
           "showlegend": true,
           "textposition": "auto",
           "type": "bar",
           "x": [
            "Communication"
           ],
           "xaxis": "x",
           "y": {
            "bdata": "y7Isy7JUSEA=",
            "dtype": "f8"
           },
           "yaxis": "y"
          }
         ],
         "name": "2013"
        },
        {
         "data": [
          {
           "customdata": [
            [
             "AABA",
             "Altaba"
            ],
            [
             "AXP",
             "American Express Company"
            ],
            [
             "GS",
             "Goldman Sachs Group Inc."
            ],
            [
             "JPM",
             "JPMorgan Chase & Co."
            ]
           ],
           "hovertemplate": "sector=%{x}<br>year=2014<br>avg_close=%{y}<br>stock=%{customdata[0]}<br>company=%{customdata[1]}<extra></extra>",
           "ids": [
            "AABA",
            "AXP",
            "GS",
            "JPM"
           ],
           "legendgroup": "Financials",
           "marker": {
            "color": "#636efa",
            "pattern": {
             "shape": ""
            }
           },
           "name": "Financials",
           "orientation": "v",
           "showlegend": true,
           "textposition": "auto",
           "type": "bar",
           "x": [
            "Financials",
            "Financials",
            "Financials",
            "Financials"
           ],
           "xaxis": "x",
           "y": {
            "bdata": "KELvwNu4Q0DcZxcQm3JWQLjjoYSwrGVAfZdEFjEWTUA=",
            "dtype": "f8"
           },
           "yaxis": "y"
          },
          {
           "customdata": [
            [
             "AAPL",
             "Apple Inc."
            ],
            [
             "AMZN",
             "Amazon.com Inc."
            ],
            [
             "CSCO",
             "Cisco Systems Inc."
            ],
            [
             "GOOGL",
             "Alphabet Inc."
            ],
            [
             "IBM",
             "International Business Machines Corporation"
            ],
            [
             "INTC",
             "Intel Corporation"
            ],
            [
             "MSFT",
             "Microsoft Corporation"
            ]
           ],
           "hovertemplate": "sector=%{x}<br>year=2014<br>avg_close=%{y}<br>stock=%{customdata[0]}<br>company=%{customdata[1]}<extra></extra>",
           "ids": [
            "AAPL",
            "AMZN",
            "CSCO",
            "GOOGL",
            "IBM",
            "INTC",
            "MSFT"
           ],
           "legendgroup": "Technology",
           "marker": {
            "color": "#EF553B",
            "pattern": {
             "shape": ""
            }
           },
           "name": "Technology",
           "orientation": "v",
           "showlegend": true,
           "textposition": "auto",
           "type": "bar",
           "x": [
            "Technology",
            "Technology",
            "Technology",
            "Technology",
            "Technology",
            "Technology",
            "Technology"
           ],
           "xaxis": "x",
           "y": {
            "bdata": "j/AIj/AQV0AkatWJ0Mh0QA3QAA3QQDhACWHdovrAgUACVYNou8lmQNc6enDUUz5AOm2g0wY6RUA=",
            "dtype": "f8"
           },
           "yaxis": "y"
          },
          {
           "customdata": [
            [
             "BA",
             "Boeing Company"
            ],
            [
             "CAT",
             "Caterpillar Inc."
            ],
            [
             "GE",
             "General Electric Company"
            ],
            [
             "MMM",
             "3M Company"
            ]
           ],
           "hovertemplate": "sector=%{x}<br>year=2014<br>avg_close=%{y}<br>stock=%{customdata[0]}<br>company=%{customdata[1]}<extra></extra>",
           "ids": [
            "BA",
            "CAT",
            "GE",
            "MMM"
           ],
           "legendgroup": "Industrials",
           "marker": {
            "color": "#00cc96",
            "pattern": {
             "shape": ""
            }
           },
           "name": "Industrials",
           "orientation": "v",
           "showlegend": true,
           "textposition": "auto",
           "type": "bar",
           "x": [
            "Industrials",
            "Industrials",
            "Industrials",
            "Industrials"
           ],
           "xaxis": "x",
           "y": {
            "bdata": "zWPW/5YLYEBo3Cw0qS1ZQOh5nud5/jlA5lIu5VLYYUA=",
            "dtype": "f8"
           },
           "yaxis": "y"
          },
          {
           "customdata": [
            [
             "CVX",
             "Chevron Corporation"
            ],
            [
             "XOM",
             "Exxon Mobil Corporation"
            ]
           ],
           "hovertemplate": "sector=%{x}<br>year=2014<br>avg_close=%{y}<br>stock=%{customdata[0]}<br>company=%{customdata[1]}<extra></extra>",
           "ids": [
            "CVX",
            "XOM"
           ],
           "legendgroup": "Energy",
           "marker": {
            "color": "#ab63fa",
            "pattern": {
             "shape": ""
            }
           },
           "name": "Energy",
           "orientation": "v",
           "showlegend": true,
           "textposition": "auto",
           "type": "bar",
           "x": [
            "Energy",
            "Energy"
           ],
           "xaxis": "x",
           "y": {
            "bdata": "2hKUp98gXkA742ahSVFYQA==",
            "dtype": "f8"
           },
           "yaxis": "y"
          },
          {
           "customdata": [
            [
             "DIS",
             "Walt Disney Company"
            ],
            [
             "HD",
             "Home Depot Inc."
            ],
            [
             "KO",
             "Coca-Cola Company"
            ],
            [
             "MCD",
             "McDonald's Corporation"
            ],
            [
             "NKE",
             "Nike Inc."
            ],
            [
             "PG",
             "Procter & Gamble Co."
            ],
            [
             "WMT",
             "Walmart Inc."
            ]
           ],
           "hovertemplate": "sector=%{x}<br>year=2014<br>avg_close=%{y}<br>stock=%{customdata[0]}<br>company=%{customdata[1]}<extra></extra>",
           "ids": [
            "DIS",
            "HD",
            "KO",
            "MCD",
            "NKE",
            "PG",
            "WMT"
           ],
           "legendgroup": "Consumer",
           "marker": {
            "color": "#FFA15A",
            "pattern": {
             "shape": ""
            }
           },
           "name": "Consumer",
           "orientation": "v",
           "showlegend": true,
           "textposition": "auto",
           "type": "bar",
           "x": [
            "Consumer",
            "Consumer",
            "Consumer",
            "Consumer",
            "Consumer",
            "Consumer",
            "Consumer"
           ],
           "xaxis": "x",
           "y": {
            "bdata": "qp3aqZ0eVUBqMbCcZFtVQKJJzQewa0RAYdDS+WkYWEDyFV/xFTdEQGYes/63mFRAz/M8z/NUU0A=",
            "dtype": "f8"
           },
           "yaxis": "y"
          },
          {
           "customdata": [
            [
             "JNJ",
             "Johnson & Johnson"
            ],
            [
             "MRK",
             "Merck & Co. Inc."
            ],
            [
             "PFE",
             "Pfizer Inc."
            ],
            [
             "UNH",
             "UnitedHealth Group Incorporated"
            ]
           ],
           "hovertemplate": "sector=%{x}<br>year=2014<br>avg_close=%{y}<br>stock=%{customdata[0]}<br>company=%{customdata[1]}<extra></extra>",
           "ids": [
            "JNJ",
            "MRK",
            "PFE",
            "UNH"
           ],
           "legendgroup": "Healthcare",
           "marker": {
            "color": "#19d3f3",
            "pattern": {
             "shape": ""
            }
           },
           "name": "Healthcare",
           "orientation": "v",
           "showlegend": true,
           "textposition": "auto",
           "type": "bar",
           "x": [
            "Healthcare",
            "Healthcare",
            "Healthcare",
            "Healthcare"
           ],
           "xaxis": "x",
           "y": {
            "bdata": "9vpIKS40WUCHqcvtD5pMQILlJBt/Tj5AorLD1OXaVEA=",
            "dtype": "f8"
           },
           "yaxis": "y"
          },
          {
           "customdata": [
            [
             "TRV",
             "Travelers Companies Inc."
            ]
           ],
           "hovertemplate": "sector=%{x}<br>year=2014<br>avg_close=%{y}<br>stock=%{customdata[0]}<br>company=%{customdata[1]}<extra></extra>",
           "ids": [
            "TRV"
           ],
           "legendgroup": "Financial",
           "marker": {
            "color": "#FF6692",
            "pattern": {
             "shape": ""
            }
           },
           "name": "Financial",
           "orientation": "v",
           "showlegend": true,
           "textposition": "auto",
           "type": "bar",
           "x": [
            "Financial"
           ],
           "xaxis": "x",
           "y": {
            "bdata": "Sc0HsDMeV0A=",
            "dtype": "f8"
           },
           "yaxis": "y"
          },
          {
           "customdata": [
            [
             "UTX",
             "United Technologies Corporation"
            ]
           ],
           "hovertemplate": "sector=%{x}<br>year=2014<br>avg_close=%{y}<br>stock=%{customdata[0]}<br>company=%{customdata[1]}<extra></extra>",
           "ids": [
            "UTX"
           ],
           "legendgroup": "Aerospace",
           "marker": {
            "color": "#B6E880",
            "pattern": {
             "shape": ""
            }
           },
           "name": "Aerospace",
           "orientation": "v",
           "showlegend": true,
           "textposition": "auto",
           "type": "bar",
           "x": [
            "Aerospace"
           ],
           "xaxis": "x",
           "y": {
            "bdata": "sDNuFpoEXEA=",
            "dtype": "f8"
           },
           "yaxis": "y"
          },
          {
           "customdata": [
            [
             "VZ",
             "Verizon Communications Inc."
            ]
           ],
           "hovertemplate": "sector=%{x}<br>year=2014<br>avg_close=%{y}<br>stock=%{customdata[0]}<br>company=%{customdata[1]}<extra></extra>",
           "ids": [
            "VZ"
           ],
           "legendgroup": "Communication",
           "marker": {
            "color": "#FF97FF",
            "pattern": {
             "shape": ""
            }
           },
           "name": "Communication",
           "orientation": "v",
           "showlegend": true,
           "textposition": "auto",
           "type": "bar",
           "x": [
            "Communication"
           ],
           "xaxis": "x",
           "y": {
            "bdata": "+EL8kNxNSEA=",
            "dtype": "f8"
           },
           "yaxis": "y"
          }
         ],
         "name": "2014"
        },
        {
         "data": [
          {
           "customdata": [
            [
             "AABA",
             "Altaba"
            ],
            [
             "AXP",
             "American Express Company"
            ],
            [
             "GS",
             "Goldman Sachs Group Inc."
            ],
            [
             "JPM",
             "JPMorgan Chase & Co."
            ]
           ],
           "hovertemplate": "sector=%{x}<br>year=2015<br>avg_close=%{y}<br>stock=%{customdata[0]}<br>company=%{customdata[1]}<extra></extra>",
           "ids": [
            "AABA",
            "AXP",
            "GS",
            "JPM"
           ],
           "legendgroup": "Financials",
           "marker": {
            "color": "#636efa",
            "pattern": {
             "shape": ""
            }
           },
           "name": "Financials",
           "orientation": "v",
           "showlegend": true,
           "textposition": "auto",
           "type": "bar",
           "x": [
            "Financials",
            "Financials",
            "Financials",
            "Financials"
           ],
           "xaxis": "x",
           "y": {
            "bdata": "37yaeFZ8Q0BbsAVbsH1TQJscMGjpHmhAVvkuiSzqT0A=",
            "dtype": "f8"
           },
           "yaxis": "y"
          },
          {
           "customdata": [
            [
             "AAPL",
             "Apple Inc."
            ],
            [
             "AMZN",
             "Amazon.com Inc."
            ],
            [
             "CSCO",
             "Cisco Systems Inc."
            ],
            [
             "GOOGL",
             "Alphabet Inc."
            ],
            [
             "IBM",
             "International Business Machines Corporation"
            ],
            [
             "INTC",
             "Intel Corporation"
            ],
            [
             "MSFT",
             "Microsoft Corporation"
            ]
           ],
           "hovertemplate": "sector=%{x}<br>year=2015<br>avg_close=%{y}<br>stock=%{customdata[0]}<br>company=%{customdata[1]}<extra></extra>",
           "ids": [
            "AAPL",
            "AMZN",
            "CSCO",
            "GOOGL",
            "IBM",
            "INTC",
            "MSFT"
           ],
           "legendgroup": "Technology",
           "marker": {
            "color": "#EF553B",
            "pattern": {
             "shape": ""
            }
           },
           "name": "Technology",
           "orientation": "v",
           "showlegend": true,
           "textposition": "auto",
           "type": "bar",
           "x": [
            "Technology",
            "Technology",
            "Technology",
            "Technology",
            "Technology",
            "Technology",
            "Technology"
           ],
           "xaxis": "x",
           "y": {
            "bdata": "3FpHD44CXkB0NmdzNuJ9QDP4T8yR2TtABmiABuhfg0C73P4gQ2tjQDoRegfeFkBAg5bOT2NbR0A=",
            "dtype": "f8"
           },
           "yaxis": "y"
          },
          {
           "customdata": [
            [
             "BA",
             "Boeing Company"
            ],
            [
             "CAT",
             "Caterpillar Inc."
            ],
            [
             "GE",
             "General Electric Company"
            ],
            [
             "MMM",
             "3M Company"
            ]
           ],
           "hovertemplate": "sector=%{x}<br>year=2015<br>avg_close=%{y}<br>stock=%{customdata[0]}<br>company=%{customdata[1]}<extra></extra>",
           "ids": [
            "BA",
            "CAT",
            "GE",
            "MMM"
           ],
           "legendgroup": "Industrials",
           "marker": {
            "color": "#00cc96",
            "pattern": {
             "shape": ""
            }
           },
           "name": "Industrials",
           "orientation": "v",
           "showlegend": true,
           "textposition": "auto",
           "type": "bar",
           "x": [
            "Industrials",
            "Industrials",
            "Industrials",
            "Industrials"
           ],
           "xaxis": "x",
           "y": {
            "bdata": "CcrTbzDwYUBrp3Zqp7JTQC4GlpNszDpAvqdIV0GMY0A=",
            "dtype": "f8"
           },
           "yaxis": "y"
          },
          {
           "customdata": [
            [
             "CVX",
             "Chevron Corporation"
            ],
            [
             "XOM",
             "Exxon Mobil Corporation"
            ]
           ],
           "hovertemplate": "sector=%{x}<br>year=2015<br>avg_close=%{y}<br>stock=%{customdata[0]}<br>company=%{customdata[1]}<extra></extra>",
           "ids": [
            "CVX",
            "XOM"
           ],
           "legendgroup": "Energy",
           "marker": {
            "color": "#ab63fa",
            "pattern": {
             "shape": ""
            }
           },
           "name": "Energy",
           "orientation": "v",
           "showlegend": true,
           "textposition": "auto",
           "type": "bar",
           "x": [
            "Energy",
            "Energy"
           ],
           "xaxis": "x",
           "y": {
            "bdata": "Gc4UgDQXWED3niJdBbVUQA==",
            "dtype": "f8"
           },
           "yaxis": "y"
          },
          {
           "customdata": [
            [
             "DIS",
             "Walt Disney Company"
            ],
            [
             "HD",
             "Home Depot Inc."
            ],
            [
             "KO",
             "Coca-Cola Company"
            ],
            [
             "MCD",
             "McDonald's Corporation"
            ],
            [
             "NKE",
             "Nike Inc."
            ],
            [
             "PG",
             "Procter & Gamble Co."
            ],
            [
             "WMT",
             "Walmart Inc."
            ]
           ],
           "hovertemplate": "sector=%{x}<br>year=2015<br>avg_close=%{y}<br>stock=%{customdata[0]}<br>company=%{customdata[1]}<extra></extra>",
           "ids": [
            "DIS",
            "HD",
            "KO",
            "MCD",
            "NKE",
            "PG",
            "WMT"
           ],
           "legendgroup": "Consumer",
           "marker": {
            "color": "#FFA15A",
            "pattern": {
             "shape": ""
            }
           },
           "name": "Consumer",
           "orientation": "v",
           "showlegend": true,
           "textposition": "auto",
           "type": "bar",
           "x": [
            "Consumer",
            "Consumer",
            "Consumer",
            "Consumer",
            "Consumer",
            "Consumer",
            "Consumer"
           ],
           "xaxis": "x",
           "y": {
            "bdata": "F3mRF3n1WkCi4NY6ehhdQG/ohm7onkRAPIdA1SASWUDr2/FQQpBLQMQ93MM92FNAKjtMXW4fUkA=",
            "dtype": "f8"
           },
           "yaxis": "y"
          },
          {
           "customdata": [
            [
             "JNJ",
             "Johnson & Johnson"
            ],
            [
             "MRK",
             "Merck & Co. Inc."
            ],
            [
             "PFE",
             "Pfizer Inc."
            ],
            [
             "UNH",
             "UnitedHealth Group Incorporated"
            ]
           ],
           "hovertemplate": "sector=%{x}<br>year=2015<br>avg_close=%{y}<br>stock=%{customdata[0]}<br>company=%{customdata[1]}<extra></extra>",
           "ids": [
            "JNJ",
            "MRK",
            "PFE",
            "UNH"
           ],
           "legendgroup": "Healthcare",
           "marker": {
            "color": "#19d3f3",
            "pattern": {
             "shape": ""
            }
           },
           "name": "Healthcare",
           "orientation": "v",
           "showlegend": true,
           "textposition": "auto",
           "type": "bar",
           "x": [
            "Healthcare",
            "Healthcare",
            "Healthcare",
            "Healthcare"
           ],
           "xaxis": "x",
           "y": {
            "bdata": "sDNuFprwWEA7EXoH3k5MQDlg0NL52UBA5UVe5EUiXUA=",
            "dtype": "f8"
           },
           "yaxis": "y"
          },
          {
           "customdata": [
            [
             "TRV",
             "Travelers Companies Inc."
            ]
           ],
           "hovertemplate": "sector=%{x}<br>year=2015<br>avg_close=%{y}<br>stock=%{customdata[0]}<br>company=%{customdata[1]}<extra></extra>",
           "ids": [
            "TRV"
           ],
           "legendgroup": "Financial",
           "marker": {
            "color": "#FF6692",
            "pattern": {
             "shape": ""
            }
           },
           "name": "Financial",
           "orientation": "v",
           "showlegend": true,
           "textposition": "auto",
           "type": "bar",
           "x": [
            "Financial"
           ],
           "xaxis": "x",
           "y": {
            "bdata": "QrTddOdoWkA=",
            "dtype": "f8"
           },
           "yaxis": "y"
          },
          {
           "customdata": [
            [
             "UTX",
             "United Technologies Corporation"
            ]
           ],
           "hovertemplate": "sector=%{x}<br>year=2015<br>avg_close=%{y}<br>stock=%{customdata[0]}<br>company=%{customdata[1]}<extra></extra>",
           "ids": [
            "UTX"
           ],
           "legendgroup": "Aerospace",
           "marker": {
            "color": "#B6E880",
            "pattern": {
             "shape": ""
            }
           },
           "name": "Aerospace",
           "orientation": "v",
           "showlegend": true,
           "textposition": "auto",
           "type": "bar",
           "x": [
            "Aerospace"
           ],
           "xaxis": "x",
           "y": {
            "bdata": "JihPv8HIWkA=",
            "dtype": "f8"
           },
           "yaxis": "y"
          },
          {
           "customdata": [
            [
             "VZ",
             "Verizon Communications Inc."
            ]
           ],
           "hovertemplate": "sector=%{x}<br>year=2015<br>avg_close=%{y}<br>stock=%{customdata[0]}<br>company=%{customdata[1]}<extra></extra>",
           "ids": [
            "VZ"
           ],
           "legendgroup": "Communication",
           "marker": {
            "color": "#FF97FF",
            "pattern": {
             "shape": ""
            }
           },
           "name": "Communication",
           "orientation": "v",
           "showlegend": true,
           "textposition": "auto",
           "type": "bar",
           "x": [
            "Communication"
           ],
           "xaxis": "x",
           "y": {
            "bdata": "XMqlXMqVR0A=",
            "dtype": "f8"
           },
           "yaxis": "y"
          }
         ],
         "name": "2015"
        },
        {
         "data": [
          {
           "customdata": [
            [
             "AABA",
             "Altaba"
            ],
            [
             "AXP",
             "American Express Company"
            ],
            [
             "GS",
             "Goldman Sachs Group Inc."
            ],
            [
             "JPM",
             "JPMorgan Chase & Co."
            ]
           ],
           "hovertemplate": "sector=%{x}<br>year=2016<br>avg_close=%{y}<br>stock=%{customdata[0]}<br>company=%{customdata[1]}<extra></extra>",
           "ids": [
            "AABA",
            "AXP",
            "GS",
            "JPM"
           ],
           "legendgroup": "Financials",
           "marker": {
            "color": "#636efa",
            "pattern": {
             "shape": ""
            }
           },
           "name": "Financials",
           "orientation": "v",
           "showlegend": true,
           "textposition": "auto",
           "type": "bar",
           "x": [
            "Financials",
            "Financials",
            "Financials",
            "Financials"
           ],
           "xaxis": "x",
           "y": {
            "bdata": "pNkz1wzPQkAmv1jyi+VPQIfX3lOkI2VAPtzDPdxnUEA=",
            "dtype": "f8"
           },
           "yaxis": "y"
          },
          {
           "customdata": [
            [
             "AAPL",
             "Apple Inc."
            ],
            [
             "AMZN",
             "Amazon.com Inc."
            ],
            [
             "CSCO",
             "Cisco Systems Inc."
            ],
            [
             "GOOGL",
             "Alphabet Inc."
            ],
            [
             "IBM",
             "International Business Machines Corporation"
            ],
            [
             "INTC",
             "Intel Corporation"
            ],
            [
             "MSFT",
             "Microsoft Corporation"
            ]
           ],
           "hovertemplate": "sector=%{x}<br>year=2016<br>avg_close=%{y}<br>stock=%{customdata[0]}<br>company=%{customdata[1]}<extra></extra>",
           "ids": [
            "AAPL",
            "AMZN",
            "CSCO",
            "GOOGL",
            "IBM",
            "INTC",
            "MSFT"
           ],
           "legendgroup": "Technology",
           "marker": {
            "color": "#EF553B",
            "pattern": {
             "shape": ""
            }
           },
           "name": "Technology",
           "orientation": "v",
           "showlegend": true,
           "textposition": "auto",
           "type": "bar",
           "x": [
            "Technology",
            "Technology",
            "Technology",
            "Technology",
            "Technology",
            "Technology",
            "Technology"
           ],
           "xaxis": "x",
           "y": {
            "bdata": "3XTnEKgmWkAufFxhL9yFQNXyxggmyjxAf4PRsbbZh0Ci4NY6etBiQG9RfTseqkBAkzEZkzGhS0A=",
            "dtype": "f8"
           },
           "yaxis": "y"
          },
          {
           "customdata": [
            [
             "BA",
             "Boeing Company"
            ],
            [
             "CAT",
             "Caterpillar Inc."
            ],
            [
             "GE",
             "General Electric Company"
            ],
            [
             "MMM",
             "3M Company"
            ]
           ],
           "hovertemplate": "sector=%{x}<br>year=2016<br>avg_close=%{y}<br>stock=%{customdata[0]}<br>company=%{customdata[1]}<extra></extra>",
           "ids": [
            "BA",
            "CAT",
            "GE",
            "MMM"
           ],
           "legendgroup": "Industrials",
           "marker": {
            "color": "#00cc96",
            "pattern": {
             "shape": ""
            }
           },
           "name": "Industrials",
           "orientation": "v",
           "showlegend": true,
           "textposition": "auto",
           "type": "bar",
           "x": [
            "Industrials",
            "Industrials",
            "Industrials",
            "Industrials"
           ],
           "xaxis": "x",
           "y": {
            "bdata": "eZEXeZGjYEBLrMRKrKxTQMK6RfXtWD5A85j1v2UQZUA=",
            "dtype": "f8"
           },
           "yaxis": "y"
          },
          {
           "customdata": [
            [
             "CVX",
             "Chevron Corporation"
            ],
            [
             "XOM",
             "Exxon Mobil Corporation"
            ]
           ],
           "hovertemplate": "sector=%{x}<br>year=2016<br>avg_close=%{y}<br>stock=%{customdata[0]}<br>company=%{customdata[1]}<extra></extra>",
           "ids": [
            "CVX",
            "XOM"
           ],
           "legendgroup": "Energy",
           "marker": {
            "color": "#ab63fa",
            "pattern": {
             "shape": ""
            }
           },
           "name": "Energy",
           "orientation": "v",
           "showlegend": true,
           "textposition": "auto",
           "type": "bar",
           "x": [
            "Energy",
            "Energy"
           ],
           "xaxis": "x",
           "y": {
            "bdata": "srYE5en3WEAU3FpHD45VQA==",
            "dtype": "f8"
           },
           "yaxis": "y"
          },
          {
           "customdata": [
            [
             "DIS",
             "Walt Disney Company"
            ],
            [
             "HD",
             "Home Depot Inc."
            ],
            [
             "KO",
             "Coca-Cola Company"
            ],
            [
             "MCD",
             "McDonald's Corporation"
            ],
            [
             "NKE",
             "Nike Inc."
            ],
            [
             "PG",
             "Procter & Gamble Co."
            ],
            [
             "WMT",
             "Walmart Inc."
            ]
           ],
           "hovertemplate": "sector=%{x}<br>year=2016<br>avg_close=%{y}<br>stock=%{customdata[0]}<br>company=%{customdata[1]}<extra></extra>",
           "ids": [
            "DIS",
            "HD",
            "KO",
            "MCD",
            "NKE",
            "PG",
            "WMT"
           ],
           "legendgroup": "Consumer",
           "marker": {
            "color": "#FFA15A",
            "pattern": {
             "shape": ""
            }
           },
           "name": "Consumer",
           "orientation": "v",
           "showlegend": true,
           "textposition": "auto",
           "type": "bar",
           "x": [
            "Consumer",
            "Consumer",
            "Consumer",
            "Consumer",
            "Consumer",
            "Consumer",
            "Consumer"
           ],
           "xaxis": "x",
           "y": {
            "bdata": "fyer5Y1dWEDXDGcKQDpgQPYoXI/CxUVAa3ljBBMJXkDhPzFHph9MQHYvxA/J7VRA5M+XFgNjUUA=",
            "dtype": "f8"
           },
           "yaxis": "y"
          },
          {
           "customdata": [
            [
             "JNJ",
             "Johnson & Johnson"
            ],
            [
             "MRK",
             "Merck & Co. Inc."
            ],
            [
             "PFE",
             "Pfizer Inc."
            ],
            [
             "UNH",
             "UnitedHealth Group Incorporated"
            ]
           ],
           "hovertemplate": "sector=%{x}<br>year=2016<br>avg_close=%{y}<br>stock=%{customdata[0]}<br>company=%{customdata[1]}<extra></extra>",
           "ids": [
            "JNJ",
            "MRK",
            "PFE",
            "UNH"
           ],
           "legendgroup": "Healthcare",
           "marker": {
            "color": "#19d3f3",
            "pattern": {
             "shape": ""
            }
           },
           "name": "Healthcare",
           "orientation": "v",
           "showlegend": true,
           "textposition": "auto",
           "type": "bar",
           "x": [
            "Healthcare",
            "Healthcare",
            "Healthcare",
            "Healthcare"
           ],
           "xaxis": "x",
           "y": {
            "bdata": "OxF6B95mXEDL7Q8yVL5MQE6E3oG3aUBAMzMzMzPtYEA=",
            "dtype": "f8"
           },
           "yaxis": "y"
          },
          {
           "customdata": [
            [
             "TRV",
             "Travelers Companies Inc."
            ]
           ],
           "hovertemplate": "sector=%{x}<br>year=2016<br>avg_close=%{y}<br>stock=%{customdata[0]}<br>company=%{customdata[1]}<extra></extra>",
           "ids": [
            "TRV"
           ],
           "legendgroup": "Financial",
           "marker": {
            "color": "#FF6692",
            "pattern": {
             "shape": ""
            }
           },
           "name": "Financial",
           "orientation": "v",
           "showlegend": true,
           "textposition": "auto",
           "type": "bar",
           "x": [
            "Financial"
           ],
           "xaxis": "x",
           "y": {
            "bdata": "9DzP8zxbXEA=",
            "dtype": "f8"
           },
           "yaxis": "y"
          },
          {
           "customdata": [
            [
             "UTX",
             "United Technologies Corporation"
            ]
           ],
           "hovertemplate": "sector=%{x}<br>year=2016<br>avg_close=%{y}<br>stock=%{customdata[0]}<br>company=%{customdata[1]}<extra></extra>",
           "ids": [
            "UTX"
           ],
           "legendgroup": "Aerospace",
           "marker": {
            "color": "#B6E880",
            "pattern": {
             "shape": ""
            }
           },
           "name": "Aerospace",
           "orientation": "v",
           "showlegend": true,
           "textposition": "auto",
           "type": "bar",
           "x": [
            "Aerospace"
           ],
           "xaxis": "x",
           "y": {
            "bdata": "98w1w5lOWUA=",
            "dtype": "f8"
           },
           "yaxis": "y"
          },
          {
           "customdata": [
            [
             "VZ",
             "Verizon Communications Inc."
            ]
           ],
           "hovertemplate": "sector=%{x}<br>year=2016<br>avg_close=%{y}<br>stock=%{customdata[0]}<br>company=%{customdata[1]}<extra></extra>",
           "ids": [
            "VZ"
           ],
           "legendgroup": "Communication",
           "marker": {
            "color": "#FF97FF",
            "pattern": {
             "shape": ""
            }
           },
           "name": "Communication",
           "orientation": "v",
           "showlegend": true,
           "textposition": "auto",
           "type": "bar",
           "x": [
            "Communication"
           ],
           "xaxis": "x",
           "y": {
            "bdata": "JGrVidCzSUA=",
            "dtype": "f8"
           },
           "yaxis": "y"
          }
         ],
         "name": "2016"
        },
        {
         "data": [
          {
           "customdata": [
            [
             "AABA",
             "Altaba"
            ],
            [
             "AXP",
             "American Express Company"
            ],
            [
             "GS",
             "Goldman Sachs Group Inc."
            ],
            [
             "JPM",
             "JPMorgan Chase & Co."
            ]
           ],
           "hovertemplate": "sector=%{x}<br>year=2017<br>avg_close=%{y}<br>stock=%{customdata[0]}<br>company=%{customdata[1]}<extra></extra>",
           "ids": [
            "AABA",
            "AXP",
            "GS",
            "JPM"
           ],
           "legendgroup": "Financials",
           "marker": {
            "color": "#636efa",
            "pattern": {
             "shape": ""
            }
           },
           "name": "Financials",
           "orientation": "v",
           "showlegend": true,
           "textposition": "auto",
           "type": "bar",
           "x": [
            "Financials",
            "Financials",
            "Financials",
            "Financials"
           ],
           "xaxis": "x",
           "y": {
            "bdata": "N+x2X/Q+TED/irvZjSlVQAUoOa3OMm1ADZKsfnUAV0A=",
            "dtype": "f8"
           },
           "yaxis": "y"
          },
          {
           "customdata": [
            [
             "AAPL",
             "Apple Inc."
            ],
            [
             "AMZN",
             "Amazon.com Inc."
            ],
            [
             "CSCO",
             "Cisco Systems Inc."
            ],
            [
             "GOOGL",
             "Alphabet Inc."
            ],
            [
             "IBM",
             "International Business Machines Corporation"
            ],
            [
             "INTC",
             "Intel Corporation"
            ],
            [
             "MSFT",
             "Microsoft Corporation"
            ]
           ],
           "hovertemplate": "sector=%{x}<br>year=2017<br>avg_close=%{y}<br>stock=%{customdata[0]}<br>company=%{customdata[1]}<extra></extra>",
           "ids": [
            "AAPL",
            "AMZN",
            "CSCO",
            "GOOGL",
            "IBM",
            "INTC",
            "MSFT"
           ],
           "legendgroup": "Technology",
           "marker": {
            "color": "#EF553B",
            "pattern": {
             "shape": ""
            }
           },
           "name": "Technology",
           "orientation": "v",
           "showlegend": true,
           "textposition": "auto",
           "type": "bar",
           "x": [
            "Technology",
            "Technology",
            "Technology",
            "Technology",
            "Technology",
            "Technology",
            "Technology"
           ],
           "xaxis": "x",
           "y": {
            "bdata": "Cd3yFaLRYkCfxVwKVkGOQKL/gqdSkkBAF7885S9ejUBjr+cbHLVjQFOLYyi25UJAhfNlP/r+UUA=",
            "dtype": "f8"
           },
           "yaxis": "y"
          },
          {
           "customdata": [
            [
             "BA",
             "Boeing Company"
            ],
            [
             "CAT",
             "Caterpillar Inc."
            ],
            [
             "GE",
             "General Electric Company"
            ],
            [
             "MMM",
             "3M Company"
            ]
           ],
           "hovertemplate": "sector=%{x}<br>year=2017<br>avg_close=%{y}<br>stock=%{customdata[0]}<br>company=%{customdata[1]}<extra></extra>",
           "ids": [
            "BA",
            "CAT",
            "GE",
            "MMM"
           ],
           "legendgroup": "Industrials",
           "marker": {
            "color": "#00cc96",
            "pattern": {
             "shape": ""
            }
           },
           "name": "Industrials",
           "orientation": "v",
           "showlegend": true,
           "textposition": "auto",
           "type": "bar",
           "x": [
            "Industrials",
            "Industrials",
            "Industrials",
            "Industrials"
           ],
           "xaxis": "x",
           "y": {
            "bdata": "apo9Xv7nakCL6JTqLiZcQG1XC06t+DlA6eZMYWWpaUA=",
            "dtype": "f8"
           },
           "yaxis": "y"
          },
          {
           "customdata": [
            [
             "CVX",
             "Chevron Corporation"
            ],
            [
             "XOM",
             "Exxon Mobil Corporation"
            ]
           ],
           "hovertemplate": "sector=%{x}<br>year=2017<br>avg_close=%{y}<br>stock=%{customdata[0]}<br>company=%{customdata[1]}<extra></extra>",
           "ids": [
            "CVX",
            "XOM"
           ],
           "legendgroup": "Energy",
           "marker": {
            "color": "#ab63fa",
            "pattern": {
             "shape": ""
            }
           },
           "name": "Energy",
           "orientation": "v",
           "showlegend": true,
           "textposition": "auto",
           "type": "bar",
           "x": [
            "Energy",
            "Energy"
           ],
           "xaxis": "x",
           "y": {
            "bdata": "PY1+9iLdW0DpwaWLC3dUQA==",
            "dtype": "f8"
           },
           "yaxis": "y"
          },
          {
           "customdata": [
            [
             "DIS",
             "Walt Disney Company"
            ],
            [
             "HD",
             "Home Depot Inc."
            ],
            [
             "KO",
             "Coca-Cola Company"
            ],
            [
             "MCD",
             "McDonald's Corporation"
            ],
            [
             "NKE",
             "Nike Inc."
            ],
            [
             "PG",
             "Procter & Gamble Co."
            ],
            [
             "WMT",
             "Walmart Inc."
            ]
           ],
           "hovertemplate": "sector=%{x}<br>year=2017<br>avg_close=%{y}<br>stock=%{customdata[0]}<br>company=%{customdata[1]}<extra></extra>",
           "ids": [
            "DIS",
            "HD",
            "KO",
            "MCD",
            "NKE",
            "PG",
            "WMT"
           ],
           "legendgroup": "Consumer",
           "marker": {
            "color": "#FFA15A",
            "pattern": {
             "shape": ""
            }
           },
           "name": "Consumer",
           "orientation": "v",
           "showlegend": true,
           "textposition": "auto",
           "type": "bar",
           "x": [
            "Consumer",
            "Consumer",
            "Consumer",
            "Consumer",
            "Consumer",
            "Consumer",
            "Consumer"
           ],
           "xaxis": "x",
           "y": {
            "bdata": "ipyBXQSXWkDc/O4K/GpjQAk5LrGDLEZAS8Eq+D+YYkBtggHJa9pLQA08wIj4XFZAjxqnAFC9U0A=",
            "dtype": "f8"
           },
           "yaxis": "y"
          },
          {
           "customdata": [
            [
             "JNJ",
             "Johnson & Johnson"
            ],
            [
             "MRK",
             "Merck & Co. Inc."
            ],
            [
             "PFE",
             "Pfizer Inc."
            ],
            [
             "UNH",
             "UnitedHealth Group Incorporated"
            ]
           ],
           "hovertemplate": "sector=%{x}<br>year=2017<br>avg_close=%{y}<br>stock=%{customdata[0]}<br>company=%{customdata[1]}<extra></extra>",
           "ids": [
            "JNJ",
            "MRK",
            "PFE",
            "UNH"
           ],
           "legendgroup": "Healthcare",
           "marker": {
            "color": "#19d3f3",
            "pattern": {
             "shape": ""
            }
           },
           "name": "Healthcare",
           "orientation": "v",
           "showlegend": true,
           "textposition": "auto",
           "type": "bar",
           "x": [
            "Healthcare",
            "Healthcare",
            "Healthcare",
            "Healthcare"
           ],
           "xaxis": "x",
           "y": {
            "bdata": "6rUHQUI4YEBQTbPHyx9PQPQ4hJ15CUFAKlK2WaNEZ0A=",
            "dtype": "f8"
           },
           "yaxis": "y"
          },
          {
           "customdata": [
            [
             "TRV",
             "Travelers Companies Inc."
            ]
           ],
           "hovertemplate": "sector=%{x}<br>year=2017<br>avg_close=%{y}<br>stock=%{customdata[0]}<br>company=%{customdata[1]}<extra></extra>",
           "ids": [
            "TRV"
           ],
           "legendgroup": "Financial",
           "marker": {
            "color": "#FF6692",
            "pattern": {
             "shape": ""
            }
           },
           "name": "Financial",
           "orientation": "v",
           "showlegend": true,
           "textposition": "auto",
           "type": "bar",
           "x": [
            "Financial"
           ],
           "xaxis": "x",
           "y": {
            "bdata": "KV5UpGxDX0A=",
            "dtype": "f8"
           },
           "yaxis": "y"
          },
          {
           "customdata": [
            [
             "UTX",
             "United Technologies Corporation"
            ]
           ],
           "hovertemplate": "sector=%{x}<br>year=2017<br>avg_close=%{y}<br>stock=%{customdata[0]}<br>company=%{customdata[1]}<extra></extra>",
           "ids": [
            "UTX"
           ],
           "legendgroup": "Aerospace",
           "marker": {
            "color": "#B6E880",
            "pattern": {
             "shape": ""
            }
           },
           "name": "Aerospace",
           "orientation": "v",
           "showlegend": true,
           "textposition": "auto",
           "type": "bar",
           "x": [
            "Aerospace"
           ],
           "xaxis": "x",
           "y": {
            "bdata": "SSV6Gv1MXUA=",
            "dtype": "f8"
           },
           "yaxis": "y"
          },
          {
           "customdata": [
            [
             "VZ",
             "Verizon Communications Inc."
            ]
           ],
           "hovertemplate": "sector=%{x}<br>year=2017<br>avg_close=%{y}<br>stock=%{customdata[0]}<br>company=%{customdata[1]}<extra></extra>",
           "ids": [
            "VZ"
           ],
           "legendgroup": "Communication",
           "marker": {
            "color": "#FF97FF",
            "pattern": {
             "shape": ""
            }
           },
           "name": "Communication",
           "orientation": "v",
           "showlegend": true,
           "textposition": "auto",
           "type": "bar",
           "x": [
            "Communication"
           ],
           "xaxis": "x",
           "y": {
            "bdata": "9v8q9noeSEA=",
            "dtype": "f8"
           },
           "yaxis": "y"
          }
         ],
         "name": "2017"
        }
       ],
       "layout": {
        "barmode": "relative",
        "height": 450,
        "hoverlabel": {
         "font": {
          "color": "white"
         }
        },
        "legend": {
         "title": {
          "text": "sector"
         },
         "tracegroupgap": 0
        },
        "margin": {
         "t": 60
        },
        "sliders": [
         {
          "active": 0,
          "currentvalue": {
           "prefix": "year="
          },
          "len": 0.9,
          "pad": {
           "b": 10,
           "t": 60
          },
          "steps": [
           {
            "args": [
             [
              "2006"
             ],
             {
              "frame": {
               "duration": 0,
               "redraw": true
              },
              "fromcurrent": true,
              "mode": "immediate",
              "transition": {
               "duration": 0,
               "easing": "linear"
              }
             }
            ],
            "label": "2006",
            "method": "animate"
           },
           {
            "args": [
             [
              "2007"
             ],
             {
              "frame": {
               "duration": 0,
               "redraw": true
              },
              "fromcurrent": true,
              "mode": "immediate",
              "transition": {
               "duration": 0,
               "easing": "linear"
              }
             }
            ],
            "label": "2007",
            "method": "animate"
           },
           {
            "args": [
             [
              "2008"
             ],
             {
              "frame": {
               "duration": 0,
               "redraw": true
              },
              "fromcurrent": true,
              "mode": "immediate",
              "transition": {
               "duration": 0,
               "easing": "linear"
              }
             }
            ],
            "label": "2008",
            "method": "animate"
           },
           {
            "args": [
             [
              "2009"
             ],
             {
              "frame": {
               "duration": 0,
               "redraw": true
              },
              "fromcurrent": true,
              "mode": "immediate",
              "transition": {
               "duration": 0,
               "easing": "linear"
              }
             }
            ],
            "label": "2009",
            "method": "animate"
           },
           {
            "args": [
             [
              "2010"
             ],
             {
              "frame": {
               "duration": 0,
               "redraw": true
              },
              "fromcurrent": true,
              "mode": "immediate",
              "transition": {
               "duration": 0,
               "easing": "linear"
              }
             }
            ],
            "label": "2010",
            "method": "animate"
           },
           {
            "args": [
             [
              "2011"
             ],
             {
              "frame": {
               "duration": 0,
               "redraw": true
              },
              "fromcurrent": true,
              "mode": "immediate",
              "transition": {
               "duration": 0,
               "easing": "linear"
              }
             }
            ],
            "label": "2011",
            "method": "animate"
           },
           {
            "args": [
             [
              "2012"
             ],
             {
              "frame": {
               "duration": 0,
               "redraw": true
              },
              "fromcurrent": true,
              "mode": "immediate",
              "transition": {
               "duration": 0,
               "easing": "linear"
              }
             }
            ],
            "label": "2012",
            "method": "animate"
           },
           {
            "args": [
             [
              "2013"
             ],
             {
              "frame": {
               "duration": 0,
               "redraw": true
              },
              "fromcurrent": true,
              "mode": "immediate",
              "transition": {
               "duration": 0,
               "easing": "linear"
              }
             }
            ],
            "label": "2013",
            "method": "animate"
           },
           {
            "args": [
             [
              "2014"
             ],
             {
              "frame": {
               "duration": 0,
               "redraw": true
              },
              "fromcurrent": true,
              "mode": "immediate",
              "transition": {
               "duration": 0,
               "easing": "linear"
              }
             }
            ],
            "label": "2014",
            "method": "animate"
           },
           {
            "args": [
             [
              "2015"
             ],
             {
              "frame": {
               "duration": 0,
               "redraw": true
              },
              "fromcurrent": true,
              "mode": "immediate",
              "transition": {
               "duration": 0,
               "easing": "linear"
              }
             }
            ],
            "label": "2015",
            "method": "animate"
           },
           {
            "args": [
             [
              "2016"
             ],
             {
              "frame": {
               "duration": 0,
               "redraw": true
              },
              "fromcurrent": true,
              "mode": "immediate",
              "transition": {
               "duration": 0,
               "easing": "linear"
              }
             }
            ],
            "label": "2016",
            "method": "animate"
           },
           {
            "args": [
             [
              "2017"
             ],
             {
              "frame": {
               "duration": 0,
               "redraw": true
              },
              "fromcurrent": true,
              "mode": "immediate",
              "transition": {
               "duration": 0,
               "easing": "linear"
              }
             }
            ],
            "label": "2017",
            "method": "animate"
           }
          ],
          "x": 0.1,
          "xanchor": "left",
          "y": 0,
          "yanchor": "top"
         }
        ],
        "template": {
         "data": {
          "bar": [
           {
            "error_x": {
             "color": "#2a3f5f"
            },
            "error_y": {
             "color": "#2a3f5f"
            },
            "marker": {
             "line": {
              "color": "#E5ECF6",
              "width": 0.5
             },
             "pattern": {
              "fillmode": "overlay",
              "size": 10,
              "solidity": 0.2
             }
            },
            "type": "bar"
           }
          ],
          "barpolar": [
           {
            "marker": {
             "line": {
              "color": "#E5ECF6",
              "width": 0.5
             },
             "pattern": {
              "fillmode": "overlay",
              "size": 10,
              "solidity": 0.2
             }
            },
            "type": "barpolar"
           }
          ],
          "carpet": [
           {
            "aaxis": {
             "endlinecolor": "#2a3f5f",
             "gridcolor": "white",
             "linecolor": "white",
             "minorgridcolor": "white",
             "startlinecolor": "#2a3f5f"
            },
            "baxis": {
             "endlinecolor": "#2a3f5f",
             "gridcolor": "white",
             "linecolor": "white",
             "minorgridcolor": "white",
             "startlinecolor": "#2a3f5f"
            },
            "type": "carpet"
           }
          ],
          "choropleth": [
           {
            "colorbar": {
             "outlinewidth": 0,
             "ticks": ""
            },
            "type": "choropleth"
           }
          ],
          "contour": [
           {
            "colorbar": {
             "outlinewidth": 0,
             "ticks": ""
            },
            "colorscale": [
             [
              0,
              "#0d0887"
             ],
             [
              0.1111111111111111,
              "#46039f"
             ],
             [
              0.2222222222222222,
              "#7201a8"
             ],
             [
              0.3333333333333333,
              "#9c179e"
             ],
             [
              0.4444444444444444,
              "#bd3786"
             ],
             [
              0.5555555555555556,
              "#d8576b"
             ],
             [
              0.6666666666666666,
              "#ed7953"
             ],
             [
              0.7777777777777778,
              "#fb9f3a"
             ],
             [
              0.8888888888888888,
              "#fdca26"
             ],
             [
              1,
              "#f0f921"
             ]
            ],
            "type": "contour"
           }
          ],
          "contourcarpet": [
           {
            "colorbar": {
             "outlinewidth": 0,
             "ticks": ""
            },
            "type": "contourcarpet"
           }
          ],
          "heatmap": [
           {
            "colorbar": {
             "outlinewidth": 0,
             "ticks": ""
            },
            "colorscale": [
             [
              0,
              "#0d0887"
             ],
             [
              0.1111111111111111,
              "#46039f"
             ],
             [
              0.2222222222222222,
              "#7201a8"
             ],
             [
              0.3333333333333333,
              "#9c179e"
             ],
             [
              0.4444444444444444,
              "#bd3786"
             ],
             [
              0.5555555555555556,
              "#d8576b"
             ],
             [
              0.6666666666666666,
              "#ed7953"
             ],
             [
              0.7777777777777778,
              "#fb9f3a"
             ],
             [
              0.8888888888888888,
              "#fdca26"
             ],
             [
              1,
              "#f0f921"
             ]
            ],
            "type": "heatmap"
           }
          ],
          "histogram": [
           {
            "marker": {
             "pattern": {
              "fillmode": "overlay",
              "size": 10,
              "solidity": 0.2
             }
            },
            "type": "histogram"
           }
          ],
          "histogram2d": [
           {
            "colorbar": {
             "outlinewidth": 0,
             "ticks": ""
            },
            "colorscale": [
             [
              0,
              "#0d0887"
             ],
             [
              0.1111111111111111,
              "#46039f"
             ],
             [
              0.2222222222222222,
              "#7201a8"
             ],
             [
              0.3333333333333333,
              "#9c179e"
             ],
             [
              0.4444444444444444,
              "#bd3786"
             ],
             [
              0.5555555555555556,
              "#d8576b"
             ],
             [
              0.6666666666666666,
              "#ed7953"
             ],
             [
              0.7777777777777778,
              "#fb9f3a"
             ],
             [
              0.8888888888888888,
              "#fdca26"
             ],
             [
              1,
              "#f0f921"
             ]
            ],
            "type": "histogram2d"
           }
          ],
          "histogram2dcontour": [
           {
            "colorbar": {
             "outlinewidth": 0,
             "ticks": ""
            },
            "colorscale": [
             [
              0,
              "#0d0887"
             ],
             [
              0.1111111111111111,
              "#46039f"
             ],
             [
              0.2222222222222222,
              "#7201a8"
             ],
             [
              0.3333333333333333,
              "#9c179e"
             ],
             [
              0.4444444444444444,
              "#bd3786"
             ],
             [
              0.5555555555555556,
              "#d8576b"
             ],
             [
              0.6666666666666666,
              "#ed7953"
             ],
             [
              0.7777777777777778,
              "#fb9f3a"
             ],
             [
              0.8888888888888888,
              "#fdca26"
             ],
             [
              1,
              "#f0f921"
             ]
            ],
            "type": "histogram2dcontour"
           }
          ],
          "mesh3d": [
           {
            "colorbar": {
             "outlinewidth": 0,
             "ticks": ""
            },
            "type": "mesh3d"
           }
          ],
          "parcoords": [
           {
            "line": {
             "colorbar": {
              "outlinewidth": 0,
              "ticks": ""
             }
            },
            "type": "parcoords"
           }
          ],
          "pie": [
           {
            "automargin": true,
            "type": "pie"
           }
          ],
          "scatter": [
           {
            "fillpattern": {
             "fillmode": "overlay",
             "size": 10,
             "solidity": 0.2
            },
            "type": "scatter"
           }
          ],
          "scatter3d": [
           {
            "line": {
             "colorbar": {
              "outlinewidth": 0,
              "ticks": ""
             }
            },
            "marker": {
             "colorbar": {
              "outlinewidth": 0,
              "ticks": ""
             }
            },
            "type": "scatter3d"
           }
          ],
          "scattercarpet": [
           {
            "marker": {
             "colorbar": {
              "outlinewidth": 0,
              "ticks": ""
             }
            },
            "type": "scattercarpet"
           }
          ],
          "scattergeo": [
           {
            "marker": {
             "colorbar": {
              "outlinewidth": 0,
              "ticks": ""
             }
            },
            "type": "scattergeo"
           }
          ],
          "scattergl": [
           {
            "marker": {
             "colorbar": {
              "outlinewidth": 0,
              "ticks": ""
             }
            },
            "type": "scattergl"
           }
          ],
          "scattermap": [
           {
            "marker": {
             "colorbar": {
              "outlinewidth": 0,
              "ticks": ""
             }
            },
            "type": "scattermap"
           }
          ],
          "scattermapbox": [
           {
            "marker": {
             "colorbar": {
              "outlinewidth": 0,
              "ticks": ""
             }
            },
            "type": "scattermapbox"
           }
          ],
          "scatterpolar": [
           {
            "marker": {
             "colorbar": {
              "outlinewidth": 0,
              "ticks": ""
             }
            },
            "type": "scatterpolar"
           }
          ],
          "scatterpolargl": [
           {
            "marker": {
             "colorbar": {
              "outlinewidth": 0,
              "ticks": ""
             }
            },
            "type": "scatterpolargl"
           }
          ],
          "scatterternary": [
           {
            "marker": {
             "colorbar": {
              "outlinewidth": 0,
              "ticks": ""
             }
            },
            "type": "scatterternary"
           }
          ],
          "surface": [
           {
            "colorbar": {
             "outlinewidth": 0,
             "ticks": ""
            },
            "colorscale": [
             [
              0,
              "#0d0887"
             ],
             [
              0.1111111111111111,
              "#46039f"
             ],
             [
              0.2222222222222222,
              "#7201a8"
             ],
             [
              0.3333333333333333,
              "#9c179e"
             ],
             [
              0.4444444444444444,
              "#bd3786"
             ],
             [
              0.5555555555555556,
              "#d8576b"
             ],
             [
              0.6666666666666666,
              "#ed7953"
             ],
             [
              0.7777777777777778,
              "#fb9f3a"
             ],
             [
              0.8888888888888888,
              "#fdca26"
             ],
             [
              1,
              "#f0f921"
             ]
            ],
            "type": "surface"
           }
          ],
          "table": [
           {
            "cells": {
             "fill": {
              "color": "#EBF0F8"
             },
             "line": {
              "color": "white"
             }
            },
            "header": {
             "fill": {
              "color": "#C8D4E3"
             },
             "line": {
              "color": "white"
             }
            },
            "type": "table"
           }
          ]
         },
         "layout": {
          "annotationdefaults": {
           "arrowcolor": "#2a3f5f",
           "arrowhead": 0,
           "arrowwidth": 1
          },
          "autotypenumbers": "strict",
          "coloraxis": {
           "colorbar": {
            "outlinewidth": 0,
            "ticks": ""
           }
          },
          "colorscale": {
           "diverging": [
            [
             0,
             "#8e0152"
            ],
            [
             0.1,
             "#c51b7d"
            ],
            [
             0.2,
             "#de77ae"
            ],
            [
             0.3,
             "#f1b6da"
            ],
            [
             0.4,
             "#fde0ef"
            ],
            [
             0.5,
             "#f7f7f7"
            ],
            [
             0.6,
             "#e6f5d0"
            ],
            [
             0.7,
             "#b8e186"
            ],
            [
             0.8,
             "#7fbc41"
            ],
            [
             0.9,
             "#4d9221"
            ],
            [
             1,
             "#276419"
            ]
           ],
           "sequential": [
            [
             0,
             "#0d0887"
            ],
            [
             0.1111111111111111,
             "#46039f"
            ],
            [
             0.2222222222222222,
             "#7201a8"
            ],
            [
             0.3333333333333333,
             "#9c179e"
            ],
            [
             0.4444444444444444,
             "#bd3786"
            ],
            [
             0.5555555555555556,
             "#d8576b"
            ],
            [
             0.6666666666666666,
             "#ed7953"
            ],
            [
             0.7777777777777778,
             "#fb9f3a"
            ],
            [
             0.8888888888888888,
             "#fdca26"
            ],
            [
             1,
             "#f0f921"
            ]
           ],
           "sequentialminus": [
            [
             0,
             "#0d0887"
            ],
            [
             0.1111111111111111,
             "#46039f"
            ],
            [
             0.2222222222222222,
             "#7201a8"
            ],
            [
             0.3333333333333333,
             "#9c179e"
            ],
            [
             0.4444444444444444,
             "#bd3786"
            ],
            [
             0.5555555555555556,
             "#d8576b"
            ],
            [
             0.6666666666666666,
             "#ed7953"
            ],
            [
             0.7777777777777778,
             "#fb9f3a"
            ],
            [
             0.8888888888888888,
             "#fdca26"
            ],
            [
             1,
             "#f0f921"
            ]
           ]
          },
          "colorway": [
           "#636efa",
           "#EF553B",
           "#00cc96",
           "#ab63fa",
           "#FFA15A",
           "#19d3f3",
           "#FF6692",
           "#B6E880",
           "#FF97FF",
           "#FECB52"
          ],
          "font": {
           "color": "#2a3f5f"
          },
          "geo": {
           "bgcolor": "white",
           "lakecolor": "white",
           "landcolor": "#E5ECF6",
           "showlakes": true,
           "showland": true,
           "subunitcolor": "white"
          },
          "hoverlabel": {
           "align": "left"
          },
          "hovermode": "closest",
          "mapbox": {
           "style": "light"
          },
          "paper_bgcolor": "white",
          "plot_bgcolor": "#E5ECF6",
          "polar": {
           "angularaxis": {
            "gridcolor": "white",
            "linecolor": "white",
            "ticks": ""
           },
           "bgcolor": "#E5ECF6",
           "radialaxis": {
            "gridcolor": "white",
            "linecolor": "white",
            "ticks": ""
           }
          },
          "scene": {
           "xaxis": {
            "backgroundcolor": "#E5ECF6",
            "gridcolor": "white",
            "gridwidth": 2,
            "linecolor": "white",
            "showbackground": true,
            "ticks": "",
            "zerolinecolor": "white"
           },
           "yaxis": {
            "backgroundcolor": "#E5ECF6",
            "gridcolor": "white",
            "gridwidth": 2,
            "linecolor": "white",
            "showbackground": true,
            "ticks": "",
            "zerolinecolor": "white"
           },
           "zaxis": {
            "backgroundcolor": "#E5ECF6",
            "gridcolor": "white",
            "gridwidth": 2,
            "linecolor": "white",
            "showbackground": true,
            "ticks": "",
            "zerolinecolor": "white"
           }
          },
          "shapedefaults": {
           "line": {
            "color": "#2a3f5f"
           }
          },
          "ternary": {
           "aaxis": {
            "gridcolor": "white",
            "linecolor": "white",
            "ticks": ""
           },
           "baxis": {
            "gridcolor": "white",
            "linecolor": "white",
            "ticks": ""
           },
           "bgcolor": "#E5ECF6",
           "caxis": {
            "gridcolor": "white",
            "linecolor": "white",
            "ticks": ""
           }
          },
          "title": {
           "x": 0.05
          },
          "xaxis": {
           "automargin": true,
           "gridcolor": "white",
           "linecolor": "white",
           "ticks": "",
           "title": {
            "standoff": 15
           },
           "zerolinecolor": "white",
           "zerolinewidth": 2
          },
          "yaxis": {
           "automargin": true,
           "gridcolor": "white",
           "linecolor": "white",
           "ticks": "",
           "title": {
            "standoff": 15
           },
           "zerolinecolor": "white",
           "zerolinewidth": 2
          }
         }
        },
        "transition": {
         "duration": 2000
        },
        "updatemenus": [
         {
          "buttons": [
           {
            "args": [
             null,
             {
              "frame": {
               "duration": 500,
               "redraw": true
              },
              "fromcurrent": true,
              "mode": "immediate",
              "transition": {
               "duration": 500,
               "easing": "linear"
              }
             }
            ],
            "label": "&#9654;",
            "method": "animate"
           },
           {
            "args": [
             [
              null
             ],
             {
              "frame": {
               "duration": 0,
               "redraw": true
              },
              "fromcurrent": true,
              "mode": "immediate",
              "transition": {
               "duration": 0,
               "easing": "linear"
              }
             }
            ],
            "label": "&#9724;",
            "method": "animate"
           }
          ],
          "direction": "left",
          "pad": {
           "r": 10,
           "t": 70
          },
          "showactive": false,
          "type": "buttons",
          "x": 0.1,
          "xanchor": "right",
          "y": 0,
          "yanchor": "top"
         }
        ],
        "xaxis": {
         "anchor": "y",
         "categoryarray": [
          "Financials",
          "Technology",
          "Industrials",
          "Energy",
          "Consumer",
          "Healthcare",
          "Financial",
          "Aerospace",
          "Communication"
         ],
         "categoryorder": "array",
         "domain": [
          0,
          1
         ],
         "title": {
          "text": "sector"
         }
        },
        "yaxis": {
         "anchor": "x",
         "domain": [
          0,
          1
         ],
         "range": [
          0,
          2500
         ],
         "title": {
          "text": "avg_close"
         }
        }
       }
      },
      "image/png": "[encoded data removed]"
     },
     "metadata": {},
     "output_type": "display_data"
    }
   ],
   "source": [
    "import plotly.express as px\n",
    "import pandas as pd\n",
    "\n",
    "# Stock Data origin\n",
    "# Licensed CC0: public domain\n",
    "# https://www.kaggle.com/datasets/szrlee/stock-time-series-20050101-to-20171231\n",
    "\n",
    "# load DataFrame: all_stocks_2006-01-01_to_2018-01-01.csv\n",
    "df_stocks = pd.read_csv('../data/all_stocks_2006-01-01_to_2018-01-01.csv',comment='#')\n",
    "df_stocks['Date'] = pd.to_datetime(df_stocks['Date'])\n",
    "df_stocks['year'] = df_stocks['Date'].dt.year\n",
    "\n",
    "# load DataFrame sector/company data\n",
    "df_sectors = pd.read_csv('../data/stock_sector_company.csv',comment='#')\n",
    "\n",
    "# create new DataFrame: merge stock data with sector/company data based on matching 'Name' to 'stock'\n",
    "df_merged = pd.merge(df_stocks, df_sectors, left_on='Name', right_on='stock', how='left')\n",
    "\n",
    "# create new DataFrame: group values by year, stock, sector, company and get averages \n",
    "df_yearly = df_merged.groupby(['year','stock','sector','company'])[['Close', 'Volume','Open','High','Low']].mean().reset_index()\n",
    "\n",
    "# rename numeric data to note that they are averages per year now\n",
    "df_yearly.rename(columns={'Close': 'avg_close', 'Volume':'avg_volume', 'Open': 'avg_open','High': 'avg_high','Low':'avg_low'}, inplace=True)\n",
    "\n",
    "# print(df_yearly['avg_close'].min(), df_yearly['avg_close'].max())\n",
    "# for i in range(5):\n",
    "#     print(df_yearly['year'][i],df_yearly['stock'][i],df_yearly['sector'][i],df_yearly['company'][i])\n",
    "          \n",
    "# create plotly figure using Express\n",
    "fig = px.bar(df_yearly, \n",
    "             x='sector', \n",
    "             y='avg_close', \n",
    "             color='sector',\n",
    "             animation_frame=\"year\", \n",
    "             animation_group=\"stock\", \n",
    "             range_y=[0,2500],\n",
    "             hover_data=['stock','company'])\n",
    "\n",
    "fig.update_layout(\n",
    "            hoverlabel=\n",
    "            dict(\n",
    "             font_color=\"white\"\n",
    "            ) \n",
    ")\n",
    "\n",
    "# provide animation duration and figure height\n",
    "fig.update_layout(transition = {'duration': 2000}, height=450)\n",
    "\n",
    "fig.show()\n",
    "\n"
   ]
  },
  {
   "cell_type": "code",
   "execution_count": null,
   "id": "ff428588-0817-4589-aacd-706abe2123e8",
   "metadata": {},
   "outputs": [],
   "source": []
  }
 ],
 "metadata": {
  "kernelspec": {
   "display_name": "Python 3 (ipykernel)",
   "language": "python",
   "name": "python3"
  },
  "language_info": {
   "codemirror_mode": {
    "name": "ipython",
    "version": 3
   },
   "file_extension": ".py",
   "mimetype": "text/x-python",
   "name": "python",
   "nbconvert_exporter": "python",
   "pygments_lexer": "ipython3",
   "version": "3.13.3"
  }
 },
 "nbformat": 4,
 "nbformat_minor": 5
}
