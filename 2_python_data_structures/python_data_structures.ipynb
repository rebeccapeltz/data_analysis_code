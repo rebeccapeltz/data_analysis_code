{
 "cells": [
  {
   "cell_type": "markdown",
   "id": "bd37b251-e99e-43fb-ad64-417999c038ee",
   "metadata": {},
   "source": [
    "# Python Data Structures\n",
    "\n",
    "- Lists\n",
    "- Dictionaries\n",
    "- Files with CSV data\n",
    "- Iteration"
   ]
  },
  {
   "cell_type": "markdown",
   "id": "91416da5-139f-4e02-ae34-c6add87ec1f9",
   "metadata": {},
   "source": [
    "## Lists  \n",
    "Data indexed by number starting at 0"
   ]
  },
  {
   "cell_type": "code",
   "execution_count": 13,
   "id": "f1b10e74-b343-4ad1-be44-79092425dc30",
   "metadata": {},
   "outputs": [
    {
     "name": "stdout",
     "output_type": "stream",
     "text": [
      "first name:  bob \n",
      "\n",
      "last name:  mary \n",
      "\n",
      "names list:  ['bob', 'sue', 'tom', 'mary'] \n",
      "\n",
      "all names starting a 0 index:\n",
      " ['bob', 'sue', 'tom', 'mary'] \n",
      "\n",
      "all names to end of list starting at index 2:\n",
      " ['tom', 'mary'] \n",
      "\n",
      "all names starting at the beginning of the list and NOT including index 3:\n",
      " ['bob', 'sue', 'tom'] \n",
      "\n",
      "first index value and all values up to but NOT including last index value:\n",
      " ['sue', 'tom'] \n",
      "\n"
     ]
    }
   ],
   "source": [
    "names = ['bob','sue','tom','mary']\n",
    "print(\"first name: \", names[0],\"\\n\")\n",
    "print(\"last name: \", names[3],\"\\n\")\n",
    "print(\"names list: \", names,\"\\n\")\n",
    "# USING THE COLON to access values in list\n",
    "\n",
    "# all values in list \n",
    "print(\"all names starting a 0 index:\\n\", names[:],\"\\n\")\n",
    "\n",
    "# all values starting with index to end of string\n",
    "print(\"all names to end of list starting at index 2:\\n\", names[2:],\"\\n\")\n",
    "\n",
    "# all values starting at the beginning of list not including the ending index\n",
    "print(\"all names starting at the beginning of the list and NOT including index 3:\\n\", names[:3],\"\\n\")\n",
    "\n",
    "# first index included, second index ignored\n",
    "print(\"first index value and all values up to but NOT including last index value:\\n\", names[1:3],\"\\n\")"
   ]
  },
  {
   "cell_type": "markdown",
   "id": "a9ec51bf-bd14-4a87-954d-1cac81cc94fe",
   "metadata": {},
   "source": [
    "## List of Lists"
   ]
  },
  {
   "cell_type": "code",
   "execution_count": 13,
   "id": "7951849d-fb70-4f4f-b3de-2b3d7067b036",
   "metadata": {},
   "outputs": [
    {
     "name": "stdout",
     "output_type": "stream",
     "text": [
      "[['banana', 'yellow'], ['apple', 'red']]\n",
      "['banana', 'yellow']\n",
      "['apple', 'red']\n",
      "--------------------------------------------------\n",
      "Name of 1st value in 1st list:  banana\n",
      "Name of 2nd value in 2nd list:  red\n"
     ]
    }
   ],
   "source": [
    "list_of_lists = []\n",
    "list1 = ['banana','yellow']\n",
    "list2 = ['apple','red']\n",
    "list_of_lists.append(list1)\n",
    "list_of_lists.append(list2)\n",
    "\n",
    "print(list_of_lists)\n",
    "# * unpacks the list\n",
    "print(*list_of_lists, sep='\\n')\n",
    "\n",
    "print('-' * 50)\n",
    "print('Name of 1st value in 1st list: ',list_of_lists[0][0])\n",
    "print('Name of 2nd value in 2nd list: ',list_of_lists[1][1])\n"
   ]
  },
  {
   "cell_type": "markdown",
   "id": "0b19dd2b-26cf-43c0-99de-53ec1e916c23",
   "metadata": {},
   "source": [
    "## Dictionaries  \n",
    "Key Value Pairs in Curly Braces  \n",
    "Data indexed by Key"
   ]
  },
  {
   "cell_type": "code",
   "execution_count": 22,
   "id": "ef3c1dec-87b3-4ae3-b930-9897300d8610",
   "metadata": {},
   "outputs": [
    {
     "name": "stdout",
     "output_type": "stream",
     "text": [
      "dictionary:  {'name': 'bob', 'birthday': '2025-06-04'} \n",
      "\n",
      "implicit conversion to string:  2025-06-06 13:04:22.257187 <class 'datetime.datetime'> \n",
      "\n",
      "dictionary with date converted to string: {'name': 'bob', 'birthday': '2025-06-06'} \n",
      "\n",
      "bob 2025-06-06\n"
     ]
    }
   ],
   "source": [
    "import datetime\n",
    "\n",
    "# Date as a string\n",
    "data1 = {\"name\":\"bob\",\"birthday\":\"2025-06-04\"}\n",
    "print(\"dictionary: \",data1,\"\\n\")\n",
    "\n",
    "# Creating date string from actual date time value\n",
    "current_date = datetime.datetime.now()\n",
    "\n",
    "print(\"implicit conversion to string: \",current_date, type(current_date),\"\\n\")\n",
    "\n",
    "current_date_as_string = current_date.strftime('%Y-%m-%d')\n",
    "\n",
    "# Create a dictionary using just strings\n",
    "data2 = {\"name\":\"bob\",\"birthday\": current_date_as_string}\n",
    "print(\"dictionary with date converted to string:\",data2,\"\\n\")\n",
    "\n",
    "print(data1[\"name\"], data2[\"birthday\"])"
   ]
  },
  {
   "cell_type": "markdown",
   "id": "1067bc1d-d98c-443a-9c8d-24baf8cc6db0",
   "metadata": {},
   "source": [
    "## List of Dictionaries\n",
    "Key/Value pairs indexed by key"
   ]
  },
  {
   "cell_type": "code",
   "execution_count": 14,
   "id": "f43c81fb-9222-4621-920a-5b5c7aa85603",
   "metadata": {},
   "outputs": [
    {
     "name": "stdout",
     "output_type": "stream",
     "text": [
      "[{'Name': 'Bob', 'Color': 'blue'}, {'Name': 'Sue', 'Color': 'green'}]\n",
      "{'Name': 'Bob', 'Color': 'blue'}\n",
      "{'Name': 'Sue', 'Color': 'green'}\n",
      "--------------------------------------------------\n",
      "Name of 1st value in 1st dictionary:  Bob\n",
      "Name of 2nd value in 2nd dictionary:  green\n"
     ]
    }
   ],
   "source": [
    "list_of_dictionaries = []\n",
    "dict1 = {'Name':'Bob','Color':'blue'}\n",
    "dict2 = {'Name': 'Sue', 'Color':'green'}\n",
    "list_of_dictionaries.append(dict1)\n",
    "list_of_dictionaries.append(dict2)\n",
    "\n",
    "print(list_of_dictionaries)\n",
    "# * unpacks the list\n",
    "print(*list_of_dictionaries, sep='\\n')\n",
    "print('-' * 50)\n",
    "\n",
    "print('Name of 1st value in 1st dictionary: ',list_of_dictionaries[0]['Name'])\n",
    "print('Name of 2nd value in 2nd dictionary: ',list_of_dictionaries[1]['Color'])"
   ]
  },
  {
   "cell_type": "markdown",
   "id": "48efacad-be33-4faa-8b4e-828ea311c8ff",
   "metadata": {},
   "source": [
    "## CSV file format   \n",
    "Comma Separated Value"
   ]
  },
  {
   "cell_type": "markdown",
   "id": "2cf6338a-d834-4573-a4ab-87780f2994b7",
   "metadata": {},
   "source": [
    "Sample CSV Data: \n",
    "\n",
    "```csv\n",
    "name,color  \n",
    "bob,brown  \n",
    "sue,blue  \n",
    "jack,yellow  \n",
    "mary,green  \n",
    "sam,red  \n",
    "ann,pink \n",
    "```"
   ]
  },
  {
   "cell_type": "code",
   "execution_count": 23,
   "id": "af7a573d-5bf4-4490-a40f-0c63ba79b434",
   "metadata": {},
   "outputs": [
    {
     "name": "stdout",
     "output_type": "stream",
     "text": [
      "['name,color\\n', 'bob,brown\\n', 'sue,blue\\n', 'jack,yellow\\n', 'mary,green\\n', 'sam,red\\n', 'ann,pink'] \n",
      "\n",
      "name\tcolor\n",
      "bob\tbrown\n",
      "sue\tblue\n",
      "jack\tyellow\n",
      "mary\tgreen\n",
      "sam\tred\n",
      "ann\tpink\n"
     ]
    }
   ],
   "source": [
    "with open('./data/test.csv', 'r') as file:\n",
    "    rows = file.readlines()\n",
    "    print(rows, \"\\n\")\n",
    "    for row in rows:\n",
    "        # strip off the new line for each row and split at comma into a list structure\n",
    "        data = row.strip().split(',')\n",
    "        print(data[0] + '\\t' + data[1])\n"
   ]
  },
  {
   "cell_type": "markdown",
   "id": "d0a20092-9222-46dc-875b-2a9e529b70bc",
   "metadata": {},
   "source": [
    "## Iteration"
   ]
  },
  {
   "cell_type": "code",
   "execution_count": 2,
   "id": "ec554c2b-7371-4f1c-9658-976e4faee53f",
   "metadata": {},
   "outputs": [
    {
     "name": "stdout",
     "output_type": "stream",
     "text": [
      "A\n",
      "B\n",
      "C\n",
      "D\n"
     ]
    }
   ],
   "source": [
    "list = ['A','B','C','D']\n",
    "for letter in list:\n",
    "    print(letter)"
   ]
  },
  {
   "cell_type": "code",
   "execution_count": null,
   "id": "c61574fe-13b1-413d-9211-15cba41f3505",
   "metadata": {},
   "outputs": [],
   "source": []
  }
 ],
 "metadata": {
  "kernelspec": {
   "display_name": "Python 3 (ipykernel)",
   "language": "python",
   "name": "python3"
  },
  "language_info": {
   "codemirror_mode": {
    "name": "ipython",
    "version": 3
   },
   "file_extension": ".py",
   "mimetype": "text/x-python",
   "name": "python",
   "nbconvert_exporter": "python",
   "pygments_lexer": "ipython3",
   "version": "3.13.3"
  }
 },
 "nbformat": 4,
 "nbformat_minor": 5
}
