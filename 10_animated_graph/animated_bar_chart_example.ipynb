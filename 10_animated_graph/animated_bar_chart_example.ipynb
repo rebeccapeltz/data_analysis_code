{
 "cells": [
  {
   "cell_type": "code",
   "execution_count": null,
   "id": "e8c66984-98c6-45a1-b962-bf76017c3b84",
   "metadata": {},
   "outputs": [],
   "source": [
    "# Animated Bar Chart Example"
   ]
  },
  {
   "cell_type": "markdown",
   "id": "4bd0c1ed-cc56-4b3a-9a30-f14d1002fbc2",
   "metadata": {},
   "source": [
    "## Stock data"
   ]
  },
  {
   "cell_type": "code",
   "execution_count": 82,
   "id": "069cd0fd-e865-41c7-a2d4-a4567301f0ea",
   "metadata": {},
   "outputs": [
    {
     "name": "stdout",
     "output_type": "stream",
     "text": [
      "     year stock                 sector   avg_close    avg_volume    avg_open  \\\n",
      "86   2008    PG       Consumer Staples   66.138182  1.639911e+07   66.120751   \n",
      "238  2013  MSFT             Technology   32.491468  4.862585e+07   32.441270   \n",
      "301  2015   NKE      Consumer Cyclical   55.127024  7.584755e+06   55.153532   \n",
      "350  2017    GE            Industrials   25.971394  4.583987e+07   26.018760   \n",
      "168  2011   IBM             Technology  170.926111  5.759117e+06  170.731151   \n",
      "323  2016   IBM             Technology  150.514921  4.033406e+06  150.342540   \n",
      "315  2016   CAT            Industrials   78.698016  5.441235e+06   78.636032   \n",
      "306  2015   UTX  Aerospace and Defense  107.136825  4.515503e+06  107.161468   \n",
      "124  2010  AABA             Financials   15.585777  2.226781e+07   15.591195   \n",
      "76   2008  INTC             Technology   19.960791  7.174616e+07   19.973874   \n",
      "\n",
      "       avg_high     avg_low  \n",
      "86    66.957905   65.322292  \n",
      "238   32.733929   32.192024  \n",
      "301   55.562262   54.648095  \n",
      "350   26.172550   25.797520  \n",
      "168  172.196310  169.424802  \n",
      "323  151.526270  149.321468  \n",
      "315   79.421111   77.839722  \n",
      "306  107.961825  106.328730  \n",
      "124   15.779124   15.394781  \n",
      "76    20.347905   19.597273  \n"
     ]
    },
    {
     "data": {
      "application/vnd.plotly.v1+json": {
       "config": {
        "plotlyServerURL": "https://plot.ly"
       },
       "data": [
        {
         "customdata": [
          [
           "AABA"
          ],
          [
           "AXP"
          ],
          [
           "GS"
          ],
          [
           "JPM"
          ]
         ],
         "hovertemplate": "sector=%{x}<br>year=2006<br>avg_close=%{y}<br>stock=%{customdata[0]}<extra></extra>",
         "ids": [
          "AABA",
          "AXP",
          "GS",
          "JPM"
         ],
         "legendgroup": "Financials",
         "marker": {
          "color": "#636efa",
          "pattern": {
           "shape": ""
          }
         },
         "name": "Financials",
         "orientation": "v",
         "showlegend": true,
         "textposition": "auto",
         "type": "bar",
         "x": [
          "Financials",
          "Financials",
          "Financials",
          "Financials"
         ],
         "xaxis": "x",
         "y": {
          "bdata": "cJP2zCD0PUBnuMiY9TRLQAtM6JavCGRAS+pbkYf3RUA=",
          "dtype": "f8"
         },
         "yaxis": "y"
        },
        {
         "customdata": [
          [
           "AAPL"
          ],
          [
           "AMZN"
          ],
          [
           "CSCO"
          ],
          [
           "GOOGL"
          ],
          [
           "IBM"
          ],
          [
           "INTC"
          ],
          [
           "MSFT"
          ]
         ],
         "hovertemplate": "sector=%{x}<br>year=2006<br>avg_close=%{y}<br>stock=%{customdata[0]}<extra></extra>",
         "ids": [
          "AAPL",
          "AMZN",
          "CSCO",
          "GOOGL",
          "IBM",
          "INTC",
          "MSFT"
         ],
         "legendgroup": "Technology",
         "marker": {
          "color": "#EF553B",
          "pattern": {
           "shape": ""
          }
         },
         "name": "Technology",
         "orientation": "v",
         "showlegend": true,
         "textposition": "auto",
         "type": "bar",
         "x": [
          "Technology",
          "Technology",
          "Technology",
          "Technology",
          "Technology",
          "Technology",
          "Technology"
         ],
         "xaxis": "x",
         "y": {
          "bdata": "CYuQ4xI7JEDwrsCvZPRBQEGWX3P8nDVARumOm4m5aUCBDWe2A8dUQLnImPXU9DNAQPRf8FRKOkA=",
          "dtype": "f8"
         },
         "yaxis": "y"
        },
        {
         "customdata": [
          [
           "BA"
          ],
          [
           "CAT"
          ],
          [
           "GE"
          ],
          [
           "MMM"
          ]
         ],
         "hovertemplate": "sector=%{x}<br>year=2006<br>avg_close=%{y}<br>stock=%{customdata[0]}<extra></extra>",
         "ids": [
          "BA",
          "CAT",
          "GE",
          "MMM"
         ],
         "legendgroup": "Industrials",
         "marker": {
          "color": "#00cc96",
          "pattern": {
           "shape": ""
          }
         },
         "name": "Industrials",
         "orientation": "v",
         "showlegend": true,
         "textposition": "auto",
         "type": "bar",
         "x": [
          "Industrials",
          "Industrials",
          "Industrials",
          "Industrials"
         ],
         "xaxis": "x",
         "y": {
          "bdata": "GBGfF7/8U0C65StEUy1RQNwhluBVLUFAu4nwqHE6U0A=",
          "dtype": "f8"
         },
         "yaxis": "y"
        },
        {
         "customdata": [
          [
           "CVX"
          ],
          [
           "XOM"
          ]
         ],
         "hovertemplate": "sector=%{x}<br>year=2006<br>avg_close=%{y}<br>stock=%{customdata[0]}<extra></extra>",
         "ids": [
          "CVX",
          "XOM"
         ],
         "legendgroup": "Energy",
         "marker": {
          "color": "#ab63fa",
          "pattern": {
           "shape": ""
          }
         },
         "name": "Energy",
         "orientation": "v",
         "showlegend": true,
         "textposition": "auto",
         "type": "bar",
         "x": [
          "Energy",
          "Energy"
         ],
         "xaxis": "x",
         "y": {
          "bdata": "yPb1UY2IT0DSoN5llVZQQA==",
          "dtype": "f8"
         },
         "yaxis": "y"
        },
        {
         "customdata": [
          [
           "DIS"
          ],
          [
           "HD"
          ],
          [
           "KO"
          ],
          [
           "MCD"
          ]
         ],
         "hovertemplate": "sector=%{x}<br>year=2006<br>avg_close=%{y}<br>stock=%{customdata[0]}<extra></extra>",
         "ids": [
          "DIS",
          "HD",
          "KO",
          "MCD"
         ],
         "legendgroup": "Consumer Discretionary",
         "marker": {
          "color": "#FFA15A",
          "pattern": {
           "shape": ""
          }
         },
         "name": "Consumer Discretionary",
         "orientation": "v",
         "showlegend": true,
         "textposition": "auto",
         "type": "bar",
         "x": [
          "Consumer Discretionary",
          "Consumer Discretionary",
          "Consumer Discretionary",
          "Consumer Discretionary"
         ],
         "xaxis": "x",
         "y": {
          "bdata": "x9MTXqqQPUCtIHXDQyFDQJ8Xvzzl7zVA3ErHeZ1kQkA=",
          "dtype": "f8"
         },
         "yaxis": "y"
        },
        {
         "customdata": [
          [
           "JNJ"
          ]
         ],
         "hovertemplate": "sector=%{x}<br>year=2006<br>avg_close=%{y}<br>stock=%{customdata[0]}<extra></extra>",
         "ids": [
          "JNJ"
         ],
         "legendgroup": "Health Care",
         "marker": {
          "color": "#19d3f3",
          "pattern": {
           "shape": ""
          }
         },
         "name": "Health Care",
         "orientation": "v",
         "showlegend": true,
         "textposition": "auto",
         "type": "bar",
         "x": [
          "Health Care"
         ],
         "xaxis": "x",
         "y": {
          "bdata": "jDLjleIaT0A=",
          "dtype": "f8"
         },
         "yaxis": "y"
        },
        {
         "customdata": [
          [
           "MRK"
          ],
          [
           "PFE"
          ],
          [
           "UNH"
          ]
         ],
         "hovertemplate": "sector=%{x}<br>year=2006<br>avg_close=%{y}<br>stock=%{customdata[0]}<extra></extra>",
         "ids": [
          "MRK",
          "PFE",
          "UNH"
         ],
         "legendgroup": "Healthcare",
         "marker": {
          "color": "#FF6692",
          "pattern": {
           "shape": ""
          }
         },
         "name": "Healthcare",
         "orientation": "v",
         "showlegend": true,
         "textposition": "auto",
         "type": "bar",
         "x": [
          "Healthcare",
          "Healthcare",
          "Healthcare"
         ],
         "xaxis": "x",
         "y": {
          "bdata": "lEZqcQwlQ0BARP1Aba45QCrVXaxVhElA",
          "dtype": "f8"
         },
         "yaxis": "y"
        },
        {
         "customdata": [
          [
           "NKE"
          ]
         ],
         "hovertemplate": "sector=%{x}<br>year=2006<br>avg_close=%{y}<br>stock=%{customdata[0]}<extra></extra>",
         "ids": [
          "NKE"
         ],
         "legendgroup": "Consumer Cyclical",
         "marker": {
          "color": "#B6E880",
          "pattern": {
           "shape": ""
          }
         },
         "name": "Consumer Cyclical",
         "orientation": "v",
         "showlegend": true,
         "textposition": "auto",
         "type": "bar",
         "x": [
          "Consumer Cyclical"
         ],
         "xaxis": "x",
         "y": {
          "bdata": "naqOnU5TJUA=",
          "dtype": "f8"
         },
         "yaxis": "y"
        },
        {
         "customdata": [
          [
           "PG"
          ],
          [
           "WMT"
          ]
         ],
         "hovertemplate": "sector=%{x}<br>year=2006<br>avg_close=%{y}<br>stock=%{customdata[0]}<extra></extra>",
         "ids": [
          "PG",
          "WMT"
         ],
         "legendgroup": "Consumer Staples",
         "marker": {
          "color": "#FF97FF",
          "pattern": {
           "shape": ""
          }
         },
         "name": "Consumer Staples",
         "orientation": "v",
         "showlegend": true,
         "textposition": "auto",
         "type": "bar",
         "x": [
          "Consumer Staples",
          "Consumer Staples"
         ],
         "xaxis": "x",
         "y": {
          "bdata": "tJoQo6HCTUCi1IwslFBHQA==",
          "dtype": "f8"
         },
         "yaxis": "y"
        },
        {
         "customdata": [
          [
           "TRV"
          ]
         ],
         "hovertemplate": "sector=%{x}<br>year=2006<br>avg_close=%{y}<br>stock=%{customdata[0]}<extra></extra>",
         "ids": [
          "TRV"
         ],
         "legendgroup": "Financial",
         "marker": {
          "color": "#FECB52",
          "pattern": {
           "shape": ""
          }
         },
         "name": "Financial",
         "orientation": "v",
         "showlegend": true,
         "textposition": "auto",
         "type": "bar",
         "x": [
          "Financial"
         ],
         "xaxis": "x",
         "y": {
          "bdata": "izy8/jTvRkA=",
          "dtype": "f8"
         },
         "yaxis": "y"
        },
        {
         "customdata": [
          [
           "UTX"
          ]
         ],
         "hovertemplate": "sector=%{x}<br>year=2006<br>avg_close=%{y}<br>stock=%{customdata[0]}<extra></extra>",
         "ids": [
          "UTX"
         ],
         "legendgroup": "Aerospace and Defense",
         "marker": {
          "color": "#636efa",
          "pattern": {
           "shape": ""
          }
         },
         "name": "Aerospace and Defense",
         "orientation": "v",
         "showlegend": true,
         "textposition": "auto",
         "type": "bar",
         "x": [
          "Aerospace and Defense"
         ],
         "xaxis": "x",
         "y": {
          "bdata": "nFrxTDbPTkA=",
          "dtype": "f8"
         },
         "yaxis": "y"
        },
        {
         "customdata": [
          [
           "VZ"
          ]
         ],
         "hovertemplate": "sector=%{x}<br>year=2006<br>avg_close=%{y}<br>stock=%{customdata[0]}<extra></extra>",
         "ids": [
          "VZ"
         ],
         "legendgroup": "Communication Services",
         "marker": {
          "color": "#EF553B",
          "pattern": {
           "shape": ""
          }
         },
         "name": "Communication Services",
         "orientation": "v",
         "showlegend": true,
         "textposition": "auto",
         "type": "bar",
         "x": [
          "Communication Services"
         ],
         "xaxis": "x",
         "y": {
          "bdata": "0aYtC/oFQUA=",
          "dtype": "f8"
         },
         "yaxis": "y"
        }
       ],
       "frames": [
        {
         "data": [
          {
           "customdata": [
            [
             "AABA"
            ],
            [
             "AXP"
            ],
            [
             "GS"
            ],
            [
             "JPM"
            ]
           ],
           "hovertemplate": "sector=%{x}<br>year=2006<br>avg_close=%{y}<br>stock=%{customdata[0]}<extra></extra>",
           "ids": [
            "AABA",
            "AXP",
            "GS",
            "JPM"
           ],
           "legendgroup": "Financials",
           "marker": {
            "color": "#636efa",
            "pattern": {
             "shape": ""
            }
           },
           "name": "Financials",
           "orientation": "v",
           "showlegend": true,
           "textposition": "auto",
           "type": "bar",
           "x": [
            "Financials",
            "Financials",
            "Financials",
            "Financials"
           ],
           "xaxis": "x",
           "y": {
            "bdata": "cJP2zCD0PUBnuMiY9TRLQAtM6JavCGRAS+pbkYf3RUA=",
            "dtype": "f8"
           },
           "yaxis": "y"
          },
          {
           "customdata": [
            [
             "AAPL"
            ],
            [
             "AMZN"
            ],
            [
             "CSCO"
            ],
            [
             "GOOGL"
            ],
            [
             "IBM"
            ],
            [
             "INTC"
            ],
            [
             "MSFT"
            ]
           ],
           "hovertemplate": "sector=%{x}<br>year=2006<br>avg_close=%{y}<br>stock=%{customdata[0]}<extra></extra>",
           "ids": [
            "AAPL",
            "AMZN",
            "CSCO",
            "GOOGL",
            "IBM",
            "INTC",
            "MSFT"
           ],
           "legendgroup": "Technology",
           "marker": {
            "color": "#EF553B",
            "pattern": {
             "shape": ""
            }
           },
           "name": "Technology",
           "orientation": "v",
           "showlegend": true,
           "textposition": "auto",
           "type": "bar",
           "x": [
            "Technology",
            "Technology",
            "Technology",
            "Technology",
            "Technology",
            "Technology",
            "Technology"
           ],
           "xaxis": "x",
           "y": {
            "bdata": "CYuQ4xI7JEDwrsCvZPRBQEGWX3P8nDVARumOm4m5aUCBDWe2A8dUQLnImPXU9DNAQPRf8FRKOkA=",
            "dtype": "f8"
           },
           "yaxis": "y"
          },
          {
           "customdata": [
            [
             "BA"
            ],
            [
             "CAT"
            ],
            [
             "GE"
            ],
            [
             "MMM"
            ]
           ],
           "hovertemplate": "sector=%{x}<br>year=2006<br>avg_close=%{y}<br>stock=%{customdata[0]}<extra></extra>",
           "ids": [
            "BA",
            "CAT",
            "GE",
            "MMM"
           ],
           "legendgroup": "Industrials",
           "marker": {
            "color": "#00cc96",
            "pattern": {
             "shape": ""
            }
           },
           "name": "Industrials",
           "orientation": "v",
           "showlegend": true,
           "textposition": "auto",
           "type": "bar",
           "x": [
            "Industrials",
            "Industrials",
            "Industrials",
            "Industrials"
           ],
           "xaxis": "x",
           "y": {
            "bdata": "GBGfF7/8U0C65StEUy1RQNwhluBVLUFAu4nwqHE6U0A=",
            "dtype": "f8"
           },
           "yaxis": "y"
          },
          {
           "customdata": [
            [
             "CVX"
            ],
            [
             "XOM"
            ]
           ],
           "hovertemplate": "sector=%{x}<br>year=2006<br>avg_close=%{y}<br>stock=%{customdata[0]}<extra></extra>",
           "ids": [
            "CVX",
            "XOM"
           ],
           "legendgroup": "Energy",
           "marker": {
            "color": "#ab63fa",
            "pattern": {
             "shape": ""
            }
           },
           "name": "Energy",
           "orientation": "v",
           "showlegend": true,
           "textposition": "auto",
           "type": "bar",
           "x": [
            "Energy",
            "Energy"
           ],
           "xaxis": "x",
           "y": {
            "bdata": "yPb1UY2IT0DSoN5llVZQQA==",
            "dtype": "f8"
           },
           "yaxis": "y"
          },
          {
           "customdata": [
            [
             "DIS"
            ],
            [
             "HD"
            ],
            [
             "KO"
            ],
            [
             "MCD"
            ]
           ],
           "hovertemplate": "sector=%{x}<br>year=2006<br>avg_close=%{y}<br>stock=%{customdata[0]}<extra></extra>",
           "ids": [
            "DIS",
            "HD",
            "KO",
            "MCD"
           ],
           "legendgroup": "Consumer Discretionary",
           "marker": {
            "color": "#FFA15A",
            "pattern": {
             "shape": ""
            }
           },
           "name": "Consumer Discretionary",
           "orientation": "v",
           "showlegend": true,
           "textposition": "auto",
           "type": "bar",
           "x": [
            "Consumer Discretionary",
            "Consumer Discretionary",
            "Consumer Discretionary",
            "Consumer Discretionary"
           ],
           "xaxis": "x",
           "y": {
            "bdata": "x9MTXqqQPUCtIHXDQyFDQJ8Xvzzl7zVA3ErHeZ1kQkA=",
            "dtype": "f8"
           },
           "yaxis": "y"
          },
          {
           "customdata": [
            [
             "JNJ"
            ]
           ],
           "hovertemplate": "sector=%{x}<br>year=2006<br>avg_close=%{y}<br>stock=%{customdata[0]}<extra></extra>",
           "ids": [
            "JNJ"
           ],
           "legendgroup": "Health Care",
           "marker": {
            "color": "#19d3f3",
            "pattern": {
             "shape": ""
            }
           },
           "name": "Health Care",
           "orientation": "v",
           "showlegend": true,
           "textposition": "auto",
           "type": "bar",
           "x": [
            "Health Care"
           ],
           "xaxis": "x",
           "y": {
            "bdata": "jDLjleIaT0A=",
            "dtype": "f8"
           },
           "yaxis": "y"
          },
          {
           "customdata": [
            [
             "MRK"
            ],
            [
             "PFE"
            ],
            [
             "UNH"
            ]
           ],
           "hovertemplate": "sector=%{x}<br>year=2006<br>avg_close=%{y}<br>stock=%{customdata[0]}<extra></extra>",
           "ids": [
            "MRK",
            "PFE",
            "UNH"
           ],
           "legendgroup": "Healthcare",
           "marker": {
            "color": "#FF6692",
            "pattern": {
             "shape": ""
            }
           },
           "name": "Healthcare",
           "orientation": "v",
           "showlegend": true,
           "textposition": "auto",
           "type": "bar",
           "x": [
            "Healthcare",
            "Healthcare",
            "Healthcare"
           ],
           "xaxis": "x",
           "y": {
            "bdata": "lEZqcQwlQ0BARP1Aba45QCrVXaxVhElA",
            "dtype": "f8"
           },
           "yaxis": "y"
          },
          {
           "customdata": [
            [
             "NKE"
            ]
           ],
           "hovertemplate": "sector=%{x}<br>year=2006<br>avg_close=%{y}<br>stock=%{customdata[0]}<extra></extra>",
           "ids": [
            "NKE"
           ],
           "legendgroup": "Consumer Cyclical",
           "marker": {
            "color": "#B6E880",
            "pattern": {
             "shape": ""
            }
           },
           "name": "Consumer Cyclical",
           "orientation": "v",
           "showlegend": true,
           "textposition": "auto",
           "type": "bar",
           "x": [
            "Consumer Cyclical"
           ],
           "xaxis": "x",
           "y": {
            "bdata": "naqOnU5TJUA=",
            "dtype": "f8"
           },
           "yaxis": "y"
          },
          {
           "customdata": [
            [
             "PG"
            ],
            [
             "WMT"
            ]
           ],
           "hovertemplate": "sector=%{x}<br>year=2006<br>avg_close=%{y}<br>stock=%{customdata[0]}<extra></extra>",
           "ids": [
            "PG",
            "WMT"
           ],
           "legendgroup": "Consumer Staples",
           "marker": {
            "color": "#FF97FF",
            "pattern": {
             "shape": ""
            }
           },
           "name": "Consumer Staples",
           "orientation": "v",
           "showlegend": true,
           "textposition": "auto",
           "type": "bar",
           "x": [
            "Consumer Staples",
            "Consumer Staples"
           ],
           "xaxis": "x",
           "y": {
            "bdata": "tJoQo6HCTUCi1IwslFBHQA==",
            "dtype": "f8"
           },
           "yaxis": "y"
          },
          {
           "customdata": [
            [
             "TRV"
            ]
           ],
           "hovertemplate": "sector=%{x}<br>year=2006<br>avg_close=%{y}<br>stock=%{customdata[0]}<extra></extra>",
           "ids": [
            "TRV"
           ],
           "legendgroup": "Financial",
           "marker": {
            "color": "#FECB52",
            "pattern": {
             "shape": ""
            }
           },
           "name": "Financial",
           "orientation": "v",
           "showlegend": true,
           "textposition": "auto",
           "type": "bar",
           "x": [
            "Financial"
           ],
           "xaxis": "x",
           "y": {
            "bdata": "izy8/jTvRkA=",
            "dtype": "f8"
           },
           "yaxis": "y"
          },
          {
           "customdata": [
            [
             "UTX"
            ]
           ],
           "hovertemplate": "sector=%{x}<br>year=2006<br>avg_close=%{y}<br>stock=%{customdata[0]}<extra></extra>",
           "ids": [
            "UTX"
           ],
           "legendgroup": "Aerospace and Defense",
           "marker": {
            "color": "#636efa",
            "pattern": {
             "shape": ""
            }
           },
           "name": "Aerospace and Defense",
           "orientation": "v",
           "showlegend": true,
           "textposition": "auto",
           "type": "bar",
           "x": [
            "Aerospace and Defense"
           ],
           "xaxis": "x",
           "y": {
            "bdata": "nFrxTDbPTkA=",
            "dtype": "f8"
           },
           "yaxis": "y"
          },
          {
           "customdata": [
            [
             "VZ"
            ]
           ],
           "hovertemplate": "sector=%{x}<br>year=2006<br>avg_close=%{y}<br>stock=%{customdata[0]}<extra></extra>",
           "ids": [
            "VZ"
           ],
           "legendgroup": "Communication Services",
           "marker": {
            "color": "#EF553B",
            "pattern": {
             "shape": ""
            }
           },
           "name": "Communication Services",
           "orientation": "v",
           "showlegend": true,
           "textposition": "auto",
           "type": "bar",
           "x": [
            "Communication Services"
           ],
           "xaxis": "x",
           "y": {
            "bdata": "0aYtC/oFQUA=",
            "dtype": "f8"
           },
           "yaxis": "y"
          }
         ],
         "name": "2006"
        },
        {
         "data": [
          {
           "customdata": [
            [
             "AABA"
            ],
            [
             "AXP"
            ],
            [
             "GS"
            ],
            [
             "JPM"
            ]
           ],
           "hovertemplate": "sector=%{x}<br>year=2007<br>avg_close=%{y}<br>stock=%{customdata[0]}<extra></extra>",
           "ids": [
            "AABA",
            "AXP",
            "GS",
            "JPM"
           ],
           "legendgroup": "Financials",
           "marker": {
            "color": "#636efa",
            "pattern": {
             "shape": ""
            }
           },
           "name": "Financials",
           "orientation": "v",
           "showlegend": true,
           "textposition": "auto",
           "type": "bar",
           "x": [
            "Financials",
            "Financials",
            "Financials",
            "Financials"
           ],
           "xaxis": "x",
           "y": {
            "bdata": "nkY/e5GGO0Dk4fWneZ5NQILgq1nOempAAfqwWpvgR0A=",
            "dtype": "f8"
           },
           "yaxis": "y"
          },
          {
           "customdata": [
            [
             "AAPL"
            ],
            [
             "AMZN"
            ],
            [
             "CSCO"
            ],
            [
             "GOOGL"
            ],
            [
             "IBM"
            ],
            [
             "INTC"
            ],
            [
             "MSFT"
            ]
           ],
           "hovertemplate": "sector=%{x}<br>year=2007<br>avg_close=%{y}<br>stock=%{customdata[0]}<extra></extra>",
           "ids": [
            "AAPL",
            "AMZN",
            "CSCO",
            "GOOGL",
            "IBM",
            "INTC",
            "MSFT"
           ],
           "legendgroup": "Technology",
           "marker": {
            "color": "#EF553B",
            "pattern": {
             "shape": ""
            }
           },
           "name": "Technology",
           "orientation": "v",
           "showlegend": true,
           "textposition": "auto",
           "type": "bar",
           "x": [
            "Technology",
            "Technology",
            "Technology",
            "Technology",
            "Technology",
            "Technology",
            "Technology"
           ],
           "xaxis": "x",
           "y": {
            "bdata": "mCRVcydTMkCuQZLVr85QQLtgvw8qkzxA+3uLt0/acEBUKdnnb3NaQNzLqerYaTdAcGgAUmJyPkA=",
            "dtype": "f8"
           },
           "yaxis": "y"
          },
          {
           "customdata": [
            [
             "BA"
            ],
            [
             "CAT"
            ],
            [
             "GE"
            ],
            [
             "MMM"
            ]
           ],
           "hovertemplate": "sector=%{x}<br>year=2007<br>avg_close=%{y}<br>stock=%{customdata[0]}<extra></extra>",
           "ids": [
            "BA",
            "CAT",
            "GE",
            "MMM"
           ],
           "legendgroup": "Industrials",
           "marker": {
            "color": "#00cc96",
            "pattern": {
             "shape": ""
            }
           },
           "name": "Industrials",
           "orientation": "v",
           "showlegend": true,
           "textposition": "auto",
           "type": "bar",
           "x": [
            "Industrials",
            "Industrials",
            "Industrials",
            "Industrials"
           ],
           "xaxis": "x",
           "y": {
            "bdata": "ZUcONnGjV0Dw3UDuECtSQCorSqLS50JAWVkmHBoAVUA=",
            "dtype": "f8"
           },
           "yaxis": "y"
          },
          {
           "customdata": [
            [
             "CVX"
            ],
            [
             "XOM"
            ]
           ],
           "hovertemplate": "sector=%{x}<br>year=2007<br>avg_close=%{y}<br>stock=%{customdata[0]}<extra></extra>",
           "ids": [
            "CVX",
            "XOM"
           ],
           "legendgroup": "Energy",
           "marker": {
            "color": "#ab63fa",
            "pattern": {
             "shape": ""
            }
           },
           "name": "Energy",
           "orientation": "v",
           "showlegend": true,
           "textposition": "auto",
           "type": "bar",
           "x": [
            "Energy",
            "Energy"
           ],
           "xaxis": "x",
           "y": {
            "bdata": "TgNlHBibVED+jkWde85UQA==",
            "dtype": "f8"
           },
           "yaxis": "y"
          },
          {
           "customdata": [
            [
             "DIS"
            ],
            [
             "HD"
            ],
            [
             "KO"
            ],
            [
             "MCD"
            ]
           ],
           "hovertemplate": "sector=%{x}<br>year=2007<br>avg_close=%{y}<br>stock=%{customdata[0]}<extra></extra>",
           "ids": [
            "DIS",
            "HD",
            "KO",
            "MCD"
           ],
           "legendgroup": "Consumer Discretionary",
           "marker": {
            "color": "#FFA15A",
            "pattern": {
             "shape": ""
            }
           },
           "name": "Consumer Discretionary",
           "orientation": "v",
           "showlegend": true,
           "textposition": "auto",
           "type": "bar",
           "x": [
            "Consumer Discretionary",
            "Consumer Discretionary",
            "Consumer Discretionary",
            "Consumer Discretionary"
           ],
           "xaxis": "x",
           "y": {
            "bdata": "EXQhRH4jQUBYhuF4TwxCQK5wEhRc5TpAnKxTf8V9SUA=",
            "dtype": "f8"
           },
           "yaxis": "y"
          },
          {
           "customdata": [
            [
             "JNJ"
            ]
           ],
           "hovertemplate": "sector=%{x}<br>year=2007<br>avg_close=%{y}<br>stock=%{customdata[0]}<extra></extra>",
           "ids": [
            "JNJ"
           ],
           "legendgroup": "Health Care",
           "marker": {
            "color": "#19d3f3",
            "pattern": {
             "shape": ""
            }
           },
           "name": "Health Care",
           "orientation": "v",
           "showlegend": true,
           "textposition": "auto",
           "type": "bar",
           "x": [
            "Health Care"
           ],
           "xaxis": "x",
           "y": {
            "bdata": "VzrO6yT9T0A=",
            "dtype": "f8"
           },
           "yaxis": "y"
          },
          {
           "customdata": [
            [
             "MRK"
            ],
            [
             "PFE"
            ],
            [
             "UNH"
            ]
           ],
           "hovertemplate": "sector=%{x}<br>year=2007<br>avg_close=%{y}<br>stock=%{customdata[0]}<extra></extra>",
           "ids": [
            "MRK",
            "PFE",
            "UNH"
           ],
           "legendgroup": "Healthcare",
           "marker": {
            "color": "#FF6692",
            "pattern": {
             "shape": ""
            }
           },
           "name": "Healthcare",
           "orientation": "v",
           "showlegend": true,
           "textposition": "auto",
           "type": "bar",
           "x": [
            "Healthcare",
            "Healthcare",
            "Healthcare"
           ],
           "xaxis": "x",
           "y": {
            "bdata": "VpqTSvRUSUC9e418MUE5QAKedb+5HUpA",
            "dtype": "f8"
           },
           "yaxis": "y"
          },
          {
           "customdata": [
            [
             "NKE"
            ]
           ],
           "hovertemplate": "sector=%{x}<br>year=2007<br>avg_close=%{y}<br>stock=%{customdata[0]}<extra></extra>",
           "ids": [
            "NKE"
           ],
           "legendgroup": "Consumer Cyclical",
           "marker": {
            "color": "#B6E880",
            "pattern": {
             "shape": ""
            }
           },
           "name": "Consumer Cyclical",
           "orientation": "v",
           "showlegend": true,
           "textposition": "auto",
           "type": "bar",
           "x": [
            "Consumer Cyclical"
           ],
           "xaxis": "x",
           "y": {
            "bdata": "qfLscBBPLEA=",
            "dtype": "f8"
           },
           "yaxis": "y"
          },
          {
           "customdata": [
            [
             "PG"
            ],
            [
             "WMT"
            ]
           ],
           "hovertemplate": "sector=%{x}<br>year=2007<br>avg_close=%{y}<br>stock=%{customdata[0]}<extra></extra>",
           "ids": [
            "PG",
            "WMT"
           ],
           "legendgroup": "Consumer Staples",
           "marker": {
            "color": "#FF97FF",
            "pattern": {
             "shape": ""
            }
           },
           "name": "Consumer Staples",
           "orientation": "v",
           "showlegend": true,
           "textposition": "auto",
           "type": "bar",
           "x": [
            "Consumer Staples",
            "Consumer Staples"
           ],
           "xaxis": "x",
           "y": {
            "bdata": "LywXmNB9UECBDWe2A3dHQA==",
            "dtype": "f8"
           },
           "yaxis": "y"
          },
          {
           "customdata": [
            [
             "TRV"
            ]
           ],
           "hovertemplate": "sector=%{x}<br>year=2007<br>avg_close=%{y}<br>stock=%{customdata[0]}<extra></extra>",
           "ids": [
            "TRV"
           ],
           "legendgroup": "Financial",
           "marker": {
            "color": "#FECB52",
            "pattern": {
             "shape": ""
            }
           },
           "name": "Financial",
           "orientation": "v",
           "showlegend": true,
           "textposition": "auto",
           "type": "bar",
           "x": [
            "Financial"
           ],
           "xaxis": "x",
           "y": {
            "bdata": "4+kJL1VISkA=",
            "dtype": "f8"
           },
           "yaxis": "y"
          },
          {
           "customdata": [
            [
             "UTX"
            ]
           ],
           "hovertemplate": "sector=%{x}<br>year=2007<br>avg_close=%{y}<br>stock=%{customdata[0]}<extra></extra>",
           "ids": [
            "UTX"
           ],
           "legendgroup": "Aerospace and Defense",
           "marker": {
            "color": "#636efa",
            "pattern": {
             "shape": ""
            }
           },
           "name": "Aerospace and Defense",
           "orientation": "v",
           "showlegend": true,
           "textposition": "auto",
           "type": "bar",
           "x": [
            "Aerospace and Defense"
           ],
           "xaxis": "x",
           "y": {
            "bdata": "SSkE3urhUUA=",
            "dtype": "f8"
           },
           "yaxis": "y"
          },
          {
           "customdata": [
            [
             "VZ"
            ]
           ],
           "hovertemplate": "sector=%{x}<br>year=2007<br>avg_close=%{y}<br>stock=%{customdata[0]}<extra></extra>",
           "ids": [
            "VZ"
           ],
           "legendgroup": "Communication Services",
           "marker": {
            "color": "#EF553B",
            "pattern": {
             "shape": ""
            }
           },
           "name": "Communication Services",
           "orientation": "v",
           "showlegend": true,
           "textposition": "auto",
           "type": "bar",
           "x": [
            "Communication Services"
           ],
           "xaxis": "x",
           "y": {
            "bdata": "G9S7rNKcREA=",
            "dtype": "f8"
           },
           "yaxis": "y"
          }
         ],
         "name": "2007"
        },
        {
         "data": [
          {
           "customdata": [
            [
             "AABA"
            ],
            [
             "AXP"
            ],
            [
             "GS"
            ],
            [
             "JPM"
            ]
           ],
           "hovertemplate": "sector=%{x}<br>year=2008<br>avg_close=%{y}<br>stock=%{customdata[0]}<extra></extra>",
           "ids": [
            "AABA",
            "AXP",
            "GS",
            "JPM"
           ],
           "legendgroup": "Financials",
           "marker": {
            "color": "#636efa",
            "pattern": {
             "shape": ""
            }
           },
           "name": "Financials",
           "orientation": "v",
           "showlegend": true,
           "textposition": "auto",
           "type": "bar",
           "x": [
            "Financials",
            "Financials",
            "Financials",
            "Financials"
           ],
           "xaxis": "x",
           "y": {
            "bdata": "O/+mmqcnNUCE+HSeAfhCQChVqF3eAmNAQrZl09XpQ0A=",
            "dtype": "f8"
           },
           "yaxis": "y"
          },
          {
           "customdata": [
            [
             "AAPL"
            ],
            [
             "AMZN"
            ],
            [
             "CSCO"
            ],
            [
             "GOOGL"
            ],
            [
             "IBM"
            ],
            [
             "INTC"
            ],
            [
             "MSFT"
            ]
           ],
           "hovertemplate": "sector=%{x}<br>year=2008<br>avg_close=%{y}<br>stock=%{customdata[0]}<extra></extra>",
           "ids": [
            "AAPL",
            "AMZN",
            "CSCO",
            "GOOGL",
            "IBM",
            "INTC",
            "MSFT"
           ],
           "legendgroup": "Technology",
           "marker": {
            "color": "#EF553B",
            "pattern": {
             "shape": ""
            }
           },
           "name": "Technology",
           "orientation": "v",
           "showlegend": true,
           "textposition": "auto",
           "type": "bar",
           "x": [
            "Technology",
            "Technology",
            "Technology",
            "Technology",
            "Technology",
            "Technology",
            "Technology"
           ],
           "xaxis": "x",
           "y": {
            "bdata": "an9kOV5INEAggk2RUnhRQIlFYvQCezZAvuavrhQVbUD4Gzmp34JbQFo5+1329TNAXYwkNcOlOkA=",
            "dtype": "f8"
           },
           "yaxis": "y"
          },
          {
           "customdata": [
            [
             "BA"
            ],
            [
             "CAT"
            ],
            [
             "GE"
            ],
            [
             "MMM"
            ]
           ],
           "hovertemplate": "sector=%{x}<br>year=2008<br>avg_close=%{y}<br>stock=%{customdata[0]}<extra></extra>",
           "ids": [
            "BA",
            "CAT",
            "GE",
            "MMM"
           ],
           "legendgroup": "Industrials",
           "marker": {
            "color": "#00cc96",
            "pattern": {
             "shape": ""
            }
           },
           "name": "Industrials",
           "orientation": "v",
           "showlegend": true,
           "textposition": "auto",
           "type": "bar",
           "x": [
            "Industrials",
            "Industrials",
            "Industrials",
            "Industrials"
           ],
           "xaxis": "x",
           "y": {
            "bdata": "VE/4hQqcUECw7yYGyDpQQLrooosu+jtA5RjVE37hUUA=",
            "dtype": "f8"
           },
           "yaxis": "y"
          },
          {
           "customdata": [
            [
             "CVX"
            ],
            [
             "XOM"
            ]
           ],
           "hovertemplate": "sector=%{x}<br>year=2008<br>avg_close=%{y}<br>stock=%{customdata[0]}<extra></extra>",
           "ids": [
            "CVX",
            "XOM"
           ],
           "legendgroup": "Energy",
           "marker": {
            "color": "#ab63fa",
            "pattern": {
             "shape": ""
            }
           },
           "name": "Energy",
           "orientation": "v",
           "showlegend": true,
           "textposition": "auto",
           "type": "bar",
           "x": [
            "Energy",
            "Energy"
           ],
           "xaxis": "x",
           "y": {
            "bdata": "xzRI6GE5VUCYEI5iqatUQA==",
            "dtype": "f8"
           },
           "yaxis": "y"
          },
          {
           "customdata": [
            [
             "DIS"
            ],
            [
             "HD"
            ],
            [
             "KO"
            ],
            [
             "MCD"
            ]
           ],
           "hovertemplate": "sector=%{x}<br>year=2008<br>avg_close=%{y}<br>stock=%{customdata[0]}<extra></extra>",
           "ids": [
            "DIS",
            "HD",
            "KO",
            "MCD"
           ],
           "legendgroup": "Consumer Discretionary",
           "marker": {
            "color": "#FFA15A",
            "pattern": {
             "shape": ""
            }
           },
           "name": "Consumer Discretionary",
           "orientation": "v",
           "showlegend": true,
           "textposition": "auto",
           "type": "bar",
           "x": [
            "Consumer Discretionary",
            "Consumer Discretionary",
            "Consumer Discretionary",
            "Consumer Discretionary"
           ],
           "xaxis": "x",
           "y": {
            "bdata": "rWLSKiatPUBy3mj9P6c5QLDeunsz6DpAu3Guwh4ITUA=",
            "dtype": "f8"
           },
           "yaxis": "y"
          },
          {
           "customdata": [
            [
             "JNJ"
            ]
           ],
           "hovertemplate": "sector=%{x}<br>year=2008<br>avg_close=%{y}<br>stock=%{customdata[0]}<extra></extra>",
           "ids": [
            "JNJ"
           ],
           "legendgroup": "Health Care",
           "marker": {
            "color": "#19d3f3",
            "pattern": {
             "shape": ""
            }
           },
           "name": "Health Care",
           "orientation": "v",
           "showlegend": true,
           "textposition": "auto",
           "type": "bar",
           "x": [
            "Health Care"
           ],
           "xaxis": "x",
           "y": {
            "bdata": "V3J7fn86UEA=",
            "dtype": "f8"
           },
           "yaxis": "y"
          },
          {
           "customdata": [
            [
             "MRK"
            ],
            [
             "PFE"
            ],
            [
             "UNH"
            ]
           ],
           "hovertemplate": "sector=%{x}<br>year=2008<br>avg_close=%{y}<br>stock=%{customdata[0]}<extra></extra>",
           "ids": [
            "MRK",
            "PFE",
            "UNH"
           ],
           "legendgroup": "Healthcare",
           "marker": {
            "color": "#FF6692",
            "pattern": {
             "shape": ""
            }
           },
           "name": "Healthcare",
           "orientation": "v",
           "showlegend": true,
           "textposition": "auto",
           "type": "bar",
           "x": [
            "Healthcare",
            "Healthcare",
            "Healthcare"
           ],
           "xaxis": "x",
           "y": {
            "bdata": "yhMbt4SNQkDJP3jxKk8zQK+ZX26VJEBA",
            "dtype": "f8"
           },
           "yaxis": "y"
          },
          {
           "customdata": [
            [
             "NKE"
            ]
           ],
           "hovertemplate": "sector=%{x}<br>year=2008<br>avg_close=%{y}<br>stock=%{customdata[0]}<extra></extra>",
           "ids": [
            "NKE"
           ],
           "legendgroup": "Consumer Cyclical",
           "marker": {
            "color": "#B6E880",
            "pattern": {
             "shape": ""
            }
           },
           "name": "Consumer Cyclical",
           "orientation": "v",
           "showlegend": true,
           "textposition": "auto",
           "type": "bar",
           "x": [
            "Consumer Cyclical"
           ],
           "xaxis": "x",
           "y": {
            "bdata": "YaUiCLsHLkA=",
            "dtype": "f8"
           },
           "yaxis": "y"
          },
          {
           "customdata": [
            [
             "PG"
            ],
            [
             "WMT"
            ]
           ],
           "hovertemplate": "sector=%{x}<br>year=2008<br>avg_close=%{y}<br>stock=%{customdata[0]}<extra></extra>",
           "ids": [
            "PG",
            "WMT"
           ],
           "legendgroup": "Consumer Staples",
           "marker": {
            "color": "#FF97FF",
            "pattern": {
             "shape": ""
            }
           },
           "name": "Consumer Staples",
           "orientation": "v",
           "showlegend": true,
           "textposition": "auto",
           "type": "bar",
           "x": [
            "Consumer Staples",
            "Consumer Staples"
           ],
           "xaxis": "x",
           "y": {
            "bdata": "iX+N+NeIUEDr4P/WQIZLQA==",
            "dtype": "f8"
           },
           "yaxis": "y"
          },
          {
           "customdata": [
            [
             "TRV"
            ]
           ],
           "hovertemplate": "sector=%{x}<br>year=2008<br>avg_close=%{y}<br>stock=%{customdata[0]}<extra></extra>",
           "ids": [
            "TRV"
           ],
           "legendgroup": "Financial",
           "marker": {
            "color": "#FECB52",
            "pattern": {
             "shape": ""
            }
           },
           "name": "Financial",
           "orientation": "v",
           "showlegend": true,
           "textposition": "auto",
           "type": "bar",
           "x": [
            "Financial"
           ],
           "xaxis": "x",
           "y": {
            "bdata": "CEex1DWWRkA=",
            "dtype": "f8"
           },
           "yaxis": "y"
          },
          {
           "customdata": [
            [
             "UTX"
            ]
           ],
           "hovertemplate": "sector=%{x}<br>year=2008<br>avg_close=%{y}<br>stock=%{customdata[0]}<extra></extra>",
           "ids": [
            "UTX"
           ],
           "legendgroup": "Aerospace and Defense",
           "marker": {
            "color": "#636efa",
            "pattern": {
             "shape": ""
            }
           },
           "name": "Aerospace and Defense",
           "orientation": "v",
           "showlegend": true,
           "textposition": "auto",
           "type": "bar",
           "x": [
            "Aerospace and Defense"
           ],
           "xaxis": "x",
           "y": {
            "bdata": "g/GNOerxT0A=",
            "dtype": "f8"
           },
           "yaxis": "y"
          },
          {
           "customdata": [
            [
             "VZ"
            ]
           ],
           "hovertemplate": "sector=%{x}<br>year=2008<br>avg_close=%{y}<br>stock=%{customdata[0]}<extra></extra>",
           "ids": [
            "VZ"
           ],
           "legendgroup": "Communication Services",
           "marker": {
            "color": "#EF553B",
            "pattern": {
             "shape": ""
            }
           },
           "name": "Communication Services",
           "orientation": "v",
           "showlegend": true,
           "textposition": "auto",
           "type": "bar",
           "x": [
            "Communication Services"
           ],
           "xaxis": "x",
           "y": {
            "bdata": "1xfHRbRyQUA=",
            "dtype": "f8"
           },
           "yaxis": "y"
          }
         ],
         "name": "2008"
        },
        {
         "data": [
          {
           "customdata": [
            [
             "AABA"
            ],
            [
             "AXP"
            ],
            [
             "GS"
            ],
            [
             "JPM"
            ]
           ],
           "hovertemplate": "sector=%{x}<br>year=2009<br>avg_close=%{y}<br>stock=%{customdata[0]}<extra></extra>",
           "ids": [
            "AABA",
            "AXP",
            "GS",
            "JPM"
           ],
           "legendgroup": "Financials",
           "marker": {
            "color": "#636efa",
            "pattern": {
             "shape": ""
            }
           },
           "name": "Financials",
           "orientation": "v",
           "showlegend": true,
           "textposition": "auto",
           "type": "bar",
           "x": [
            "Financials",
            "Financials",
            "Financials",
            "Financials"
           ],
           "xaxis": "x",
           "y": {
            "bdata": "c/uDDJW9LUAMiE2lIfc6QNoSlKffmmFAJu1rWCC/QUA=",
            "dtype": "f8"
           },
           "yaxis": "y"
          },
          {
           "customdata": [
            [
             "AAPL"
            ],
            [
             "AMZN"
            ],
            [
             "CSCO"
            ],
            [
             "GOOGL"
            ],
            [
             "IBM"
            ],
            [
             "INTC"
            ],
            [
             "MSFT"
            ]
           ],
           "hovertemplate": "sector=%{x}<br>year=2009<br>avg_close=%{y}<br>stock=%{customdata[0]}<extra></extra>",
           "ids": [
            "AAPL",
            "AMZN",
            "CSCO",
            "GOOGL",
            "IBM",
            "INTC",
            "MSFT"
           ],
           "legendgroup": "Technology",
           "marker": {
            "color": "#EF553B",
            "pattern": {
             "shape": ""
            }
           },
           "name": "Technology",
           "orientation": "v",
           "showlegend": true,
           "textposition": "auto",
           "type": "bar",
           "x": [
            "Technology",
            "Technology",
            "Technology",
            "Technology",
            "Technology",
            "Technology",
            "Technology"
           ],
           "xaxis": "x",
           "y": {
            "bdata": "xOG19xT5NEAHo2NtCdJVQOQ4juM4/jNAu3MIVA2Ca0Bnz1wznFFbQG033TkEGjFAoQ7qoA76NkA=",
            "dtype": "f8"
           },
           "yaxis": "y"
          },
          {
           "customdata": [
            [
             "BA"
            ],
            [
             "CAT"
            ],
            [
             "GE"
            ],
            [
             "MMM"
            ]
           ],
           "hovertemplate": "sector=%{x}<br>year=2009<br>avg_close=%{y}<br>stock=%{customdata[0]}<extra></extra>",
           "ids": [
            "BA",
            "CAT",
            "GE",
            "MMM"
           ],
           "legendgroup": "Industrials",
           "marker": {
            "color": "#00cc96",
            "pattern": {
             "shape": ""
            }
           },
           "name": "Industrials",
           "orientation": "v",
           "showlegend": true,
           "textposition": "auto",
           "type": "bar",
           "x": [
            "Industrials",
            "Industrials",
            "Industrials",
            "Industrials"
           ],
           "xaxis": "x",
           "y": {
            "bdata": "mV62MviPRkAQPyR3pQJFQMJRTyi4tSpAO0xdbn/4T0A=",
            "dtype": "f8"
           },
           "yaxis": "y"
          },
          {
           "customdata": [
            [
             "CVX"
            ],
            [
             "XOM"
            ]
           ],
           "hovertemplate": "sector=%{x}<br>year=2009<br>avg_close=%{y}<br>stock=%{customdata[0]}<extra></extra>",
           "ids": [
            "CVX",
            "XOM"
           ],
           "legendgroup": "Energy",
           "marker": {
            "color": "#ab63fa",
            "pattern": {
             "shape": ""
            }
           },
           "name": "Energy",
           "orientation": "v",
           "showlegend": true,
           "textposition": "auto",
           "type": "bar",
           "x": [
            "Energy",
            "Energy"
           ],
           "xaxis": "x",
           "y": {
            "bdata": "mtR8ADuLUUAWyOfilLxRQA==",
            "dtype": "f8"
           },
           "yaxis": "y"
          },
          {
           "customdata": [
            [
             "DIS"
            ],
            [
             "HD"
            ],
            [
             "KO"
            ],
            [
             "MCD"
            ]
           ],
           "hovertemplate": "sector=%{x}<br>year=2009<br>avg_close=%{y}<br>stock=%{customdata[0]}<extra></extra>",
           "ids": [
            "DIS",
            "HD",
            "KO",
            "MCD"
           ],
           "legendgroup": "Consumer Discretionary",
           "marker": {
            "color": "#FFA15A",
            "pattern": {
             "shape": ""
            }
           },
           "name": "Consumer Discretionary",
           "orientation": "v",
           "showlegend": true,
           "textposition": "auto",
           "type": "bar",
           "x": [
            "Consumer Discretionary",
            "Consumer Discretionary",
            "Consumer Discretionary",
            "Consumer Discretionary"
           ],
           "xaxis": "x",
           "y": {
            "bdata": "m4UmNR+AOEDHNjlg0AI5QH4a2+SAYThAPFktb4y4TEA=",
            "dtype": "f8"
           },
           "yaxis": "y"
          },
          {
           "customdata": [
            [
             "JNJ"
            ]
           ],
           "hovertemplate": "sector=%{x}<br>year=2009<br>avg_close=%{y}<br>stock=%{customdata[0]}<extra></extra>",
           "ids": [
            "JNJ"
           ],
           "legendgroup": "Health Care",
           "marker": {
            "color": "#19d3f3",
            "pattern": {
             "shape": ""
            }
           },
           "name": "Health Care",
           "orientation": "v",
           "showlegend": true,
           "textposition": "auto",
           "type": "bar",
           "x": [
            "Health Care"
           ],
           "xaxis": "x",
           "y": {
            "bdata": "BNgZNwvlTEA=",
            "dtype": "f8"
           },
           "yaxis": "y"
          },
          {
           "customdata": [
            [
             "MRK"
            ],
            [
             "PFE"
            ],
            [
             "UNH"
            ]
           ],
           "hovertemplate": "sector=%{x}<br>year=2009<br>avg_close=%{y}<br>stock=%{customdata[0]}<extra></extra>",
           "ids": [
            "MRK",
            "PFE",
            "UNH"
           ],
           "legendgroup": "Healthcare",
           "marker": {
            "color": "#FF6692",
            "pattern": {
             "shape": ""
            }
           },
           "name": "Healthcare",
           "orientation": "v",
           "showlegend": true,
           "textposition": "auto",
           "type": "bar",
           "x": [
            "Healthcare",
            "Healthcare",
            "Healthcare"
           ],
           "xaxis": "x",
           "y": {
            "bdata": "ah+qkieSPUCRroLE4XUvQIqiKIqiODpA",
            "dtype": "f8"
           },
           "yaxis": "y"
          },
          {
           "customdata": [
            [
             "NKE"
            ]
           ],
           "hovertemplate": "sector=%{x}<br>year=2009<br>avg_close=%{y}<br>stock=%{customdata[0]}<extra></extra>",
           "ids": [
            "NKE"
           ],
           "legendgroup": "Consumer Cyclical",
           "marker": {
            "color": "#B6E880",
            "pattern": {
             "shape": ""
            }
           },
           "name": "Consumer Cyclical",
           "orientation": "v",
           "showlegend": true,
           "textposition": "auto",
           "type": "bar",
           "x": [
            "Consumer Cyclical"
           ],
           "xaxis": "x",
           "y": {
            "bdata": "vhA/JHdlK0A=",
            "dtype": "f8"
           },
           "yaxis": "y"
          },
          {
           "customdata": [
            [
             "PG"
            ],
            [
             "WMT"
            ]
           ],
           "hovertemplate": "sector=%{x}<br>year=2009<br>avg_close=%{y}<br>stock=%{customdata[0]}<extra></extra>",
           "ids": [
            "PG",
            "WMT"
           ],
           "legendgroup": "Consumer Staples",
           "marker": {
            "color": "#FF97FF",
            "pattern": {
             "shape": ""
            }
           },
           "name": "Consumer Staples",
           "orientation": "v",
           "showlegend": true,
           "textposition": "auto",
           "type": "bar",
           "x": [
            "Consumer Staples",
            "Consumer Staples"
           ],
           "xaxis": "x",
           "y": {
            "bdata": "B9F20507S0DPLiA2lUZJQA==",
            "dtype": "f8"
           },
           "yaxis": "y"
          },
          {
           "customdata": [
            [
             "TRV"
            ]
           ],
           "hovertemplate": "sector=%{x}<br>year=2009<br>avg_close=%{y}<br>stock=%{customdata[0]}<extra></extra>",
           "ids": [
            "TRV"
           ],
           "legendgroup": "Financial",
           "marker": {
            "color": "#FECB52",
            "pattern": {
             "shape": ""
            }
           },
           "name": "Financial",
           "orientation": "v",
           "showlegend": true,
           "textposition": "auto",
           "type": "bar",
           "x": [
            "Financial"
           ],
           "xaxis": "x",
           "y": {
            "bdata": "7IybhSYdRkA=",
            "dtype": "f8"
           },
           "yaxis": "y"
          },
          {
           "customdata": [
            [
             "UTX"
            ]
           ],
           "hovertemplate": "sector=%{x}<br>year=2009<br>avg_close=%{y}<br>stock=%{customdata[0]}<extra></extra>",
           "ids": [
            "UTX"
           ],
           "legendgroup": "Aerospace and Defense",
           "marker": {
            "color": "#636efa",
            "pattern": {
             "shape": ""
            }
           },
           "name": "Aerospace and Defense",
           "orientation": "v",
           "showlegend": true,
           "textposition": "auto",
           "type": "bar",
           "x": [
            "Aerospace and Defense"
           ],
           "xaxis": "x",
           "y": {
            "bdata": "r+u6ruuSS0A=",
            "dtype": "f8"
           },
           "yaxis": "y"
          },
          {
           "customdata": [
            [
             "VZ"
            ]
           ],
           "hovertemplate": "sector=%{x}<br>year=2009<br>avg_close=%{y}<br>stock=%{customdata[0]}<extra></extra>",
           "ids": [
            "VZ"
           ],
           "legendgroup": "Communication Services",
           "marker": {
            "color": "#EF553B",
            "pattern": {
             "shape": ""
            }
           },
           "name": "Communication Services",
           "orientation": "v",
           "showlegend": true,
           "textposition": "auto",
           "type": "bar",
           "x": [
            "Communication Services"
           ],
           "xaxis": "x",
           "y": {
            "bdata": "In5I7kp1PkA=",
            "dtype": "f8"
           },
           "yaxis": "y"
          }
         ],
         "name": "2009"
        },
        {
         "data": [
          {
           "customdata": [
            [
             "AABA"
            ],
            [
             "AXP"
            ],
            [
             "GS"
            ],
            [
             "JPM"
            ]
           ],
           "hovertemplate": "sector=%{x}<br>year=2010<br>avg_close=%{y}<br>stock=%{customdata[0]}<extra></extra>",
           "ids": [
            "AABA",
            "AXP",
            "GS",
            "JPM"
           ],
           "legendgroup": "Financials",
           "marker": {
            "color": "#636efa",
            "pattern": {
             "shape": ""
            }
           },
           "name": "Financials",
           "orientation": "v",
           "showlegend": true,
           "textposition": "auto",
           "type": "bar",
           "x": [
            "Financials",
            "Financials",
            "Financials",
            "Financials"
           ],
           "xaxis": "x",
           "y": {
            "bdata": "K3vn8uorL0BmHrP+t9REQCOLGO9XZWNAdRUkDq8tREA=",
            "dtype": "f8"
           },
           "yaxis": "y"
          },
          {
           "customdata": [
            [
             "AAPL"
            ],
            [
             "AMZN"
            ],
            [
             "CSCO"
            ],
            [
             "GOOGL"
            ],
            [
             "IBM"
            ],
            [
             "INTC"
            ],
            [
             "MSFT"
            ]
           ],
           "hovertemplate": "sector=%{x}<br>year=2010<br>avg_close=%{y}<br>stock=%{customdata[0]}<extra></extra>",
           "ids": [
            "AAPL",
            "AMZN",
            "CSCO",
            "GOOGL",
            "IBM",
            "INTC",
            "MSFT"
           ],
           "legendgroup": "Technology",
           "marker": {
            "color": "#EF553B",
            "pattern": {
             "shape": ""
            }
           },
           "name": "Technology",
           "orientation": "v",
           "showlegend": true,
           "textposition": "auto",
           "type": "bar",
           "x": [
            "Technology",
            "Technology",
            "Technology",
            "Technology",
            "Technology",
            "Technology",
            "Technology"
           ],
           "xaxis": "x",
           "y": {
            "bdata": "gZLT6iyRQkASP1JgbWVhQCdq8u41MjdAImkl+TfAcEDUEwpurXtgQI7MzpGuwzRAzczMzMwMO0A=",
            "dtype": "f8"
           },
           "yaxis": "y"
          },
          {
           "customdata": [
            [
             "BA"
            ],
            [
             "CAT"
            ],
            [
             "GE"
            ],
            [
             "MMM"
            ]
           ],
           "hovertemplate": "sector=%{x}<br>year=2010<br>avg_close=%{y}<br>stock=%{customdata[0]}<extra></extra>",
           "ids": [
            "BA",
            "CAT",
            "GE",
            "MMM"
           ],
           "legendgroup": "Industrials",
           "marker": {
            "color": "#00cc96",
            "pattern": {
             "shape": ""
            }
           },
           "name": "Industrials",
           "orientation": "v",
           "showlegend": true,
           "textposition": "auto",
           "type": "bar",
           "x": [
            "Industrials",
            "Industrials",
            "Industrials",
            "Industrials"
           ],
           "xaxis": "x",
           "y": {
            "bdata": "vhA/JHeFUEA7EXoH3kpRQHh3d3d3hzBAbhaa1HzoVEA=",
            "dtype": "f8"
           },
           "yaxis": "y"
          },
          {
           "customdata": [
            [
             "CVX"
            ],
            [
             "XOM"
            ]
           ],
           "hovertemplate": "sector=%{x}<br>year=2010<br>avg_close=%{y}<br>stock=%{customdata[0]}<extra></extra>",
           "ids": [
            "CVX",
            "XOM"
           ],
           "legendgroup": "Energy",
           "marker": {
            "color": "#ab63fa",
            "pattern": {
             "shape": ""
            }
           },
           "name": "Energy",
           "orientation": "v",
           "showlegend": true,
           "textposition": "auto",
           "type": "bar",
           "x": [
            "Energy",
            "Energy"
           ],
           "xaxis": "x",
           "y": {
            "bdata": "Ggn45tWIU0AS8M2riT9QQA==",
            "dtype": "f8"
           },
           "yaxis": "y"
          },
          {
           "customdata": [
            [
             "DIS"
            ],
            [
             "HD"
            ],
            [
             "KO"
            ],
            [
             "MCD"
            ]
           ],
           "hovertemplate": "sector=%{x}<br>year=2010<br>avg_close=%{y}<br>stock=%{customdata[0]}<extra></extra>",
           "ids": [
            "DIS",
            "HD",
            "KO",
            "MCD"
           ],
           "legendgroup": "Consumer Discretionary",
           "marker": {
            "color": "#FFA15A",
            "pattern": {
             "shape": ""
            }
           },
           "name": "Consumer Discretionary",
           "orientation": "v",
           "showlegend": true,
           "textposition": "auto",
           "type": "bar",
           "x": [
            "Consumer Discretionary",
            "Consumer Discretionary",
            "Consumer Discretionary",
            "Consumer Discretionary"
           ],
           "xaxis": "x",
           "y": {
            "bdata": "DyWEdYsSQUBErToRejc/QIPRsbYERTxAc5KNP1+6UUA=",
            "dtype": "f8"
           },
           "yaxis": "y"
          },
          {
           "customdata": [
            [
             "JNJ"
            ]
           ],
           "hovertemplate": "sector=%{x}<br>year=2010<br>avg_close=%{y}<br>stock=%{customdata[0]}<extra></extra>",
           "ids": [
            "JNJ"
           ],
           "legendgroup": "Health Care",
           "marker": {
            "color": "#19d3f3",
            "pattern": {
             "shape": ""
            }
           },
           "name": "Health Care",
           "orientation": "v",
           "showlegend": true,
           "textposition": "auto",
           "type": "bar",
           "x": [
            "Health Care"
           ],
           "xaxis": "x",
           "y": {
            "bdata": "+jtZLW8UT0A=",
            "dtype": "f8"
           },
           "yaxis": "y"
          },
          {
           "customdata": [
            [
             "MRK"
            ],
            [
             "PFE"
            ],
            [
             "UNH"
            ]
           ],
           "hovertemplate": "sector=%{x}<br>year=2010<br>avg_close=%{y}<br>stock=%{customdata[0]}<extra></extra>",
           "ids": [
            "MRK",
            "PFE",
            "UNH"
           ],
           "legendgroup": "Healthcare",
           "marker": {
            "color": "#FF6692",
            "pattern": {
             "shape": ""
            }
           },
           "name": "Healthcare",
           "orientation": "v",
           "showlegend": true,
           "textposition": "auto",
           "type": "bar",
           "x": [
            "Healthcare",
            "Healthcare",
            "Healthcare"
           ],
           "xaxis": "x",
           "y": {
            "bdata": "ko0/X1oEQkCkcD0K18MwQIYmNR/AfkBA",
            "dtype": "f8"
           },
           "yaxis": "y"
          },
          {
           "customdata": [
            [
             "NKE"
            ]
           ],
           "hovertemplate": "sector=%{x}<br>year=2010<br>avg_close=%{y}<br>stock=%{customdata[0]}<extra></extra>",
           "ids": [
            "NKE"
           ],
           "legendgroup": "Consumer Cyclical",
           "marker": {
            "color": "#B6E880",
            "pattern": {
             "shape": ""
            }
           },
           "name": "Consumer Cyclical",
           "orientation": "v",
           "showlegend": true,
           "textposition": "auto",
           "type": "bar",
           "x": [
            "Consumer Cyclical"
           ],
           "xaxis": "x",
           "y": {
            "bdata": "P/ZjP/ajMkA=",
            "dtype": "f8"
           },
           "yaxis": "y"
          },
          {
           "customdata": [
            [
             "PG"
            ],
            [
             "WMT"
            ]
           ],
           "hovertemplate": "sector=%{x}<br>year=2010<br>avg_close=%{y}<br>stock=%{customdata[0]}<extra></extra>",
           "ids": [
            "PG",
            "WMT"
           ],
           "legendgroup": "Consumer Staples",
           "marker": {
            "color": "#FF97FF",
            "pattern": {
             "shape": ""
            }
           },
           "name": "Consumer Staples",
           "orientation": "v",
           "showlegend": true,
           "textposition": "auto",
           "type": "bar",
           "x": [
            "Consumer Staples",
            "Consumer Staples"
           ],
           "xaxis": "x",
           "y": {
            "bdata": "byNq1YkQT0Br4lnRSIBKQA==",
            "dtype": "f8"
           },
           "yaxis": "y"
          },
          {
           "customdata": [
            [
             "TRV"
            ]
           ],
           "hovertemplate": "sector=%{x}<br>year=2010<br>avg_close=%{y}<br>stock=%{customdata[0]}<extra></extra>",
           "ids": [
            "TRV"
           ],
           "legendgroup": "Financial",
           "marker": {
            "color": "#FECB52",
            "pattern": {
             "shape": ""
            }
           },
           "name": "Financial",
           "orientation": "v",
           "showlegend": true,
           "textposition": "auto",
           "type": "bar",
           "x": [
            "Financial"
           ],
           "xaxis": "x",
           "y": {
            "bdata": "SO5KFbv3SUA=",
            "dtype": "f8"
           },
           "yaxis": "y"
          },
          {
           "customdata": [
            [
             "UTX"
            ]
           ],
           "hovertemplate": "sector=%{x}<br>year=2010<br>avg_close=%{y}<br>stock=%{customdata[0]}<extra></extra>",
           "ids": [
            "UTX"
           ],
           "legendgroup": "Aerospace and Defense",
           "marker": {
            "color": "#636efa",
            "pattern": {
             "shape": ""
            }
           },
           "name": "Aerospace and Defense",
           "orientation": "v",
           "showlegend": true,
           "textposition": "auto",
           "type": "bar",
           "x": [
            "Aerospace and Defense"
           ],
           "xaxis": "x",
           "y": {
            "bdata": "sPiKr/jaUUA=",
            "dtype": "f8"
           },
           "yaxis": "y"
          },
          {
           "customdata": [
            [
             "VZ"
            ]
           ],
           "hovertemplate": "sector=%{x}<br>year=2010<br>avg_close=%{y}<br>stock=%{customdata[0]}<extra></extra>",
           "ids": [
            "VZ"
           ],
           "legendgroup": "Communication Services",
           "marker": {
            "color": "#EF553B",
            "pattern": {
             "shape": ""
            }
           },
           "name": "Communication Services",
           "orientation": "v",
           "showlegend": true,
           "textposition": "auto",
           "type": "bar",
           "x": [
            "Communication Services"
           ],
           "xaxis": "x",
           "y": {
            "bdata": "vnk18axoPkA=",
            "dtype": "f8"
           },
           "yaxis": "y"
          }
         ],
         "name": "2010"
        },
        {
         "data": [
          {
           "customdata": [
            [
             "AABA"
            ],
            [
             "AXP"
            ],
            [
             "GS"
            ],
            [
             "JPM"
            ]
           ],
           "hovertemplate": "sector=%{x}<br>year=2011<br>avg_close=%{y}<br>stock=%{customdata[0]}<extra></extra>",
           "ids": [
            "AABA",
            "AXP",
            "GS",
            "JPM"
           ],
           "legendgroup": "Financials",
           "marker": {
            "color": "#636efa",
            "pattern": {
             "shape": ""
            }
           },
           "name": "Financials",
           "orientation": "v",
           "showlegend": true,
           "textposition": "auto",
           "type": "bar",
           "x": [
            "Financials",
            "Financials",
            "Financials",
            "Financials"
           ],
           "xaxis": "x",
           "y": {
            "bdata": "vTGCif4uL0AaCfjm1bxHQOm0gU4bWGBAEJtKQ86tQ0A=",
            "dtype": "f8"
           },
           "yaxis": "y"
          },
          {
           "customdata": [
            [
             "AAPL"
            ],
            [
             "AMZN"
            ],
            [
             "CSCO"
            ],
            [
             "GOOGL"
            ],
            [
             "IBM"
            ],
            [
             "INTC"
            ],
            [
             "MSFT"
            ]
           ],
           "hovertemplate": "sector=%{x}<br>year=2011<br>avg_close=%{y}<br>stock=%{customdata[0]}<extra></extra>",
           "ids": [
            "AAPL",
            "AMZN",
            "CSCO",
            "GOOGL",
            "IBM",
            "INTC",
            "MSFT"
           ],
           "legendgroup": "Technology",
           "marker": {
            "color": "#EF553B",
            "pattern": {
             "shape": ""
            }
           },
           "name": "Technology",
           "orientation": "v",
           "showlegend": true,
           "textposition": "auto",
           "type": "bar",
           "x": [
            "Technology",
            "Technology",
            "Technology",
            "Technology",
            "Technology",
            "Technology",
            "Technology"
           ],
           "xaxis": "x",
           "y": {
            "bdata": "GnLuswsASkDa17BAPpVoQG6g0wY6XTFArf8tE2bMcUDn1cSzol1lQN3d3d3dDTZAOcnGny8NOkA=",
            "dtype": "f8"
           },
           "yaxis": "y"
          },
          {
           "customdata": [
            [
             "BA"
            ],
            [
             "CAT"
            ],
            [
             "GE"
            ],
            [
             "MMM"
            ]
           ],
           "hovertemplate": "sector=%{x}<br>year=2011<br>avg_close=%{y}<br>stock=%{customdata[0]}<extra></extra>",
           "ids": [
            "BA",
            "CAT",
            "GE",
            "MMM"
           ],
           "legendgroup": "Industrials",
           "marker": {
            "color": "#00cc96",
            "pattern": {
             "shape": ""
            }
           },
           "name": "Industrials",
           "orientation": "v",
           "showlegend": true,
           "textposition": "auto",
           "type": "bar",
           "x": [
            "Industrials",
            "Industrials",
            "Industrials",
            "Industrials"
           ],
           "xaxis": "x",
           "y": {
            "bdata": "4yu+4ituUUAKbq2jBzdYQExdbn+QITJAWgwsJ9moVUA=",
            "dtype": "f8"
           },
           "yaxis": "y"
          },
          {
           "customdata": [
            [
             "CVX"
            ],
            [
             "XOM"
            ]
           ],
           "hovertemplate": "sector=%{x}<br>year=2011<br>avg_close=%{y}<br>stock=%{customdata[0]}<extra></extra>",
           "ids": [
            "CVX",
            "XOM"
           ],
           "legendgroup": "Energy",
           "marker": {
            "color": "#ab63fa",
            "pattern": {
             "shape": ""
            }
           },
           "name": "Energy",
           "orientation": "v",
           "showlegend": true,
           "textposition": "auto",
           "type": "bar",
           "x": [
            "Energy",
            "Energy"
           ],
           "xaxis": "x",
           "y": {
            "bdata": "3GcXEJs2WUBz+4MMle1TQA==",
            "dtype": "f8"
           },
           "yaxis": "y"
          },
          {
           "customdata": [
            [
             "DIS"
            ],
            [
             "HD"
            ],
            [
             "KO"
            ],
            [
             "MCD"
            ]
           ],
           "hovertemplate": "sector=%{x}<br>year=2011<br>avg_close=%{y}<br>stock=%{customdata[0]}<extra></extra>",
           "ids": [
            "DIS",
            "HD",
            "KO",
            "MCD"
           ],
           "legendgroup": "Consumer Discretionary",
           "marker": {
            "color": "#FFA15A",
            "pattern": {
             "shape": ""
            }
           },
           "name": "Consumer Discretionary",
           "orientation": "v",
           "showlegend": true,
           "textposition": "auto",
           "type": "bar",
           "x": [
            "Consumer Discretionary",
            "Consumer Discretionary",
            "Consumer Discretionary",
            "Consumer Discretionary"
           ],
           "xaxis": "x",
           "y": {
            "bdata": "orLD1OX+QkCItpvuHBJCQMo8Zv1vqUBAGB1rS1D+VEA=",
            "dtype": "f8"
           },
           "yaxis": "y"
          },
          {
           "customdata": [
            [
             "JNJ"
            ]
           ],
           "hovertemplate": "sector=%{x}<br>year=2011<br>avg_close=%{y}<br>stock=%{customdata[0]}<extra></extra>",
           "ids": [
            "JNJ"
           ],
           "legendgroup": "Health Care",
           "marker": {
            "color": "#19d3f3",
            "pattern": {
             "shape": ""
            }
           },
           "name": "Health Care",
           "orientation": "v",
           "showlegend": true,
           "textposition": "auto",
           "type": "bar",
           "x": [
            "Health Care"
           ],
           "xaxis": "x",
           "y": {
            "bdata": "VZA4vPbGT0A=",
            "dtype": "f8"
           },
           "yaxis": "y"
          },
          {
           "customdata": [
            [
             "MRK"
            ],
            [
             "PFE"
            ],
            [
             "UNH"
            ]
           ],
           "hovertemplate": "sector=%{x}<br>year=2011<br>avg_close=%{y}<br>stock=%{customdata[0]}<extra></extra>",
           "ids": [
            "MRK",
            "PFE",
            "UNH"
           ],
           "legendgroup": "Healthcare",
           "marker": {
            "color": "#FF6692",
            "pattern": {
             "shape": ""
            }
           },
           "name": "Healthcare",
           "orientation": "v",
           "showlegend": true,
           "textposition": "auto",
           "type": "bar",
           "x": [
            "Healthcare",
            "Healthcare",
            "Healthcare"
           ],
           "xaxis": "x",
           "y": {
            "bdata": "9bKVwX8SQUA0nCkAaYYzQI0yj1n/O0dA",
            "dtype": "f8"
           },
           "yaxis": "y"
          },
          {
           "customdata": [
            [
             "NKE"
            ]
           ],
           "hovertemplate": "sector=%{x}<br>year=2011<br>avg_close=%{y}<br>stock=%{customdata[0]}<extra></extra>",
           "ids": [
            "NKE"
           ],
           "legendgroup": "Consumer Cyclical",
           "marker": {
            "color": "#B6E880",
            "pattern": {
             "shape": ""
            }
           },
           "name": "Consumer Cyclical",
           "orientation": "v",
           "showlegend": true,
           "textposition": "auto",
           "type": "bar",
           "x": [
            "Consumer Cyclical"
           ],
           "xaxis": "x",
           "y": {
            "bdata": "t9bRg6OuNUA=",
            "dtype": "f8"
           },
           "yaxis": "y"
          },
          {
           "customdata": [
            [
             "PG"
            ],
            [
             "WMT"
            ]
           ],
           "hovertemplate": "sector=%{x}<br>year=2011<br>avg_close=%{y}<br>stock=%{customdata[0]}<extra></extra>",
           "ids": [
            "PG",
            "WMT"
           ],
           "legendgroup": "Consumer Staples",
           "marker": {
            "color": "#FF97FF",
            "pattern": {
             "shape": ""
            }
           },
           "name": "Consumer Staples",
           "orientation": "v",
           "showlegend": true,
           "textposition": "auto",
           "type": "bar",
           "x": [
            "Consumer Staples",
            "Consumer Staples"
           ],
           "xaxis": "x",
           "y": {
            "bdata": "2qmd2qndT0AhcXjtPS1LQA==",
            "dtype": "f8"
           },
           "yaxis": "y"
          },
          {
           "customdata": [
            [
             "TRV"
            ]
           ],
           "hovertemplate": "sector=%{x}<br>year=2011<br>avg_close=%{y}<br>stock=%{customdata[0]}<extra></extra>",
           "ids": [
            "TRV"
           ],
           "legendgroup": "Financial",
           "marker": {
            "color": "#FECB52",
            "pattern": {
             "shape": ""
            }
           },
           "name": "Financial",
           "orientation": "v",
           "showlegend": true,
           "textposition": "auto",
           "type": "bar",
           "x": [
            "Financial"
           ],
           "xaxis": "x",
           "y": {
            "bdata": "Fl/xFV9BTEA=",
            "dtype": "f8"
           },
           "yaxis": "y"
          },
          {
           "customdata": [
            [
             "UTX"
            ]
           ],
           "hovertemplate": "sector=%{x}<br>year=2011<br>avg_close=%{y}<br>stock=%{customdata[0]}<extra></extra>",
           "ids": [
            "UTX"
           ],
           "legendgroup": "Aerospace and Defense",
           "marker": {
            "color": "#636efa",
            "pattern": {
             "shape": ""
            }
           },
           "name": "Aerospace and Defense",
           "orientation": "v",
           "showlegend": true,
           "textposition": "auto",
           "type": "bar",
           "x": [
            "Aerospace and Defense"
           ],
           "xaxis": "x",
           "y": {
            "bdata": "o+2mO4cAVEA=",
            "dtype": "f8"
           },
           "yaxis": "y"
          },
          {
           "customdata": [
            [
             "VZ"
            ]
           ],
           "hovertemplate": "sector=%{x}<br>year=2011<br>avg_close=%{y}<br>stock=%{customdata[0]}<extra></extra>",
           "ids": [
            "VZ"
           ],
           "legendgroup": "Communication Services",
           "marker": {
            "color": "#EF553B",
            "pattern": {
             "shape": ""
            }
           },
           "name": "Communication Services",
           "orientation": "v",
           "showlegend": true,
           "textposition": "auto",
           "type": "bar",
           "x": [
            "Communication Services"
           ],
           "xaxis": "x",
           "y": {
            "bdata": "fhrb5IBRQkA=",
            "dtype": "f8"
           },
           "yaxis": "y"
          }
         ],
         "name": "2011"
        },
        {
         "data": [
          {
           "customdata": [
            [
             "AABA"
            ],
            [
             "AXP"
            ],
            [
             "GS"
            ],
            [
             "JPM"
            ]
           ],
           "hovertemplate": "sector=%{x}<br>year=2012<br>avg_close=%{y}<br>stock=%{customdata[0]}<extra></extra>",
           "ids": [
            "AABA",
            "AXP",
            "GS",
            "JPM"
           ],
           "legendgroup": "Financials",
           "marker": {
            "color": "#636efa",
            "pattern": {
             "shape": ""
            }
           },
           "name": "Financials",
           "orientation": "v",
           "showlegend": true,
           "textposition": "auto",
           "type": "bar",
           "x": [
            "Financials",
            "Financials",
            "Financials",
            "Financials"
           ],
           "xaxis": "x",
           "y": {
            "bdata": "IGPuWkL+L0AaUdobfAFMQLd6TnrfsFtAltQJaCKcQ0A=",
            "dtype": "f8"
           },
           "yaxis": "y"
          },
          {
           "customdata": [
            [
             "AAPL"
            ],
            [
             "AMZN"
            ],
            [
             "CSCO"
            ],
            [
             "GOOGL"
            ],
            [
             "IBM"
            ],
            [
             "INTC"
            ],
            [
             "MSFT"
            ]
           ],
           "hovertemplate": "sector=%{x}<br>year=2012<br>avg_close=%{y}<br>stock=%{customdata[0]}<extra></extra>",
           "ids": [
            "AAPL",
            "AMZN",
            "CSCO",
            "GOOGL",
            "IBM",
            "INTC",
            "MSFT"
           ],
           "legendgroup": "Technology",
           "marker": {
            "color": "#EF553B",
            "pattern": {
             "shape": ""
            }
           },
           "name": "Technology",
           "orientation": "v",
           "showlegend": true,
           "textposition": "auto",
           "type": "bar",
           "x": [
            "Technology",
            "Technology",
            "Technology",
            "Technology",
            "Technology",
            "Technology",
            "Technology"
           ],
           "xaxis": "x",
           "y": {
            "bdata": "CRaHM7+SVEBgjh6/t4lrQL2kMVpHlTJAuYjvxKwbdEDQJ/Ik6ZJoQEXY8PRK+ThAilQYWwjSPUA=",
            "dtype": "f8"
           },
           "yaxis": "y"
          },
          {
           "customdata": [
            [
             "BA"
            ],
            [
             "CAT"
            ],
            [
             "GE"
            ],
            [
             "MMM"
            ]
           ],
           "hovertemplate": "sector=%{x}<br>year=2012<br>avg_close=%{y}<br>stock=%{customdata[0]}<extra></extra>",
           "ids": [
            "BA",
            "CAT",
            "GE",
            "MMM"
           ],
           "legendgroup": "Industrials",
           "marker": {
            "color": "#00cc96",
            "pattern": {
             "shape": ""
            }
           },
           "name": "Industrials",
           "orientation": "v",
           "showlegend": true,
           "textposition": "auto",
           "type": "bar",
           "x": [
            "Industrials",
            "Industrials",
            "Industrials",
            "Industrials"
           ],
           "xaxis": "x",
           "y": {
            "bdata": "O3DOiNJOUkCP39v0Z3dXQLMkQE0tOzRAuqC+ZU5HVkA=",
            "dtype": "f8"
           },
           "yaxis": "y"
          },
          {
           "customdata": [
            [
             "CVX"
            ],
            [
             "XOM"
            ]
           ],
           "hovertemplate": "sector=%{x}<br>year=2012<br>avg_close=%{y}<br>stock=%{customdata[0]}<extra></extra>",
           "ids": [
            "CVX",
            "XOM"
           ],
           "legendgroup": "Energy",
           "marker": {
            "color": "#ab63fa",
            "pattern": {
             "shape": ""
            }
           },
           "name": "Energy",
           "orientation": "v",
           "showlegend": true,
           "textposition": "auto",
           "type": "bar",
           "x": [
            "Energy",
            "Energy"
           ],
           "xaxis": "x",
           "y": {
            "bdata": "M4rlllbjWkDEDfj8MKJVQA==",
            "dtype": "f8"
           },
           "yaxis": "y"
          },
          {
           "customdata": [
            [
             "DIS"
            ],
            [
             "HD"
            ],
            [
             "KO"
            ],
            [
             "MCD"
            ]
           ],
           "hovertemplate": "sector=%{x}<br>year=2012<br>avg_close=%{y}<br>stock=%{customdata[0]}<extra></extra>",
           "ids": [
            "DIS",
            "HD",
            "KO",
            "MCD"
           ],
           "legendgroup": "Consumer Discretionary",
           "marker": {
            "color": "#FFA15A",
            "pattern": {
             "shape": ""
            }
           },
           "name": "Consumer Discretionary",
           "orientation": "v",
           "showlegend": true,
           "textposition": "auto",
           "type": "bar",
           "x": [
            "Consumer Discretionary",
            "Consumer Discretionary",
            "Consumer Discretionary",
            "Consumer Discretionary"
           ],
           "xaxis": "x",
           "y": {
            "bdata": "nS6Lic03R0DzdoTTgsdKQCv2l92Th0JARcAhVKkhV0A=",
            "dtype": "f8"
           },
           "yaxis": "y"
          },
          {
           "customdata": [
            [
             "JNJ"
            ]
           ],
           "hovertemplate": "sector=%{x}<br>year=2012<br>avg_close=%{y}<br>stock=%{customdata[0]}<extra></extra>",
           "ids": [
            "JNJ"
           ],
           "legendgroup": "Health Care",
           "marker": {
            "color": "#19d3f3",
            "pattern": {
             "shape": ""
            }
           },
           "name": "Health Care",
           "orientation": "v",
           "showlegend": true,
           "textposition": "auto",
           "type": "bar",
           "x": [
            "Health Care"
           ],
           "xaxis": "x",
           "y": {
            "bdata": "6QlLPKC8UEA=",
            "dtype": "f8"
           },
           "yaxis": "y"
          },
          {
           "customdata": [
            [
             "MRK"
            ],
            [
             "PFE"
            ],
            [
             "UNH"
            ]
           ],
           "hovertemplate": "sector=%{x}<br>year=2012<br>avg_close=%{y}<br>stock=%{customdata[0]}<extra></extra>",
           "ids": [
            "MRK",
            "PFE",
            "UNH"
           ],
           "legendgroup": "Healthcare",
           "marker": {
            "color": "#FF6692",
            "pattern": {
             "shape": ""
            }
           },
           "name": "Healthcare",
           "orientation": "v",
           "showlegend": true,
           "textposition": "auto",
           "type": "bar",
           "x": [
            "Healthcare",
            "Healthcare",
            "Healthcare"
           ],
           "xaxis": "x",
           "y": {
            "bdata": "+ptQiICjRECKdhVSfjI3QJsg6j4AiUtA",
            "dtype": "f8"
           },
           "yaxis": "y"
          },
          {
           "customdata": [
            [
             "NKE"
            ]
           ],
           "hovertemplate": "sector=%{x}<br>year=2012<br>avg_close=%{y}<br>stock=%{customdata[0]}<extra></extra>",
           "ids": [
            "NKE"
           ],
           "legendgroup": "Consumer Cyclical",
           "marker": {
            "color": "#B6E880",
            "pattern": {
             "shape": ""
            }
           },
           "name": "Consumer Cyclical",
           "orientation": "v",
           "showlegend": true,
           "textposition": "auto",
           "type": "bar",
           "x": [
            "Consumer Cyclical"
           ],
           "xaxis": "x",
           "y": {
            "bdata": "e6AVGLI6OUA=",
            "dtype": "f8"
           },
           "yaxis": "y"
          },
          {
           "customdata": [
            [
             "PG"
            ],
            [
             "WMT"
            ]
           ],
           "hovertemplate": "sector=%{x}<br>year=2012<br>avg_close=%{y}<br>stock=%{customdata[0]}<extra></extra>",
           "ids": [
            "PG",
            "WMT"
           ],
           "legendgroup": "Consumer Staples",
           "marker": {
            "color": "#FF97FF",
            "pattern": {
             "shape": ""
            }
           },
           "name": "Consumer Staples",
           "orientation": "v",
           "showlegend": true,
           "textposition": "auto",
           "type": "bar",
           "x": [
            "Consumer Staples",
            "Consumer Staples"
           ],
           "xaxis": "x",
           "y": {
            "bdata": "mN2Th4WKUECEgefew81QQA==",
            "dtype": "f8"
           },
           "yaxis": "y"
          },
          {
           "customdata": [
            [
             "TRV"
            ]
           ],
           "hovertemplate": "sector=%{x}<br>year=2012<br>avg_close=%{y}<br>stock=%{customdata[0]}<extra></extra>",
           "ids": [
            "TRV"
           ],
           "legendgroup": "Financial",
           "marker": {
            "color": "#FECB52",
            "pattern": {
             "shape": ""
            }
           },
           "name": "Financial",
           "orientation": "v",
           "showlegend": true,
           "textposition": "auto",
           "type": "bar",
           "x": [
            "Financial"
           ],
           "xaxis": "x",
           "y": {
            "bdata": "x/SEJR4QUEA=",
            "dtype": "f8"
           },
           "yaxis": "y"
          },
          {
           "customdata": [
            [
             "UTX"
            ]
           ],
           "hovertemplate": "sector=%{x}<br>year=2012<br>avg_close=%{y}<br>stock=%{customdata[0]}<extra></extra>",
           "ids": [
            "UTX"
           ],
           "legendgroup": "Aerospace and Defense",
           "marker": {
            "color": "#636efa",
            "pattern": {
             "shape": ""
            }
           },
           "name": "Aerospace and Defense",
           "orientation": "v",
           "showlegend": true,
           "textposition": "auto",
           "type": "bar",
           "x": [
            "Aerospace and Defense"
           ],
           "xaxis": "x",
           "y": {
            "bdata": "+wW7YduiU0A=",
            "dtype": "f8"
           },
           "yaxis": "y"
          },
          {
           "customdata": [
            [
             "VZ"
            ]
           ],
           "hovertemplate": "sector=%{x}<br>year=2012<br>avg_close=%{y}<br>stock=%{customdata[0]}<extra></extra>",
           "ids": [
            "VZ"
           ],
           "legendgroup": "Communication Services",
           "marker": {
            "color": "#EF553B",
            "pattern": {
             "shape": ""
            }
           },
           "name": "Communication Services",
           "orientation": "v",
           "showlegend": true,
           "textposition": "auto",
           "type": "bar",
           "x": [
            "Communication Services"
           ],
           "xaxis": "x",
           "y": {
            "bdata": "44i1+BQARUA=",
            "dtype": "f8"
           },
           "yaxis": "y"
          }
         ],
         "name": "2012"
        },
        {
         "data": [
          {
           "customdata": [
            [
             "AABA"
            ],
            [
             "AXP"
            ],
            [
             "GS"
            ],
            [
             "JPM"
            ]
           ],
           "hovertemplate": "sector=%{x}<br>year=2013<br>avg_close=%{y}<br>stock=%{customdata[0]}<extra></extra>",
           "ids": [
            "AABA",
            "AXP",
            "GS",
            "JPM"
           ],
           "legendgroup": "Financials",
           "marker": {
            "color": "#636efa",
            "pattern": {
             "shape": ""
            }
           },
           "name": "Financials",
           "orientation": "v",
           "showlegend": true,
           "textposition": "auto",
           "type": "bar",
           "x": [
            "Financials",
            "Financials",
            "Financials",
            "Financials"
           ],
           "xaxis": "x",
           "y": {
            "bdata": "4hEe4RG+O0Am7WtYIDdSQFM7tVM7k2NAnrlmOFPwSUA=",
            "dtype": "f8"
           },
           "yaxis": "y"
          },
          {
           "customdata": [
            [
             "AAPL"
            ],
            [
             "AMZN"
            ],
            [
             "CSCO"
            ],
            [
             "GOOGL"
            ],
            [
             "IBM"
            ],
            [
             "INTC"
            ],
            [
             "MSFT"
            ]
           ],
           "hovertemplate": "sector=%{x}<br>year=2013<br>avg_close=%{y}<br>stock=%{customdata[0]}<extra></extra>",
           "ids": [
            "AAPL",
            "AMZN",
            "CSCO",
            "GOOGL",
            "IBM",
            "INTC",
            "MSFT"
           ],
           "legendgroup": "Technology",
           "marker": {
            "color": "#EF553B",
            "pattern": {
             "shape": ""
            }
           },
           "name": "Technology",
           "orientation": "v",
           "showlegend": true,
           "textposition": "auto",
           "type": "bar",
           "x": [
            "Technology",
            "Technology",
            "Technology",
            "Technology",
            "Technology",
            "Technology",
            "Technology"
           ],
           "xaxis": "x",
           "y": {
            "bdata": "oWoQbTfhUEBi6nL7g6ByQDiBEziBozZAimdFIwGpe0BSXPi4wkRoQFreGMFEDzdAb+iGbug+QEA=",
            "dtype": "f8"
           },
           "yaxis": "y"
          },
          {
           "customdata": [
            [
             "BA"
            ],
            [
             "CAT"
            ],
            [
             "GE"
            ],
            [
             "MMM"
            ]
           ],
           "hovertemplate": "sector=%{x}<br>year=2013<br>avg_close=%{y}<br>stock=%{customdata[0]}<extra></extra>",
           "ids": [
            "BA",
            "CAT",
            "GE",
            "MMM"
           ],
           "legendgroup": "Industrials",
           "marker": {
            "color": "#00cc96",
            "pattern": {
             "shape": ""
            }
           },
           "name": "Industrials",
           "orientation": "v",
           "showlegend": true,
           "textposition": "auto",
           "type": "bar",
           "x": [
            "Industrials",
            "Industrials",
            "Industrials",
            "Industrials"
           ],
           "xaxis": "x",
           "y": {
            "bdata": "5M+XFgPHWUBCWLeovr1VQE6E3oG3AThAuOOhhLBuXEA=",
            "dtype": "f8"
           },
           "yaxis": "y"
          },
          {
           "customdata": [
            [
             "CVX"
            ],
            [
             "XOM"
            ]
           ],
           "hovertemplate": "sector=%{x}<br>year=2013<br>avg_close=%{y}<br>stock=%{customdata[0]}<extra></extra>",
           "ids": [
            "CVX",
            "XOM"
           ],
           "legendgroup": "Energy",
           "marker": {
            "color": "#ab63fa",
            "pattern": {
             "shape": ""
            }
           },
           "name": "Energy",
           "orientation": "v",
           "showlegend": true,
           "textposition": "auto",
           "type": "bar",
           "x": [
            "Energy",
            "Energy"
           ],
           "xaxis": "x",
           "y": {
            "bdata": "aIAGaIAOXkCVtK9hgaBWQA==",
            "dtype": "f8"
           },
           "yaxis": "y"
          },
          {
           "customdata": [
            [
             "DIS"
            ],
            [
             "HD"
            ],
            [
             "KO"
            ],
            [
             "MCD"
            ]
           ],
           "hovertemplate": "sector=%{x}<br>year=2013<br>avg_close=%{y}<br>stock=%{customdata[0]}<extra></extra>",
           "ids": [
            "DIS",
            "HD",
            "KO",
            "MCD"
           ],
           "legendgroup": "Consumer Discretionary",
           "marker": {
            "color": "#FFA15A",
            "pattern": {
             "shape": ""
            }
           },
           "name": "Consumer Discretionary",
           "orientation": "v",
           "showlegend": true,
           "textposition": "auto",
           "type": "bar",
           "x": [
            "Consumer Discretionary",
            "Consumer Discretionary",
            "Consumer Discretionary",
            "Consumer Discretionary"
           ],
           "xaxis": "x",
           "y": {
            "bdata": "tAuITaVxT0AHo2NtCZ5SQB09OOoJ1UNA6D67gNhQWEA=",
            "dtype": "f8"
           },
           "yaxis": "y"
          },
          {
           "customdata": [
            [
             "JNJ"
            ]
           ],
           "hovertemplate": "sector=%{x}<br>year=2013<br>avg_close=%{y}<br>stock=%{customdata[0]}<extra></extra>",
           "ids": [
            "JNJ"
           ],
           "legendgroup": "Health Care",
           "marker": {
            "color": "#19d3f3",
            "pattern": {
             "shape": ""
            }
           },
           "name": "Health Care",
           "orientation": "v",
           "showlegend": true,
           "textposition": "auto",
           "type": "bar",
           "x": [
            "Health Care"
           ],
           "xaxis": "x",
           "y": {
            "bdata": "CpzACZxwVUA=",
            "dtype": "f8"
           },
           "yaxis": "y"
          },
          {
           "customdata": [
            [
             "MRK"
            ],
            [
             "PFE"
            ],
            [
             "UNH"
            ]
           ],
           "hovertemplate": "sector=%{x}<br>year=2013<br>avg_close=%{y}<br>stock=%{customdata[0]}<extra></extra>",
           "ids": [
            "MRK",
            "PFE",
            "UNH"
           ],
           "legendgroup": "Healthcare",
           "marker": {
            "color": "#FF6692",
            "pattern": {
             "shape": ""
            }
           },
           "name": "Healthcare",
           "orientation": "v",
           "showlegend": true,
           "textposition": "auto",
           "type": "bar",
           "x": [
            "Healthcare",
            "Healthcare",
            "Healthcare"
           ],
           "xaxis": "x",
           "y": {
            "bdata": "vdVbvdUzR0B1rC1Befo8QAQT/Z2sUlBA",
            "dtype": "f8"
           },
           "yaxis": "y"
          },
          {
           "customdata": [
            [
             "NKE"
            ]
           ],
           "hovertemplate": "sector=%{x}<br>year=2013<br>avg_close=%{y}<br>stock=%{customdata[0]}<extra></extra>",
           "ids": [
            "NKE"
           ],
           "legendgroup": "Consumer Cyclical",
           "marker": {
            "color": "#B6E880",
            "pattern": {
             "shape": ""
            }
           },
           "name": "Consumer Cyclical",
           "orientation": "v",
           "showlegend": true,
           "textposition": "auto",
           "type": "bar",
           "x": [
            "Consumer Cyclical"
           ],
           "xaxis": "x",
           "y": {
            "bdata": "KqRCKqQyQEA=",
            "dtype": "f8"
           },
           "yaxis": "y"
          },
          {
           "customdata": [
            [
             "PG"
            ],
            [
             "WMT"
            ]
           ],
           "hovertemplate": "sector=%{x}<br>year=2013<br>avg_close=%{y}<br>stock=%{customdata[0]}<extra></extra>",
           "ids": [
            "PG",
            "WMT"
           ],
           "legendgroup": "Consumer Staples",
           "marker": {
            "color": "#FF97FF",
            "pattern": {
             "shape": ""
            }
           },
           "name": "Consumer Staples",
           "orientation": "v",
           "showlegend": true,
           "textposition": "auto",
           "type": "bar",
           "x": [
            "Consumer Staples",
            "Consumer Staples"
           ],
           "xaxis": "x",
           "y": {
            "bdata": "WZZlWZalU0DvHAJVg9RSQA==",
            "dtype": "f8"
           },
           "yaxis": "y"
          },
          {
           "customdata": [
            [
             "TRV"
            ]
           ],
           "hovertemplate": "sector=%{x}<br>year=2013<br>avg_close=%{y}<br>stock=%{customdata[0]}<extra></extra>",
           "ids": [
            "TRV"
           ],
           "legendgroup": "Financial",
           "marker": {
            "color": "#FECB52",
            "pattern": {
             "shape": ""
            }
           },
           "name": "Financial",
           "orientation": "v",
           "showlegend": true,
           "textposition": "auto",
           "type": "bar",
           "x": [
            "Financial"
           ],
           "xaxis": "x",
           "y": {
            "bdata": "bSoNOffZVEA=",
            "dtype": "f8"
           },
           "yaxis": "y"
          },
          {
           "customdata": [
            [
             "UTX"
            ]
           ],
           "hovertemplate": "sector=%{x}<br>year=2013<br>avg_close=%{y}<br>stock=%{customdata[0]}<extra></extra>",
           "ids": [
            "UTX"
           ],
           "legendgroup": "Aerospace and Defense",
           "marker": {
            "color": "#636efa",
            "pattern": {
             "shape": ""
            }
           },
           "name": "Aerospace and Defense",
           "orientation": "v",
           "showlegend": true,
           "textposition": "auto",
           "type": "bar",
           "x": [
            "Aerospace and Defense"
           ],
           "xaxis": "x",
           "y": {
            "bdata": "GqABGqDFWEA=",
            "dtype": "f8"
           },
           "yaxis": "y"
          },
          {
           "customdata": [
            [
             "VZ"
            ]
           ],
           "hovertemplate": "sector=%{x}<br>year=2013<br>avg_close=%{y}<br>stock=%{customdata[0]}<extra></extra>",
           "ids": [
            "VZ"
           ],
           "legendgroup": "Communication Services",
           "marker": {
            "color": "#EF553B",
            "pattern": {
             "shape": ""
            }
           },
           "name": "Communication Services",
           "orientation": "v",
           "showlegend": true,
           "textposition": "auto",
           "type": "bar",
           "x": [
            "Communication Services"
           ],
           "xaxis": "x",
           "y": {
            "bdata": "y7Isy7JUSEA=",
            "dtype": "f8"
           },
           "yaxis": "y"
          }
         ],
         "name": "2013"
        },
        {
         "data": [
          {
           "customdata": [
            [
             "AABA"
            ],
            [
             "AXP"
            ],
            [
             "GS"
            ],
            [
             "JPM"
            ]
           ],
           "hovertemplate": "sector=%{x}<br>year=2014<br>avg_close=%{y}<br>stock=%{customdata[0]}<extra></extra>",
           "ids": [
            "AABA",
            "AXP",
            "GS",
            "JPM"
           ],
           "legendgroup": "Financials",
           "marker": {
            "color": "#636efa",
            "pattern": {
             "shape": ""
            }
           },
           "name": "Financials",
           "orientation": "v",
           "showlegend": true,
           "textposition": "auto",
           "type": "bar",
           "x": [
            "Financials",
            "Financials",
            "Financials",
            "Financials"
           ],
           "xaxis": "x",
           "y": {
            "bdata": "KELvwNu4Q0DcZxcQm3JWQLjjoYSwrGVAfZdEFjEWTUA=",
            "dtype": "f8"
           },
           "yaxis": "y"
          },
          {
           "customdata": [
            [
             "AAPL"
            ],
            [
             "AMZN"
            ],
            [
             "CSCO"
            ],
            [
             "GOOGL"
            ],
            [
             "IBM"
            ],
            [
             "INTC"
            ],
            [
             "MSFT"
            ]
           ],
           "hovertemplate": "sector=%{x}<br>year=2014<br>avg_close=%{y}<br>stock=%{customdata[0]}<extra></extra>",
           "ids": [
            "AAPL",
            "AMZN",
            "CSCO",
            "GOOGL",
            "IBM",
            "INTC",
            "MSFT"
           ],
           "legendgroup": "Technology",
           "marker": {
            "color": "#EF553B",
            "pattern": {
             "shape": ""
            }
           },
           "name": "Technology",
           "orientation": "v",
           "showlegend": true,
           "textposition": "auto",
           "type": "bar",
           "x": [
            "Technology",
            "Technology",
            "Technology",
            "Technology",
            "Technology",
            "Technology",
            "Technology"
           ],
           "xaxis": "x",
           "y": {
            "bdata": "j/AIj/AQV0AkatWJ0Mh0QA3QAA3QQDhACWHdovrAgUACVYNou8lmQNc6enDUUz5AOm2g0wY6RUA=",
            "dtype": "f8"
           },
           "yaxis": "y"
          },
          {
           "customdata": [
            [
             "BA"
            ],
            [
             "CAT"
            ],
            [
             "GE"
            ],
            [
             "MMM"
            ]
           ],
           "hovertemplate": "sector=%{x}<br>year=2014<br>avg_close=%{y}<br>stock=%{customdata[0]}<extra></extra>",
           "ids": [
            "BA",
            "CAT",
            "GE",
            "MMM"
           ],
           "legendgroup": "Industrials",
           "marker": {
            "color": "#00cc96",
            "pattern": {
             "shape": ""
            }
           },
           "name": "Industrials",
           "orientation": "v",
           "showlegend": true,
           "textposition": "auto",
           "type": "bar",
           "x": [
            "Industrials",
            "Industrials",
            "Industrials",
            "Industrials"
           ],
           "xaxis": "x",
           "y": {
            "bdata": "zWPW/5YLYEBo3Cw0qS1ZQOh5nud5/jlA5lIu5VLYYUA=",
            "dtype": "f8"
           },
           "yaxis": "y"
          },
          {
           "customdata": [
            [
             "CVX"
            ],
            [
             "XOM"
            ]
           ],
           "hovertemplate": "sector=%{x}<br>year=2014<br>avg_close=%{y}<br>stock=%{customdata[0]}<extra></extra>",
           "ids": [
            "CVX",
            "XOM"
           ],
           "legendgroup": "Energy",
           "marker": {
            "color": "#ab63fa",
            "pattern": {
             "shape": ""
            }
           },
           "name": "Energy",
           "orientation": "v",
           "showlegend": true,
           "textposition": "auto",
           "type": "bar",
           "x": [
            "Energy",
            "Energy"
           ],
           "xaxis": "x",
           "y": {
            "bdata": "2hKUp98gXkA742ahSVFYQA==",
            "dtype": "f8"
           },
           "yaxis": "y"
          },
          {
           "customdata": [
            [
             "DIS"
            ],
            [
             "HD"
            ],
            [
             "KO"
            ],
            [
             "MCD"
            ]
           ],
           "hovertemplate": "sector=%{x}<br>year=2014<br>avg_close=%{y}<br>stock=%{customdata[0]}<extra></extra>",
           "ids": [
            "DIS",
            "HD",
            "KO",
            "MCD"
           ],
           "legendgroup": "Consumer Discretionary",
           "marker": {
            "color": "#FFA15A",
            "pattern": {
             "shape": ""
            }
           },
           "name": "Consumer Discretionary",
           "orientation": "v",
           "showlegend": true,
           "textposition": "auto",
           "type": "bar",
           "x": [
            "Consumer Discretionary",
            "Consumer Discretionary",
            "Consumer Discretionary",
            "Consumer Discretionary"
           ],
           "xaxis": "x",
           "y": {
            "bdata": "qp3aqZ0eVUBqMbCcZFtVQKJJzQewa0RAYdDS+WkYWEA=",
            "dtype": "f8"
           },
           "yaxis": "y"
          },
          {
           "customdata": [
            [
             "JNJ"
            ]
           ],
           "hovertemplate": "sector=%{x}<br>year=2014<br>avg_close=%{y}<br>stock=%{customdata[0]}<extra></extra>",
           "ids": [
            "JNJ"
           ],
           "legendgroup": "Health Care",
           "marker": {
            "color": "#19d3f3",
            "pattern": {
             "shape": ""
            }
           },
           "name": "Health Care",
           "orientation": "v",
           "showlegend": true,
           "textposition": "auto",
           "type": "bar",
           "x": [
            "Health Care"
           ],
           "xaxis": "x",
           "y": {
            "bdata": "9vpIKS40WUA=",
            "dtype": "f8"
           },
           "yaxis": "y"
          },
          {
           "customdata": [
            [
             "MRK"
            ],
            [
             "PFE"
            ],
            [
             "UNH"
            ]
           ],
           "hovertemplate": "sector=%{x}<br>year=2014<br>avg_close=%{y}<br>stock=%{customdata[0]}<extra></extra>",
           "ids": [
            "MRK",
            "PFE",
            "UNH"
           ],
           "legendgroup": "Healthcare",
           "marker": {
            "color": "#FF6692",
            "pattern": {
             "shape": ""
            }
           },
           "name": "Healthcare",
           "orientation": "v",
           "showlegend": true,
           "textposition": "auto",
           "type": "bar",
           "x": [
            "Healthcare",
            "Healthcare",
            "Healthcare"
           ],
           "xaxis": "x",
           "y": {
            "bdata": "h6nL7Q+aTECC5SQbf04+QKKyw9Tl2lRA",
            "dtype": "f8"
           },
           "yaxis": "y"
          },
          {
           "customdata": [
            [
             "NKE"
            ]
           ],
           "hovertemplate": "sector=%{x}<br>year=2014<br>avg_close=%{y}<br>stock=%{customdata[0]}<extra></extra>",
           "ids": [
            "NKE"
           ],
           "legendgroup": "Consumer Cyclical",
           "marker": {
            "color": "#B6E880",
            "pattern": {
             "shape": ""
            }
           },
           "name": "Consumer Cyclical",
           "orientation": "v",
           "showlegend": true,
           "textposition": "auto",
           "type": "bar",
           "x": [
            "Consumer Cyclical"
           ],
           "xaxis": "x",
           "y": {
            "bdata": "8hVf8RU3REA=",
            "dtype": "f8"
           },
           "yaxis": "y"
          },
          {
           "customdata": [
            [
             "PG"
            ],
            [
             "WMT"
            ]
           ],
           "hovertemplate": "sector=%{x}<br>year=2014<br>avg_close=%{y}<br>stock=%{customdata[0]}<extra></extra>",
           "ids": [
            "PG",
            "WMT"
           ],
           "legendgroup": "Consumer Staples",
           "marker": {
            "color": "#FF97FF",
            "pattern": {
             "shape": ""
            }
           },
           "name": "Consumer Staples",
           "orientation": "v",
           "showlegend": true,
           "textposition": "auto",
           "type": "bar",
           "x": [
            "Consumer Staples",
            "Consumer Staples"
           ],
           "xaxis": "x",
           "y": {
            "bdata": "Zh6z/reYVEDP8zzP81RTQA==",
            "dtype": "f8"
           },
           "yaxis": "y"
          },
          {
           "customdata": [
            [
             "TRV"
            ]
           ],
           "hovertemplate": "sector=%{x}<br>year=2014<br>avg_close=%{y}<br>stock=%{customdata[0]}<extra></extra>",
           "ids": [
            "TRV"
           ],
           "legendgroup": "Financial",
           "marker": {
            "color": "#FECB52",
            "pattern": {
             "shape": ""
            }
           },
           "name": "Financial",
           "orientation": "v",
           "showlegend": true,
           "textposition": "auto",
           "type": "bar",
           "x": [
            "Financial"
           ],
           "xaxis": "x",
           "y": {
            "bdata": "Sc0HsDMeV0A=",
            "dtype": "f8"
           },
           "yaxis": "y"
          },
          {
           "customdata": [
            [
             "UTX"
            ]
           ],
           "hovertemplate": "sector=%{x}<br>year=2014<br>avg_close=%{y}<br>stock=%{customdata[0]}<extra></extra>",
           "ids": [
            "UTX"
           ],
           "legendgroup": "Aerospace and Defense",
           "marker": {
            "color": "#636efa",
            "pattern": {
             "shape": ""
            }
           },
           "name": "Aerospace and Defense",
           "orientation": "v",
           "showlegend": true,
           "textposition": "auto",
           "type": "bar",
           "x": [
            "Aerospace and Defense"
           ],
           "xaxis": "x",
           "y": {
            "bdata": "sDNuFpoEXEA=",
            "dtype": "f8"
           },
           "yaxis": "y"
          },
          {
           "customdata": [
            [
             "VZ"
            ]
           ],
           "hovertemplate": "sector=%{x}<br>year=2014<br>avg_close=%{y}<br>stock=%{customdata[0]}<extra></extra>",
           "ids": [
            "VZ"
           ],
           "legendgroup": "Communication Services",
           "marker": {
            "color": "#EF553B",
            "pattern": {
             "shape": ""
            }
           },
           "name": "Communication Services",
           "orientation": "v",
           "showlegend": true,
           "textposition": "auto",
           "type": "bar",
           "x": [
            "Communication Services"
           ],
           "xaxis": "x",
           "y": {
            "bdata": "+EL8kNxNSEA=",
            "dtype": "f8"
           },
           "yaxis": "y"
          }
         ],
         "name": "2014"
        },
        {
         "data": [
          {
           "customdata": [
            [
             "AABA"
            ],
            [
             "AXP"
            ],
            [
             "GS"
            ],
            [
             "JPM"
            ]
           ],
           "hovertemplate": "sector=%{x}<br>year=2015<br>avg_close=%{y}<br>stock=%{customdata[0]}<extra></extra>",
           "ids": [
            "AABA",
            "AXP",
            "GS",
            "JPM"
           ],
           "legendgroup": "Financials",
           "marker": {
            "color": "#636efa",
            "pattern": {
             "shape": ""
            }
           },
           "name": "Financials",
           "orientation": "v",
           "showlegend": true,
           "textposition": "auto",
           "type": "bar",
           "x": [
            "Financials",
            "Financials",
            "Financials",
            "Financials"
           ],
           "xaxis": "x",
           "y": {
            "bdata": "37yaeFZ8Q0BbsAVbsH1TQJscMGjpHmhAVvkuiSzqT0A=",
            "dtype": "f8"
           },
           "yaxis": "y"
          },
          {
           "customdata": [
            [
             "AAPL"
            ],
            [
             "AMZN"
            ],
            [
             "CSCO"
            ],
            [
             "GOOGL"
            ],
            [
             "IBM"
            ],
            [
             "INTC"
            ],
            [
             "MSFT"
            ]
           ],
           "hovertemplate": "sector=%{x}<br>year=2015<br>avg_close=%{y}<br>stock=%{customdata[0]}<extra></extra>",
           "ids": [
            "AAPL",
            "AMZN",
            "CSCO",
            "GOOGL",
            "IBM",
            "INTC",
            "MSFT"
           ],
           "legendgroup": "Technology",
           "marker": {
            "color": "#EF553B",
            "pattern": {
             "shape": ""
            }
           },
           "name": "Technology",
           "orientation": "v",
           "showlegend": true,
           "textposition": "auto",
           "type": "bar",
           "x": [
            "Technology",
            "Technology",
            "Technology",
            "Technology",
            "Technology",
            "Technology",
            "Technology"
           ],
           "xaxis": "x",
           "y": {
            "bdata": "3FpHD44CXkB0NmdzNuJ9QDP4T8yR2TtABmiABuhfg0C73P4gQ2tjQDoRegfeFkBAg5bOT2NbR0A=",
            "dtype": "f8"
           },
           "yaxis": "y"
          },
          {
           "customdata": [
            [
             "BA"
            ],
            [
             "CAT"
            ],
            [
             "GE"
            ],
            [
             "MMM"
            ]
           ],
           "hovertemplate": "sector=%{x}<br>year=2015<br>avg_close=%{y}<br>stock=%{customdata[0]}<extra></extra>",
           "ids": [
            "BA",
            "CAT",
            "GE",
            "MMM"
           ],
           "legendgroup": "Industrials",
           "marker": {
            "color": "#00cc96",
            "pattern": {
             "shape": ""
            }
           },
           "name": "Industrials",
           "orientation": "v",
           "showlegend": true,
           "textposition": "auto",
           "type": "bar",
           "x": [
            "Industrials",
            "Industrials",
            "Industrials",
            "Industrials"
           ],
           "xaxis": "x",
           "y": {
            "bdata": "CcrTbzDwYUBrp3Zqp7JTQC4GlpNszDpAvqdIV0GMY0A=",
            "dtype": "f8"
           },
           "yaxis": "y"
          },
          {
           "customdata": [
            [
             "CVX"
            ],
            [
             "XOM"
            ]
           ],
           "hovertemplate": "sector=%{x}<br>year=2015<br>avg_close=%{y}<br>stock=%{customdata[0]}<extra></extra>",
           "ids": [
            "CVX",
            "XOM"
           ],
           "legendgroup": "Energy",
           "marker": {
            "color": "#ab63fa",
            "pattern": {
             "shape": ""
            }
           },
           "name": "Energy",
           "orientation": "v",
           "showlegend": true,
           "textposition": "auto",
           "type": "bar",
           "x": [
            "Energy",
            "Energy"
           ],
           "xaxis": "x",
           "y": {
            "bdata": "Gc4UgDQXWED3niJdBbVUQA==",
            "dtype": "f8"
           },
           "yaxis": "y"
          },
          {
           "customdata": [
            [
             "DIS"
            ],
            [
             "HD"
            ],
            [
             "KO"
            ],
            [
             "MCD"
            ]
           ],
           "hovertemplate": "sector=%{x}<br>year=2015<br>avg_close=%{y}<br>stock=%{customdata[0]}<extra></extra>",
           "ids": [
            "DIS",
            "HD",
            "KO",
            "MCD"
           ],
           "legendgroup": "Consumer Discretionary",
           "marker": {
            "color": "#FFA15A",
            "pattern": {
             "shape": ""
            }
           },
           "name": "Consumer Discretionary",
           "orientation": "v",
           "showlegend": true,
           "textposition": "auto",
           "type": "bar",
           "x": [
            "Consumer Discretionary",
            "Consumer Discretionary",
            "Consumer Discretionary",
            "Consumer Discretionary"
           ],
           "xaxis": "x",
           "y": {
            "bdata": "F3mRF3n1WkCi4NY6ehhdQG/ohm7onkRAPIdA1SASWUA=",
            "dtype": "f8"
           },
           "yaxis": "y"
          },
          {
           "customdata": [
            [
             "JNJ"
            ]
           ],
           "hovertemplate": "sector=%{x}<br>year=2015<br>avg_close=%{y}<br>stock=%{customdata[0]}<extra></extra>",
           "ids": [
            "JNJ"
           ],
           "legendgroup": "Health Care",
           "marker": {
            "color": "#19d3f3",
            "pattern": {
             "shape": ""
            }
           },
           "name": "Health Care",
           "orientation": "v",
           "showlegend": true,
           "textposition": "auto",
           "type": "bar",
           "x": [
            "Health Care"
           ],
           "xaxis": "x",
           "y": {
            "bdata": "sDNuFprwWEA=",
            "dtype": "f8"
           },
           "yaxis": "y"
          },
          {
           "customdata": [
            [
             "MRK"
            ],
            [
             "PFE"
            ],
            [
             "UNH"
            ]
           ],
           "hovertemplate": "sector=%{x}<br>year=2015<br>avg_close=%{y}<br>stock=%{customdata[0]}<extra></extra>",
           "ids": [
            "MRK",
            "PFE",
            "UNH"
           ],
           "legendgroup": "Healthcare",
           "marker": {
            "color": "#FF6692",
            "pattern": {
             "shape": ""
            }
           },
           "name": "Healthcare",
           "orientation": "v",
           "showlegend": true,
           "textposition": "auto",
           "type": "bar",
           "x": [
            "Healthcare",
            "Healthcare",
            "Healthcare"
           ],
           "xaxis": "x",
           "y": {
            "bdata": "OxF6B95OTEA5YNDS+dlAQOVFXuRFIl1A",
            "dtype": "f8"
           },
           "yaxis": "y"
          },
          {
           "customdata": [
            [
             "NKE"
            ]
           ],
           "hovertemplate": "sector=%{x}<br>year=2015<br>avg_close=%{y}<br>stock=%{customdata[0]}<extra></extra>",
           "ids": [
            "NKE"
           ],
           "legendgroup": "Consumer Cyclical",
           "marker": {
            "color": "#B6E880",
            "pattern": {
             "shape": ""
            }
           },
           "name": "Consumer Cyclical",
           "orientation": "v",
           "showlegend": true,
           "textposition": "auto",
           "type": "bar",
           "x": [
            "Consumer Cyclical"
           ],
           "xaxis": "x",
           "y": {
            "bdata": "69vxUEKQS0A=",
            "dtype": "f8"
           },
           "yaxis": "y"
          },
          {
           "customdata": [
            [
             "PG"
            ],
            [
             "WMT"
            ]
           ],
           "hovertemplate": "sector=%{x}<br>year=2015<br>avg_close=%{y}<br>stock=%{customdata[0]}<extra></extra>",
           "ids": [
            "PG",
            "WMT"
           ],
           "legendgroup": "Consumer Staples",
           "marker": {
            "color": "#FF97FF",
            "pattern": {
             "shape": ""
            }
           },
           "name": "Consumer Staples",
           "orientation": "v",
           "showlegend": true,
           "textposition": "auto",
           "type": "bar",
           "x": [
            "Consumer Staples",
            "Consumer Staples"
           ],
           "xaxis": "x",
           "y": {
            "bdata": "xD3cwz3YU0AqO0xdbh9SQA==",
            "dtype": "f8"
           },
           "yaxis": "y"
          },
          {
           "customdata": [
            [
             "TRV"
            ]
           ],
           "hovertemplate": "sector=%{x}<br>year=2015<br>avg_close=%{y}<br>stock=%{customdata[0]}<extra></extra>",
           "ids": [
            "TRV"
           ],
           "legendgroup": "Financial",
           "marker": {
            "color": "#FECB52",
            "pattern": {
             "shape": ""
            }
           },
           "name": "Financial",
           "orientation": "v",
           "showlegend": true,
           "textposition": "auto",
           "type": "bar",
           "x": [
            "Financial"
           ],
           "xaxis": "x",
           "y": {
            "bdata": "QrTddOdoWkA=",
            "dtype": "f8"
           },
           "yaxis": "y"
          },
          {
           "customdata": [
            [
             "UTX"
            ]
           ],
           "hovertemplate": "sector=%{x}<br>year=2015<br>avg_close=%{y}<br>stock=%{customdata[0]}<extra></extra>",
           "ids": [
            "UTX"
           ],
           "legendgroup": "Aerospace and Defense",
           "marker": {
            "color": "#636efa",
            "pattern": {
             "shape": ""
            }
           },
           "name": "Aerospace and Defense",
           "orientation": "v",
           "showlegend": true,
           "textposition": "auto",
           "type": "bar",
           "x": [
            "Aerospace and Defense"
           ],
           "xaxis": "x",
           "y": {
            "bdata": "JihPv8HIWkA=",
            "dtype": "f8"
           },
           "yaxis": "y"
          },
          {
           "customdata": [
            [
             "VZ"
            ]
           ],
           "hovertemplate": "sector=%{x}<br>year=2015<br>avg_close=%{y}<br>stock=%{customdata[0]}<extra></extra>",
           "ids": [
            "VZ"
           ],
           "legendgroup": "Communication Services",
           "marker": {
            "color": "#EF553B",
            "pattern": {
             "shape": ""
            }
           },
           "name": "Communication Services",
           "orientation": "v",
           "showlegend": true,
           "textposition": "auto",
           "type": "bar",
           "x": [
            "Communication Services"
           ],
           "xaxis": "x",
           "y": {
            "bdata": "XMqlXMqVR0A=",
            "dtype": "f8"
           },
           "yaxis": "y"
          }
         ],
         "name": "2015"
        },
        {
         "data": [
          {
           "customdata": [
            [
             "AABA"
            ],
            [
             "AXP"
            ],
            [
             "GS"
            ],
            [
             "JPM"
            ]
           ],
           "hovertemplate": "sector=%{x}<br>year=2016<br>avg_close=%{y}<br>stock=%{customdata[0]}<extra></extra>",
           "ids": [
            "AABA",
            "AXP",
            "GS",
            "JPM"
           ],
           "legendgroup": "Financials",
           "marker": {
            "color": "#636efa",
            "pattern": {
             "shape": ""
            }
           },
           "name": "Financials",
           "orientation": "v",
           "showlegend": true,
           "textposition": "auto",
           "type": "bar",
           "x": [
            "Financials",
            "Financials",
            "Financials",
            "Financials"
           ],
           "xaxis": "x",
           "y": {
            "bdata": "pNkz1wzPQkAmv1jyi+VPQIfX3lOkI2VAPtzDPdxnUEA=",
            "dtype": "f8"
           },
           "yaxis": "y"
          },
          {
           "customdata": [
            [
             "AAPL"
            ],
            [
             "AMZN"
            ],
            [
             "CSCO"
            ],
            [
             "GOOGL"
            ],
            [
             "IBM"
            ],
            [
             "INTC"
            ],
            [
             "MSFT"
            ]
           ],
           "hovertemplate": "sector=%{x}<br>year=2016<br>avg_close=%{y}<br>stock=%{customdata[0]}<extra></extra>",
           "ids": [
            "AAPL",
            "AMZN",
            "CSCO",
            "GOOGL",
            "IBM",
            "INTC",
            "MSFT"
           ],
           "legendgroup": "Technology",
           "marker": {
            "color": "#EF553B",
            "pattern": {
             "shape": ""
            }
           },
           "name": "Technology",
           "orientation": "v",
           "showlegend": true,
           "textposition": "auto",
           "type": "bar",
           "x": [
            "Technology",
            "Technology",
            "Technology",
            "Technology",
            "Technology",
            "Technology",
            "Technology"
           ],
           "xaxis": "x",
           "y": {
            "bdata": "3XTnEKgmWkAufFxhL9yFQNXyxggmyjxAf4PRsbbZh0Ci4NY6etBiQG9RfTseqkBAkzEZkzGhS0A=",
            "dtype": "f8"
           },
           "yaxis": "y"
          },
          {
           "customdata": [
            [
             "BA"
            ],
            [
             "CAT"
            ],
            [
             "GE"
            ],
            [
             "MMM"
            ]
           ],
           "hovertemplate": "sector=%{x}<br>year=2016<br>avg_close=%{y}<br>stock=%{customdata[0]}<extra></extra>",
           "ids": [
            "BA",
            "CAT",
            "GE",
            "MMM"
           ],
           "legendgroup": "Industrials",
           "marker": {
            "color": "#00cc96",
            "pattern": {
             "shape": ""
            }
           },
           "name": "Industrials",
           "orientation": "v",
           "showlegend": true,
           "textposition": "auto",
           "type": "bar",
           "x": [
            "Industrials",
            "Industrials",
            "Industrials",
            "Industrials"
           ],
           "xaxis": "x",
           "y": {
            "bdata": "eZEXeZGjYEBLrMRKrKxTQMK6RfXtWD5A85j1v2UQZUA=",
            "dtype": "f8"
           },
           "yaxis": "y"
          },
          {
           "customdata": [
            [
             "CVX"
            ],
            [
             "XOM"
            ]
           ],
           "hovertemplate": "sector=%{x}<br>year=2016<br>avg_close=%{y}<br>stock=%{customdata[0]}<extra></extra>",
           "ids": [
            "CVX",
            "XOM"
           ],
           "legendgroup": "Energy",
           "marker": {
            "color": "#ab63fa",
            "pattern": {
             "shape": ""
            }
           },
           "name": "Energy",
           "orientation": "v",
           "showlegend": true,
           "textposition": "auto",
           "type": "bar",
           "x": [
            "Energy",
            "Energy"
           ],
           "xaxis": "x",
           "y": {
            "bdata": "srYE5en3WEAU3FpHD45VQA==",
            "dtype": "f8"
           },
           "yaxis": "y"
          },
          {
           "customdata": [
            [
             "DIS"
            ],
            [
             "HD"
            ],
            [
             "KO"
            ],
            [
             "MCD"
            ]
           ],
           "hovertemplate": "sector=%{x}<br>year=2016<br>avg_close=%{y}<br>stock=%{customdata[0]}<extra></extra>",
           "ids": [
            "DIS",
            "HD",
            "KO",
            "MCD"
           ],
           "legendgroup": "Consumer Discretionary",
           "marker": {
            "color": "#FFA15A",
            "pattern": {
             "shape": ""
            }
           },
           "name": "Consumer Discretionary",
           "orientation": "v",
           "showlegend": true,
           "textposition": "auto",
           "type": "bar",
           "x": [
            "Consumer Discretionary",
            "Consumer Discretionary",
            "Consumer Discretionary",
            "Consumer Discretionary"
           ],
           "xaxis": "x",
           "y": {
            "bdata": "fyer5Y1dWEDXDGcKQDpgQPYoXI/CxUVAa3ljBBMJXkA=",
            "dtype": "f8"
           },
           "yaxis": "y"
          },
          {
           "customdata": [
            [
             "JNJ"
            ]
           ],
           "hovertemplate": "sector=%{x}<br>year=2016<br>avg_close=%{y}<br>stock=%{customdata[0]}<extra></extra>",
           "ids": [
            "JNJ"
           ],
           "legendgroup": "Health Care",
           "marker": {
            "color": "#19d3f3",
            "pattern": {
             "shape": ""
            }
           },
           "name": "Health Care",
           "orientation": "v",
           "showlegend": true,
           "textposition": "auto",
           "type": "bar",
           "x": [
            "Health Care"
           ],
           "xaxis": "x",
           "y": {
            "bdata": "OxF6B95mXEA=",
            "dtype": "f8"
           },
           "yaxis": "y"
          },
          {
           "customdata": [
            [
             "MRK"
            ],
            [
             "PFE"
            ],
            [
             "UNH"
            ]
           ],
           "hovertemplate": "sector=%{x}<br>year=2016<br>avg_close=%{y}<br>stock=%{customdata[0]}<extra></extra>",
           "ids": [
            "MRK",
            "PFE",
            "UNH"
           ],
           "legendgroup": "Healthcare",
           "marker": {
            "color": "#FF6692",
            "pattern": {
             "shape": ""
            }
           },
           "name": "Healthcare",
           "orientation": "v",
           "showlegend": true,
           "textposition": "auto",
           "type": "bar",
           "x": [
            "Healthcare",
            "Healthcare",
            "Healthcare"
           ],
           "xaxis": "x",
           "y": {
            "bdata": "y+0PMlS+TEBOhN6Bt2lAQDMzMzMz7WBA",
            "dtype": "f8"
           },
           "yaxis": "y"
          },
          {
           "customdata": [
            [
             "NKE"
            ]
           ],
           "hovertemplate": "sector=%{x}<br>year=2016<br>avg_close=%{y}<br>stock=%{customdata[0]}<extra></extra>",
           "ids": [
            "NKE"
           ],
           "legendgroup": "Consumer Cyclical",
           "marker": {
            "color": "#B6E880",
            "pattern": {
             "shape": ""
            }
           },
           "name": "Consumer Cyclical",
           "orientation": "v",
           "showlegend": true,
           "textposition": "auto",
           "type": "bar",
           "x": [
            "Consumer Cyclical"
           ],
           "xaxis": "x",
           "y": {
            "bdata": "4T8xR6YfTEA=",
            "dtype": "f8"
           },
           "yaxis": "y"
          },
          {
           "customdata": [
            [
             "PG"
            ],
            [
             "WMT"
            ]
           ],
           "hovertemplate": "sector=%{x}<br>year=2016<br>avg_close=%{y}<br>stock=%{customdata[0]}<extra></extra>",
           "ids": [
            "PG",
            "WMT"
           ],
           "legendgroup": "Consumer Staples",
           "marker": {
            "color": "#FF97FF",
            "pattern": {
             "shape": ""
            }
           },
           "name": "Consumer Staples",
           "orientation": "v",
           "showlegend": true,
           "textposition": "auto",
           "type": "bar",
           "x": [
            "Consumer Staples",
            "Consumer Staples"
           ],
           "xaxis": "x",
           "y": {
            "bdata": "di/ED8ntVEDkz5cWA2NRQA==",
            "dtype": "f8"
           },
           "yaxis": "y"
          },
          {
           "customdata": [
            [
             "TRV"
            ]
           ],
           "hovertemplate": "sector=%{x}<br>year=2016<br>avg_close=%{y}<br>stock=%{customdata[0]}<extra></extra>",
           "ids": [
            "TRV"
           ],
           "legendgroup": "Financial",
           "marker": {
            "color": "#FECB52",
            "pattern": {
             "shape": ""
            }
           },
           "name": "Financial",
           "orientation": "v",
           "showlegend": true,
           "textposition": "auto",
           "type": "bar",
           "x": [
            "Financial"
           ],
           "xaxis": "x",
           "y": {
            "bdata": "9DzP8zxbXEA=",
            "dtype": "f8"
           },
           "yaxis": "y"
          },
          {
           "customdata": [
            [
             "UTX"
            ]
           ],
           "hovertemplate": "sector=%{x}<br>year=2016<br>avg_close=%{y}<br>stock=%{customdata[0]}<extra></extra>",
           "ids": [
            "UTX"
           ],
           "legendgroup": "Aerospace and Defense",
           "marker": {
            "color": "#636efa",
            "pattern": {
             "shape": ""
            }
           },
           "name": "Aerospace and Defense",
           "orientation": "v",
           "showlegend": true,
           "textposition": "auto",
           "type": "bar",
           "x": [
            "Aerospace and Defense"
           ],
           "xaxis": "x",
           "y": {
            "bdata": "98w1w5lOWUA=",
            "dtype": "f8"
           },
           "yaxis": "y"
          },
          {
           "customdata": [
            [
             "VZ"
            ]
           ],
           "hovertemplate": "sector=%{x}<br>year=2016<br>avg_close=%{y}<br>stock=%{customdata[0]}<extra></extra>",
           "ids": [
            "VZ"
           ],
           "legendgroup": "Communication Services",
           "marker": {
            "color": "#EF553B",
            "pattern": {
             "shape": ""
            }
           },
           "name": "Communication Services",
           "orientation": "v",
           "showlegend": true,
           "textposition": "auto",
           "type": "bar",
           "x": [
            "Communication Services"
           ],
           "xaxis": "x",
           "y": {
            "bdata": "JGrVidCzSUA=",
            "dtype": "f8"
           },
           "yaxis": "y"
          }
         ],
         "name": "2016"
        },
        {
         "data": [
          {
           "customdata": [
            [
             "AABA"
            ],
            [
             "AXP"
            ],
            [
             "GS"
            ],
            [
             "JPM"
            ]
           ],
           "hovertemplate": "sector=%{x}<br>year=2017<br>avg_close=%{y}<br>stock=%{customdata[0]}<extra></extra>",
           "ids": [
            "AABA",
            "AXP",
            "GS",
            "JPM"
           ],
           "legendgroup": "Financials",
           "marker": {
            "color": "#636efa",
            "pattern": {
             "shape": ""
            }
           },
           "name": "Financials",
           "orientation": "v",
           "showlegend": true,
           "textposition": "auto",
           "type": "bar",
           "x": [
            "Financials",
            "Financials",
            "Financials",
            "Financials"
           ],
           "xaxis": "x",
           "y": {
            "bdata": "N+x2X/Q+TED/irvZjSlVQAUoOa3OMm1ADZKsfnUAV0A=",
            "dtype": "f8"
           },
           "yaxis": "y"
          },
          {
           "customdata": [
            [
             "AAPL"
            ],
            [
             "AMZN"
            ],
            [
             "CSCO"
            ],
            [
             "GOOGL"
            ],
            [
             "IBM"
            ],
            [
             "INTC"
            ],
            [
             "MSFT"
            ]
           ],
           "hovertemplate": "sector=%{x}<br>year=2017<br>avg_close=%{y}<br>stock=%{customdata[0]}<extra></extra>",
           "ids": [
            "AAPL",
            "AMZN",
            "CSCO",
            "GOOGL",
            "IBM",
            "INTC",
            "MSFT"
           ],
           "legendgroup": "Technology",
           "marker": {
            "color": "#EF553B",
            "pattern": {
             "shape": ""
            }
           },
           "name": "Technology",
           "orientation": "v",
           "showlegend": true,
           "textposition": "auto",
           "type": "bar",
           "x": [
            "Technology",
            "Technology",
            "Technology",
            "Technology",
            "Technology",
            "Technology",
            "Technology"
           ],
           "xaxis": "x",
           "y": {
            "bdata": "Cd3yFaLRYkCfxVwKVkGOQKL/gqdSkkBAF7885S9ejUBjr+cbHLVjQFOLYyi25UJAhfNlP/r+UUA=",
            "dtype": "f8"
           },
           "yaxis": "y"
          },
          {
           "customdata": [
            [
             "BA"
            ],
            [
             "CAT"
            ],
            [
             "GE"
            ],
            [
             "MMM"
            ]
           ],
           "hovertemplate": "sector=%{x}<br>year=2017<br>avg_close=%{y}<br>stock=%{customdata[0]}<extra></extra>",
           "ids": [
            "BA",
            "CAT",
            "GE",
            "MMM"
           ],
           "legendgroup": "Industrials",
           "marker": {
            "color": "#00cc96",
            "pattern": {
             "shape": ""
            }
           },
           "name": "Industrials",
           "orientation": "v",
           "showlegend": true,
           "textposition": "auto",
           "type": "bar",
           "x": [
            "Industrials",
            "Industrials",
            "Industrials",
            "Industrials"
           ],
           "xaxis": "x",
           "y": {
            "bdata": "apo9Xv7nakCL6JTqLiZcQG1XC06t+DlA6eZMYWWpaUA=",
            "dtype": "f8"
           },
           "yaxis": "y"
          },
          {
           "customdata": [
            [
             "CVX"
            ],
            [
             "XOM"
            ]
           ],
           "hovertemplate": "sector=%{x}<br>year=2017<br>avg_close=%{y}<br>stock=%{customdata[0]}<extra></extra>",
           "ids": [
            "CVX",
            "XOM"
           ],
           "legendgroup": "Energy",
           "marker": {
            "color": "#ab63fa",
            "pattern": {
             "shape": ""
            }
           },
           "name": "Energy",
           "orientation": "v",
           "showlegend": true,
           "textposition": "auto",
           "type": "bar",
           "x": [
            "Energy",
            "Energy"
           ],
           "xaxis": "x",
           "y": {
            "bdata": "PY1+9iLdW0DpwaWLC3dUQA==",
            "dtype": "f8"
           },
           "yaxis": "y"
          },
          {
           "customdata": [
            [
             "DIS"
            ],
            [
             "HD"
            ],
            [
             "KO"
            ],
            [
             "MCD"
            ]
           ],
           "hovertemplate": "sector=%{x}<br>year=2017<br>avg_close=%{y}<br>stock=%{customdata[0]}<extra></extra>",
           "ids": [
            "DIS",
            "HD",
            "KO",
            "MCD"
           ],
           "legendgroup": "Consumer Discretionary",
           "marker": {
            "color": "#FFA15A",
            "pattern": {
             "shape": ""
            }
           },
           "name": "Consumer Discretionary",
           "orientation": "v",
           "showlegend": true,
           "textposition": "auto",
           "type": "bar",
           "x": [
            "Consumer Discretionary",
            "Consumer Discretionary",
            "Consumer Discretionary",
            "Consumer Discretionary"
           ],
           "xaxis": "x",
           "y": {
            "bdata": "ipyBXQSXWkDc/O4K/GpjQAk5LrGDLEZAS8Eq+D+YYkA=",
            "dtype": "f8"
           },
           "yaxis": "y"
          },
          {
           "customdata": [
            [
             "JNJ"
            ]
           ],
           "hovertemplate": "sector=%{x}<br>year=2017<br>avg_close=%{y}<br>stock=%{customdata[0]}<extra></extra>",
           "ids": [
            "JNJ"
           ],
           "legendgroup": "Health Care",
           "marker": {
            "color": "#19d3f3",
            "pattern": {
             "shape": ""
            }
           },
           "name": "Health Care",
           "orientation": "v",
           "showlegend": true,
           "textposition": "auto",
           "type": "bar",
           "x": [
            "Health Care"
           ],
           "xaxis": "x",
           "y": {
            "bdata": "6rUHQUI4YEA=",
            "dtype": "f8"
           },
           "yaxis": "y"
          },
          {
           "customdata": [
            [
             "MRK"
            ],
            [
             "PFE"
            ],
            [
             "UNH"
            ]
           ],
           "hovertemplate": "sector=%{x}<br>year=2017<br>avg_close=%{y}<br>stock=%{customdata[0]}<extra></extra>",
           "ids": [
            "MRK",
            "PFE",
            "UNH"
           ],
           "legendgroup": "Healthcare",
           "marker": {
            "color": "#FF6692",
            "pattern": {
             "shape": ""
            }
           },
           "name": "Healthcare",
           "orientation": "v",
           "showlegend": true,
           "textposition": "auto",
           "type": "bar",
           "x": [
            "Healthcare",
            "Healthcare",
            "Healthcare"
           ],
           "xaxis": "x",
           "y": {
            "bdata": "UE2zx8sfT0D0OISdeQlBQCpStlmjRGdA",
            "dtype": "f8"
           },
           "yaxis": "y"
          },
          {
           "customdata": [
            [
             "NKE"
            ]
           ],
           "hovertemplate": "sector=%{x}<br>year=2017<br>avg_close=%{y}<br>stock=%{customdata[0]}<extra></extra>",
           "ids": [
            "NKE"
           ],
           "legendgroup": "Consumer Cyclical",
           "marker": {
            "color": "#B6E880",
            "pattern": {
             "shape": ""
            }
           },
           "name": "Consumer Cyclical",
           "orientation": "v",
           "showlegend": true,
           "textposition": "auto",
           "type": "bar",
           "x": [
            "Consumer Cyclical"
           ],
           "xaxis": "x",
           "y": {
            "bdata": "bYIByWvaS0A=",
            "dtype": "f8"
           },
           "yaxis": "y"
          },
          {
           "customdata": [
            [
             "PG"
            ],
            [
             "WMT"
            ]
           ],
           "hovertemplate": "sector=%{x}<br>year=2017<br>avg_close=%{y}<br>stock=%{customdata[0]}<extra></extra>",
           "ids": [
            "PG",
            "WMT"
           ],
           "legendgroup": "Consumer Staples",
           "marker": {
            "color": "#FF97FF",
            "pattern": {
             "shape": ""
            }
           },
           "name": "Consumer Staples",
           "orientation": "v",
           "showlegend": true,
           "textposition": "auto",
           "type": "bar",
           "x": [
            "Consumer Staples",
            "Consumer Staples"
           ],
           "xaxis": "x",
           "y": {
            "bdata": "DTzAiPhcVkCPGqcAUL1TQA==",
            "dtype": "f8"
           },
           "yaxis": "y"
          },
          {
           "customdata": [
            [
             "TRV"
            ]
           ],
           "hovertemplate": "sector=%{x}<br>year=2017<br>avg_close=%{y}<br>stock=%{customdata[0]}<extra></extra>",
           "ids": [
            "TRV"
           ],
           "legendgroup": "Financial",
           "marker": {
            "color": "#FECB52",
            "pattern": {
             "shape": ""
            }
           },
           "name": "Financial",
           "orientation": "v",
           "showlegend": true,
           "textposition": "auto",
           "type": "bar",
           "x": [
            "Financial"
           ],
           "xaxis": "x",
           "y": {
            "bdata": "KV5UpGxDX0A=",
            "dtype": "f8"
           },
           "yaxis": "y"
          },
          {
           "customdata": [
            [
             "UTX"
            ]
           ],
           "hovertemplate": "sector=%{x}<br>year=2017<br>avg_close=%{y}<br>stock=%{customdata[0]}<extra></extra>",
           "ids": [
            "UTX"
           ],
           "legendgroup": "Aerospace and Defense",
           "marker": {
            "color": "#636efa",
            "pattern": {
             "shape": ""
            }
           },
           "name": "Aerospace and Defense",
           "orientation": "v",
           "showlegend": true,
           "textposition": "auto",
           "type": "bar",
           "x": [
            "Aerospace and Defense"
           ],
           "xaxis": "x",
           "y": {
            "bdata": "SSV6Gv1MXUA=",
            "dtype": "f8"
           },
           "yaxis": "y"
          },
          {
           "customdata": [
            [
             "VZ"
            ]
           ],
           "hovertemplate": "sector=%{x}<br>year=2017<br>avg_close=%{y}<br>stock=%{customdata[0]}<extra></extra>",
           "ids": [
            "VZ"
           ],
           "legendgroup": "Communication Services",
           "marker": {
            "color": "#EF553B",
            "pattern": {
             "shape": ""
            }
           },
           "name": "Communication Services",
           "orientation": "v",
           "showlegend": true,
           "textposition": "auto",
           "type": "bar",
           "x": [
            "Communication Services"
           ],
           "xaxis": "x",
           "y": {
            "bdata": "9v8q9noeSEA=",
            "dtype": "f8"
           },
           "yaxis": "y"
          }
         ],
         "name": "2017"
        }
       ],
       "layout": {
        "barmode": "relative",
        "legend": {
         "title": {
          "text": "sector"
         },
         "tracegroupgap": 0
        },
        "margin": {
         "t": 60
        },
        "sliders": [
         {
          "active": 0,
          "currentvalue": {
           "prefix": "year="
          },
          "len": 0.9,
          "pad": {
           "b": 10,
           "t": 60
          },
          "steps": [
           {
            "args": [
             [
              "2006"
             ],
             {
              "frame": {
               "duration": 0,
               "redraw": true
              },
              "fromcurrent": true,
              "mode": "immediate",
              "transition": {
               "duration": 0,
               "easing": "linear"
              }
             }
            ],
            "label": "2006",
            "method": "animate"
           },
           {
            "args": [
             [
              "2007"
             ],
             {
              "frame": {
               "duration": 0,
               "redraw": true
              },
              "fromcurrent": true,
              "mode": "immediate",
              "transition": {
               "duration": 0,
               "easing": "linear"
              }
             }
            ],
            "label": "2007",
            "method": "animate"
           },
           {
            "args": [
             [
              "2008"
             ],
             {
              "frame": {
               "duration": 0,
               "redraw": true
              },
              "fromcurrent": true,
              "mode": "immediate",
              "transition": {
               "duration": 0,
               "easing": "linear"
              }
             }
            ],
            "label": "2008",
            "method": "animate"
           },
           {
            "args": [
             [
              "2009"
             ],
             {
              "frame": {
               "duration": 0,
               "redraw": true
              },
              "fromcurrent": true,
              "mode": "immediate",
              "transition": {
               "duration": 0,
               "easing": "linear"
              }
             }
            ],
            "label": "2009",
            "method": "animate"
           },
           {
            "args": [
             [
              "2010"
             ],
             {
              "frame": {
               "duration": 0,
               "redraw": true
              },
              "fromcurrent": true,
              "mode": "immediate",
              "transition": {
               "duration": 0,
               "easing": "linear"
              }
             }
            ],
            "label": "2010",
            "method": "animate"
           },
           {
            "args": [
             [
              "2011"
             ],
             {
              "frame": {
               "duration": 0,
               "redraw": true
              },
              "fromcurrent": true,
              "mode": "immediate",
              "transition": {
               "duration": 0,
               "easing": "linear"
              }
             }
            ],
            "label": "2011",
            "method": "animate"
           },
           {
            "args": [
             [
              "2012"
             ],
             {
              "frame": {
               "duration": 0,
               "redraw": true
              },
              "fromcurrent": true,
              "mode": "immediate",
              "transition": {
               "duration": 0,
               "easing": "linear"
              }
             }
            ],
            "label": "2012",
            "method": "animate"
           },
           {
            "args": [
             [
              "2013"
             ],
             {
              "frame": {
               "duration": 0,
               "redraw": true
              },
              "fromcurrent": true,
              "mode": "immediate",
              "transition": {
               "duration": 0,
               "easing": "linear"
              }
             }
            ],
            "label": "2013",
            "method": "animate"
           },
           {
            "args": [
             [
              "2014"
             ],
             {
              "frame": {
               "duration": 0,
               "redraw": true
              },
              "fromcurrent": true,
              "mode": "immediate",
              "transition": {
               "duration": 0,
               "easing": "linear"
              }
             }
            ],
            "label": "2014",
            "method": "animate"
           },
           {
            "args": [
             [
              "2015"
             ],
             {
              "frame": {
               "duration": 0,
               "redraw": true
              },
              "fromcurrent": true,
              "mode": "immediate",
              "transition": {
               "duration": 0,
               "easing": "linear"
              }
             }
            ],
            "label": "2015",
            "method": "animate"
           },
           {
            "args": [
             [
              "2016"
             ],
             {
              "frame": {
               "duration": 0,
               "redraw": true
              },
              "fromcurrent": true,
              "mode": "immediate",
              "transition": {
               "duration": 0,
               "easing": "linear"
              }
             }
            ],
            "label": "2016",
            "method": "animate"
           },
           {
            "args": [
             [
              "2017"
             ],
             {
              "frame": {
               "duration": 0,
               "redraw": true
              },
              "fromcurrent": true,
              "mode": "immediate",
              "transition": {
               "duration": 0,
               "easing": "linear"
              }
             }
            ],
            "label": "2017",
            "method": "animate"
           }
          ],
          "x": 0.1,
          "xanchor": "left",
          "y": 0,
          "yanchor": "top"
         }
        ],
        "template": {
         "data": {
          "bar": [
           {
            "error_x": {
             "color": "#2a3f5f"
            },
            "error_y": {
             "color": "#2a3f5f"
            },
            "marker": {
             "line": {
              "color": "#E5ECF6",
              "width": 0.5
             },
             "pattern": {
              "fillmode": "overlay",
              "size": 10,
              "solidity": 0.2
             }
            },
            "type": "bar"
           }
          ],
          "barpolar": [
           {
            "marker": {
             "line": {
              "color": "#E5ECF6",
              "width": 0.5
             },
             "pattern": {
              "fillmode": "overlay",
              "size": 10,
              "solidity": 0.2
             }
            },
            "type": "barpolar"
           }
          ],
          "carpet": [
           {
            "aaxis": {
             "endlinecolor": "#2a3f5f",
             "gridcolor": "white",
             "linecolor": "white",
             "minorgridcolor": "white",
             "startlinecolor": "#2a3f5f"
            },
            "baxis": {
             "endlinecolor": "#2a3f5f",
             "gridcolor": "white",
             "linecolor": "white",
             "minorgridcolor": "white",
             "startlinecolor": "#2a3f5f"
            },
            "type": "carpet"
           }
          ],
          "choropleth": [
           {
            "colorbar": {
             "outlinewidth": 0,
             "ticks": ""
            },
            "type": "choropleth"
           }
          ],
          "contour": [
           {
            "colorbar": {
             "outlinewidth": 0,
             "ticks": ""
            },
            "colorscale": [
             [
              0,
              "#0d0887"
             ],
             [
              0.1111111111111111,
              "#46039f"
             ],
             [
              0.2222222222222222,
              "#7201a8"
             ],
             [
              0.3333333333333333,
              "#9c179e"
             ],
             [
              0.4444444444444444,
              "#bd3786"
             ],
             [
              0.5555555555555556,
              "#d8576b"
             ],
             [
              0.6666666666666666,
              "#ed7953"
             ],
             [
              0.7777777777777778,
              "#fb9f3a"
             ],
             [
              0.8888888888888888,
              "#fdca26"
             ],
             [
              1,
              "#f0f921"
             ]
            ],
            "type": "contour"
           }
          ],
          "contourcarpet": [
           {
            "colorbar": {
             "outlinewidth": 0,
             "ticks": ""
            },
            "type": "contourcarpet"
           }
          ],
          "heatmap": [
           {
            "colorbar": {
             "outlinewidth": 0,
             "ticks": ""
            },
            "colorscale": [
             [
              0,
              "#0d0887"
             ],
             [
              0.1111111111111111,
              "#46039f"
             ],
             [
              0.2222222222222222,
              "#7201a8"
             ],
             [
              0.3333333333333333,
              "#9c179e"
             ],
             [
              0.4444444444444444,
              "#bd3786"
             ],
             [
              0.5555555555555556,
              "#d8576b"
             ],
             [
              0.6666666666666666,
              "#ed7953"
             ],
             [
              0.7777777777777778,
              "#fb9f3a"
             ],
             [
              0.8888888888888888,
              "#fdca26"
             ],
             [
              1,
              "#f0f921"
             ]
            ],
            "type": "heatmap"
           }
          ],
          "histogram": [
           {
            "marker": {
             "pattern": {
              "fillmode": "overlay",
              "size": 10,
              "solidity": 0.2
             }
            },
            "type": "histogram"
           }
          ],
          "histogram2d": [
           {
            "colorbar": {
             "outlinewidth": 0,
             "ticks": ""
            },
            "colorscale": [
             [
              0,
              "#0d0887"
             ],
             [
              0.1111111111111111,
              "#46039f"
             ],
             [
              0.2222222222222222,
              "#7201a8"
             ],
             [
              0.3333333333333333,
              "#9c179e"
             ],
             [
              0.4444444444444444,
              "#bd3786"
             ],
             [
              0.5555555555555556,
              "#d8576b"
             ],
             [
              0.6666666666666666,
              "#ed7953"
             ],
             [
              0.7777777777777778,
              "#fb9f3a"
             ],
             [
              0.8888888888888888,
              "#fdca26"
             ],
             [
              1,
              "#f0f921"
             ]
            ],
            "type": "histogram2d"
           }
          ],
          "histogram2dcontour": [
           {
            "colorbar": {
             "outlinewidth": 0,
             "ticks": ""
            },
            "colorscale": [
             [
              0,
              "#0d0887"
             ],
             [
              0.1111111111111111,
              "#46039f"
             ],
             [
              0.2222222222222222,
              "#7201a8"
             ],
             [
              0.3333333333333333,
              "#9c179e"
             ],
             [
              0.4444444444444444,
              "#bd3786"
             ],
             [
              0.5555555555555556,
              "#d8576b"
             ],
             [
              0.6666666666666666,
              "#ed7953"
             ],
             [
              0.7777777777777778,
              "#fb9f3a"
             ],
             [
              0.8888888888888888,
              "#fdca26"
             ],
             [
              1,
              "#f0f921"
             ]
            ],
            "type": "histogram2dcontour"
           }
          ],
          "mesh3d": [
           {
            "colorbar": {
             "outlinewidth": 0,
             "ticks": ""
            },
            "type": "mesh3d"
           }
          ],
          "parcoords": [
           {
            "line": {
             "colorbar": {
              "outlinewidth": 0,
              "ticks": ""
             }
            },
            "type": "parcoords"
           }
          ],
          "pie": [
           {
            "automargin": true,
            "type": "pie"
           }
          ],
          "scatter": [
           {
            "fillpattern": {
             "fillmode": "overlay",
             "size": 10,
             "solidity": 0.2
            },
            "type": "scatter"
           }
          ],
          "scatter3d": [
           {
            "line": {
             "colorbar": {
              "outlinewidth": 0,
              "ticks": ""
             }
            },
            "marker": {
             "colorbar": {
              "outlinewidth": 0,
              "ticks": ""
             }
            },
            "type": "scatter3d"
           }
          ],
          "scattercarpet": [
           {
            "marker": {
             "colorbar": {
              "outlinewidth": 0,
              "ticks": ""
             }
            },
            "type": "scattercarpet"
           }
          ],
          "scattergeo": [
           {
            "marker": {
             "colorbar": {
              "outlinewidth": 0,
              "ticks": ""
             }
            },
            "type": "scattergeo"
           }
          ],
          "scattergl": [
           {
            "marker": {
             "colorbar": {
              "outlinewidth": 0,
              "ticks": ""
             }
            },
            "type": "scattergl"
           }
          ],
          "scattermap": [
           {
            "marker": {
             "colorbar": {
              "outlinewidth": 0,
              "ticks": ""
             }
            },
            "type": "scattermap"
           }
          ],
          "scattermapbox": [
           {
            "marker": {
             "colorbar": {
              "outlinewidth": 0,
              "ticks": ""
             }
            },
            "type": "scattermapbox"
           }
          ],
          "scatterpolar": [
           {
            "marker": {
             "colorbar": {
              "outlinewidth": 0,
              "ticks": ""
             }
            },
            "type": "scatterpolar"
           }
          ],
          "scatterpolargl": [
           {
            "marker": {
             "colorbar": {
              "outlinewidth": 0,
              "ticks": ""
             }
            },
            "type": "scatterpolargl"
           }
          ],
          "scatterternary": [
           {
            "marker": {
             "colorbar": {
              "outlinewidth": 0,
              "ticks": ""
             }
            },
            "type": "scatterternary"
           }
          ],
          "surface": [
           {
            "colorbar": {
             "outlinewidth": 0,
             "ticks": ""
            },
            "colorscale": [
             [
              0,
              "#0d0887"
             ],
             [
              0.1111111111111111,
              "#46039f"
             ],
             [
              0.2222222222222222,
              "#7201a8"
             ],
             [
              0.3333333333333333,
              "#9c179e"
             ],
             [
              0.4444444444444444,
              "#bd3786"
             ],
             [
              0.5555555555555556,
              "#d8576b"
             ],
             [
              0.6666666666666666,
              "#ed7953"
             ],
             [
              0.7777777777777778,
              "#fb9f3a"
             ],
             [
              0.8888888888888888,
              "#fdca26"
             ],
             [
              1,
              "#f0f921"
             ]
            ],
            "type": "surface"
           }
          ],
          "table": [
           {
            "cells": {
             "fill": {
              "color": "#EBF0F8"
             },
             "line": {
              "color": "white"
             }
            },
            "header": {
             "fill": {
              "color": "#C8D4E3"
             },
             "line": {
              "color": "white"
             }
            },
            "type": "table"
           }
          ]
         },
         "layout": {
          "annotationdefaults": {
           "arrowcolor": "#2a3f5f",
           "arrowhead": 0,
           "arrowwidth": 1
          },
          "autotypenumbers": "strict",
          "coloraxis": {
           "colorbar": {
            "outlinewidth": 0,
            "ticks": ""
           }
          },
          "colorscale": {
           "diverging": [
            [
             0,
             "#8e0152"
            ],
            [
             0.1,
             "#c51b7d"
            ],
            [
             0.2,
             "#de77ae"
            ],
            [
             0.3,
             "#f1b6da"
            ],
            [
             0.4,
             "#fde0ef"
            ],
            [
             0.5,
             "#f7f7f7"
            ],
            [
             0.6,
             "#e6f5d0"
            ],
            [
             0.7,
             "#b8e186"
            ],
            [
             0.8,
             "#7fbc41"
            ],
            [
             0.9,
             "#4d9221"
            ],
            [
             1,
             "#276419"
            ]
           ],
           "sequential": [
            [
             0,
             "#0d0887"
            ],
            [
             0.1111111111111111,
             "#46039f"
            ],
            [
             0.2222222222222222,
             "#7201a8"
            ],
            [
             0.3333333333333333,
             "#9c179e"
            ],
            [
             0.4444444444444444,
             "#bd3786"
            ],
            [
             0.5555555555555556,
             "#d8576b"
            ],
            [
             0.6666666666666666,
             "#ed7953"
            ],
            [
             0.7777777777777778,
             "#fb9f3a"
            ],
            [
             0.8888888888888888,
             "#fdca26"
            ],
            [
             1,
             "#f0f921"
            ]
           ],
           "sequentialminus": [
            [
             0,
             "#0d0887"
            ],
            [
             0.1111111111111111,
             "#46039f"
            ],
            [
             0.2222222222222222,
             "#7201a8"
            ],
            [
             0.3333333333333333,
             "#9c179e"
            ],
            [
             0.4444444444444444,
             "#bd3786"
            ],
            [
             0.5555555555555556,
             "#d8576b"
            ],
            [
             0.6666666666666666,
             "#ed7953"
            ],
            [
             0.7777777777777778,
             "#fb9f3a"
            ],
            [
             0.8888888888888888,
             "#fdca26"
            ],
            [
             1,
             "#f0f921"
            ]
           ]
          },
          "colorway": [
           "#636efa",
           "#EF553B",
           "#00cc96",
           "#ab63fa",
           "#FFA15A",
           "#19d3f3",
           "#FF6692",
           "#B6E880",
           "#FF97FF",
           "#FECB52"
          ],
          "font": {
           "color": "#2a3f5f"
          },
          "geo": {
           "bgcolor": "white",
           "lakecolor": "white",
           "landcolor": "#E5ECF6",
           "showlakes": true,
           "showland": true,
           "subunitcolor": "white"
          },
          "hoverlabel": {
           "align": "left"
          },
          "hovermode": "closest",
          "mapbox": {
           "style": "light"
          },
          "paper_bgcolor": "white",
          "plot_bgcolor": "#E5ECF6",
          "polar": {
           "angularaxis": {
            "gridcolor": "white",
            "linecolor": "white",
            "ticks": ""
           },
           "bgcolor": "#E5ECF6",
           "radialaxis": {
            "gridcolor": "white",
            "linecolor": "white",
            "ticks": ""
           }
          },
          "scene": {
           "xaxis": {
            "backgroundcolor": "#E5ECF6",
            "gridcolor": "white",
            "gridwidth": 2,
            "linecolor": "white",
            "showbackground": true,
            "ticks": "",
            "zerolinecolor": "white"
           },
           "yaxis": {
            "backgroundcolor": "#E5ECF6",
            "gridcolor": "white",
            "gridwidth": 2,
            "linecolor": "white",
            "showbackground": true,
            "ticks": "",
            "zerolinecolor": "white"
           },
           "zaxis": {
            "backgroundcolor": "#E5ECF6",
            "gridcolor": "white",
            "gridwidth": 2,
            "linecolor": "white",
            "showbackground": true,
            "ticks": "",
            "zerolinecolor": "white"
           }
          },
          "shapedefaults": {
           "line": {
            "color": "#2a3f5f"
           }
          },
          "ternary": {
           "aaxis": {
            "gridcolor": "white",
            "linecolor": "white",
            "ticks": ""
           },
           "baxis": {
            "gridcolor": "white",
            "linecolor": "white",
            "ticks": ""
           },
           "bgcolor": "#E5ECF6",
           "caxis": {
            "gridcolor": "white",
            "linecolor": "white",
            "ticks": ""
           }
          },
          "title": {
           "x": 0.05
          },
          "xaxis": {
           "automargin": true,
           "gridcolor": "white",
           "linecolor": "white",
           "ticks": "",
           "title": {
            "standoff": 15
           },
           "zerolinecolor": "white",
           "zerolinewidth": 2
          },
          "yaxis": {
           "automargin": true,
           "gridcolor": "white",
           "linecolor": "white",
           "ticks": "",
           "title": {
            "standoff": 15
           },
           "zerolinecolor": "white",
           "zerolinewidth": 2
          }
         }
        },
        "transition": {
         "duration": 2000
        },
        "updatemenus": [
         {
          "buttons": [
           {
            "args": [
             null,
             {
              "frame": {
               "duration": 500,
               "redraw": true
              },
              "fromcurrent": true,
              "mode": "immediate",
              "transition": {
               "duration": 500,
               "easing": "linear"
              }
             }
            ],
            "label": "&#9654;",
            "method": "animate"
           },
           {
            "args": [
             [
              null
             ],
             {
              "frame": {
               "duration": 0,
               "redraw": true
              },
              "fromcurrent": true,
              "mode": "immediate",
              "transition": {
               "duration": 0,
               "easing": "linear"
              }
             }
            ],
            "label": "&#9724;",
            "method": "animate"
           }
          ],
          "direction": "left",
          "pad": {
           "r": 10,
           "t": 70
          },
          "showactive": false,
          "type": "buttons",
          "x": 0.1,
          "xanchor": "right",
          "y": 0,
          "yanchor": "top"
         }
        ],
        "xaxis": {
         "anchor": "y",
         "categoryarray": [
          "Financials",
          "Technology",
          "Industrials",
          "Energy",
          "Consumer Discretionary",
          "Health Care",
          "Healthcare",
          "Consumer Cyclical",
          "Consumer Staples",
          "Financial",
          "Aerospace and Defense",
          "Communication Services"
         ],
         "categoryorder": "array",
         "domain": [
          0,
          1
         ],
         "title": {
          "text": "sector"
         }
        },
        "yaxis": {
         "anchor": "x",
         "domain": [
          0,
          1
         ],
         "range": [
          0,
          250
         ],
         "title": {
          "text": "avg_close"
         }
        }
       }
      },
      "image/png": "[encoded data removed]"
     },
     "metadata": {},
     "output_type": "display_data"
    }
   ],
   "source": [
    "import plotly.express as px\n",
    "import pandas as pd\n",
    "\n",
    "# https://www.kaggle.com/datasets/szrlee/stock-time-series-20050101-to-20171231\n",
    "\n",
    "df_stocks = pd.read_csv('https://raw.githubusercontent.com/rebeccapeltz/data_repo/refs/heads/main/all_stocks_2006-01-01_to_2018-01-01.csv')\n",
    "# df_stocks = pd.read_csv('https://raw.githubusercontent.com/rebeccapeltz/data_repo/refs/heads/main/all_stocks_2017-01-01_to_2018-01-01.csv')\n",
    "df_stocks['Date'] = pd.to_datetime(df_stocks['Date'])\n",
    "df_stocks['year'] = df_stocks['Date'].dt.year\n",
    "\n",
    "# print(df_stocks.sample(10))\n",
    "df_sectors = pd.read_csv('https://raw.githubusercontent.com/rebeccapeltz/data_repo/refs/heads/main/stocks_sector.csv')\n",
    "# print(df_sectors.sample(31))\n",
    "df_merged = pd.merge(df_stocks, df_sectors, left_on='Name', right_on='stock', how='left')\n",
    "# print(df_merged.sample(10))\n",
    "\n",
    "# df_grouped = df.groupby(['stock', 'sector', 'year'])[['price', 'volume']].mean().reset_index()\n",
    "\n",
    "df_yearly = df_merged.groupby(['year','stock','sector'])[['Close', 'Volume','Open','High','Low']].mean().reset_index()\n",
    "\n",
    "df_yearly.rename(columns={'Close': 'avg_close', 'Volume':'avg_volume', 'Open': 'avg_open','High': 'avg_high','Low':'avg_low'}, inplace=True)\n",
    "\n",
    "print(df_yearly.sample(10))\n",
    "\n",
    "\n",
    "fig = px.bar(df_yearly, x='sector', y='avg_close', color='sector',\n",
    "  animation_frame=\"year\", animation_group=\"stock\", range_y=[0,250],\n",
    "            hover_data=['stock'])\n",
    "fig.update_layout(transition = {'duration': 2000})\n",
    "\n",
    "fig.show()\n",
    "\n"
   ]
  },
  {
   "cell_type": "code",
   "execution_count": null,
   "id": "87109515-be10-480a-80d2-a5da1a6e4855",
   "metadata": {},
   "outputs": [],
   "source": []
  },
  {
   "cell_type": "code",
   "execution_count": null,
   "id": "8d8157d5-6f22-4555-a247-78a3fe81698a",
   "metadata": {},
   "outputs": [],
   "source": []
  },
  {
   "cell_type": "code",
   "execution_count": null,
   "id": "b4da10c8-935c-48f9-9c51-46b68ba6b297",
   "metadata": {},
   "outputs": [],
   "source": []
  }
 ],
 "metadata": {
  "kernelspec": {
   "display_name": "Python 3 (ipykernel)",
   "language": "python",
   "name": "python3"
  },
  "language_info": {
   "codemirror_mode": {
    "name": "ipython",
    "version": 3
   },
   "file_extension": ".py",
   "mimetype": "text/x-python",
   "name": "python",
   "nbconvert_exporter": "python",
   "pygments_lexer": "ipython3",
   "version": "3.13.3"
  }
 },
 "nbformat": 4,
 "nbformat_minor": 5
}
