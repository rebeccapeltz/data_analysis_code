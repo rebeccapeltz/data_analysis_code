{
 "cells": [
  {
   "cell_type": "code",
   "execution_count": 47,
   "id": "7f0609a3-a85b-45e0-8c34-eae78faea7cb",
   "metadata": {},
   "outputs": [
    {
     "name": "stdout",
     "output_type": "stream",
     "text": [
      "<class 'pandas.core.indexes.datetimes.DatetimeIndex'> DatetimeIndex(['2022-01-01', '2022-02-01', '2022-03-01', '2022-04-01',\n",
      "               '2022-05-01', '2022-06-01', '2022-07-01', '2022-08-01',\n",
      "               '2022-09-01', '2022-10-01', '2022-11-01', '2022-12-01',\n",
      "               '2023-01-01', '2023-02-01', '2023-03-01', '2023-04-01',\n",
      "               '2023-05-01', '2023-06-01', '2023-07-01', '2023-08-01',\n",
      "               '2023-09-01', '2023-10-01', '2023-11-01', '2023-12-01'],\n",
      "              dtype='datetime64[ns]', freq='MS')\n",
      "sales data:\n",
      "<class 'numpy.ndarray'>\n",
      "\n",
      "{'date': DatetimeIndex(['2022-01-01', '2022-02-01', '2022-03-01', '2022-04-01',\n",
      "               '2022-05-01', '2022-06-01', '2022-07-01', '2022-08-01',\n",
      "               '2022-09-01', '2022-10-01', '2022-11-01', '2022-12-01',\n",
      "               '2023-01-01', '2023-02-01', '2023-03-01', '2023-04-01',\n",
      "               '2023-05-01', '2023-06-01', '2023-07-01', '2023-08-01',\n",
      "               '2023-09-01', '2023-10-01', '2023-11-01', '2023-12-01'],\n",
      "              dtype='datetime64[ns]', freq='MS'), 'sales': array([591, 513, 905, 485, 291, 376, 260, 559, 413, 121, 352, 847, 956,\n",
      "       660, 574, 158, 610, 781, 575, 799, 882, 289, 786, 662]), 'profit': array([ 64, 253, 140, 144,  30, 176, 283,  98,  23, 251, 274,  62, 101,\n",
      "       273,  44, 215,  90,  59,  11,  63, 115, 269, 200, 227]), 'category': array(['B', 'B', 'B', 'B', 'C', 'C', 'B', 'C', 'A', 'B', 'A', 'A', 'B',\n",
      "       'C', 'A', 'B', 'A', 'A', 'A', 'A', 'C', 'A', 'A', 'A'], dtype='<U1')}\n",
      "        date  sales  profit category\n",
      "0 2022-01-01    591      64        B\n",
      "1 2022-02-01    513     253        B\n",
      "2 2022-03-01    905     140        B\n",
      "3 2022-04-01    485     144        B\n",
      "4 2022-05-01    291      30        C\n"
     ]
    },
    {
     "data": {
      "application/vnd.plotly.v1+json": {
       "config": {
        "plotlyServerURL": "https://plot.ly"
       },
       "data": [
        {
         "customdata": {
          "bdata": "QA==",
          "dtype": "i1",
          "shape": "1, 1"
         },
         "hovertemplate": "<b>%{hovertext}</b><br><br>category=B<br>Date=%{x}<br>Sales Amount=%{y}<br>profit=%{customdata[0]}<extra></extra>",
         "hovertext": [
          "B"
         ],
         "legendgroup": "B",
         "marker": {
          "color": "#636efa",
          "size": {
           "bdata": "QA==",
           "dtype": "i1"
          },
          "sizemode": "area",
          "sizeref": 0.7075,
          "symbol": "circle"
         },
         "mode": "markers",
         "name": "B",
         "orientation": "v",
         "showlegend": true,
         "type": "scatter",
         "x": [
          "2022-01-01T00:00:00.000000000"
         ],
         "xaxis": "x",
         "y": {
          "bdata": "TwI=",
          "dtype": "i2"
         },
         "yaxis": "y"
        }
       ],
       "frames": [
        {
         "data": [
          {
           "customdata": {
            "bdata": "QA==",
            "dtype": "i1",
            "shape": "1, 1"
           },
           "hovertemplate": "<b>%{hovertext}</b><br><br>category=B<br>Date=%{x}<br>Sales Amount=%{y}<br>profit=%{customdata[0]}<extra></extra>",
           "hovertext": [
            "B"
           ],
           "legendgroup": "B",
           "marker": {
            "color": "#636efa",
            "size": {
             "bdata": "QA==",
             "dtype": "i1"
            },
            "sizemode": "area",
            "sizeref": 0.7075,
            "symbol": "circle"
           },
           "mode": "markers",
           "name": "B",
           "orientation": "v",
           "showlegend": true,
           "type": "scatter",
           "x": [
            "2022-01-01T00:00:00.000000000"
           ],
           "xaxis": "x",
           "y": {
            "bdata": "TwI=",
            "dtype": "i2"
           },
           "yaxis": "y"
          }
         ],
         "name": "2022-01-01 00:00:00"
        },
        {
         "data": [
          {
           "customdata": {
            "bdata": "/QA=",
            "dtype": "i2",
            "shape": "1, 1"
           },
           "hovertemplate": "<b>%{hovertext}</b><br><br>category=B<br>Date=%{x}<br>Sales Amount=%{y}<br>profit=%{customdata[0]}<extra></extra>",
           "hovertext": [
            "B"
           ],
           "legendgroup": "B",
           "marker": {
            "color": "#636efa",
            "size": {
             "bdata": "/QA=",
             "dtype": "i2"
            },
            "sizemode": "area",
            "sizeref": 0.7075,
            "symbol": "circle"
           },
           "mode": "markers",
           "name": "B",
           "orientation": "v",
           "showlegend": true,
           "type": "scatter",
           "x": [
            "2022-02-01T00:00:00.000000000"
           ],
           "xaxis": "x",
           "y": {
            "bdata": "AQI=",
            "dtype": "i2"
           },
           "yaxis": "y"
          }
         ],
         "name": "2022-02-01 00:00:00"
        },
        {
         "data": [
          {
           "customdata": {
            "bdata": "jAA=",
            "dtype": "i2",
            "shape": "1, 1"
           },
           "hovertemplate": "<b>%{hovertext}</b><br><br>category=B<br>Date=%{x}<br>Sales Amount=%{y}<br>profit=%{customdata[0]}<extra></extra>",
           "hovertext": [
            "B"
           ],
           "legendgroup": "B",
           "marker": {
            "color": "#636efa",
            "size": {
             "bdata": "jAA=",
             "dtype": "i2"
            },
            "sizemode": "area",
            "sizeref": 0.7075,
            "symbol": "circle"
           },
           "mode": "markers",
           "name": "B",
           "orientation": "v",
           "showlegend": true,
           "type": "scatter",
           "x": [
            "2022-03-01T00:00:00.000000000"
           ],
           "xaxis": "x",
           "y": {
            "bdata": "iQM=",
            "dtype": "i2"
           },
           "yaxis": "y"
          }
         ],
         "name": "2022-03-01 00:00:00"
        },
        {
         "data": [
          {
           "customdata": {
            "bdata": "kAA=",
            "dtype": "i2",
            "shape": "1, 1"
           },
           "hovertemplate": "<b>%{hovertext}</b><br><br>category=B<br>Date=%{x}<br>Sales Amount=%{y}<br>profit=%{customdata[0]}<extra></extra>",
           "hovertext": [
            "B"
           ],
           "legendgroup": "B",
           "marker": {
            "color": "#636efa",
            "size": {
             "bdata": "kAA=",
             "dtype": "i2"
            },
            "sizemode": "area",
            "sizeref": 0.7075,
            "symbol": "circle"
           },
           "mode": "markers",
           "name": "B",
           "orientation": "v",
           "showlegend": true,
           "type": "scatter",
           "x": [
            "2022-04-01T00:00:00.000000000"
           ],
           "xaxis": "x",
           "y": {
            "bdata": "5QE=",
            "dtype": "i2"
           },
           "yaxis": "y"
          }
         ],
         "name": "2022-04-01 00:00:00"
        },
        {
         "data": [
          {
           "customdata": {
            "bdata": "Hg==",
            "dtype": "i1",
            "shape": "1, 1"
           },
           "hovertemplate": "<b>%{hovertext}</b><br><br>category=C<br>Date=%{x}<br>Sales Amount=%{y}<br>profit=%{customdata[0]}<extra></extra>",
           "hovertext": [
            "C"
           ],
           "legendgroup": "C",
           "marker": {
            "color": "#EF553B",
            "size": {
             "bdata": "Hg==",
             "dtype": "i1"
            },
            "sizemode": "area",
            "sizeref": 0.7075,
            "symbol": "circle"
           },
           "mode": "markers",
           "name": "C",
           "orientation": "v",
           "showlegend": true,
           "type": "scatter",
           "x": [
            "2022-05-01T00:00:00.000000000"
           ],
           "xaxis": "x",
           "y": {
            "bdata": "IwE=",
            "dtype": "i2"
           },
           "yaxis": "y"
          }
         ],
         "name": "2022-05-01 00:00:00"
        },
        {
         "data": [
          {
           "customdata": {
            "bdata": "sAA=",
            "dtype": "i2",
            "shape": "1, 1"
           },
           "hovertemplate": "<b>%{hovertext}</b><br><br>category=C<br>Date=%{x}<br>Sales Amount=%{y}<br>profit=%{customdata[0]}<extra></extra>",
           "hovertext": [
            "C"
           ],
           "legendgroup": "C",
           "marker": {
            "color": "#EF553B",
            "size": {
             "bdata": "sAA=",
             "dtype": "i2"
            },
            "sizemode": "area",
            "sizeref": 0.7075,
            "symbol": "circle"
           },
           "mode": "markers",
           "name": "C",
           "orientation": "v",
           "showlegend": true,
           "type": "scatter",
           "x": [
            "2022-06-01T00:00:00.000000000"
           ],
           "xaxis": "x",
           "y": {
            "bdata": "eAE=",
            "dtype": "i2"
           },
           "yaxis": "y"
          }
         ],
         "name": "2022-06-01 00:00:00"
        },
        {
         "data": [
          {
           "customdata": {
            "bdata": "GwE=",
            "dtype": "i2",
            "shape": "1, 1"
           },
           "hovertemplate": "<b>%{hovertext}</b><br><br>category=B<br>Date=%{x}<br>Sales Amount=%{y}<br>profit=%{customdata[0]}<extra></extra>",
           "hovertext": [
            "B"
           ],
           "legendgroup": "B",
           "marker": {
            "color": "#636efa",
            "size": {
             "bdata": "GwE=",
             "dtype": "i2"
            },
            "sizemode": "area",
            "sizeref": 0.7075,
            "symbol": "circle"
           },
           "mode": "markers",
           "name": "B",
           "orientation": "v",
           "showlegend": true,
           "type": "scatter",
           "x": [
            "2022-07-01T00:00:00.000000000"
           ],
           "xaxis": "x",
           "y": {
            "bdata": "BAE=",
            "dtype": "i2"
           },
           "yaxis": "y"
          }
         ],
         "name": "2022-07-01 00:00:00"
        },
        {
         "data": [
          {
           "customdata": {
            "bdata": "Yg==",
            "dtype": "i1",
            "shape": "1, 1"
           },
           "hovertemplate": "<b>%{hovertext}</b><br><br>category=C<br>Date=%{x}<br>Sales Amount=%{y}<br>profit=%{customdata[0]}<extra></extra>",
           "hovertext": [
            "C"
           ],
           "legendgroup": "C",
           "marker": {
            "color": "#EF553B",
            "size": {
             "bdata": "Yg==",
             "dtype": "i1"
            },
            "sizemode": "area",
            "sizeref": 0.7075,
            "symbol": "circle"
           },
           "mode": "markers",
           "name": "C",
           "orientation": "v",
           "showlegend": true,
           "type": "scatter",
           "x": [
            "2022-08-01T00:00:00.000000000"
           ],
           "xaxis": "x",
           "y": {
            "bdata": "LwI=",
            "dtype": "i2"
           },
           "yaxis": "y"
          }
         ],
         "name": "2022-08-01 00:00:00"
        },
        {
         "data": [
          {
           "customdata": {
            "bdata": "Fw==",
            "dtype": "i1",
            "shape": "1, 1"
           },
           "hovertemplate": "<b>%{hovertext}</b><br><br>category=A<br>Date=%{x}<br>Sales Amount=%{y}<br>profit=%{customdata[0]}<extra></extra>",
           "hovertext": [
            "A"
           ],
           "legendgroup": "A",
           "marker": {
            "color": "#00cc96",
            "size": {
             "bdata": "Fw==",
             "dtype": "i1"
            },
            "sizemode": "area",
            "sizeref": 0.7075,
            "symbol": "circle"
           },
           "mode": "markers",
           "name": "A",
           "orientation": "v",
           "showlegend": true,
           "type": "scatter",
           "x": [
            "2022-09-01T00:00:00.000000000"
           ],
           "xaxis": "x",
           "y": {
            "bdata": "nQE=",
            "dtype": "i2"
           },
           "yaxis": "y"
          }
         ],
         "name": "2022-09-01 00:00:00"
        },
        {
         "data": [
          {
           "customdata": {
            "bdata": "+wA=",
            "dtype": "i2",
            "shape": "1, 1"
           },
           "hovertemplate": "<b>%{hovertext}</b><br><br>category=B<br>Date=%{x}<br>Sales Amount=%{y}<br>profit=%{customdata[0]}<extra></extra>",
           "hovertext": [
            "B"
           ],
           "legendgroup": "B",
           "marker": {
            "color": "#636efa",
            "size": {
             "bdata": "+wA=",
             "dtype": "i2"
            },
            "sizemode": "area",
            "sizeref": 0.7075,
            "symbol": "circle"
           },
           "mode": "markers",
           "name": "B",
           "orientation": "v",
           "showlegend": true,
           "type": "scatter",
           "x": [
            "2022-10-01T00:00:00.000000000"
           ],
           "xaxis": "x",
           "y": {
            "bdata": "eQ==",
            "dtype": "i1"
           },
           "yaxis": "y"
          }
         ],
         "name": "2022-10-01 00:00:00"
        },
        {
         "data": [
          {
           "customdata": {
            "bdata": "EgE=",
            "dtype": "i2",
            "shape": "1, 1"
           },
           "hovertemplate": "<b>%{hovertext}</b><br><br>category=A<br>Date=%{x}<br>Sales Amount=%{y}<br>profit=%{customdata[0]}<extra></extra>",
           "hovertext": [
            "A"
           ],
           "legendgroup": "A",
           "marker": {
            "color": "#00cc96",
            "size": {
             "bdata": "EgE=",
             "dtype": "i2"
            },
            "sizemode": "area",
            "sizeref": 0.7075,
            "symbol": "circle"
           },
           "mode": "markers",
           "name": "A",
           "orientation": "v",
           "showlegend": true,
           "type": "scatter",
           "x": [
            "2022-11-01T00:00:00.000000000"
           ],
           "xaxis": "x",
           "y": {
            "bdata": "YAE=",
            "dtype": "i2"
           },
           "yaxis": "y"
          }
         ],
         "name": "2022-11-01 00:00:00"
        },
        {
         "data": [
          {
           "customdata": {
            "bdata": "Pg==",
            "dtype": "i1",
            "shape": "1, 1"
           },
           "hovertemplate": "<b>%{hovertext}</b><br><br>category=A<br>Date=%{x}<br>Sales Amount=%{y}<br>profit=%{customdata[0]}<extra></extra>",
           "hovertext": [
            "A"
           ],
           "legendgroup": "A",
           "marker": {
            "color": "#00cc96",
            "size": {
             "bdata": "Pg==",
             "dtype": "i1"
            },
            "sizemode": "area",
            "sizeref": 0.7075,
            "symbol": "circle"
           },
           "mode": "markers",
           "name": "A",
           "orientation": "v",
           "showlegend": true,
           "type": "scatter",
           "x": [
            "2022-12-01T00:00:00.000000000"
           ],
           "xaxis": "x",
           "y": {
            "bdata": "TwM=",
            "dtype": "i2"
           },
           "yaxis": "y"
          }
         ],
         "name": "2022-12-01 00:00:00"
        },
        {
         "data": [
          {
           "customdata": {
            "bdata": "ZQ==",
            "dtype": "i1",
            "shape": "1, 1"
           },
           "hovertemplate": "<b>%{hovertext}</b><br><br>category=B<br>Date=%{x}<br>Sales Amount=%{y}<br>profit=%{customdata[0]}<extra></extra>",
           "hovertext": [
            "B"
           ],
           "legendgroup": "B",
           "marker": {
            "color": "#636efa",
            "size": {
             "bdata": "ZQ==",
             "dtype": "i1"
            },
            "sizemode": "area",
            "sizeref": 0.7075,
            "symbol": "circle"
           },
           "mode": "markers",
           "name": "B",
           "orientation": "v",
           "showlegend": true,
           "type": "scatter",
           "x": [
            "2023-01-01T00:00:00.000000000"
           ],
           "xaxis": "x",
           "y": {
            "bdata": "vAM=",
            "dtype": "i2"
           },
           "yaxis": "y"
          }
         ],
         "name": "2023-01-01 00:00:00"
        },
        {
         "data": [
          {
           "customdata": {
            "bdata": "EQE=",
            "dtype": "i2",
            "shape": "1, 1"
           },
           "hovertemplate": "<b>%{hovertext}</b><br><br>category=C<br>Date=%{x}<br>Sales Amount=%{y}<br>profit=%{customdata[0]}<extra></extra>",
           "hovertext": [
            "C"
           ],
           "legendgroup": "C",
           "marker": {
            "color": "#EF553B",
            "size": {
             "bdata": "EQE=",
             "dtype": "i2"
            },
            "sizemode": "area",
            "sizeref": 0.7075,
            "symbol": "circle"
           },
           "mode": "markers",
           "name": "C",
           "orientation": "v",
           "showlegend": true,
           "type": "scatter",
           "x": [
            "2023-02-01T00:00:00.000000000"
           ],
           "xaxis": "x",
           "y": {
            "bdata": "lAI=",
            "dtype": "i2"
           },
           "yaxis": "y"
          }
         ],
         "name": "2023-02-01 00:00:00"
        },
        {
         "data": [
          {
           "customdata": {
            "bdata": "LA==",
            "dtype": "i1",
            "shape": "1, 1"
           },
           "hovertemplate": "<b>%{hovertext}</b><br><br>category=A<br>Date=%{x}<br>Sales Amount=%{y}<br>profit=%{customdata[0]}<extra></extra>",
           "hovertext": [
            "A"
           ],
           "legendgroup": "A",
           "marker": {
            "color": "#00cc96",
            "size": {
             "bdata": "LA==",
             "dtype": "i1"
            },
            "sizemode": "area",
            "sizeref": 0.7075,
            "symbol": "circle"
           },
           "mode": "markers",
           "name": "A",
           "orientation": "v",
           "showlegend": true,
           "type": "scatter",
           "x": [
            "2023-03-01T00:00:00.000000000"
           ],
           "xaxis": "x",
           "y": {
            "bdata": "PgI=",
            "dtype": "i2"
           },
           "yaxis": "y"
          }
         ],
         "name": "2023-03-01 00:00:00"
        },
        {
         "data": [
          {
           "customdata": {
            "bdata": "1wA=",
            "dtype": "i2",
            "shape": "1, 1"
           },
           "hovertemplate": "<b>%{hovertext}</b><br><br>category=B<br>Date=%{x}<br>Sales Amount=%{y}<br>profit=%{customdata[0]}<extra></extra>",
           "hovertext": [
            "B"
           ],
           "legendgroup": "B",
           "marker": {
            "color": "#636efa",
            "size": {
             "bdata": "1wA=",
             "dtype": "i2"
            },
            "sizemode": "area",
            "sizeref": 0.7075,
            "symbol": "circle"
           },
           "mode": "markers",
           "name": "B",
           "orientation": "v",
           "showlegend": true,
           "type": "scatter",
           "x": [
            "2023-04-01T00:00:00.000000000"
           ],
           "xaxis": "x",
           "y": {
            "bdata": "ngA=",
            "dtype": "i2"
           },
           "yaxis": "y"
          }
         ],
         "name": "2023-04-01 00:00:00"
        },
        {
         "data": [
          {
           "customdata": {
            "bdata": "Wg==",
            "dtype": "i1",
            "shape": "1, 1"
           },
           "hovertemplate": "<b>%{hovertext}</b><br><br>category=A<br>Date=%{x}<br>Sales Amount=%{y}<br>profit=%{customdata[0]}<extra></extra>",
           "hovertext": [
            "A"
           ],
           "legendgroup": "A",
           "marker": {
            "color": "#00cc96",
            "size": {
             "bdata": "Wg==",
             "dtype": "i1"
            },
            "sizemode": "area",
            "sizeref": 0.7075,
            "symbol": "circle"
           },
           "mode": "markers",
           "name": "A",
           "orientation": "v",
           "showlegend": true,
           "type": "scatter",
           "x": [
            "2023-05-01T00:00:00.000000000"
           ],
           "xaxis": "x",
           "y": {
            "bdata": "YgI=",
            "dtype": "i2"
           },
           "yaxis": "y"
          }
         ],
         "name": "2023-05-01 00:00:00"
        },
        {
         "data": [
          {
           "customdata": {
            "bdata": "Ow==",
            "dtype": "i1",
            "shape": "1, 1"
           },
           "hovertemplate": "<b>%{hovertext}</b><br><br>category=A<br>Date=%{x}<br>Sales Amount=%{y}<br>profit=%{customdata[0]}<extra></extra>",
           "hovertext": [
            "A"
           ],
           "legendgroup": "A",
           "marker": {
            "color": "#00cc96",
            "size": {
             "bdata": "Ow==",
             "dtype": "i1"
            },
            "sizemode": "area",
            "sizeref": 0.7075,
            "symbol": "circle"
           },
           "mode": "markers",
           "name": "A",
           "orientation": "v",
           "showlegend": true,
           "type": "scatter",
           "x": [
            "2023-06-01T00:00:00.000000000"
           ],
           "xaxis": "x",
           "y": {
            "bdata": "DQM=",
            "dtype": "i2"
           },
           "yaxis": "y"
          }
         ],
         "name": "2023-06-01 00:00:00"
        },
        {
         "data": [
          {
           "customdata": {
            "bdata": "Cw==",
            "dtype": "i1",
            "shape": "1, 1"
           },
           "hovertemplate": "<b>%{hovertext}</b><br><br>category=A<br>Date=%{x}<br>Sales Amount=%{y}<br>profit=%{customdata[0]}<extra></extra>",
           "hovertext": [
            "A"
           ],
           "legendgroup": "A",
           "marker": {
            "color": "#00cc96",
            "size": {
             "bdata": "Cw==",
             "dtype": "i1"
            },
            "sizemode": "area",
            "sizeref": 0.7075,
            "symbol": "circle"
           },
           "mode": "markers",
           "name": "A",
           "orientation": "v",
           "showlegend": true,
           "type": "scatter",
           "x": [
            "2023-07-01T00:00:00.000000000"
           ],
           "xaxis": "x",
           "y": {
            "bdata": "PwI=",
            "dtype": "i2"
           },
           "yaxis": "y"
          }
         ],
         "name": "2023-07-01 00:00:00"
        },
        {
         "data": [
          {
           "customdata": {
            "bdata": "Pw==",
            "dtype": "i1",
            "shape": "1, 1"
           },
           "hovertemplate": "<b>%{hovertext}</b><br><br>category=A<br>Date=%{x}<br>Sales Amount=%{y}<br>profit=%{customdata[0]}<extra></extra>",
           "hovertext": [
            "A"
           ],
           "legendgroup": "A",
           "marker": {
            "color": "#00cc96",
            "size": {
             "bdata": "Pw==",
             "dtype": "i1"
            },
            "sizemode": "area",
            "sizeref": 0.7075,
            "symbol": "circle"
           },
           "mode": "markers",
           "name": "A",
           "orientation": "v",
           "showlegend": true,
           "type": "scatter",
           "x": [
            "2023-08-01T00:00:00.000000000"
           ],
           "xaxis": "x",
           "y": {
            "bdata": "HwM=",
            "dtype": "i2"
           },
           "yaxis": "y"
          }
         ],
         "name": "2023-08-01 00:00:00"
        },
        {
         "data": [
          {
           "customdata": {
            "bdata": "cw==",
            "dtype": "i1",
            "shape": "1, 1"
           },
           "hovertemplate": "<b>%{hovertext}</b><br><br>category=C<br>Date=%{x}<br>Sales Amount=%{y}<br>profit=%{customdata[0]}<extra></extra>",
           "hovertext": [
            "C"
           ],
           "legendgroup": "C",
           "marker": {
            "color": "#EF553B",
            "size": {
             "bdata": "cw==",
             "dtype": "i1"
            },
            "sizemode": "area",
            "sizeref": 0.7075,
            "symbol": "circle"
           },
           "mode": "markers",
           "name": "C",
           "orientation": "v",
           "showlegend": true,
           "type": "scatter",
           "x": [
            "2023-09-01T00:00:00.000000000"
           ],
           "xaxis": "x",
           "y": {
            "bdata": "cgM=",
            "dtype": "i2"
           },
           "yaxis": "y"
          }
         ],
         "name": "2023-09-01 00:00:00"
        },
        {
         "data": [
          {
           "customdata": {
            "bdata": "DQE=",
            "dtype": "i2",
            "shape": "1, 1"
           },
           "hovertemplate": "<b>%{hovertext}</b><br><br>category=A<br>Date=%{x}<br>Sales Amount=%{y}<br>profit=%{customdata[0]}<extra></extra>",
           "hovertext": [
            "A"
           ],
           "legendgroup": "A",
           "marker": {
            "color": "#00cc96",
            "size": {
             "bdata": "DQE=",
             "dtype": "i2"
            },
            "sizemode": "area",
            "sizeref": 0.7075,
            "symbol": "circle"
           },
           "mode": "markers",
           "name": "A",
           "orientation": "v",
           "showlegend": true,
           "type": "scatter",
           "x": [
            "2023-10-01T00:00:00.000000000"
           ],
           "xaxis": "x",
           "y": {
            "bdata": "IQE=",
            "dtype": "i2"
           },
           "yaxis": "y"
          }
         ],
         "name": "2023-10-01 00:00:00"
        },
        {
         "data": [
          {
           "customdata": {
            "bdata": "yAA=",
            "dtype": "i2",
            "shape": "1, 1"
           },
           "hovertemplate": "<b>%{hovertext}</b><br><br>category=A<br>Date=%{x}<br>Sales Amount=%{y}<br>profit=%{customdata[0]}<extra></extra>",
           "hovertext": [
            "A"
           ],
           "legendgroup": "A",
           "marker": {
            "color": "#00cc96",
            "size": {
             "bdata": "yAA=",
             "dtype": "i2"
            },
            "sizemode": "area",
            "sizeref": 0.7075,
            "symbol": "circle"
           },
           "mode": "markers",
           "name": "A",
           "orientation": "v",
           "showlegend": true,
           "type": "scatter",
           "x": [
            "2023-11-01T00:00:00.000000000"
           ],
           "xaxis": "x",
           "y": {
            "bdata": "EgM=",
            "dtype": "i2"
           },
           "yaxis": "y"
          }
         ],
         "name": "2023-11-01 00:00:00"
        },
        {
         "data": [
          {
           "customdata": {
            "bdata": "4wA=",
            "dtype": "i2",
            "shape": "1, 1"
           },
           "hovertemplate": "<b>%{hovertext}</b><br><br>category=A<br>Date=%{x}<br>Sales Amount=%{y}<br>profit=%{customdata[0]}<extra></extra>",
           "hovertext": [
            "A"
           ],
           "legendgroup": "A",
           "marker": {
            "color": "#00cc96",
            "size": {
             "bdata": "4wA=",
             "dtype": "i2"
            },
            "sizemode": "area",
            "sizeref": 0.7075,
            "symbol": "circle"
           },
           "mode": "markers",
           "name": "A",
           "orientation": "v",
           "showlegend": true,
           "type": "scatter",
           "x": [
            "2023-12-01T00:00:00.000000000"
           ],
           "xaxis": "x",
           "y": {
            "bdata": "lgI=",
            "dtype": "i2"
           },
           "yaxis": "y"
          }
         ],
         "name": "2023-12-01 00:00:00"
        }
       ],
       "layout": {
        "annotations": [
         {
          "arrowhead": 2,
          "ax": 0,
          "ay": -40,
          "showarrow": true,
          "text": "Mid Year Peak",
          "x": "2022-06-01",
          "y": 600
         },
         {
          "arrowhead": 2,
          "ax": 0,
          "ay": -40,
          "showarrow": true,
          "text": "End of Year Surge",
          "x": "2023-12-01",
          "y": 800
         }
        ],
        "hovermode": "closest",
        "legend": {
         "itemsizing": "constant",
         "title": {
          "text": "Product Category"
         },
         "tracegroupgap": 0
        },
        "showlegend": true,
        "sliders": [
         {
          "active": 0,
          "currentvalue": {
           "prefix": "Date="
          },
          "len": 0.9,
          "pad": {
           "b": 10,
           "t": 60
          },
          "steps": [
           {
            "args": [
             [
              "2022-01-01 00:00:00"
             ],
             {
              "frame": {
               "duration": 0,
               "redraw": false
              },
              "fromcurrent": true,
              "mode": "immediate",
              "transition": {
               "duration": 0,
               "easing": "linear"
              }
             }
            ],
            "label": "2022-01-01 00:00:00",
            "method": "animate"
           },
           {
            "args": [
             [
              "2022-02-01 00:00:00"
             ],
             {
              "frame": {
               "duration": 0,
               "redraw": false
              },
              "fromcurrent": true,
              "mode": "immediate",
              "transition": {
               "duration": 0,
               "easing": "linear"
              }
             }
            ],
            "label": "2022-02-01 00:00:00",
            "method": "animate"
           },
           {
            "args": [
             [
              "2022-03-01 00:00:00"
             ],
             {
              "frame": {
               "duration": 0,
               "redraw": false
              },
              "fromcurrent": true,
              "mode": "immediate",
              "transition": {
               "duration": 0,
               "easing": "linear"
              }
             }
            ],
            "label": "2022-03-01 00:00:00",
            "method": "animate"
           },
           {
            "args": [
             [
              "2022-04-01 00:00:00"
             ],
             {
              "frame": {
               "duration": 0,
               "redraw": false
              },
              "fromcurrent": true,
              "mode": "immediate",
              "transition": {
               "duration": 0,
               "easing": "linear"
              }
             }
            ],
            "label": "2022-04-01 00:00:00",
            "method": "animate"
           },
           {
            "args": [
             [
              "2022-05-01 00:00:00"
             ],
             {
              "frame": {
               "duration": 0,
               "redraw": false
              },
              "fromcurrent": true,
              "mode": "immediate",
              "transition": {
               "duration": 0,
               "easing": "linear"
              }
             }
            ],
            "label": "2022-05-01 00:00:00",
            "method": "animate"
           },
           {
            "args": [
             [
              "2022-06-01 00:00:00"
             ],
             {
              "frame": {
               "duration": 0,
               "redraw": false
              },
              "fromcurrent": true,
              "mode": "immediate",
              "transition": {
               "duration": 0,
               "easing": "linear"
              }
             }
            ],
            "label": "2022-06-01 00:00:00",
            "method": "animate"
           },
           {
            "args": [
             [
              "2022-07-01 00:00:00"
             ],
             {
              "frame": {
               "duration": 0,
               "redraw": false
              },
              "fromcurrent": true,
              "mode": "immediate",
              "transition": {
               "duration": 0,
               "easing": "linear"
              }
             }
            ],
            "label": "2022-07-01 00:00:00",
            "method": "animate"
           },
           {
            "args": [
             [
              "2022-08-01 00:00:00"
             ],
             {
              "frame": {
               "duration": 0,
               "redraw": false
              },
              "fromcurrent": true,
              "mode": "immediate",
              "transition": {
               "duration": 0,
               "easing": "linear"
              }
             }
            ],
            "label": "2022-08-01 00:00:00",
            "method": "animate"
           },
           {
            "args": [
             [
              "2022-09-01 00:00:00"
             ],
             {
              "frame": {
               "duration": 0,
               "redraw": false
              },
              "fromcurrent": true,
              "mode": "immediate",
              "transition": {
               "duration": 0,
               "easing": "linear"
              }
             }
            ],
            "label": "2022-09-01 00:00:00",
            "method": "animate"
           },
           {
            "args": [
             [
              "2022-10-01 00:00:00"
             ],
             {
              "frame": {
               "duration": 0,
               "redraw": false
              },
              "fromcurrent": true,
              "mode": "immediate",
              "transition": {
               "duration": 0,
               "easing": "linear"
              }
             }
            ],
            "label": "2022-10-01 00:00:00",
            "method": "animate"
           },
           {
            "args": [
             [
              "2022-11-01 00:00:00"
             ],
             {
              "frame": {
               "duration": 0,
               "redraw": false
              },
              "fromcurrent": true,
              "mode": "immediate",
              "transition": {
               "duration": 0,
               "easing": "linear"
              }
             }
            ],
            "label": "2022-11-01 00:00:00",
            "method": "animate"
           },
           {
            "args": [
             [
              "2022-12-01 00:00:00"
             ],
             {
              "frame": {
               "duration": 0,
               "redraw": false
              },
              "fromcurrent": true,
              "mode": "immediate",
              "transition": {
               "duration": 0,
               "easing": "linear"
              }
             }
            ],
            "label": "2022-12-01 00:00:00",
            "method": "animate"
           },
           {
            "args": [
             [
              "2023-01-01 00:00:00"
             ],
             {
              "frame": {
               "duration": 0,
               "redraw": false
              },
              "fromcurrent": true,
              "mode": "immediate",
              "transition": {
               "duration": 0,
               "easing": "linear"
              }
             }
            ],
            "label": "2023-01-01 00:00:00",
            "method": "animate"
           },
           {
            "args": [
             [
              "2023-02-01 00:00:00"
             ],
             {
              "frame": {
               "duration": 0,
               "redraw": false
              },
              "fromcurrent": true,
              "mode": "immediate",
              "transition": {
               "duration": 0,
               "easing": "linear"
              }
             }
            ],
            "label": "2023-02-01 00:00:00",
            "method": "animate"
           },
           {
            "args": [
             [
              "2023-03-01 00:00:00"
             ],
             {
              "frame": {
               "duration": 0,
               "redraw": false
              },
              "fromcurrent": true,
              "mode": "immediate",
              "transition": {
               "duration": 0,
               "easing": "linear"
              }
             }
            ],
            "label": "2023-03-01 00:00:00",
            "method": "animate"
           },
           {
            "args": [
             [
              "2023-04-01 00:00:00"
             ],
             {
              "frame": {
               "duration": 0,
               "redraw": false
              },
              "fromcurrent": true,
              "mode": "immediate",
              "transition": {
               "duration": 0,
               "easing": "linear"
              }
             }
            ],
            "label": "2023-04-01 00:00:00",
            "method": "animate"
           },
           {
            "args": [
             [
              "2023-05-01 00:00:00"
             ],
             {
              "frame": {
               "duration": 0,
               "redraw": false
              },
              "fromcurrent": true,
              "mode": "immediate",
              "transition": {
               "duration": 0,
               "easing": "linear"
              }
             }
            ],
            "label": "2023-05-01 00:00:00",
            "method": "animate"
           },
           {
            "args": [
             [
              "2023-06-01 00:00:00"
             ],
             {
              "frame": {
               "duration": 0,
               "redraw": false
              },
              "fromcurrent": true,
              "mode": "immediate",
              "transition": {
               "duration": 0,
               "easing": "linear"
              }
             }
            ],
            "label": "2023-06-01 00:00:00",
            "method": "animate"
           },
           {
            "args": [
             [
              "2023-07-01 00:00:00"
             ],
             {
              "frame": {
               "duration": 0,
               "redraw": false
              },
              "fromcurrent": true,
              "mode": "immediate",
              "transition": {
               "duration": 0,
               "easing": "linear"
              }
             }
            ],
            "label": "2023-07-01 00:00:00",
            "method": "animate"
           },
           {
            "args": [
             [
              "2023-08-01 00:00:00"
             ],
             {
              "frame": {
               "duration": 0,
               "redraw": false
              },
              "fromcurrent": true,
              "mode": "immediate",
              "transition": {
               "duration": 0,
               "easing": "linear"
              }
             }
            ],
            "label": "2023-08-01 00:00:00",
            "method": "animate"
           },
           {
            "args": [
             [
              "2023-09-01 00:00:00"
             ],
             {
              "frame": {
               "duration": 0,
               "redraw": false
              },
              "fromcurrent": true,
              "mode": "immediate",
              "transition": {
               "duration": 0,
               "easing": "linear"
              }
             }
            ],
            "label": "2023-09-01 00:00:00",
            "method": "animate"
           },
           {
            "args": [
             [
              "2023-10-01 00:00:00"
             ],
             {
              "frame": {
               "duration": 0,
               "redraw": false
              },
              "fromcurrent": true,
              "mode": "immediate",
              "transition": {
               "duration": 0,
               "easing": "linear"
              }
             }
            ],
            "label": "2023-10-01 00:00:00",
            "method": "animate"
           },
           {
            "args": [
             [
              "2023-11-01 00:00:00"
             ],
             {
              "frame": {
               "duration": 0,
               "redraw": false
              },
              "fromcurrent": true,
              "mode": "immediate",
              "transition": {
               "duration": 0,
               "easing": "linear"
              }
             }
            ],
            "label": "2023-11-01 00:00:00",
            "method": "animate"
           },
           {
            "args": [
             [
              "2023-12-01 00:00:00"
             ],
             {
              "frame": {
               "duration": 0,
               "redraw": false
              },
              "fromcurrent": true,
              "mode": "immediate",
              "transition": {
               "duration": 0,
               "easing": "linear"
              }
             }
            ],
            "label": "2023-12-01 00:00:00",
            "method": "animate"
           }
          ],
          "x": 0.1,
          "xanchor": "left",
          "y": 0,
          "yanchor": "top"
         }
        ],
        "template": {
         "data": {
          "bar": [
           {
            "error_x": {
             "color": "#2a3f5f"
            },
            "error_y": {
             "color": "#2a3f5f"
            },
            "marker": {
             "line": {
              "color": "white",
              "width": 0.5
             },
             "pattern": {
              "fillmode": "overlay",
              "size": 10,
              "solidity": 0.2
             }
            },
            "type": "bar"
           }
          ],
          "barpolar": [
           {
            "marker": {
             "line": {
              "color": "white",
              "width": 0.5
             },
             "pattern": {
              "fillmode": "overlay",
              "size": 10,
              "solidity": 0.2
             }
            },
            "type": "barpolar"
           }
          ],
          "carpet": [
           {
            "aaxis": {
             "endlinecolor": "#2a3f5f",
             "gridcolor": "#C8D4E3",
             "linecolor": "#C8D4E3",
             "minorgridcolor": "#C8D4E3",
             "startlinecolor": "#2a3f5f"
            },
            "baxis": {
             "endlinecolor": "#2a3f5f",
             "gridcolor": "#C8D4E3",
             "linecolor": "#C8D4E3",
             "minorgridcolor": "#C8D4E3",
             "startlinecolor": "#2a3f5f"
            },
            "type": "carpet"
           }
          ],
          "choropleth": [
           {
            "colorbar": {
             "outlinewidth": 0,
             "ticks": ""
            },
            "type": "choropleth"
           }
          ],
          "contour": [
           {
            "colorbar": {
             "outlinewidth": 0,
             "ticks": ""
            },
            "colorscale": [
             [
              0,
              "#0d0887"
             ],
             [
              0.1111111111111111,
              "#46039f"
             ],
             [
              0.2222222222222222,
              "#7201a8"
             ],
             [
              0.3333333333333333,
              "#9c179e"
             ],
             [
              0.4444444444444444,
              "#bd3786"
             ],
             [
              0.5555555555555556,
              "#d8576b"
             ],
             [
              0.6666666666666666,
              "#ed7953"
             ],
             [
              0.7777777777777778,
              "#fb9f3a"
             ],
             [
              0.8888888888888888,
              "#fdca26"
             ],
             [
              1,
              "#f0f921"
             ]
            ],
            "type": "contour"
           }
          ],
          "contourcarpet": [
           {
            "colorbar": {
             "outlinewidth": 0,
             "ticks": ""
            },
            "type": "contourcarpet"
           }
          ],
          "heatmap": [
           {
            "colorbar": {
             "outlinewidth": 0,
             "ticks": ""
            },
            "colorscale": [
             [
              0,
              "#0d0887"
             ],
             [
              0.1111111111111111,
              "#46039f"
             ],
             [
              0.2222222222222222,
              "#7201a8"
             ],
             [
              0.3333333333333333,
              "#9c179e"
             ],
             [
              0.4444444444444444,
              "#bd3786"
             ],
             [
              0.5555555555555556,
              "#d8576b"
             ],
             [
              0.6666666666666666,
              "#ed7953"
             ],
             [
              0.7777777777777778,
              "#fb9f3a"
             ],
             [
              0.8888888888888888,
              "#fdca26"
             ],
             [
              1,
              "#f0f921"
             ]
            ],
            "type": "heatmap"
           }
          ],
          "histogram": [
           {
            "marker": {
             "pattern": {
              "fillmode": "overlay",
              "size": 10,
              "solidity": 0.2
             }
            },
            "type": "histogram"
           }
          ],
          "histogram2d": [
           {
            "colorbar": {
             "outlinewidth": 0,
             "ticks": ""
            },
            "colorscale": [
             [
              0,
              "#0d0887"
             ],
             [
              0.1111111111111111,
              "#46039f"
             ],
             [
              0.2222222222222222,
              "#7201a8"
             ],
             [
              0.3333333333333333,
              "#9c179e"
             ],
             [
              0.4444444444444444,
              "#bd3786"
             ],
             [
              0.5555555555555556,
              "#d8576b"
             ],
             [
              0.6666666666666666,
              "#ed7953"
             ],
             [
              0.7777777777777778,
              "#fb9f3a"
             ],
             [
              0.8888888888888888,
              "#fdca26"
             ],
             [
              1,
              "#f0f921"
             ]
            ],
            "type": "histogram2d"
           }
          ],
          "histogram2dcontour": [
           {
            "colorbar": {
             "outlinewidth": 0,
             "ticks": ""
            },
            "colorscale": [
             [
              0,
              "#0d0887"
             ],
             [
              0.1111111111111111,
              "#46039f"
             ],
             [
              0.2222222222222222,
              "#7201a8"
             ],
             [
              0.3333333333333333,
              "#9c179e"
             ],
             [
              0.4444444444444444,
              "#bd3786"
             ],
             [
              0.5555555555555556,
              "#d8576b"
             ],
             [
              0.6666666666666666,
              "#ed7953"
             ],
             [
              0.7777777777777778,
              "#fb9f3a"
             ],
             [
              0.8888888888888888,
              "#fdca26"
             ],
             [
              1,
              "#f0f921"
             ]
            ],
            "type": "histogram2dcontour"
           }
          ],
          "mesh3d": [
           {
            "colorbar": {
             "outlinewidth": 0,
             "ticks": ""
            },
            "type": "mesh3d"
           }
          ],
          "parcoords": [
           {
            "line": {
             "colorbar": {
              "outlinewidth": 0,
              "ticks": ""
             }
            },
            "type": "parcoords"
           }
          ],
          "pie": [
           {
            "automargin": true,
            "type": "pie"
           }
          ],
          "scatter": [
           {
            "fillpattern": {
             "fillmode": "overlay",
             "size": 10,
             "solidity": 0.2
            },
            "type": "scatter"
           }
          ],
          "scatter3d": [
           {
            "line": {
             "colorbar": {
              "outlinewidth": 0,
              "ticks": ""
             }
            },
            "marker": {
             "colorbar": {
              "outlinewidth": 0,
              "ticks": ""
             }
            },
            "type": "scatter3d"
           }
          ],
          "scattercarpet": [
           {
            "marker": {
             "colorbar": {
              "outlinewidth": 0,
              "ticks": ""
             }
            },
            "type": "scattercarpet"
           }
          ],
          "scattergeo": [
           {
            "marker": {
             "colorbar": {
              "outlinewidth": 0,
              "ticks": ""
             }
            },
            "type": "scattergeo"
           }
          ],
          "scattergl": [
           {
            "marker": {
             "colorbar": {
              "outlinewidth": 0,
              "ticks": ""
             }
            },
            "type": "scattergl"
           }
          ],
          "scattermap": [
           {
            "marker": {
             "colorbar": {
              "outlinewidth": 0,
              "ticks": ""
             }
            },
            "type": "scattermap"
           }
          ],
          "scattermapbox": [
           {
            "marker": {
             "colorbar": {
              "outlinewidth": 0,
              "ticks": ""
             }
            },
            "type": "scattermapbox"
           }
          ],
          "scatterpolar": [
           {
            "marker": {
             "colorbar": {
              "outlinewidth": 0,
              "ticks": ""
             }
            },
            "type": "scatterpolar"
           }
          ],
          "scatterpolargl": [
           {
            "marker": {
             "colorbar": {
              "outlinewidth": 0,
              "ticks": ""
             }
            },
            "type": "scatterpolargl"
           }
          ],
          "scatterternary": [
           {
            "marker": {
             "colorbar": {
              "outlinewidth": 0,
              "ticks": ""
             }
            },
            "type": "scatterternary"
           }
          ],
          "surface": [
           {
            "colorbar": {
             "outlinewidth": 0,
             "ticks": ""
            },
            "colorscale": [
             [
              0,
              "#0d0887"
             ],
             [
              0.1111111111111111,
              "#46039f"
             ],
             [
              0.2222222222222222,
              "#7201a8"
             ],
             [
              0.3333333333333333,
              "#9c179e"
             ],
             [
              0.4444444444444444,
              "#bd3786"
             ],
             [
              0.5555555555555556,
              "#d8576b"
             ],
             [
              0.6666666666666666,
              "#ed7953"
             ],
             [
              0.7777777777777778,
              "#fb9f3a"
             ],
             [
              0.8888888888888888,
              "#fdca26"
             ],
             [
              1,
              "#f0f921"
             ]
            ],
            "type": "surface"
           }
          ],
          "table": [
           {
            "cells": {
             "fill": {
              "color": "#EBF0F8"
             },
             "line": {
              "color": "white"
             }
            },
            "header": {
             "fill": {
              "color": "#C8D4E3"
             },
             "line": {
              "color": "white"
             }
            },
            "type": "table"
           }
          ]
         },
         "layout": {
          "annotationdefaults": {
           "arrowcolor": "#2a3f5f",
           "arrowhead": 0,
           "arrowwidth": 1
          },
          "autotypenumbers": "strict",
          "coloraxis": {
           "colorbar": {
            "outlinewidth": 0,
            "ticks": ""
           }
          },
          "colorscale": {
           "diverging": [
            [
             0,
             "#8e0152"
            ],
            [
             0.1,
             "#c51b7d"
            ],
            [
             0.2,
             "#de77ae"
            ],
            [
             0.3,
             "#f1b6da"
            ],
            [
             0.4,
             "#fde0ef"
            ],
            [
             0.5,
             "#f7f7f7"
            ],
            [
             0.6,
             "#e6f5d0"
            ],
            [
             0.7,
             "#b8e186"
            ],
            [
             0.8,
             "#7fbc41"
            ],
            [
             0.9,
             "#4d9221"
            ],
            [
             1,
             "#276419"
            ]
           ],
           "sequential": [
            [
             0,
             "#0d0887"
            ],
            [
             0.1111111111111111,
             "#46039f"
            ],
            [
             0.2222222222222222,
             "#7201a8"
            ],
            [
             0.3333333333333333,
             "#9c179e"
            ],
            [
             0.4444444444444444,
             "#bd3786"
            ],
            [
             0.5555555555555556,
             "#d8576b"
            ],
            [
             0.6666666666666666,
             "#ed7953"
            ],
            [
             0.7777777777777778,
             "#fb9f3a"
            ],
            [
             0.8888888888888888,
             "#fdca26"
            ],
            [
             1,
             "#f0f921"
            ]
           ],
           "sequentialminus": [
            [
             0,
             "#0d0887"
            ],
            [
             0.1111111111111111,
             "#46039f"
            ],
            [
             0.2222222222222222,
             "#7201a8"
            ],
            [
             0.3333333333333333,
             "#9c179e"
            ],
            [
             0.4444444444444444,
             "#bd3786"
            ],
            [
             0.5555555555555556,
             "#d8576b"
            ],
            [
             0.6666666666666666,
             "#ed7953"
            ],
            [
             0.7777777777777778,
             "#fb9f3a"
            ],
            [
             0.8888888888888888,
             "#fdca26"
            ],
            [
             1,
             "#f0f921"
            ]
           ]
          },
          "colorway": [
           "#636efa",
           "#EF553B",
           "#00cc96",
           "#ab63fa",
           "#FFA15A",
           "#19d3f3",
           "#FF6692",
           "#B6E880",
           "#FF97FF",
           "#FECB52"
          ],
          "font": {
           "color": "#2a3f5f"
          },
          "geo": {
           "bgcolor": "white",
           "lakecolor": "white",
           "landcolor": "white",
           "showlakes": true,
           "showland": true,
           "subunitcolor": "#C8D4E3"
          },
          "hoverlabel": {
           "align": "left"
          },
          "hovermode": "closest",
          "mapbox": {
           "style": "light"
          },
          "paper_bgcolor": "white",
          "plot_bgcolor": "white",
          "polar": {
           "angularaxis": {
            "gridcolor": "#EBF0F8",
            "linecolor": "#EBF0F8",
            "ticks": ""
           },
           "bgcolor": "white",
           "radialaxis": {
            "gridcolor": "#EBF0F8",
            "linecolor": "#EBF0F8",
            "ticks": ""
           }
          },
          "scene": {
           "xaxis": {
            "backgroundcolor": "white",
            "gridcolor": "#DFE8F3",
            "gridwidth": 2,
            "linecolor": "#EBF0F8",
            "showbackground": true,
            "ticks": "",
            "zerolinecolor": "#EBF0F8"
           },
           "yaxis": {
            "backgroundcolor": "white",
            "gridcolor": "#DFE8F3",
            "gridwidth": 2,
            "linecolor": "#EBF0F8",
            "showbackground": true,
            "ticks": "",
            "zerolinecolor": "#EBF0F8"
           },
           "zaxis": {
            "backgroundcolor": "white",
            "gridcolor": "#DFE8F3",
            "gridwidth": 2,
            "linecolor": "#EBF0F8",
            "showbackground": true,
            "ticks": "",
            "zerolinecolor": "#EBF0F8"
           }
          },
          "shapedefaults": {
           "line": {
            "color": "#2a3f5f"
           }
          },
          "ternary": {
           "aaxis": {
            "gridcolor": "#DFE8F3",
            "linecolor": "#A2B1C6",
            "ticks": ""
           },
           "baxis": {
            "gridcolor": "#DFE8F3",
            "linecolor": "#A2B1C6",
            "ticks": ""
           },
           "bgcolor": "white",
           "caxis": {
            "gridcolor": "#DFE8F3",
            "linecolor": "#A2B1C6",
            "ticks": ""
           }
          },
          "title": {
           "x": 0.05
          },
          "xaxis": {
           "automargin": true,
           "gridcolor": "#EBF0F8",
           "linecolor": "#EBF0F8",
           "ticks": "",
           "title": {
            "standoff": 15
           },
           "zerolinecolor": "#EBF0F8",
           "zerolinewidth": 2
          },
          "yaxis": {
           "automargin": true,
           "gridcolor": "#EBF0F8",
           "linecolor": "#EBF0F8",
           "ticks": "",
           "title": {
            "standoff": 15
           },
           "zerolinecolor": "#EBF0F8",
           "zerolinewidth": 2
          }
         }
        },
        "title": {
         "text": "Monthly Sales and Profit Data (Animated Scatter Plot)",
         "x": 0.5
        },
        "updatemenus": [
         {
          "buttons": [
           {
            "args": [
             null,
             {
              "frame": {
               "duration": 500,
               "redraw": false
              },
              "fromcurrent": true,
              "mode": "immediate",
              "transition": {
               "duration": 500,
               "easing": "linear"
              }
             }
            ],
            "label": "&#9654;",
            "method": "animate"
           },
           {
            "args": [
             [
              null
             ],
             {
              "frame": {
               "duration": 0,
               "redraw": false
              },
              "fromcurrent": true,
              "mode": "immediate",
              "transition": {
               "duration": 0,
               "easing": "linear"
              }
             }
            ],
            "label": "&#9724;",
            "method": "animate"
           }
          ],
          "direction": "left",
          "pad": {
           "r": 10,
           "t": 70
          },
          "showactive": false,
          "type": "buttons",
          "x": 0.1,
          "xanchor": "right",
          "y": 0,
          "yanchor": "top"
         }
        ],
        "xaxis": {
         "anchor": "y",
         "categoryarray": [
          "2022-01-01T00:00:00",
          "2022-02-01T00:00:00",
          "2022-03-01T00:00:00",
          "2022-04-01T00:00:00",
          "2022-05-01T00:00:00",
          "2022-06-01T00:00:00",
          "2022-07-01T00:00:00",
          "2022-08-01T00:00:00",
          "2022-09-01T00:00:00",
          "2022-10-01T00:00:00",
          "2022-11-01T00:00:00",
          "2022-12-01T00:00:00",
          "2023-01-01T00:00:00",
          "2023-02-01T00:00:00",
          "2023-03-01T00:00:00",
          "2023-04-01T00:00:00",
          "2023-05-01T00:00:00",
          "2023-06-01T00:00:00",
          "2023-07-01T00:00:00",
          "2023-08-01T00:00:00",
          "2023-09-01T00:00:00",
          "2023-10-01T00:00:00",
          "2023-11-01T00:00:00",
          "2023-12-01T00:00:00"
         ],
         "categoryorder": "array",
         "domain": [
          0,
          1
         ],
         "range": [
          "2022-01-01T00:00:00",
          "2023-12-01T00:00:00"
         ],
         "title": {
          "text": "Date"
         }
        },
        "yaxis": {
         "anchor": "x",
         "domain": [
          0,
          1
         ],
         "range": [
          0,
          1000
         ],
         "title": {
          "text": "Sales Amount"
         }
        }
       }
      },
      "image/png": "[encoded data removed]"
     },
     "metadata": {},
     "output_type": "display_data"
    }
   ],
   "source": [
    "import pandas as pd\n",
    "import numpy as np\n",
    "\n",
    "# https://www.geeksforgeeks.org/animated-scatter-plots-in-plotly-for-time-series-data/\n",
    "\n",
    "# Set the random seed for reproducibility\n",
    "np.random.seed(42)\n",
    "\n",
    "# Create a date range\n",
    "date_range = pd.date_range(start='2022-01-01', end='2023-12-01', freq='MS')\n",
    "print(type(date_range), date_range)\n",
    "\n",
    "print(\"sales data:\")\n",
    "print(type(np.random.randint(100, 1000, size=len(date_range))))\n",
    "print()\n",
    "\n",
    "# Create a synthetic dataset\n",
    "data = {\n",
    "    'date': date_range,\n",
    "    'sales': np.random.randint(100, 1000, size=len(date_range)),\n",
    "    'profit': np.random.randint(10, 300, size=len(date_range)),  # New profit column\n",
    "    'category': np.random.choice(['A', 'B', 'C'], size=len(date_range))\n",
    "}\n",
    "print(data)\n",
    "\n",
    "df = pd.DataFrame(data)\n",
    "\n",
    "# Display the first few rows of the dataset\n",
    "print(df.head())\n",
    "\n",
    "import plotly.express as px\n",
    "\n",
    "# Create an animated scatter plot with additional features\n",
    "fig = px.scatter(\n",
    "    df,\n",
    "    x='date',\n",
    "    y='sales',\n",
    "    animation_frame='date',\n",
    "    color='category',\n",
    "    size='profit',  # Use profit for marker size\n",
    "    title='Monthly Sales and Profit Data (Animated Scatter Plot)',\n",
    "    labels={'sales': 'Sales Amount', 'date': 'Date'},\n",
    "    range_y=[0, 1000],\n",
    "    range_x=[df['date'].min(), df['date'].max()],  # Ensure x-axis covers the full date range\n",
    "    hover_name='category',  # Show category on hover\n",
    "    hover_data={'profit': True, 'sales': True},  # Include profit in hover data\n",
    "    template='plotly_white'  # Change the template for a different aesthetic\n",
    ")\n",
    "\n",
    "# Customize layout for better aesthetics\n",
    "fig.update_layout(\n",
    "    title_x=0.5,  # Center the title\n",
    "    xaxis_title='Date',\n",
    "    yaxis_title='Sales Amount',\n",
    "    legend_title='Product Category',\n",
    "    hovermode='closest',\n",
    "    showlegend=True\n",
    ")\n",
    "\n",
    "# Add annotations for significant points if needed\n",
    "annotations = [\n",
    "    dict(x='2022-06-01', y=600, text='Mid Year Peak', showarrow=True, arrowhead=2, ax=0, ay=-40),\n",
    "    dict(x='2023-12-01', y=800, text='End of Year Surge', showarrow=True, arrowhead=2, ax=0, ay=-40)\n",
    "]\n",
    "\n",
    "fig.update_layout(annotations=annotations)\n",
    "\n",
    "# Show the plot\n",
    "fig.show()"
   ]
  },
  {
   "cell_type": "markdown",
   "id": "0f0318b3-9dcb-432f-9199-307311a0510e",
   "metadata": {},
   "source": [
    "Animation by day"
   ]
  },
  {
   "cell_type": "code",
   "execution_count": 39,
   "id": "a75fadd0-25f2-4d86-a480-66d25cfbf30b",
   "metadata": {},
   "outputs": [
    {
     "name": "stdout",
     "output_type": "stream",
     "text": [
      "         date      GOOG      AAPL      AMZN        FB      NFLX      MSFT\n",
      "0  2018-01-01  1.000000  1.000000  1.000000  1.000000  1.000000  1.000000\n",
      "1  2018-01-08  1.018172  1.011943  1.061881  0.959968  1.053526  1.015988\n",
      "2  2018-01-15  1.032008  1.019771  1.053240  0.970243  1.049860  1.020524\n",
      "3  2018-01-22  1.066783  0.980057  1.140676  1.016858  1.307681  1.066561\n",
      "4  2018-01-29  1.008773  0.917143  1.163374  1.018357  1.273537  1.040708\n",
      "Date range:\n",
      "Min: 2018-01-01\n",
      "Max: 2019-12-30\n",
      "Stock price range:\n",
      "Min: 0.668718185644586\n",
      "Max: 1.9576645850358452\n",
      "         date company  stock_price  date_numeric\n",
      "0  2018-01-01    GOOG     1.000000        736695\n",
      "1  2018-01-08    GOOG     1.018172        736702\n",
      "2  2018-01-15    GOOG     1.032008        736709\n",
      "3  2018-01-22    GOOG     1.066783        736716\n",
      "4  2018-01-29    GOOG     1.008773        736723\n"
     ]
    },
    {
     "data": {
      "application/vnd.plotly.v1+json": {
       "config": {
        "plotlyServerURL": "https://plot.ly"
       },
       "data": [
        {
         "hovertemplate": "date=%{x}<br>GOOG=%{y}<extra></extra>",
         "legendgroup": "",
         "line": {
          "color": "#636efa",
          "dash": "solid"
         },
         "marker": {
          "symbol": "circle"
         },
         "mode": "lines",
         "name": "",
         "orientation": "v",
         "showlegend": false,
         "type": "scatter",
         "x": [
          "2018-01-01",
          "2018-01-08",
          "2018-01-15",
          "2018-01-22",
          "2018-01-29",
          "2018-02-05",
          "2018-02-12",
          "2018-02-19",
          "2018-02-26",
          "2018-03-05",
          "2018-03-12",
          "2018-03-19",
          "2018-03-26",
          "2018-04-02",
          "2018-04-09",
          "2018-04-16",
          "2018-04-23",
          "2018-04-30",
          "2018-05-07",
          "2018-05-14",
          "2018-05-21",
          "2018-05-28",
          "2018-06-04",
          "2018-06-11",
          "2018-06-18",
          "2018-06-25",
          "2018-07-02",
          "2018-07-09",
          "2018-07-16",
          "2018-07-23",
          "2018-07-30",
          "2018-08-06",
          "2018-08-13",
          "2018-08-20",
          "2018-08-27",
          "2018-09-03",
          "2018-09-10",
          "2018-09-17",
          "2018-09-24",
          "2018-10-01",
          "2018-10-08",
          "2018-10-15",
          "2018-10-22",
          "2018-10-29",
          "2018-11-05",
          "2018-11-12",
          "2018-11-19",
          "2018-11-26",
          "2018-12-03",
          "2018-12-10",
          "2018-12-17",
          "2018-12-24",
          "2018-12-31",
          "2019-01-07",
          "2019-01-14",
          "2019-01-21",
          "2019-01-28",
          "2019-02-04",
          "2019-02-11",
          "2019-02-18",
          "2019-02-25",
          "2019-03-04",
          "2019-03-11",
          "2019-03-18",
          "2019-03-25",
          "2019-04-01",
          "2019-04-08",
          "2019-04-15",
          "2019-04-22",
          "2019-04-29",
          "2019-05-06",
          "2019-05-13",
          "2019-05-20",
          "2019-05-27",
          "2019-06-03",
          "2019-06-10",
          "2019-06-17",
          "2019-06-24",
          "2019-07-01",
          "2019-07-08",
          "2019-07-15",
          "2019-07-22",
          "2019-07-29",
          "2019-08-05",
          "2019-08-12",
          "2019-08-19",
          "2019-08-26",
          "2019-09-02",
          "2019-09-09",
          "2019-09-16",
          "2019-09-23",
          "2019-09-30",
          "2019-10-07",
          "2019-10-14",
          "2019-10-21",
          "2019-10-28",
          "2019-11-04",
          "2019-11-11",
          "2019-11-18",
          "2019-11-25",
          "2019-12-02",
          "2019-12-09",
          "2019-12-16",
          "2019-12-23",
          "2019-12-30"
         ],
         "xaxis": "x",
         "y": {
          "bdata": "AAAAAAAA8D/OK9MDb0rwP68QOq4ag/A/9oPp0ooR8T8TsS9U7yPwP99D4KT+IO4/3Hw6e8fI7z+q8F+IRFvwP9LSdHnBUu8/LIMaANTW8D8JvFtMfXzwPz7QZruEqO0/HpxM0nn07T+3TPA/hzztPxfM6R6/4e0/IXrkjXUm7z8heCA9i+ftP6NcPhmDbu4/QjPHjn7i7z+qgyQlaPXuP+V5ctWGOu8/ZFIUWy1A8D9vrqGpREXwP4WiXq/qufA/U4wX6uHF8D/pH6HJ3jHwP3Um9zr9jPA/0NEB+MZB8T9XHtVhPzPxPyuHvbZk+vE/NwuPnm7D8T/XXM4FFvfxP6hIRQnkbvE/az8Jog+48T9kWBFN667xP01QZMGg6PA/pI7CAT4F8T+UMFxuT+3wP6R7NKQOU/E/85Ml4tTM8D/YyoXbKx3wP2L4PrQd1e8/L6n6oWIb7z/SWD6VtrXuP9oE9qnY8+4/8kBpRjbR7j+goGHWr7ntP/MQKYMHxu8/XzbgVBMY7j8FnNv3GUHuP7udcIUkcOw/dtxkp8ob7j+2jo+avBXvP53HSc9Ase4/QjPHjn7i7z9LiPtKdqzvPxmlC0mpH/A/OvEgMLbK7z+605ckcCrwP3zeMMc/HvA/rDRmQwmQ8D+apul6+pTwPymUuDeTMfE/Lh6kE8N/8T8zPRwRJAjxPzJ9CsjkhfE/OJ3k7bqt8T/lnXpkevLxPxPbLk2Nd/I/umBFhRE18T9FfGgTjObwP4oJl/853/A/NI4dTRd08D8JjgPgMwXwP1INy2YH8+4/3LqtWYuC7z8wZfiBBUnwP9tJ47eLYe8/dM57zxpt8D8PGkn3kJ7wP/vlhlmRZ/A/R53F/qYm8j95l9xY/VTxP0LUZHXEPvE/R7cjKRUY8T/i1RHuT7bwPzyHlAsaP/E/fDnW36R98T+zOPArVf7xP79xyu6L2vE/7Hfuco/I8T9/Y3S0xIzxP06g9q+8pPE/IwGMcl4U8j+pVbJuWl3yPzJVr01ZffI/r0ZXkS8J8z/PhYSkg2DzP8kL1dedzfI/E8Ioj13x8j/WQP++4XXzP+AKN76skPM/MT5xFDeX8z+urvcqw5/zP2qQawKBaPM/",
          "dtype": "f8"
         },
         "yaxis": "y"
        }
       ],
       "layout": {
        "legend": {
         "tracegroupgap": 0
        },
        "margin": {
         "t": 60
        },
        "template": {
         "data": {
          "bar": [
           {
            "error_x": {
             "color": "#2a3f5f"
            },
            "error_y": {
             "color": "#2a3f5f"
            },
            "marker": {
             "line": {
              "color": "#E5ECF6",
              "width": 0.5
             },
             "pattern": {
              "fillmode": "overlay",
              "size": 10,
              "solidity": 0.2
             }
            },
            "type": "bar"
           }
          ],
          "barpolar": [
           {
            "marker": {
             "line": {
              "color": "#E5ECF6",
              "width": 0.5
             },
             "pattern": {
              "fillmode": "overlay",
              "size": 10,
              "solidity": 0.2
             }
            },
            "type": "barpolar"
           }
          ],
          "carpet": [
           {
            "aaxis": {
             "endlinecolor": "#2a3f5f",
             "gridcolor": "white",
             "linecolor": "white",
             "minorgridcolor": "white",
             "startlinecolor": "#2a3f5f"
            },
            "baxis": {
             "endlinecolor": "#2a3f5f",
             "gridcolor": "white",
             "linecolor": "white",
             "minorgridcolor": "white",
             "startlinecolor": "#2a3f5f"
            },
            "type": "carpet"
           }
          ],
          "choropleth": [
           {
            "colorbar": {
             "outlinewidth": 0,
             "ticks": ""
            },
            "type": "choropleth"
           }
          ],
          "contour": [
           {
            "colorbar": {
             "outlinewidth": 0,
             "ticks": ""
            },
            "colorscale": [
             [
              0,
              "#0d0887"
             ],
             [
              0.1111111111111111,
              "#46039f"
             ],
             [
              0.2222222222222222,
              "#7201a8"
             ],
             [
              0.3333333333333333,
              "#9c179e"
             ],
             [
              0.4444444444444444,
              "#bd3786"
             ],
             [
              0.5555555555555556,
              "#d8576b"
             ],
             [
              0.6666666666666666,
              "#ed7953"
             ],
             [
              0.7777777777777778,
              "#fb9f3a"
             ],
             [
              0.8888888888888888,
              "#fdca26"
             ],
             [
              1,
              "#f0f921"
             ]
            ],
            "type": "contour"
           }
          ],
          "contourcarpet": [
           {
            "colorbar": {
             "outlinewidth": 0,
             "ticks": ""
            },
            "type": "contourcarpet"
           }
          ],
          "heatmap": [
           {
            "colorbar": {
             "outlinewidth": 0,
             "ticks": ""
            },
            "colorscale": [
             [
              0,
              "#0d0887"
             ],
             [
              0.1111111111111111,
              "#46039f"
             ],
             [
              0.2222222222222222,
              "#7201a8"
             ],
             [
              0.3333333333333333,
              "#9c179e"
             ],
             [
              0.4444444444444444,
              "#bd3786"
             ],
             [
              0.5555555555555556,
              "#d8576b"
             ],
             [
              0.6666666666666666,
              "#ed7953"
             ],
             [
              0.7777777777777778,
              "#fb9f3a"
             ],
             [
              0.8888888888888888,
              "#fdca26"
             ],
             [
              1,
              "#f0f921"
             ]
            ],
            "type": "heatmap"
           }
          ],
          "histogram": [
           {
            "marker": {
             "pattern": {
              "fillmode": "overlay",
              "size": 10,
              "solidity": 0.2
             }
            },
            "type": "histogram"
           }
          ],
          "histogram2d": [
           {
            "colorbar": {
             "outlinewidth": 0,
             "ticks": ""
            },
            "colorscale": [
             [
              0,
              "#0d0887"
             ],
             [
              0.1111111111111111,
              "#46039f"
             ],
             [
              0.2222222222222222,
              "#7201a8"
             ],
             [
              0.3333333333333333,
              "#9c179e"
             ],
             [
              0.4444444444444444,
              "#bd3786"
             ],
             [
              0.5555555555555556,
              "#d8576b"
             ],
             [
              0.6666666666666666,
              "#ed7953"
             ],
             [
              0.7777777777777778,
              "#fb9f3a"
             ],
             [
              0.8888888888888888,
              "#fdca26"
             ],
             [
              1,
              "#f0f921"
             ]
            ],
            "type": "histogram2d"
           }
          ],
          "histogram2dcontour": [
           {
            "colorbar": {
             "outlinewidth": 0,
             "ticks": ""
            },
            "colorscale": [
             [
              0,
              "#0d0887"
             ],
             [
              0.1111111111111111,
              "#46039f"
             ],
             [
              0.2222222222222222,
              "#7201a8"
             ],
             [
              0.3333333333333333,
              "#9c179e"
             ],
             [
              0.4444444444444444,
              "#bd3786"
             ],
             [
              0.5555555555555556,
              "#d8576b"
             ],
             [
              0.6666666666666666,
              "#ed7953"
             ],
             [
              0.7777777777777778,
              "#fb9f3a"
             ],
             [
              0.8888888888888888,
              "#fdca26"
             ],
             [
              1,
              "#f0f921"
             ]
            ],
            "type": "histogram2dcontour"
           }
          ],
          "mesh3d": [
           {
            "colorbar": {
             "outlinewidth": 0,
             "ticks": ""
            },
            "type": "mesh3d"
           }
          ],
          "parcoords": [
           {
            "line": {
             "colorbar": {
              "outlinewidth": 0,
              "ticks": ""
             }
            },
            "type": "parcoords"
           }
          ],
          "pie": [
           {
            "automargin": true,
            "type": "pie"
           }
          ],
          "scatter": [
           {
            "fillpattern": {
             "fillmode": "overlay",
             "size": 10,
             "solidity": 0.2
            },
            "type": "scatter"
           }
          ],
          "scatter3d": [
           {
            "line": {
             "colorbar": {
              "outlinewidth": 0,
              "ticks": ""
             }
            },
            "marker": {
             "colorbar": {
              "outlinewidth": 0,
              "ticks": ""
             }
            },
            "type": "scatter3d"
           }
          ],
          "scattercarpet": [
           {
            "marker": {
             "colorbar": {
              "outlinewidth": 0,
              "ticks": ""
             }
            },
            "type": "scattercarpet"
           }
          ],
          "scattergeo": [
           {
            "marker": {
             "colorbar": {
              "outlinewidth": 0,
              "ticks": ""
             }
            },
            "type": "scattergeo"
           }
          ],
          "scattergl": [
           {
            "marker": {
             "colorbar": {
              "outlinewidth": 0,
              "ticks": ""
             }
            },
            "type": "scattergl"
           }
          ],
          "scattermap": [
           {
            "marker": {
             "colorbar": {
              "outlinewidth": 0,
              "ticks": ""
             }
            },
            "type": "scattermap"
           }
          ],
          "scattermapbox": [
           {
            "marker": {
             "colorbar": {
              "outlinewidth": 0,
              "ticks": ""
             }
            },
            "type": "scattermapbox"
           }
          ],
          "scatterpolar": [
           {
            "marker": {
             "colorbar": {
              "outlinewidth": 0,
              "ticks": ""
             }
            },
            "type": "scatterpolar"
           }
          ],
          "scatterpolargl": [
           {
            "marker": {
             "colorbar": {
              "outlinewidth": 0,
              "ticks": ""
             }
            },
            "type": "scatterpolargl"
           }
          ],
          "scatterternary": [
           {
            "marker": {
             "colorbar": {
              "outlinewidth": 0,
              "ticks": ""
             }
            },
            "type": "scatterternary"
           }
          ],
          "surface": [
           {
            "colorbar": {
             "outlinewidth": 0,
             "ticks": ""
            },
            "colorscale": [
             [
              0,
              "#0d0887"
             ],
             [
              0.1111111111111111,
              "#46039f"
             ],
             [
              0.2222222222222222,
              "#7201a8"
             ],
             [
              0.3333333333333333,
              "#9c179e"
             ],
             [
              0.4444444444444444,
              "#bd3786"
             ],
             [
              0.5555555555555556,
              "#d8576b"
             ],
             [
              0.6666666666666666,
              "#ed7953"
             ],
             [
              0.7777777777777778,
              "#fb9f3a"
             ],
             [
              0.8888888888888888,
              "#fdca26"
             ],
             [
              1,
              "#f0f921"
             ]
            ],
            "type": "surface"
           }
          ],
          "table": [
           {
            "cells": {
             "fill": {
              "color": "#EBF0F8"
             },
             "line": {
              "color": "white"
             }
            },
            "header": {
             "fill": {
              "color": "#C8D4E3"
             },
             "line": {
              "color": "white"
             }
            },
            "type": "table"
           }
          ]
         },
         "layout": {
          "annotationdefaults": {
           "arrowcolor": "#2a3f5f",
           "arrowhead": 0,
           "arrowwidth": 1
          },
          "autotypenumbers": "strict",
          "coloraxis": {
           "colorbar": {
            "outlinewidth": 0,
            "ticks": ""
           }
          },
          "colorscale": {
           "diverging": [
            [
             0,
             "#8e0152"
            ],
            [
             0.1,
             "#c51b7d"
            ],
            [
             0.2,
             "#de77ae"
            ],
            [
             0.3,
             "#f1b6da"
            ],
            [
             0.4,
             "#fde0ef"
            ],
            [
             0.5,
             "#f7f7f7"
            ],
            [
             0.6,
             "#e6f5d0"
            ],
            [
             0.7,
             "#b8e186"
            ],
            [
             0.8,
             "#7fbc41"
            ],
            [
             0.9,
             "#4d9221"
            ],
            [
             1,
             "#276419"
            ]
           ],
           "sequential": [
            [
             0,
             "#0d0887"
            ],
            [
             0.1111111111111111,
             "#46039f"
            ],
            [
             0.2222222222222222,
             "#7201a8"
            ],
            [
             0.3333333333333333,
             "#9c179e"
            ],
            [
             0.4444444444444444,
             "#bd3786"
            ],
            [
             0.5555555555555556,
             "#d8576b"
            ],
            [
             0.6666666666666666,
             "#ed7953"
            ],
            [
             0.7777777777777778,
             "#fb9f3a"
            ],
            [
             0.8888888888888888,
             "#fdca26"
            ],
            [
             1,
             "#f0f921"
            ]
           ],
           "sequentialminus": [
            [
             0,
             "#0d0887"
            ],
            [
             0.1111111111111111,
             "#46039f"
            ],
            [
             0.2222222222222222,
             "#7201a8"
            ],
            [
             0.3333333333333333,
             "#9c179e"
            ],
            [
             0.4444444444444444,
             "#bd3786"
            ],
            [
             0.5555555555555556,
             "#d8576b"
            ],
            [
             0.6666666666666666,
             "#ed7953"
            ],
            [
             0.7777777777777778,
             "#fb9f3a"
            ],
            [
             0.8888888888888888,
             "#fdca26"
            ],
            [
             1,
             "#f0f921"
            ]
           ]
          },
          "colorway": [
           "#636efa",
           "#EF553B",
           "#00cc96",
           "#ab63fa",
           "#FFA15A",
           "#19d3f3",
           "#FF6692",
           "#B6E880",
           "#FF97FF",
           "#FECB52"
          ],
          "font": {
           "color": "#2a3f5f"
          },
          "geo": {
           "bgcolor": "white",
           "lakecolor": "white",
           "landcolor": "#E5ECF6",
           "showlakes": true,
           "showland": true,
           "subunitcolor": "white"
          },
          "hoverlabel": {
           "align": "left"
          },
          "hovermode": "closest",
          "mapbox": {
           "style": "light"
          },
          "paper_bgcolor": "white",
          "plot_bgcolor": "#E5ECF6",
          "polar": {
           "angularaxis": {
            "gridcolor": "white",
            "linecolor": "white",
            "ticks": ""
           },
           "bgcolor": "#E5ECF6",
           "radialaxis": {
            "gridcolor": "white",
            "linecolor": "white",
            "ticks": ""
           }
          },
          "scene": {
           "xaxis": {
            "backgroundcolor": "#E5ECF6",
            "gridcolor": "white",
            "gridwidth": 2,
            "linecolor": "white",
            "showbackground": true,
            "ticks": "",
            "zerolinecolor": "white"
           },
           "yaxis": {
            "backgroundcolor": "#E5ECF6",
            "gridcolor": "white",
            "gridwidth": 2,
            "linecolor": "white",
            "showbackground": true,
            "ticks": "",
            "zerolinecolor": "white"
           },
           "zaxis": {
            "backgroundcolor": "#E5ECF6",
            "gridcolor": "white",
            "gridwidth": 2,
            "linecolor": "white",
            "showbackground": true,
            "ticks": "",
            "zerolinecolor": "white"
           }
          },
          "shapedefaults": {
           "line": {
            "color": "#2a3f5f"
           }
          },
          "ternary": {
           "aaxis": {
            "gridcolor": "white",
            "linecolor": "white",
            "ticks": ""
           },
           "baxis": {
            "gridcolor": "white",
            "linecolor": "white",
            "ticks": ""
           },
           "bgcolor": "#E5ECF6",
           "caxis": {
            "gridcolor": "white",
            "linecolor": "white",
            "ticks": ""
           }
          },
          "title": {
           "x": 0.05
          },
          "xaxis": {
           "automargin": true,
           "gridcolor": "white",
           "linecolor": "white",
           "ticks": "",
           "title": {
            "standoff": 15
           },
           "zerolinecolor": "white",
           "zerolinewidth": 2
          },
          "yaxis": {
           "automargin": true,
           "gridcolor": "white",
           "linecolor": "white",
           "ticks": "",
           "title": {
            "standoff": 15
           },
           "zerolinecolor": "white",
           "zerolinewidth": 2
          }
         }
        },
        "xaxis": {
         "anchor": "y",
         "domain": [
          0,
          1
         ],
         "title": {
          "text": "date"
         }
        },
        "yaxis": {
         "anchor": "x",
         "domain": [
          0,
          1
         ],
         "title": {
          "text": "GOOG"
         }
        }
       }
      },
      "image/png": "[encoded data removed]"
     },
     "metadata": {},
     "output_type": "display_data"
    },
    {
     "data": {
      "application/vnd.plotly.v1+json": {
       "config": {
        "plotlyServerURL": "https://plot.ly"
       },
       "data": [
        {
         "hovertemplate": "date=%{x}<br>AAPL=%{y}<extra></extra>",
         "legendgroup": "",
         "line": {
          "color": "#636efa",
          "dash": "solid"
         },
         "marker": {
          "symbol": "circle"
         },
         "mode": "lines",
         "name": "",
         "orientation": "v",
         "showlegend": false,
         "type": "scatter",
         "x": [
          "2018-01-01",
          "2018-01-08",
          "2018-01-15",
          "2018-01-22",
          "2018-01-29",
          "2018-02-05",
          "2018-02-12",
          "2018-02-19",
          "2018-02-26",
          "2018-03-05",
          "2018-03-12",
          "2018-03-19",
          "2018-03-26",
          "2018-04-02",
          "2018-04-09",
          "2018-04-16",
          "2018-04-23",
          "2018-04-30",
          "2018-05-07",
          "2018-05-14",
          "2018-05-21",
          "2018-05-28",
          "2018-06-04",
          "2018-06-11",
          "2018-06-18",
          "2018-06-25",
          "2018-07-02",
          "2018-07-09",
          "2018-07-16",
          "2018-07-23",
          "2018-07-30",
          "2018-08-06",
          "2018-08-13",
          "2018-08-20",
          "2018-08-27",
          "2018-09-03",
          "2018-09-10",
          "2018-09-17",
          "2018-09-24",
          "2018-10-01",
          "2018-10-08",
          "2018-10-15",
          "2018-10-22",
          "2018-10-29",
          "2018-11-05",
          "2018-11-12",
          "2018-11-19",
          "2018-11-26",
          "2018-12-03",
          "2018-12-10",
          "2018-12-17",
          "2018-12-24",
          "2018-12-31",
          "2019-01-07",
          "2019-01-14",
          "2019-01-21",
          "2019-01-28",
          "2019-02-04",
          "2019-02-11",
          "2019-02-18",
          "2019-02-25",
          "2019-03-04",
          "2019-03-11",
          "2019-03-18",
          "2019-03-25",
          "2019-04-01",
          "2019-04-08",
          "2019-04-15",
          "2019-04-22",
          "2019-04-29",
          "2019-05-06",
          "2019-05-13",
          "2019-05-20",
          "2019-05-27",
          "2019-06-03",
          "2019-06-10",
          "2019-06-17",
          "2019-06-24",
          "2019-07-01",
          "2019-07-08",
          "2019-07-15",
          "2019-07-22",
          "2019-07-29",
          "2019-08-05",
          "2019-08-12",
          "2019-08-19",
          "2019-08-26",
          "2019-09-02",
          "2019-09-09",
          "2019-09-16",
          "2019-09-23",
          "2019-09-30",
          "2019-10-07",
          "2019-10-14",
          "2019-10-21",
          "2019-10-28",
          "2019-11-04",
          "2019-11-11",
          "2019-11-18",
          "2019-11-25",
          "2019-12-02",
          "2019-12-09",
          "2019-12-16",
          "2019-12-23",
          "2019-12-30"
         ],
         "xaxis": "x",
         "y": {
          "bdata": "AAAAAAAA8D/q2yr46jDwP+aHLuP7UPA/hjfCvKBc7z/HCCb6O1ntP0x+P5bGmew/RAa0vbGH7z9VGnLuswvwP2kRLTJSHPA/RdD7c4908D8I1SVzr0bwP0G2R74TKe4/ohoFfQWu7j/2V7LLG8ruP5V3m1hc8+8/fxuQCZdN7j+Esxtxbq7tPxcaOCmszvA/ijlrZBU+8T+0Zvn0twjxPz0UdILZPfE/B08YBbRk8T/xL3wX4IbxP7RGpFvvQ/E/V8F+RC/o8D8KZ069oezwP3+hnXeSL/E/D6XnITd+8T+wTsM8yoDxP5ATyvEFdvE/y/XqlScE8z+quvFKY/nyP3YLToid5PM/wQljGWHD8z9AXKrF18/0P9LFrESvO/Q/5nnXjiJ39D/AWLnkfObzP4+cvSabo/Q/ElLX4KqB9D+QA0qqpE70P5UwZG4bDfQ/gb439KfG8z+AeH+uN/jyP24GUzTEsfI/Y9l2NrWx8T8zP/kEJIHvP5wFiuHKU/A/OKtpAULP7j9SqR3iWkLuP8SX0e3ij+s/D9ufa1mR7D+ypk4dQxzrP7AEUYHp2Os/OXBN8/es7D9Ljz6C+NjsP9Huyg0Kc+4/3EA1vyIp7z91iyODminvPxkXfQz5oO8/wukNgJj+7z8sSKoPKp7vPwHBKXxFBPE/xYy1aql38T/I0+xU6l3xP5WGnPvsAvI/dGCHvLEu8j94QgUrfaPyP45GhZnJrfI/XI/C9Shc8z+KGup5IwfyP0jhehSuR/E/h8eXs+tc8D81eet4owHwP8ies6+YYvE/sNJSrTef8T/f7SR+lizyP/VtFXx1GPI/Ws2ZICas8j/kEaG8YZbyP9Ia5njDhfI/oeixnk3+8j9FLlPiO6fyPyeFrYtQYPI/4XoUrkfh8j/9XFgV74byP0sdlnu1FfM/cLKYpIB/8z8AAAAAAAD0P0uUokYg6PM/NXnreKMB9D+NhtrBVMH0Py1pqfepmPU/LTRwUlid9T+vAiiOYYv2P7sV52WmY/c/ih0lS8PI9z/mvGeITUz4P6HjTdol7/c/Jvo7WS1v+D+cld8jKcD4Px8beQcVKPk/Bmk1K36M+T+Rn7rI+X76P2Lp9n0W2fo/",
          "dtype": "f8"
         },
         "yaxis": "y"
        }
       ],
       "layout": {
        "legend": {
         "tracegroupgap": 0
        },
        "margin": {
         "t": 60
        },
        "template": {
         "data": {
          "bar": [
           {
            "error_x": {
             "color": "#2a3f5f"
            },
            "error_y": {
             "color": "#2a3f5f"
            },
            "marker": {
             "line": {
              "color": "#E5ECF6",
              "width": 0.5
             },
             "pattern": {
              "fillmode": "overlay",
              "size": 10,
              "solidity": 0.2
             }
            },
            "type": "bar"
           }
          ],
          "barpolar": [
           {
            "marker": {
             "line": {
              "color": "#E5ECF6",
              "width": 0.5
             },
             "pattern": {
              "fillmode": "overlay",
              "size": 10,
              "solidity": 0.2
             }
            },
            "type": "barpolar"
           }
          ],
          "carpet": [
           {
            "aaxis": {
             "endlinecolor": "#2a3f5f",
             "gridcolor": "white",
             "linecolor": "white",
             "minorgridcolor": "white",
             "startlinecolor": "#2a3f5f"
            },
            "baxis": {
             "endlinecolor": "#2a3f5f",
             "gridcolor": "white",
             "linecolor": "white",
             "minorgridcolor": "white",
             "startlinecolor": "#2a3f5f"
            },
            "type": "carpet"
           }
          ],
          "choropleth": [
           {
            "colorbar": {
             "outlinewidth": 0,
             "ticks": ""
            },
            "type": "choropleth"
           }
          ],
          "contour": [
           {
            "colorbar": {
             "outlinewidth": 0,
             "ticks": ""
            },
            "colorscale": [
             [
              0,
              "#0d0887"
             ],
             [
              0.1111111111111111,
              "#46039f"
             ],
             [
              0.2222222222222222,
              "#7201a8"
             ],
             [
              0.3333333333333333,
              "#9c179e"
             ],
             [
              0.4444444444444444,
              "#bd3786"
             ],
             [
              0.5555555555555556,
              "#d8576b"
             ],
             [
              0.6666666666666666,
              "#ed7953"
             ],
             [
              0.7777777777777778,
              "#fb9f3a"
             ],
             [
              0.8888888888888888,
              "#fdca26"
             ],
             [
              1,
              "#f0f921"
             ]
            ],
            "type": "contour"
           }
          ],
          "contourcarpet": [
           {
            "colorbar": {
             "outlinewidth": 0,
             "ticks": ""
            },
            "type": "contourcarpet"
           }
          ],
          "heatmap": [
           {
            "colorbar": {
             "outlinewidth": 0,
             "ticks": ""
            },
            "colorscale": [
             [
              0,
              "#0d0887"
             ],
             [
              0.1111111111111111,
              "#46039f"
             ],
             [
              0.2222222222222222,
              "#7201a8"
             ],
             [
              0.3333333333333333,
              "#9c179e"
             ],
             [
              0.4444444444444444,
              "#bd3786"
             ],
             [
              0.5555555555555556,
              "#d8576b"
             ],
             [
              0.6666666666666666,
              "#ed7953"
             ],
             [
              0.7777777777777778,
              "#fb9f3a"
             ],
             [
              0.8888888888888888,
              "#fdca26"
             ],
             [
              1,
              "#f0f921"
             ]
            ],
            "type": "heatmap"
           }
          ],
          "histogram": [
           {
            "marker": {
             "pattern": {
              "fillmode": "overlay",
              "size": 10,
              "solidity": 0.2
             }
            },
            "type": "histogram"
           }
          ],
          "histogram2d": [
           {
            "colorbar": {
             "outlinewidth": 0,
             "ticks": ""
            },
            "colorscale": [
             [
              0,
              "#0d0887"
             ],
             [
              0.1111111111111111,
              "#46039f"
             ],
             [
              0.2222222222222222,
              "#7201a8"
             ],
             [
              0.3333333333333333,
              "#9c179e"
             ],
             [
              0.4444444444444444,
              "#bd3786"
             ],
             [
              0.5555555555555556,
              "#d8576b"
             ],
             [
              0.6666666666666666,
              "#ed7953"
             ],
             [
              0.7777777777777778,
              "#fb9f3a"
             ],
             [
              0.8888888888888888,
              "#fdca26"
             ],
             [
              1,
              "#f0f921"
             ]
            ],
            "type": "histogram2d"
           }
          ],
          "histogram2dcontour": [
           {
            "colorbar": {
             "outlinewidth": 0,
             "ticks": ""
            },
            "colorscale": [
             [
              0,
              "#0d0887"
             ],
             [
              0.1111111111111111,
              "#46039f"
             ],
             [
              0.2222222222222222,
              "#7201a8"
             ],
             [
              0.3333333333333333,
              "#9c179e"
             ],
             [
              0.4444444444444444,
              "#bd3786"
             ],
             [
              0.5555555555555556,
              "#d8576b"
             ],
             [
              0.6666666666666666,
              "#ed7953"
             ],
             [
              0.7777777777777778,
              "#fb9f3a"
             ],
             [
              0.8888888888888888,
              "#fdca26"
             ],
             [
              1,
              "#f0f921"
             ]
            ],
            "type": "histogram2dcontour"
           }
          ],
          "mesh3d": [
           {
            "colorbar": {
             "outlinewidth": 0,
             "ticks": ""
            },
            "type": "mesh3d"
           }
          ],
          "parcoords": [
           {
            "line": {
             "colorbar": {
              "outlinewidth": 0,
              "ticks": ""
             }
            },
            "type": "parcoords"
           }
          ],
          "pie": [
           {
            "automargin": true,
            "type": "pie"
           }
          ],
          "scatter": [
           {
            "fillpattern": {
             "fillmode": "overlay",
             "size": 10,
             "solidity": 0.2
            },
            "type": "scatter"
           }
          ],
          "scatter3d": [
           {
            "line": {
             "colorbar": {
              "outlinewidth": 0,
              "ticks": ""
             }
            },
            "marker": {
             "colorbar": {
              "outlinewidth": 0,
              "ticks": ""
             }
            },
            "type": "scatter3d"
           }
          ],
          "scattercarpet": [
           {
            "marker": {
             "colorbar": {
              "outlinewidth": 0,
              "ticks": ""
             }
            },
            "type": "scattercarpet"
           }
          ],
          "scattergeo": [
           {
            "marker": {
             "colorbar": {
              "outlinewidth": 0,
              "ticks": ""
             }
            },
            "type": "scattergeo"
           }
          ],
          "scattergl": [
           {
            "marker": {
             "colorbar": {
              "outlinewidth": 0,
              "ticks": ""
             }
            },
            "type": "scattergl"
           }
          ],
          "scattermap": [
           {
            "marker": {
             "colorbar": {
              "outlinewidth": 0,
              "ticks": ""
             }
            },
            "type": "scattermap"
           }
          ],
          "scattermapbox": [
           {
            "marker": {
             "colorbar": {
              "outlinewidth": 0,
              "ticks": ""
             }
            },
            "type": "scattermapbox"
           }
          ],
          "scatterpolar": [
           {
            "marker": {
             "colorbar": {
              "outlinewidth": 0,
              "ticks": ""
             }
            },
            "type": "scatterpolar"
           }
          ],
          "scatterpolargl": [
           {
            "marker": {
             "colorbar": {
              "outlinewidth": 0,
              "ticks": ""
             }
            },
            "type": "scatterpolargl"
           }
          ],
          "scatterternary": [
           {
            "marker": {
             "colorbar": {
              "outlinewidth": 0,
              "ticks": ""
             }
            },
            "type": "scatterternary"
           }
          ],
          "surface": [
           {
            "colorbar": {
             "outlinewidth": 0,
             "ticks": ""
            },
            "colorscale": [
             [
              0,
              "#0d0887"
             ],
             [
              0.1111111111111111,
              "#46039f"
             ],
             [
              0.2222222222222222,
              "#7201a8"
             ],
             [
              0.3333333333333333,
              "#9c179e"
             ],
             [
              0.4444444444444444,
              "#bd3786"
             ],
             [
              0.5555555555555556,
              "#d8576b"
             ],
             [
              0.6666666666666666,
              "#ed7953"
             ],
             [
              0.7777777777777778,
              "#fb9f3a"
             ],
             [
              0.8888888888888888,
              "#fdca26"
             ],
             [
              1,
              "#f0f921"
             ]
            ],
            "type": "surface"
           }
          ],
          "table": [
           {
            "cells": {
             "fill": {
              "color": "#EBF0F8"
             },
             "line": {
              "color": "white"
             }
            },
            "header": {
             "fill": {
              "color": "#C8D4E3"
             },
             "line": {
              "color": "white"
             }
            },
            "type": "table"
           }
          ]
         },
         "layout": {
          "annotationdefaults": {
           "arrowcolor": "#2a3f5f",
           "arrowhead": 0,
           "arrowwidth": 1
          },
          "autotypenumbers": "strict",
          "coloraxis": {
           "colorbar": {
            "outlinewidth": 0,
            "ticks": ""
           }
          },
          "colorscale": {
           "diverging": [
            [
             0,
             "#8e0152"
            ],
            [
             0.1,
             "#c51b7d"
            ],
            [
             0.2,
             "#de77ae"
            ],
            [
             0.3,
             "#f1b6da"
            ],
            [
             0.4,
             "#fde0ef"
            ],
            [
             0.5,
             "#f7f7f7"
            ],
            [
             0.6,
             "#e6f5d0"
            ],
            [
             0.7,
             "#b8e186"
            ],
            [
             0.8,
             "#7fbc41"
            ],
            [
             0.9,
             "#4d9221"
            ],
            [
             1,
             "#276419"
            ]
           ],
           "sequential": [
            [
             0,
             "#0d0887"
            ],
            [
             0.1111111111111111,
             "#46039f"
            ],
            [
             0.2222222222222222,
             "#7201a8"
            ],
            [
             0.3333333333333333,
             "#9c179e"
            ],
            [
             0.4444444444444444,
             "#bd3786"
            ],
            [
             0.5555555555555556,
             "#d8576b"
            ],
            [
             0.6666666666666666,
             "#ed7953"
            ],
            [
             0.7777777777777778,
             "#fb9f3a"
            ],
            [
             0.8888888888888888,
             "#fdca26"
            ],
            [
             1,
             "#f0f921"
            ]
           ],
           "sequentialminus": [
            [
             0,
             "#0d0887"
            ],
            [
             0.1111111111111111,
             "#46039f"
            ],
            [
             0.2222222222222222,
             "#7201a8"
            ],
            [
             0.3333333333333333,
             "#9c179e"
            ],
            [
             0.4444444444444444,
             "#bd3786"
            ],
            [
             0.5555555555555556,
             "#d8576b"
            ],
            [
             0.6666666666666666,
             "#ed7953"
            ],
            [
             0.7777777777777778,
             "#fb9f3a"
            ],
            [
             0.8888888888888888,
             "#fdca26"
            ],
            [
             1,
             "#f0f921"
            ]
           ]
          },
          "colorway": [
           "#636efa",
           "#EF553B",
           "#00cc96",
           "#ab63fa",
           "#FFA15A",
           "#19d3f3",
           "#FF6692",
           "#B6E880",
           "#FF97FF",
           "#FECB52"
          ],
          "font": {
           "color": "#2a3f5f"
          },
          "geo": {
           "bgcolor": "white",
           "lakecolor": "white",
           "landcolor": "#E5ECF6",
           "showlakes": true,
           "showland": true,
           "subunitcolor": "white"
          },
          "hoverlabel": {
           "align": "left"
          },
          "hovermode": "closest",
          "mapbox": {
           "style": "light"
          },
          "paper_bgcolor": "white",
          "plot_bgcolor": "#E5ECF6",
          "polar": {
           "angularaxis": {
            "gridcolor": "white",
            "linecolor": "white",
            "ticks": ""
           },
           "bgcolor": "#E5ECF6",
           "radialaxis": {
            "gridcolor": "white",
            "linecolor": "white",
            "ticks": ""
           }
          },
          "scene": {
           "xaxis": {
            "backgroundcolor": "#E5ECF6",
            "gridcolor": "white",
            "gridwidth": 2,
            "linecolor": "white",
            "showbackground": true,
            "ticks": "",
            "zerolinecolor": "white"
           },
           "yaxis": {
            "backgroundcolor": "#E5ECF6",
            "gridcolor": "white",
            "gridwidth": 2,
            "linecolor": "white",
            "showbackground": true,
            "ticks": "",
            "zerolinecolor": "white"
           },
           "zaxis": {
            "backgroundcolor": "#E5ECF6",
            "gridcolor": "white",
            "gridwidth": 2,
            "linecolor": "white",
            "showbackground": true,
            "ticks": "",
            "zerolinecolor": "white"
           }
          },
          "shapedefaults": {
           "line": {
            "color": "#2a3f5f"
           }
          },
          "ternary": {
           "aaxis": {
            "gridcolor": "white",
            "linecolor": "white",
            "ticks": ""
           },
           "baxis": {
            "gridcolor": "white",
            "linecolor": "white",
            "ticks": ""
           },
           "bgcolor": "#E5ECF6",
           "caxis": {
            "gridcolor": "white",
            "linecolor": "white",
            "ticks": ""
           }
          },
          "title": {
           "x": 0.05
          },
          "xaxis": {
           "automargin": true,
           "gridcolor": "white",
           "linecolor": "white",
           "ticks": "",
           "title": {
            "standoff": 15
           },
           "zerolinecolor": "white",
           "zerolinewidth": 2
          },
          "yaxis": {
           "automargin": true,
           "gridcolor": "white",
           "linecolor": "white",
           "ticks": "",
           "title": {
            "standoff": 15
           },
           "zerolinecolor": "white",
           "zerolinewidth": 2
          }
         }
        },
        "xaxis": {
         "anchor": "y",
         "domain": [
          0,
          1
         ],
         "title": {
          "text": "date"
         }
        },
        "yaxis": {
         "anchor": "x",
         "domain": [
          0,
          1
         ],
         "title": {
          "text": "AAPL"
         }
        }
       }
      },
      "image/png": "[encoded data removed]"
     },
     "metadata": {},
     "output_type": "display_data"
    }
   ],
   "source": [
    "import plotly.express as px\n",
    "import pandas as pd\n",
    "\n",
    "\n",
    "df_stocks = px.data.stocks()\n",
    "# print(df_stocks.head())\n",
    "\n",
    "# Get stocks by day\n",
    "df_melt = df_stocks.melt(id_vars=['date'], var_name='company', value_name='stock_price')\n",
    "df_melt['date_numeric'] = pd.to_datetime(df_melt['date']).map(lambda x: x.toordinal()) #pd.to_datetime(df_melt['date']).astype('int64') \n",
    "\n",
    "print(df_stocks.head())\n",
    "\n",
    "print(\"Date range:\")\n",
    "print(\"Min:\", df_melt['date'].min())\n",
    "print(\"Max:\", df_melt['date'].max())\n",
    "\n",
    "print(\"Stock price range:\")\n",
    "print(\"Min:\", df_melt['stock_price'].min())\n",
    "print(\"Max:\", df_melt['stock_price'].max())\n",
    "\n",
    "\n",
    "\n",
    "# print(df_melt['company'].unique())\n",
    "\n",
    "print(df_melt.head())\n",
    "\n",
    "# print(df_melt.head(400))\n",
    "\n",
    "#print(df.head())\n",
    "\n",
    "fig = px.line(df, x='date', y=\"GOOG\")\n",
    "fig.show()\n",
    "\n",
    "fig = px.line(df, x='date', y=\"AAPL\")\n",
    "fig.show()\n",
    "\n",
    "date_min = df_melt['date_numeric'].min()\n",
    "date_max = df_melt['date_numeric'].max()\n",
    "# px.scatter(df_melt, x=\"date\", y=\"stock_price\", animation_frame=\"date_numeric\", animation_group=\"company\",\n",
    "#            size=\"stock_price\", color=\"company\", hover_name=\"company\",\n",
    "#            log_x=True, size_max=55, range_y=[0,2])"
   ]
  },
  {
   "cell_type": "markdown",
   "id": "6b7af7ae-2bc9-4711-94ba-7e66768f145c",
   "metadata": {},
   "source": [
    "import plotly.express as px\n",
    "\n",
    "df = px.data.gapminder()\n",
    "print(df.head())"
   ]
  },
  {
   "cell_type": "code",
   "execution_count": null,
   "id": "3f88f3a8-61af-4fdb-84c8-d865f2206ebc",
   "metadata": {},
   "outputs": [],
   "source": []
  }
 ],
 "metadata": {
  "kernelspec": {
   "display_name": "Python 3 (ipykernel)",
   "language": "python",
   "name": "python3"
  },
  "language_info": {
   "codemirror_mode": {
    "name": "ipython",
    "version": 3
   },
   "file_extension": ".py",
   "mimetype": "text/x-python",
   "name": "python",
   "nbconvert_exporter": "python",
   "pygments_lexer": "ipython3",
   "version": "3.13.3"
  }
 },
 "nbformat": 4,
 "nbformat_minor": 5
}
