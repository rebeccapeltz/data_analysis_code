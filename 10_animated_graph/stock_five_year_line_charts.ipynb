{
 "cells": [
  {
   "cell_type": "markdown",
   "id": "c7149be3-1f38-4715-ab66-f38eab5ae93c",
   "metadata": {},
   "source": [
    "# Five Year Stock History for AAPL, MST, QCON, CSCO, META, AMZN, NFLX\n",
    "\n",
    "## Line Charts\n",
    "\n",
    "[Data extracted from NASDAQ](https://www.nasdaq.com/market-activity/quotes/historical)\n",
    "\n"
   ]
  },
  {
   "cell_type": "code",
   "execution_count": 36,
   "id": "780e7de2-7827-4267-b687-780b07009cba",
   "metadata": {},
   "outputs": [
    {
     "name": "stdout",
     "output_type": "stream",
     "text": [
      "   year  Close/Last        Volume\n",
      "0  2020  111.566931  1.452774e+08\n",
      "1  2021  140.989325  9.054053e+07\n",
      "2  2022  154.835060  8.792501e+07\n",
      "3  2023  172.548960  5.923260e+07\n",
      "4  2024  207.205913  5.713413e+07\n",
      "5  2025  218.881776  5.802206e+07\n"
     ]
    }
   ],
   "source": [
    "import pandas as pd\n",
    "import datetime\n",
    "\n",
    "# Function to convert to float\n",
    "def convert_currency_to_float(df, column):\n",
    "    df[column] = df[column].str.replace(r'[$,]', '', regex=True)\n",
    "    df[column] = pd.to_numeric(df[column], errors='coerce').astype(float)\n",
    "\n",
    "\n",
    "df = pd.read_csv('./AAPL.csv', parse_dates=['Date'])\n",
    "# print(df.head())\n",
    "# print(type(df.iloc[0, 0]))\n",
    "# print(df['Date'])\n",
    "# df['date'] = pd.to_datetime(df['Date'])\n",
    "# print(df['date'])\n",
    "# df['year'] = df['date'].dt.year\n",
    "# print(df['year'])\n",
    "# print(df['Close/Last'])\n",
    "# print(df.head())\n",
    "# df.iloc[0, 0]\n",
    "# print(df.sample(10))\n",
    "\n",
    "# df['date'] = pd.to_datetime(df['Date'])\n",
    "df['year'] = df['Date'].dt.year\n",
    "convert_currency_to_float(df,'Close/Last')\n",
    "\n",
    "df_yearly = df.groupby('year')['Close/Last'].mean().reset_index()\n",
    "df_yearly.rename(columns={'Close/Last': 'average_price'}, inplace=True)\n",
    "\n",
    "# print(df.sample(10))\n",
    "# print(df_yearly.head())\n",
    "\n",
    "df_avg = df.groupby('year')[['Close/Last', 'Volume']].mean().reset_index()\n",
    "print(df_avg)\n",
    "\n",
    "# print(type(df.iloc[0, 2]))\n",
    "\n",
    "# df['close_flt'] = convert_currency_to_float(df,'Close/Last')\n",
    "# print(df.head())\n",
    "\n",
    "# print(df.sample(10))\n",
    "# df['close'] = df.groupby('year')['Close/Last'].mean().reset_index()\n",
    "# df['price']\n",
    "# print(df.head())\n",
    "\n",
    "# df_yearly_close_avg = df.groupby('year')['Close/Last'].mean().reset_index()\n",
    "# print(df_yearly_close_avg.head())\n",
    "# df_yearly_volume_avg = df.groupby('year')['Volume'].mean().reset_index()\n",
    "# print(df_yearly_volumn_avg.head())\n",
    "#df_yearly.rename(columns={'price': 'average_price'}, inplace=True)\n",
    "\n",
    "\n",
    "\n",
    "# fig = px.line(x=x_values, y=y_values, title='Basic Line Plot')\n",
    "\n",
    "# # Show the plot\n",
    "# fig.show()"
   ]
  },
  {
   "cell_type": "code",
   "execution_count": null,
   "id": "4b64f2bc-1545-411c-961c-e8a9321002d2",
   "metadata": {},
   "outputs": [],
   "source": []
  }
 ],
 "metadata": {
  "kernelspec": {
   "display_name": "Python 3 (ipykernel)",
   "language": "python",
   "name": "python3"
  },
  "language_info": {
   "codemirror_mode": {
    "name": "ipython",
    "version": 3
   },
   "file_extension": ".py",
   "mimetype": "text/x-python",
   "name": "python",
   "nbconvert_exporter": "python",
   "pygments_lexer": "ipython3",
   "version": "3.13.3"
  }
 },
 "nbformat": 4,
 "nbformat_minor": 5
}
