{
 "cells": [
  {
   "cell_type": "markdown",
   "id": "42439cf8-dd84-4380-9ada-733019aafccd",
   "metadata": {},
   "source": [
    "# C02 Emissions Data Exploration"
   ]
  },
  {
   "cell_type": "markdown",
   "id": "a47fd2c3-cde0-4322-92ba-1d6ed6492bc0",
   "metadata": {},
   "source": [
    "## Read C02 Emissions raw data from Plotly Figure Friday Repository"
   ]
  },
  {
   "cell_type": "code",
   "execution_count": 1,
   "id": "0dce3205-e46b-42e9-a4d4-7909442b17d2",
   "metadata": {},
   "outputs": [],
   "source": [
    "import pandas as pd\n",
    "import io # need this to get info\n",
    "\n",
    "df_emissions = pd.read_csv(\\\n",
    "    'https://raw.githubusercontent.com/plotly/Figure-Friday/refs/heads/main/2025/week-21/global.1751_2021.csv' \\\n",
    "    ,header=0, encoding='utf8')\n",
    "\n",
    "# df_emissions = pd.read_csv('../data/c02_emissions.csv',comment='#', encoding='utf8')"
   ]
  },
  {
   "cell_type": "markdown",
   "id": "c3a07440-bde3-40c8-ba03-46dcdb2a5c0e",
   "metadata": {},
   "source": [
    "## Test if empty"
   ]
  },
  {
   "cell_type": "code",
   "execution_count": 30,
   "id": "51edc588-1327-41ea-9333-7ac2ee715151",
   "metadata": {},
   "outputs": [
    {
     "name": "stdout",
     "output_type": "stream",
     "text": [
      "empty: \n",
      " False\n",
      "**************************************************\n"
     ]
    }
   ],
   "source": [
    "# View if empty\n",
    "print('empty: \\n', df_emissions.empty)\n",
    "print('*' *50)"
   ]
  },
  {
   "cell_type": "markdown",
   "id": "59902895-3fad-4649-ba4f-a6c70fa3bfd6",
   "metadata": {},
   "source": [
    "## View columns"
   ]
  },
  {
   "cell_type": "code",
   "execution_count": 31,
   "id": "865a6cde-26f2-4730-8447-153bafc8c22e",
   "metadata": {},
   "outputs": [
    {
     "name": "stdout",
     "output_type": "stream",
     "text": [
      "columns: \n",
      " Index(['Year',\n",
      "       'Total carbon emissions from fossil fuel consumption and cement production (million metric tons of C)',\n",
      "       'Carbon emissions from solid fuel consumption',\n",
      "       'Carbon emissions from liquid fuel consumption',\n",
      "       'Carbon emissions from gas fuel consumption',\n",
      "       'Carbon emissions from cement production',\n",
      "       'Carbon emissions from gas flaring',\n",
      "       'Per capita carbon emissions (metric tons of carbon; after 1949 only)'],\n",
      "      dtype='object')\n",
      "**************************************************\n"
     ]
    }
   ],
   "source": [
    "# View columns \n",
    "print('columns: \\n', df_emissions.columns)\n",
    "print('*' *50)"
   ]
  },
  {
   "cell_type": "markdown",
   "id": "26206b00-81f8-4db2-aefe-61186efdb03d",
   "metadata": {},
   "source": [
    "## View range of years"
   ]
  },
  {
   "cell_type": "code",
   "execution_count": 32,
   "id": "75ca7d7d-731e-4d4f-a7df-cb558c2c0181",
   "metadata": {},
   "outputs": [
    {
     "name": "stdout",
     "output_type": "stream",
     "text": [
      "The range of years is: 270, min:1751, max: 2021\n"
     ]
    }
   ],
   "source": [
    "# View range of years - this is data per year\n",
    "year_range = df_emissions.Year.max() - df_emissions.Year.min()\n",
    "print(f\"The range of years is: {year_range}, min:{df_emissions.Year.min()}, max: {df_emissions.Year.max()}\")"
   ]
  },
  {
   "cell_type": "markdown",
   "id": "082ef2a2-31d4-4ead-9cc2-af534cb43667",
   "metadata": {},
   "source": [
    "## View missing data"
   ]
  },
  {
   "cell_type": "code",
   "execution_count": 33,
   "id": "72e4104e-8a75-4475-a51a-f7d5bf434c7a",
   "metadata": {},
   "outputs": [
    {
     "name": "stdout",
     "output_type": "stream",
     "text": [
      "isnull: \n",
      "       Year  \\\n",
      "0    False   \n",
      "1    False   \n",
      "2    False   \n",
      "3    False   \n",
      "4    False   \n",
      "..     ...   \n",
      "266  False   \n",
      "267  False   \n",
      "268  False   \n",
      "269  False   \n",
      "270  False   \n",
      "\n",
      "     Total carbon emissions from fossil fuel consumption and cement production (million metric tons of C)  \\\n",
      "0                                                False                                                      \n",
      "1                                                False                                                      \n",
      "2                                                False                                                      \n",
      "3                                                False                                                      \n",
      "4                                                False                                                      \n",
      "..                                                 ...                                                      \n",
      "266                                              False                                                      \n",
      "267                                              False                                                      \n",
      "268                                              False                                                      \n",
      "269                                              False                                                      \n",
      "270                                              False                                                      \n",
      "\n",
      "     Carbon emissions from solid fuel consumption  \\\n",
      "0                                           False   \n",
      "1                                           False   \n",
      "2                                           False   \n",
      "3                                           False   \n",
      "4                                           False   \n",
      "..                                            ...   \n",
      "266                                         False   \n",
      "267                                         False   \n",
      "268                                         False   \n",
      "269                                         False   \n",
      "270                                         False   \n",
      "\n",
      "     Carbon emissions from liquid fuel consumption  \\\n",
      "0                                            False   \n",
      "1                                            False   \n",
      "2                                            False   \n",
      "3                                            False   \n",
      "4                                            False   \n",
      "..                                             ...   \n",
      "266                                          False   \n",
      "267                                          False   \n",
      "268                                          False   \n",
      "269                                          False   \n",
      "270                                          False   \n",
      "\n",
      "     Carbon emissions from gas fuel consumption  \\\n",
      "0                                         False   \n",
      "1                                         False   \n",
      "2                                         False   \n",
      "3                                         False   \n",
      "4                                         False   \n",
      "..                                          ...   \n",
      "266                                       False   \n",
      "267                                       False   \n",
      "268                                       False   \n",
      "269                                       False   \n",
      "270                                       False   \n",
      "\n",
      "     Carbon emissions from cement production  \\\n",
      "0                                      False   \n",
      "1                                      False   \n",
      "2                                      False   \n",
      "3                                      False   \n",
      "4                                      False   \n",
      "..                                       ...   \n",
      "266                                    False   \n",
      "267                                    False   \n",
      "268                                    False   \n",
      "269                                    False   \n",
      "270                                    False   \n",
      "\n",
      "     Carbon emissions from gas flaring  \\\n",
      "0                                False   \n",
      "1                                False   \n",
      "2                                False   \n",
      "3                                False   \n",
      "4                                False   \n",
      "..                                 ...   \n",
      "266                              False   \n",
      "267                              False   \n",
      "268                              False   \n",
      "269                              False   \n",
      "270                              False   \n",
      "\n",
      "     Per capita carbon emissions (metric tons of carbon; after 1949 only)  \n",
      "0                                                 True                     \n",
      "1                                                 True                     \n",
      "2                                                 True                     \n",
      "3                                                 True                     \n",
      "4                                                 True                     \n",
      "..                                                 ...                     \n",
      "266                                              False                     \n",
      "267                                              False                     \n",
      "268                                              False                     \n",
      "269                                              False                     \n",
      "270                                              False                     \n",
      "\n",
      "[271 rows x 8 columns]\n",
      "**************************************************\n"
     ]
    }
   ],
   "source": [
    "# View missing data\n",
    "print('isnull: \\n', df_emissions.isnull())\n",
    "print('*' *50)\n"
   ]
  },
  {
   "cell_type": "markdown",
   "id": "05f66f5c-ad9b-4ed5-ad33-89e870135b61",
   "metadata": {},
   "source": [
    "## View info"
   ]
  },
  {
   "cell_type": "code",
   "execution_count": 34,
   "id": "171c16a8-fdb9-4dd0-abbf-36c9bc7a6a02",
   "metadata": {},
   "outputs": [
    {
     "name": "stdout",
     "output_type": "stream",
     "text": [
      "info: \n",
      "\n",
      "<class 'pandas.core.frame.DataFrame'>\n",
      "RangeIndex: 271 entries, 0 to 270\n",
      "Data columns (total 8 columns):\n",
      " #   Column                                                                                                Non-Null Count  Dtype  \n",
      "---  ------                                                                                                --------------  -----  \n",
      " 0   Year                                                                                                  271 non-null    int64  \n",
      " 1   Total carbon emissions from fossil fuel consumption and cement production (million metric tons of C)  271 non-null    int64  \n",
      " 2   Carbon emissions from solid fuel consumption                                                          271 non-null    int64  \n",
      " 3   Carbon emissions from liquid fuel consumption                                                         271 non-null    int64  \n",
      " 4   Carbon emissions from gas fuel consumption                                                            271 non-null    int64  \n",
      " 5   Carbon emissions from cement production                                                               271 non-null    int64  \n",
      " 6   Carbon emissions from gas flaring                                                                     271 non-null    int64  \n",
      " 7   Per capita carbon emissions (metric tons of carbon; after 1949 only)                                  72 non-null     float64\n",
      "dtypes: float64(1), int64(7)\n",
      "memory usage: 17.1 KB\n",
      "\n",
      "**************************************************\n"
     ]
    }
   ],
   "source": [
    "# View info\n",
    "print('info: \\n')\n",
    "buffer = io.StringIO()\n",
    "df_emissions.info(buf=buffer)\n",
    "s = buffer.getvalue()\n",
    "print(s)\n",
    "print('*' *50)"
   ]
  },
  {
   "cell_type": "markdown",
   "id": "80f06975-4f2f-4463-8b50-1331e932c6ef",
   "metadata": {},
   "source": [
    "## View describe"
   ]
  },
  {
   "cell_type": "code",
   "execution_count": 35,
   "id": "de999b91-09fd-452d-91e2-a41d261576aa",
   "metadata": {},
   "outputs": [
    {
     "name": "stdout",
     "output_type": "stream",
     "text": [
      "describe: \n",
      "               Year  \\\n",
      "count   271.000000   \n",
      "mean   1886.000000   \n",
      "std      78.375166   \n",
      "min    1751.000000   \n",
      "25%    1818.500000   \n",
      "50%    1886.000000   \n",
      "75%    1953.500000   \n",
      "max    2021.000000   \n",
      "\n",
      "       Total carbon emissions from fossil fuel consumption and cement production (million metric tons of C)  \\\n",
      "count                                         271.000000                                                      \n",
      "mean                                         1735.498155                                                      \n",
      "std                                          2745.593764                                                      \n",
      "min                                             3.000000                                                      \n",
      "25%                                            14.000000                                                      \n",
      "50%                                           281.000000                                                      \n",
      "75%                                          1853.000000                                                      \n",
      "max                                         10248.000000                                                      \n",
      "\n",
      "       Carbon emissions from solid fuel consumption  \\\n",
      "count                                    271.000000   \n",
      "mean                                     807.833948   \n",
      "std                                     1074.034122   \n",
      "min                                        3.000000   \n",
      "25%                                       14.000000   \n",
      "50%                                      275.000000   \n",
      "75%                                     1127.000000   \n",
      "max                                     4135.000000   \n",
      "\n",
      "       Carbon emissions from liquid fuel consumption  \\\n",
      "count                                     271.000000   \n",
      "mean                                      610.132841   \n",
      "std                                      1071.472917   \n",
      "min                                         0.000000   \n",
      "25%                                         0.000000   \n",
      "50%                                         5.000000   \n",
      "75%                                       545.000000   \n",
      "max                                      3473.000000   \n",
      "\n",
      "       Carbon emissions from gas fuel consumption  \\\n",
      "count                                  271.000000   \n",
      "mean                                   256.597786   \n",
      "std                                    523.387227   \n",
      "min                                      0.000000   \n",
      "25%                                      0.000000   \n",
      "50%                                      2.000000   \n",
      "75%                                    134.500000   \n",
      "max                                   2234.000000   \n",
      "\n",
      "       Carbon emissions from cement production  \\\n",
      "count                               271.000000   \n",
      "mean                                 44.933579   \n",
      "std                                  96.458373   \n",
      "min                                   0.000000   \n",
      "25%                                   0.000000   \n",
      "50%                                   0.000000   \n",
      "75%                                  25.500000   \n",
      "max                                 458.000000   \n",
      "\n",
      "       Carbon emissions from gas flaring  \\\n",
      "count                         271.000000   \n",
      "mean                           16.033210   \n",
      "std                            29.337544   \n",
      "min                             0.000000   \n",
      "25%                             0.000000   \n",
      "50%                             0.000000   \n",
      "75%                            27.000000   \n",
      "max                           110.000000   \n",
      "\n",
      "       Per capita carbon emissions (metric tons of carbon; after 1949 only)  \n",
      "count                                          72.000000                     \n",
      "mean                                            1.091482                     \n",
      "std                                             0.180185                     \n",
      "min                                             0.659578                     \n",
      "25%                                             1.009114                     \n",
      "50%                                             1.124984                     \n",
      "75%                                             1.208016                     \n",
      "max                                             1.328687                     \n",
      "**************************************************\n"
     ]
    }
   ],
   "source": [
    "# View describe\n",
    "print('describe: \\n',df_emissions.describe())\n",
    "print('*' *50)"
   ]
  },
  {
   "cell_type": "markdown",
   "id": "dc9cf66f-f5ca-45ab-8a6c-d5bc24299be9",
   "metadata": {},
   "source": [
    "## View first 5 rows"
   ]
  },
  {
   "cell_type": "code",
   "execution_count": 36,
   "id": "e5919f63-6d25-4856-9778-8693eeb5782a",
   "metadata": {},
   "outputs": [
    {
     "name": "stdout",
     "output_type": "stream",
     "text": [
      "head: \n",
      "    Year  \\\n",
      "0  1751   \n",
      "1  1752   \n",
      "2  1753   \n",
      "3  1754   \n",
      "4  1755   \n",
      "\n",
      "   Total carbon emissions from fossil fuel consumption and cement production (million metric tons of C)  \\\n",
      "0                                                  3                                                      \n",
      "1                                                  3                                                      \n",
      "2                                                  3                                                      \n",
      "3                                                  3                                                      \n",
      "4                                                  3                                                      \n",
      "\n",
      "   Carbon emissions from solid fuel consumption  \\\n",
      "0                                             3   \n",
      "1                                             3   \n",
      "2                                             3   \n",
      "3                                             3   \n",
      "4                                             3   \n",
      "\n",
      "   Carbon emissions from liquid fuel consumption  \\\n",
      "0                                              0   \n",
      "1                                              0   \n",
      "2                                              0   \n",
      "3                                              0   \n",
      "4                                              0   \n",
      "\n",
      "   Carbon emissions from gas fuel consumption  \\\n",
      "0                                           0   \n",
      "1                                           0   \n",
      "2                                           0   \n",
      "3                                           0   \n",
      "4                                           0   \n",
      "\n",
      "   Carbon emissions from cement production  Carbon emissions from gas flaring  \\\n",
      "0                                        0                                  0   \n",
      "1                                        0                                  0   \n",
      "2                                        0                                  0   \n",
      "3                                        0                                  0   \n",
      "4                                        0                                  0   \n",
      "\n",
      "   Per capita carbon emissions (metric tons of carbon; after 1949 only)  \n",
      "0                                                NaN                     \n",
      "1                                                NaN                     \n",
      "2                                                NaN                     \n",
      "3                                                NaN                     \n",
      "4                                                NaN                     \n",
      "**************************************************\n"
     ]
    }
   ],
   "source": [
    "# View first 5 rows of data\n",
    "print('head: \\n',df_emissions.head())\n",
    "print('*' *50)\n"
   ]
  },
  {
   "cell_type": "markdown",
   "id": "5424e869-7d12-418e-8de3-c1452aa84c95",
   "metadata": {},
   "source": [
    "## View last 5 rows"
   ]
  },
  {
   "cell_type": "code",
   "execution_count": 37,
   "id": "87917a65-7a41-4c35-a3e6-7fdc404fc179",
   "metadata": {},
   "outputs": [
    {
     "name": "stdout",
     "output_type": "stream",
     "text": [
      "tail: \n",
      "      Year  \\\n",
      "266  2017   \n",
      "267  2018   \n",
      "268  2019   \n",
      "269  2020   \n",
      "270  2021   \n",
      "\n",
      "     Total carbon emissions from fossil fuel consumption and cement production (million metric tons of C)  \\\n",
      "266                                               9865                                                      \n",
      "267                                              10120                                                      \n",
      "268                                              10193                                                      \n",
      "269                                               9764                                                      \n",
      "270                                              10248                                                      \n",
      "\n",
      "     Carbon emissions from solid fuel consumption  \\\n",
      "266                                          3975   \n",
      "267                                          4095   \n",
      "268                                          4067   \n",
      "269                                          3939   \n",
      "270                                          4135   \n",
      "\n",
      "     Carbon emissions from liquid fuel consumption  \\\n",
      "266                                           3431   \n",
      "267                                           3473   \n",
      "268                                           3473   \n",
      "269                                           3187   \n",
      "270                                           3331   \n",
      "\n",
      "     Carbon emissions from gas fuel consumption  \\\n",
      "266                                        1986   \n",
      "267                                        2060   \n",
      "268                                        2147   \n",
      "269                                        2127   \n",
      "270                                        2234   \n",
      "\n",
      "     Carbon emissions from cement production  \\\n",
      "266                                      387   \n",
      "267                                      405   \n",
      "268                                      414   \n",
      "269                                      426   \n",
      "270                                      458   \n",
      "\n",
      "     Carbon emissions from gas flaring  \\\n",
      "266                                 87   \n",
      "267                                 86   \n",
      "268                                 91   \n",
      "269                                 86   \n",
      "270                                 90   \n",
      "\n",
      "     Per capita carbon emissions (metric tons of carbon; after 1949 only)  \n",
      "266                                           1.297627                     \n",
      "267                                           1.316166                     \n",
      "268                                           1.311672                     \n",
      "269                                           1.243612                     \n",
      "270                                           1.293518                     \n",
      "**************************************************\n"
     ]
    }
   ],
   "source": [
    "# View last 5 rows of data\n",
    "print('tail: \\n', df_emissions.tail())\n",
    "print('*' *50)"
   ]
  },
  {
   "cell_type": "markdown",
   "id": "2569e9f7-5a48-4776-92d5-c0028141ae90",
   "metadata": {},
   "source": [
    "## View random sample of 10 rows"
   ]
  },
  {
   "cell_type": "code",
   "execution_count": 39,
   "id": "6e88944d-3480-4546-8320-f55e88ef381c",
   "metadata": {},
   "outputs": [
    {
     "name": "stdout",
     "output_type": "stream",
     "text": [
      "sample: \n",
      "      Year  \\\n",
      "5    1756   \n",
      "70   1821   \n",
      "108  1859   \n",
      "121  1872   \n",
      "125  1876   \n",
      "161  1912   \n",
      "186  1937   \n",
      "205  1956   \n",
      "210  1961   \n",
      "266  2017   \n",
      "\n",
      "     Total carbon emissions from fossil fuel consumption and cement production (million metric tons of C)  \\\n",
      "5                                                    3                                                      \n",
      "70                                                  14                                                      \n",
      "108                                                 83                                                      \n",
      "121                                                173                                                      \n",
      "125                                                191                                                      \n",
      "161                                                879                                                      \n",
      "186                                               1209                                                      \n",
      "205                                               2177                                                      \n",
      "210                                               2580                                                      \n",
      "266                                               9865                                                      \n",
      "\n",
      "     Carbon emissions from solid fuel consumption  \\\n",
      "5                                               3   \n",
      "70                                             14   \n",
      "108                                            83   \n",
      "121                                           173   \n",
      "125                                           190   \n",
      "161                                           834   \n",
      "186                                           941   \n",
      "205                                          1273   \n",
      "210                                          1349   \n",
      "266                                          3975   \n",
      "\n",
      "     Carbon emissions from liquid fuel consumption  \\\n",
      "5                                                0   \n",
      "70                                               0   \n",
      "108                                              0   \n",
      "121                                              1   \n",
      "125                                              1   \n",
      "161                                             37   \n",
      "186                                            219   \n",
      "205                                            679   \n",
      "210                                            904   \n",
      "266                                           3431   \n",
      "\n",
      "     Carbon emissions from gas fuel consumption  \\\n",
      "5                                             0   \n",
      "70                                            0   \n",
      "108                                           0   \n",
      "121                                           0   \n",
      "125                                           0   \n",
      "161                                           8   \n",
      "186                                          38   \n",
      "205                                         161   \n",
      "210                                         240   \n",
      "266                                        1986   \n",
      "\n",
      "     Carbon emissions from cement production  \\\n",
      "5                                          0   \n",
      "70                                         0   \n",
      "108                                        0   \n",
      "121                                        0   \n",
      "125                                        0   \n",
      "161                                        0   \n",
      "186                                       11   \n",
      "205                                       32   \n",
      "210                                       45   \n",
      "266                                      387   \n",
      "\n",
      "     Carbon emissions from gas flaring  \\\n",
      "5                                    0   \n",
      "70                                   0   \n",
      "108                                  0   \n",
      "121                                  0   \n",
      "125                                  0   \n",
      "161                                  0   \n",
      "186                                  0   \n",
      "205                                 32   \n",
      "210                                 42   \n",
      "266                                 87   \n",
      "\n",
      "     Per capita carbon emissions (metric tons of carbon; after 1949 only)  \n",
      "5                                                  NaN                     \n",
      "70                                                 NaN                     \n",
      "108                                                NaN                     \n",
      "121                                                NaN                     \n",
      "125                                                NaN                     \n",
      "161                                                NaN                     \n",
      "186                                                NaN                     \n",
      "205                                           0.786632                     \n",
      "210                                           0.848744                     \n",
      "266                                           1.297627                     \n",
      "**************************************************\n"
     ]
    }
   ],
   "source": [
    "# View a random sample of 10 rows of data sorted by year\n",
    "print('sample: \\n', df_emissions.sample(10).sort_values(by='Year'))\n",
    "print('*' *50)\n"
   ]
  },
  {
   "cell_type": "markdown",
   "id": "5013faed-b6ea-4624-a4e4-3b03596f7108",
   "metadata": {},
   "source": [
    "## Line Chart Year vs Total Carbon Emissions..."
   ]
  },
  {
   "cell_type": "code",
   "execution_count": 26,
   "id": "216b5c59-5243-439b-88be-316289f271ab",
   "metadata": {},
   "outputs": [
    {
     "data": {
      "application/vnd.plotly.v1+json": {
       "config": {
        "plotlyServerURL": "https://plot.ly"
       },
       "data": [
        {
         "hovertemplate": "Year=%{x}<br>Total carbon emissions from fossil fuel consumption and cement production (million metric tons of C)=%{y}<extra></extra>",
         "legendgroup": "",
         "line": {
          "color": "#636efa",
          "dash": "solid"
         },
         "marker": {
          "symbol": "circle"
         },
         "mode": "lines",
         "name": "",
         "orientation": "v",
         "showlegend": false,
         "type": "scatter",
         "x": {
          "bdata": "1wbYBtkG2gbbBtwG3QbeBt8G4AbhBuIG4wbkBuUG5gbnBugG6QbqBusG7AbtBu4G7wbwBvEG8gbzBvQG9Qb2BvcG+Ab5BvoG+wb8Bv0G/gb/BgAHAQcCBwMHBAcFBwYHBwcIBwkHCgcLBwwHDQcOBw8HEAcRBxIHEwcUBxUHFgcXBxgHGQcaBxsHHAcdBx4HHwcgByEHIgcjByQHJQcmBycHKAcpByoHKwcsBy0HLgcvBzAHMQcyBzMHNAc1BzYHNwc4BzkHOgc7BzwHPQc+Bz8HQAdBB0IHQwdEB0UHRgdHB0gHSQdKB0sHTAdNB04HTwdQB1EHUgdTB1QHVQdWB1cHWAdZB1oHWwdcB10HXgdfB2AHYQdiB2MHZAdlB2YHZwdoB2kHagdrB2wHbQduB28HcAdxB3IHcwd0B3UHdgd3B3gHeQd6B3sHfAd9B34HfweAB4EHggeDB4QHhQeGB4cHiAeJB4oHiweMB40HjgePB5AHkQeSB5MHlAeVB5YHlweYB5kHmgebB5wHnQeeB58HoAehB6IHowekB6UHpgenB6gHqQeqB6sHrAetB64HrwewB7EHsgezB7QHtQe2B7cHuAe5B7oHuwe8B70Hvge/B8AHwQfCB8MHxAfFB8YHxwfIB8kHygfLB8wHzQfOB88H0AfRB9IH0wfUB9UH1gfXB9gH2QfaB9sH3AfdB94H3wfgB+EH4gfjB+QH5Qc=",
          "dtype": "i2"
         },
         "xaxis": "x",
         "y": {
          "bdata": "AwADAAMAAwADAAMAAwADAAMAAwADAAMAAwADAAMAAwADAAMAAwADAAQABAAEAAQABAAEAAQABAAEAAQABQAFAAUABQAFAAUABQAFAAUABQAGAAYABgAGAAYABgAHAAcABwAIAAgACgAJAAkACQAKAAoACgAKAAoACwALAAsACwAMAA0ADgAOAA4ADgAOAA8AEAAQABEAEQASABIAEgAYABcAFwAYABgAGQAdAB0AHgAfACEAIgAkACUAJwArACsALgAvADIANgA2ADkAOwBFAEcATABNAE4AUwBbAF8AYQBoAHAAdwB6AIIAhwCOAJMAnACtALgArgC8AL8AwgDEANIA7ADzAAABEAETARUBGQEnAUcBRwFkAXQBdgFyAX8BlgGjAbgB0QH7ARYCKAI2AmkCcAKXAsMCEAPuAhEDMwNEA28DrwNSA0YDhQO7A6gDJgOkAyMDTQPKA8MDzwPXAyYEKQR5BB0ErANPA30DzQMDBGoEuQR2BKgEEwU2BT4FbwVnBYgE1gRwBb0FiwVeBucGAwcxB0kH+weBCN4IGgmWCQkKFAp+ChELsws6DNgMQQ3uDcQO1Q9wEBgRBhIPEvMRABOYE9IT7RS1FBIU5xPUE4oUKRXPFV0WMBeyF6MX4xeSF8UX8heFGCYZZhldGfoZnBrVGn0bCB0ZHkofPSAqIewhbCFAI1skJCV7JaIlsyX/JYkmiCfRJyQmCCg=",
          "dtype": "i2"
         },
         "yaxis": "y"
        }
       ],
       "layout": {
        "legend": {
         "tracegroupgap": 0
        },
        "margin": {
         "t": 60
        },
        "template": {
         "data": {
          "bar": [
           {
            "error_x": {
             "color": "#2a3f5f"
            },
            "error_y": {
             "color": "#2a3f5f"
            },
            "marker": {
             "line": {
              "color": "#E5ECF6",
              "width": 0.5
             },
             "pattern": {
              "fillmode": "overlay",
              "size": 10,
              "solidity": 0.2
             }
            },
            "type": "bar"
           }
          ],
          "barpolar": [
           {
            "marker": {
             "line": {
              "color": "#E5ECF6",
              "width": 0.5
             },
             "pattern": {
              "fillmode": "overlay",
              "size": 10,
              "solidity": 0.2
             }
            },
            "type": "barpolar"
           }
          ],
          "carpet": [
           {
            "aaxis": {
             "endlinecolor": "#2a3f5f",
             "gridcolor": "white",
             "linecolor": "white",
             "minorgridcolor": "white",
             "startlinecolor": "#2a3f5f"
            },
            "baxis": {
             "endlinecolor": "#2a3f5f",
             "gridcolor": "white",
             "linecolor": "white",
             "minorgridcolor": "white",
             "startlinecolor": "#2a3f5f"
            },
            "type": "carpet"
           }
          ],
          "choropleth": [
           {
            "colorbar": {
             "outlinewidth": 0,
             "ticks": ""
            },
            "type": "choropleth"
           }
          ],
          "contour": [
           {
            "colorbar": {
             "outlinewidth": 0,
             "ticks": ""
            },
            "colorscale": [
             [
              0,
              "#0d0887"
             ],
             [
              0.1111111111111111,
              "#46039f"
             ],
             [
              0.2222222222222222,
              "#7201a8"
             ],
             [
              0.3333333333333333,
              "#9c179e"
             ],
             [
              0.4444444444444444,
              "#bd3786"
             ],
             [
              0.5555555555555556,
              "#d8576b"
             ],
             [
              0.6666666666666666,
              "#ed7953"
             ],
             [
              0.7777777777777778,
              "#fb9f3a"
             ],
             [
              0.8888888888888888,
              "#fdca26"
             ],
             [
              1,
              "#f0f921"
             ]
            ],
            "type": "contour"
           }
          ],
          "contourcarpet": [
           {
            "colorbar": {
             "outlinewidth": 0,
             "ticks": ""
            },
            "type": "contourcarpet"
           }
          ],
          "heatmap": [
           {
            "colorbar": {
             "outlinewidth": 0,
             "ticks": ""
            },
            "colorscale": [
             [
              0,
              "#0d0887"
             ],
             [
              0.1111111111111111,
              "#46039f"
             ],
             [
              0.2222222222222222,
              "#7201a8"
             ],
             [
              0.3333333333333333,
              "#9c179e"
             ],
             [
              0.4444444444444444,
              "#bd3786"
             ],
             [
              0.5555555555555556,
              "#d8576b"
             ],
             [
              0.6666666666666666,
              "#ed7953"
             ],
             [
              0.7777777777777778,
              "#fb9f3a"
             ],
             [
              0.8888888888888888,
              "#fdca26"
             ],
             [
              1,
              "#f0f921"
             ]
            ],
            "type": "heatmap"
           }
          ],
          "histogram": [
           {
            "marker": {
             "pattern": {
              "fillmode": "overlay",
              "size": 10,
              "solidity": 0.2
             }
            },
            "type": "histogram"
           }
          ],
          "histogram2d": [
           {
            "colorbar": {
             "outlinewidth": 0,
             "ticks": ""
            },
            "colorscale": [
             [
              0,
              "#0d0887"
             ],
             [
              0.1111111111111111,
              "#46039f"
             ],
             [
              0.2222222222222222,
              "#7201a8"
             ],
             [
              0.3333333333333333,
              "#9c179e"
             ],
             [
              0.4444444444444444,
              "#bd3786"
             ],
             [
              0.5555555555555556,
              "#d8576b"
             ],
             [
              0.6666666666666666,
              "#ed7953"
             ],
             [
              0.7777777777777778,
              "#fb9f3a"
             ],
             [
              0.8888888888888888,
              "#fdca26"
             ],
             [
              1,
              "#f0f921"
             ]
            ],
            "type": "histogram2d"
           }
          ],
          "histogram2dcontour": [
           {
            "colorbar": {
             "outlinewidth": 0,
             "ticks": ""
            },
            "colorscale": [
             [
              0,
              "#0d0887"
             ],
             [
              0.1111111111111111,
              "#46039f"
             ],
             [
              0.2222222222222222,
              "#7201a8"
             ],
             [
              0.3333333333333333,
              "#9c179e"
             ],
             [
              0.4444444444444444,
              "#bd3786"
             ],
             [
              0.5555555555555556,
              "#d8576b"
             ],
             [
              0.6666666666666666,
              "#ed7953"
             ],
             [
              0.7777777777777778,
              "#fb9f3a"
             ],
             [
              0.8888888888888888,
              "#fdca26"
             ],
             [
              1,
              "#f0f921"
             ]
            ],
            "type": "histogram2dcontour"
           }
          ],
          "mesh3d": [
           {
            "colorbar": {
             "outlinewidth": 0,
             "ticks": ""
            },
            "type": "mesh3d"
           }
          ],
          "parcoords": [
           {
            "line": {
             "colorbar": {
              "outlinewidth": 0,
              "ticks": ""
             }
            },
            "type": "parcoords"
           }
          ],
          "pie": [
           {
            "automargin": true,
            "type": "pie"
           }
          ],
          "scatter": [
           {
            "fillpattern": {
             "fillmode": "overlay",
             "size": 10,
             "solidity": 0.2
            },
            "type": "scatter"
           }
          ],
          "scatter3d": [
           {
            "line": {
             "colorbar": {
              "outlinewidth": 0,
              "ticks": ""
             }
            },
            "marker": {
             "colorbar": {
              "outlinewidth": 0,
              "ticks": ""
             }
            },
            "type": "scatter3d"
           }
          ],
          "scattercarpet": [
           {
            "marker": {
             "colorbar": {
              "outlinewidth": 0,
              "ticks": ""
             }
            },
            "type": "scattercarpet"
           }
          ],
          "scattergeo": [
           {
            "marker": {
             "colorbar": {
              "outlinewidth": 0,
              "ticks": ""
             }
            },
            "type": "scattergeo"
           }
          ],
          "scattergl": [
           {
            "marker": {
             "colorbar": {
              "outlinewidth": 0,
              "ticks": ""
             }
            },
            "type": "scattergl"
           }
          ],
          "scattermap": [
           {
            "marker": {
             "colorbar": {
              "outlinewidth": 0,
              "ticks": ""
             }
            },
            "type": "scattermap"
           }
          ],
          "scattermapbox": [
           {
            "marker": {
             "colorbar": {
              "outlinewidth": 0,
              "ticks": ""
             }
            },
            "type": "scattermapbox"
           }
          ],
          "scatterpolar": [
           {
            "marker": {
             "colorbar": {
              "outlinewidth": 0,
              "ticks": ""
             }
            },
            "type": "scatterpolar"
           }
          ],
          "scatterpolargl": [
           {
            "marker": {
             "colorbar": {
              "outlinewidth": 0,
              "ticks": ""
             }
            },
            "type": "scatterpolargl"
           }
          ],
          "scatterternary": [
           {
            "marker": {
             "colorbar": {
              "outlinewidth": 0,
              "ticks": ""
             }
            },
            "type": "scatterternary"
           }
          ],
          "surface": [
           {
            "colorbar": {
             "outlinewidth": 0,
             "ticks": ""
            },
            "colorscale": [
             [
              0,
              "#0d0887"
             ],
             [
              0.1111111111111111,
              "#46039f"
             ],
             [
              0.2222222222222222,
              "#7201a8"
             ],
             [
              0.3333333333333333,
              "#9c179e"
             ],
             [
              0.4444444444444444,
              "#bd3786"
             ],
             [
              0.5555555555555556,
              "#d8576b"
             ],
             [
              0.6666666666666666,
              "#ed7953"
             ],
             [
              0.7777777777777778,
              "#fb9f3a"
             ],
             [
              0.8888888888888888,
              "#fdca26"
             ],
             [
              1,
              "#f0f921"
             ]
            ],
            "type": "surface"
           }
          ],
          "table": [
           {
            "cells": {
             "fill": {
              "color": "#EBF0F8"
             },
             "line": {
              "color": "white"
             }
            },
            "header": {
             "fill": {
              "color": "#C8D4E3"
             },
             "line": {
              "color": "white"
             }
            },
            "type": "table"
           }
          ]
         },
         "layout": {
          "annotationdefaults": {
           "arrowcolor": "#2a3f5f",
           "arrowhead": 0,
           "arrowwidth": 1
          },
          "autotypenumbers": "strict",
          "coloraxis": {
           "colorbar": {
            "outlinewidth": 0,
            "ticks": ""
           }
          },
          "colorscale": {
           "diverging": [
            [
             0,
             "#8e0152"
            ],
            [
             0.1,
             "#c51b7d"
            ],
            [
             0.2,
             "#de77ae"
            ],
            [
             0.3,
             "#f1b6da"
            ],
            [
             0.4,
             "#fde0ef"
            ],
            [
             0.5,
             "#f7f7f7"
            ],
            [
             0.6,
             "#e6f5d0"
            ],
            [
             0.7,
             "#b8e186"
            ],
            [
             0.8,
             "#7fbc41"
            ],
            [
             0.9,
             "#4d9221"
            ],
            [
             1,
             "#276419"
            ]
           ],
           "sequential": [
            [
             0,
             "#0d0887"
            ],
            [
             0.1111111111111111,
             "#46039f"
            ],
            [
             0.2222222222222222,
             "#7201a8"
            ],
            [
             0.3333333333333333,
             "#9c179e"
            ],
            [
             0.4444444444444444,
             "#bd3786"
            ],
            [
             0.5555555555555556,
             "#d8576b"
            ],
            [
             0.6666666666666666,
             "#ed7953"
            ],
            [
             0.7777777777777778,
             "#fb9f3a"
            ],
            [
             0.8888888888888888,
             "#fdca26"
            ],
            [
             1,
             "#f0f921"
            ]
           ],
           "sequentialminus": [
            [
             0,
             "#0d0887"
            ],
            [
             0.1111111111111111,
             "#46039f"
            ],
            [
             0.2222222222222222,
             "#7201a8"
            ],
            [
             0.3333333333333333,
             "#9c179e"
            ],
            [
             0.4444444444444444,
             "#bd3786"
            ],
            [
             0.5555555555555556,
             "#d8576b"
            ],
            [
             0.6666666666666666,
             "#ed7953"
            ],
            [
             0.7777777777777778,
             "#fb9f3a"
            ],
            [
             0.8888888888888888,
             "#fdca26"
            ],
            [
             1,
             "#f0f921"
            ]
           ]
          },
          "colorway": [
           "#636efa",
           "#EF553B",
           "#00cc96",
           "#ab63fa",
           "#FFA15A",
           "#19d3f3",
           "#FF6692",
           "#B6E880",
           "#FF97FF",
           "#FECB52"
          ],
          "font": {
           "color": "#2a3f5f"
          },
          "geo": {
           "bgcolor": "white",
           "lakecolor": "white",
           "landcolor": "#E5ECF6",
           "showlakes": true,
           "showland": true,
           "subunitcolor": "white"
          },
          "hoverlabel": {
           "align": "left"
          },
          "hovermode": "closest",
          "mapbox": {
           "style": "light"
          },
          "paper_bgcolor": "white",
          "plot_bgcolor": "#E5ECF6",
          "polar": {
           "angularaxis": {
            "gridcolor": "white",
            "linecolor": "white",
            "ticks": ""
           },
           "bgcolor": "#E5ECF6",
           "radialaxis": {
            "gridcolor": "white",
            "linecolor": "white",
            "ticks": ""
           }
          },
          "scene": {
           "xaxis": {
            "backgroundcolor": "#E5ECF6",
            "gridcolor": "white",
            "gridwidth": 2,
            "linecolor": "white",
            "showbackground": true,
            "ticks": "",
            "zerolinecolor": "white"
           },
           "yaxis": {
            "backgroundcolor": "#E5ECF6",
            "gridcolor": "white",
            "gridwidth": 2,
            "linecolor": "white",
            "showbackground": true,
            "ticks": "",
            "zerolinecolor": "white"
           },
           "zaxis": {
            "backgroundcolor": "#E5ECF6",
            "gridcolor": "white",
            "gridwidth": 2,
            "linecolor": "white",
            "showbackground": true,
            "ticks": "",
            "zerolinecolor": "white"
           }
          },
          "shapedefaults": {
           "line": {
            "color": "#2a3f5f"
           }
          },
          "ternary": {
           "aaxis": {
            "gridcolor": "white",
            "linecolor": "white",
            "ticks": ""
           },
           "baxis": {
            "gridcolor": "white",
            "linecolor": "white",
            "ticks": ""
           },
           "bgcolor": "#E5ECF6",
           "caxis": {
            "gridcolor": "white",
            "linecolor": "white",
            "ticks": ""
           }
          },
          "title": {
           "x": 0.05
          },
          "xaxis": {
           "automargin": true,
           "gridcolor": "white",
           "linecolor": "white",
           "ticks": "",
           "title": {
            "standoff": 15
           },
           "zerolinecolor": "white",
           "zerolinewidth": 2
          },
          "yaxis": {
           "automargin": true,
           "gridcolor": "white",
           "linecolor": "white",
           "ticks": "",
           "title": {
            "standoff": 15
           },
           "zerolinecolor": "white",
           "zerolinewidth": 2
          }
         }
        },
        "xaxis": {
         "anchor": "y",
         "domain": [
          0,
          1
         ],
         "title": {
          "text": "Year"
         }
        },
        "yaxis": {
         "anchor": "x",
         "domain": [
          0,
          1
         ],
         "title": {
          "text": "Total carbon emissions from fossil fuel consumption and cement production (million metric tons of C)"
         }
        }
       }
      },
      "image/png": "[encoded data removed]"
     },
     "metadata": {},
     "output_type": "display_data"
    }
   ],
   "source": [
    "import plotly.express as px\n",
    "fig = px.line(df_emissions,x='Year', y='Total carbon emissions from fossil fuel consumption and cement production (million metric tons of C)')\n",
    "fig.show()"
   ]
  },
  {
   "cell_type": "code",
   "execution_count": null,
   "id": "8797d449-688c-476d-a2da-837b66b58904",
   "metadata": {},
   "outputs": [],
   "source": []
  }
 ],
 "metadata": {
  "kernelspec": {
   "display_name": "Python 3 (ipykernel)",
   "language": "python",
   "name": "python3"
  },
  "language_info": {
   "codemirror_mode": {
    "name": "ipython",
    "version": 3
   },
   "file_extension": ".py",
   "mimetype": "text/x-python",
   "name": "python",
   "nbconvert_exporter": "python",
   "pygments_lexer": "ipython3",
   "version": "3.13.3"
  }
 },
 "nbformat": 4,
 "nbformat_minor": 5
}
