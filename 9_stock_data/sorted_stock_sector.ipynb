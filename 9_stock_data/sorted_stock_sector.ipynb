{
 "cells": [
  {
   "cell_type": "code",
   "execution_count": null,
   "id": "1deef5be-b70b-490c-a6c5-ab19abfee4f4",
   "metadata": {},
   "outputs": [],
   "source": [
    "# Test Data Transform"
   ]
  },
  {
   "cell_type": "code",
   "execution_count": 4,
   "id": "b6ced39b-a649-4d3b-ba66-89396af16535",
   "metadata": {},
   "outputs": [
    {
     "name": "stdout",
     "output_type": "stream",
     "text": [
      "    stock                  sector                                      company\n",
      "0    AABA              Financials                                       Altaba\n",
      "1    AAPL              Technology                                   Apple Inc.\n",
      "2    AMZN              Technology                              Amazon.com Inc.\n",
      "3     AXP              Financials                     American Express Company\n",
      "4      BA             Industrials                               Boeing Company\n",
      "5     CAT             Industrials                             Caterpillar Inc.\n",
      "6    CSCO              Technology                           Cisco Systems Inc.\n",
      "7     CVX                  Energy                          Chevron Corporation\n",
      "8     DIS                Consumer                          Walt Disney Company\n",
      "9      GE             Industrials                     General Electric Company\n",
      "10  GOOGL              Technology                                Alphabet Inc.\n",
      "11     GS              Financials                     Goldman Sachs Group Inc.\n",
      "12     HD                Consumer                              Home Depot Inc.\n",
      "13    IBM              Technology  International Business Machines Corporation\n",
      "14   INTC              Technology                            Intel Corporation\n",
      "15    JNJ              Healthcare                            Johnson & Johnson\n",
      "16    JPM              Financials                         JPMorgan Chase & Co.\n",
      "17    MDC                Consumer                     MDU Resources Group Inc.\n",
      "18     KO                Consumer                            Coca-Cola Company\n",
      "19    MCD                Consumer                       McDonald's Corporation\n",
      "20    MMM             Industrials                                   3M Company\n",
      "21    MRK              Healthcare                             Merck & Co. Inc.\n",
      "22   MSFT              Technology                        Microsoft Corporation\n",
      "23    NKE                Consumer                                    Nike Inc.\n",
      "24    PFE              Healthcare                                  Pfizer Inc.\n",
      "25     PG        Consumer Staples                         Procter & Gamble Co.\n",
      "26    TRV               Financial                     Travelers Companies Inc.\n",
      "27    UNH              Healthcare              UnitedHealth Group Incorporated\n",
      "28    UTX   Aerospace and Defense              United Technologies Corporation\n",
      "29     VZ  Communication Services                  Verizon Communications Inc.\n",
      "30    WMT        Consumer Staples                                 Walmart Inc.\n",
      "31    XOM                  Energy                      Exxon Mobil Corporation\n"
     ]
    }
   ],
   "source": [
    "import pandas as pd\n",
    "df_sectors = pd.read_csv('https://raw.githubusercontent.com/rebeccapeltz/data_repo/refs/heads/main/stocks_sector.csv')\n",
    "df_stock_sector_company = pd.read_csv('../data/stock_sector_company.csv')\n",
    "print(df_stock_sector_company)\n",
    "# df_sorted_sectors = df_sectors.sort_values('stock')\n",
    "# print(df_sorted_sectors)\n",
    "# df_sorted_sectors.to_csv('../data/stock_company_sector.csv')\n",
    "\n"
   ]
  },
  {
   "cell_type": "code",
   "execution_count": null,
   "id": "a7ac07dd-5e54-4b78-8ea5-33c287dfd94b",
   "metadata": {},
   "outputs": [],
   "source": []
  }
 ],
 "metadata": {
  "kernelspec": {
   "display_name": "Python 3 (ipykernel)",
   "language": "python",
   "name": "python3"
  },
  "language_info": {
   "codemirror_mode": {
    "name": "ipython",
    "version": 3
   },
   "file_extension": ".py",
   "mimetype": "text/x-python",
   "name": "python",
   "nbconvert_exporter": "python",
   "pygments_lexer": "ipython3",
   "version": "3.13.3"
  }
 },
 "nbformat": 4,
 "nbformat_minor": 5
}
