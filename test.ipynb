{
 "cells": [
  {
   "cell_type": "code",
   "execution_count": 18,
   "id": "1fdf0f56-0246-4f77-b753-32eb50cea7f3",
   "metadata": {},
   "outputs": [
    {
     "name": "stdout",
     "output_type": "stream",
     "text": [
      "[['1955' '1965']\n",
      " ['1965' '1975']\n",
      " ['1975' '1985']\n",
      " ['1985' '1995']\n",
      " ['1995' '2005']\n",
      " ['2005' '2015']\n",
      " ['2015' '2021']]\n",
      "ravel 2 lists\n",
      "['1955' '1965' '1965' '1975' '1975' '1985' '1985' '1995' '1995' '2005'\n",
      " '2005' '2015' '2015' '2021']\n",
      "unique\n",
      "['1955' '1965' '1975' '1985' '1995' '2005' '2015' '2021']\n",
      "['1955', '1965', '1975', '1985', '1995', '2005', '2015', '2021']\n",
      "['1955', '1965', '1975', '1985', '1995', '2005', '2015', '2021']\n",
      "df source\n",
      "0    0\n",
      "1    1\n",
      "2    2\n",
      "3    3\n",
      "4    4\n",
      "5    5\n",
      "6    6\n",
      "Name: source, dtype: int64\n",
      "df target\n",
      "0    1\n",
      "1    2\n",
      "2    3\n",
      "3    4\n",
      "4    5\n",
      "5    6\n",
      "6    7\n",
      "Name: target, dtype: int64\n"
     ]
    }
   ],
   "source": [
    "import plotly.express as px\n",
    "import pandas as pd\n",
    "import plotly.graph_objects as go\n",
    "\n",
    "EMISSIONS_DATA = 'https://raw.githubusercontent.com/plotly/Figure-Friday/'\\\n",
    "        'refs/heads/main/2025/week-21/global.1751_2021.csv'\n",
    "\n",
    "EMISSION_COL_NAME = 'Total carbon emissions from fossil fuel consumption and cement production (million metric tons of C)'\n",
    "\n",
    "\n",
    "df_emission = pd.read_csv(EMISSIONS_DATA)\n",
    "\n",
    "emissions = df_emission[df_emission['Year'].isin([1965, 1975, 1985, 1995, 2005, 2015, 2021])][EMISSION_COL_NAME].tolist()\n",
    "\n",
    "data = {\n",
    "    'source': [0, 1, 2, 3, 4, 5, 6],\n",
    "    'target': [1, 2, 3, 4, 5, 6, 7],\n",
    "    'value': emissions,\n",
    "    'source_label': ['1955', '1965', '1975', '1985', '1995', '2005', '2015'],\n",
    "    'target_label': ['1965', '1975', '1985', '1995', '2005', '2015', '2021'],\n",
    "}\n",
    "df = pd.DataFrame(data)\n",
    "\n",
    "# Optional: Create labels from source and target\n",
    "print(df[['source_label', 'target_label']].values)\n",
    "print('ravel 2 lists')\n",
    "print(df[['source_label', 'target_label']].values.ravel()) # add labels from source and target\n",
    "print('unique')\n",
    "print(pd.unique(df[['source_label', 'target_label']].values.ravel())) # add labels from source and target\n",
    "# labels = list(pd.unique(df[['source_label', 'target_label']].values))\n",
    "print(labels)\n",
    "labels = list(pd.unique(df[['source_label', 'target_label']].values.ravel()))\n",
    "print(labels)\n",
    "\n",
    "\n",
    "# Map labels to indexes\n",
    "label_map = {label: i for i, label in enumerate(labels)}\n",
    "df['source'] = df['source_label'].map(label_map)\n",
    "df['target'] = df['target_label'].map(label_map)\n",
    "\n",
    "print('df source')\n",
    "print(df['source'])\n",
    "print('df target')\n",
    "print(df['target'])\n"
   ]
  },
  {
   "cell_type": "code",
   "execution_count": null,
   "id": "ccfc120e-a8c1-4987-a48b-e2c8ecc80f49",
   "metadata": {},
   "outputs": [],
   "source": []
  }
 ],
 "metadata": {
  "kernelspec": {
   "display_name": "Python 3 (ipykernel)",
   "language": "python",
   "name": "python3"
  },
  "language_info": {
   "codemirror_mode": {
    "name": "ipython",
    "version": 3
   },
   "file_extension": ".py",
   "mimetype": "text/x-python",
   "name": "python",
   "nbconvert_exporter": "python",
   "pygments_lexer": "ipython3",
   "version": "3.13.3"
  }
 },
 "nbformat": 4,
 "nbformat_minor": 5
}
