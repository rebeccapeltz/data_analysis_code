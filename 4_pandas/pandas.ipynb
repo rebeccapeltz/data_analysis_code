{
 "cells": [
  {
   "cell_type": "markdown",
   "id": "f53b96b9-80f1-4a33-ba9c-c06e354a5e4d",
   "metadata": {},
   "source": [
    "# pandas\n",
    "## Data Transformation\n",
    "\n",
    "- dataframe\n",
    "- read CSV data\n",
    "- write CSV data\n",
    "- filter\n",
    "- merge and concatenate\n",
    "- group by\n",
    "- append\n",
    "- correlate\n",
    "- coefficent of correlation\n"
   ]
  },
  {
   "cell_type": "markdown",
   "id": "027fac5d-c889-498e-b3ad-5bd539e663e1",
   "metadata": {},
   "source": [
    "Two CSV data files: **Student.csv** and **CourseEnrollment.csv**\n",
    "\n",
    "Student\n",
    "\n",
    "```\n",
    "StudentID,Name,Age,Major,GPA\n",
    "1,Alice,18,Math,3.5\n",
    "2,Bob,19,Physics,3.2\n",
    "3,Charlie,18,Math,3.8\n",
    "4,David,20,Chemistry,3.0\n",
    "5,Eve,19,Physics,3.7\n",
    "6,Frank,18,Math,3.9\n",
    "7,Grace,20,Chemistry,3.1\n",
    "8,Heidi,19,Physics,3.4\n",
    "9,Ivan,20,Math,3.6\n",
    "10,Judy,18,Chemistry,3.3\n",
    "\n",
    "```\n",
    "\n",
    "Course Enrollment\n",
    "```\n",
    "EnrollmentID,StudentID,Course,Score\n",
    "101,1,Calculus I,90\n",
    "102,1,Linear Algebra,85\n",
    "103,2,Physics I,78\n",
    "104,3,Calculus I,92\n",
    "105,4,Chemistry I,88\n",
    "106,5,Physics I,95\n",
    "107,6,Calculus I,80\n",
    "108,7,Chemistry I,75\n",
    "109,8,Physics I,82\n",
    "110,9,Linear Algebra,88\n",
    "111,10,Chemistry I,90\n",
    "```\n"
   ]
  },
  {
   "cell_type": "markdown",
   "id": "043de61c-48b1-4d0b-8cea-43ee6ea71630",
   "metadata": {},
   "source": [
    "## Dataframe\n",
    "- rows/columns access (similar to list of lists)\n",
    "- 2 dimensional (rows and columns)\n",
    "- size mutable\n",
    "- heterogenous tabular data structure\n"
   ]
  },
  {
   "cell_type": "markdown",
   "id": "ac806164-453c-4497-ba01-655f9b5172d0",
   "metadata": {},
   "source": [
    "### Load Data into a Dataframe\n",
    "- Use `read_csv(filename)` to load DataFrame\n",
    "- Access rows and columns using `iloc` method"
   ]
  },
  {
   "cell_type": "code",
   "execution_count": 9,
   "id": "cf6b3912-75c2-4312-a0b9-e220a19171bf",
   "metadata": {},
   "outputs": [
    {
     "name": "stdout",
     "output_type": "stream",
     "text": [
      "first row of student data:\n",
      "  StudentID        1\n",
      "Name         Alice\n",
      "Age             18\n",
      "Major         Math\n",
      "GPA            3.5\n",
      "Name: 0, dtype: object\n",
      "\n",
      "first student:\n",
      "  1\n",
      "\n",
      "first row student enrollment data:\n",
      "  EnrollmentID           101\n",
      "StudentID                1\n",
      "Course          Calculus I\n",
      "Score                   90\n",
      "Name: 0, dtype: object\n",
      "\n",
      "first student enrollment:\n",
      "  101\n"
     ]
    }
   ],
   "source": [
    "import pandas as pd\n",
    "\n",
    "df_student = pd.read_csv('../data/student.csv')\n",
    "df_student_enrollment = pd.read_csv('../data/course_enrollment.csv')\n",
    "\n",
    "# print first row of studentLLL\n",
    "print('first row of student data:\\n ',df_student.iloc[0])\n",
    "\n",
    "# print first item in first row of student\n",
    "print('\\nfirst student:\\n ',df_student.iloc[0,0])\n",
    "      \n",
    "# print first row of student enrollment\n",
    "print('\\nfirst row student enrollment data:\\n ',df_student_enrollment.iloc[0]) \n",
    "      \n",
    "# print first item in first row of student enrollment\n",
    "print('\\nfirst student enrollment:\\n ', df_student_enrollment.iloc[0,0])"
   ]
  },
  {
   "cell_type": "markdown",
   "id": "f0506eb5-b489-41a2-a7e2-39c4df5940c1",
   "metadata": {},
   "source": [
    "## Filter"
   ]
  },
  {
   "cell_type": "code",
   "execution_count": 22,
   "id": "3b936e22-e943-48c6-b16e-1e4876fccc07",
   "metadata": {},
   "outputs": [
    {
     "name": "stdout",
     "output_type": "stream",
     "text": [
      "Students 18 years old\n",
      "\n",
      "   StudentID     Name  Age      Major  GPA\n",
      "0          1    Alice   18       Math  3.5\n",
      "2          3  Charlie   18       Math  3.8\n",
      "5          6    Frank   18       Math  3.9\n",
      "9         10     Judy   18  Chemistry  3.3\n",
      "--------------------------------------------------\n",
      "Students Enrolled in Calculus and Physics\n",
      "\n",
      "   EnrollmentID  StudentID      Course  Score\n",
      "0           101          1  Calculus I     90\n",
      "2           103          2   Physics I     78\n",
      "3           104          3  Calculus I     92\n",
      "5           106          5   Physics I     95\n",
      "6           107          6  Calculus I     80\n",
      "8           109          8   Physics I     82\n"
     ]
    }
   ],
   "source": [
    "#\n",
    "print(\"Students 18 years old\\n\")\n",
    "filtered_df = df_student[df_student['Age'] == 18]\n",
    "print(filtered_df)\n",
    "\n",
    "print('-'*50)\n",
    "\n",
    "print(\"Students Enrolled in Calculus and Physics\\n\")\n",
    "filtered_enrollments = df_student_enrollment[df_student_enrollment['Course'].isin(['Calculus I','Physics I'])]\n",
    "print(filtered_enrollments)\n"
   ]
  },
  {
   "cell_type": "markdown",
   "id": "c2cf2a06-11e4-45cc-a98d-d0e35594e49b",
   "metadata": {},
   "source": [
    "## Merge\n",
    "\n",
    "Types of merge:\n",
    "- **inner** matching values\n",
    "- **outer** all the data from both dataframes and missing data is NaN\n",
    "- left all the data from the left and missing data on the righ is NaN\n",
    "- right all the data from the right and missing data on the left is NaN\n",
    "- left-on and right-on used when merging column names don't match"
   ]
  },
  {
   "cell_type": "code",
   "execution_count": 25,
   "id": "d4d84fe2-5ebe-48d3-8229-bae6b1ac423c",
   "metadata": {},
   "outputs": [
    {
     "name": "stdout",
     "output_type": "stream",
     "text": [
      "    StudentID     Name  Age      Major  GPA  EnrollmentID          Course  \\\n",
      "0           1    Alice   18       Math  3.5           101      Calculus I   \n",
      "1           1    Alice   18       Math  3.5           102  Linear Algebra   \n",
      "2           2      Bob   19    Physics  3.2           103       Physics I   \n",
      "3           3  Charlie   18       Math  3.8           104      Calculus I   \n",
      "4           4    David   20  Chemistry  3.0           105     Chemistry I   \n",
      "5           5      Eve   19    Physics  3.7           106       Physics I   \n",
      "6           6    Frank   18       Math  3.9           107      Calculus I   \n",
      "7           7    Grace   20  Chemistry  3.1           108     Chemistry I   \n",
      "8           8    Heidi   19    Physics  3.4           109       Physics I   \n",
      "9           9     Ivan   20       Math  3.6           110  Linear Algebra   \n",
      "10         10     Judy   18  Chemistry  3.3           111     Chemistry I   \n",
      "\n",
      "    Score  \n",
      "0      90  \n",
      "1      85  \n",
      "2      78  \n",
      "3      92  \n",
      "4      88  \n",
      "5      95  \n",
      "6      80  \n",
      "7      75  \n",
      "8      82  \n",
      "9      88  \n",
      "10     90  \n",
      "    StudentID     Name  Age      Major  GPA  EnrollmentID          Course  \\\n",
      "0           1    Alice   18       Math  3.5           101      Calculus I   \n",
      "1           1    Alice   18       Math  3.5           102  Linear Algebra   \n",
      "2           2      Bob   19    Physics  3.2           103       Physics I   \n",
      "3           3  Charlie   18       Math  3.8           104      Calculus I   \n",
      "4           4    David   20  Chemistry  3.0           105     Chemistry I   \n",
      "5           5      Eve   19    Physics  3.7           106       Physics I   \n",
      "6           6    Frank   18       Math  3.9           107      Calculus I   \n",
      "7           7    Grace   20  Chemistry  3.1           108     Chemistry I   \n",
      "8           8    Heidi   19    Physics  3.4           109       Physics I   \n",
      "9           9     Ivan   20       Math  3.6           110  Linear Algebra   \n",
      "10         10     Judy   18  Chemistry  3.3           111     Chemistry I   \n",
      "\n",
      "    Score  \n",
      "0      90  \n",
      "1      85  \n",
      "2      78  \n",
      "3      92  \n",
      "4      88  \n",
      "5      95  \n",
      "6      80  \n",
      "7      75  \n",
      "8      82  \n",
      "9      88  \n",
      "10     90  \n"
     ]
    }
   ],
   "source": [
    "# Inner Merge\n",
    "df_merged  = pd.merge(df_student, df_student_enrollment, on='StudentID', how='inner')\n",
    "print(df_merged)\n",
    "\n",
    "# Outer Merge\n",
    "df_merged  = pd.merge(df_student, df_student_enrollment, on='StudentID', how='outer')\n",
    "print(df_merged)"
   ]
  },
  {
   "cell_type": "markdown",
   "id": "b4eda607-5f1e-451b-83aa-844a330bc79f",
   "metadata": {},
   "source": [
    "## Concatenate"
   ]
  },
  {
   "cell_type": "code",
   "execution_count": 41,
   "id": "ee3202bf-96b0-4fdf-8aa6-757ef3785631",
   "metadata": {},
   "outputs": [
    {
     "name": "stdout",
     "output_type": "stream",
     "text": [
      "   StudentID     Name  Age      Major  GPA\n",
      "0          1    Alice   18       Math  3.5\n",
      "1          2      Bob   19    Physics  3.2\n",
      "2          3  Charlie   18       Math  3.8\n",
      "3          4    David   20  Chemistry  3.0\n",
      "4          5      Eve   19    Physics  3.7\n",
      "5          6    Frank   18       Math  3.9\n",
      "6          7    Grace   20  Chemistry  3.1\n",
      "7          8    Heidi   19    Physics  3.4\n",
      "8          9     Ivan   20       Math  3.6\n",
      "9         10     Judy   18  Chemistry  3.3\n",
      "0         11     Zack   20  Philosphy  4.0\n"
     ]
    }
   ],
   "source": [
    "# Concatenate Vertically\n",
    "# axis = 0 means vertically stacking\n",
    "\n",
    "# create a new student\n",
    "new_student_data = {\n",
    "   'StudentID': [11],\n",
    "   'Name': ['Zack'],\n",
    "   'Age': [20],\n",
    "    \"Major\":[\"Philosphy\"],\n",
    "    \"GPA\":[4.0]\n",
    "}\n",
    "df_new_student = pd.DataFrame(new_student_data)\n",
    "\n",
    "\n",
    "concat_vert = pd.concat([df_student,df_new_student], axis=0)\n",
    "print(concat_vert)"
   ]
  },
  {
   "cell_type": "markdown",
   "id": "f5100b31-1d36-4cce-9943-9319c809536c",
   "metadata": {},
   "source": [
    "## Group by"
   ]
  },
  {
   "cell_type": "code",
   "execution_count": 29,
   "id": "fbd5fe9e-146e-4a28-8dce-1f4497934758",
   "metadata": {},
   "outputs": [
    {
     "name": "stdout",
     "output_type": "stream",
     "text": [
      "\n",
      "Mean of Value1:\n",
      "    Age       GPA\n",
      "0   18  3.625000\n",
      "1   19  3.433333\n",
      "2   20  3.233333\n"
     ]
    }
   ],
   "source": [
    "# Get Mean value of students by Age\n",
    "df_group_by_age = df_student.groupby(['Age'])[['GPA']].mean().reset_index()\n",
    "\n",
    "print(\"\\nMean of Value1:\\n\",df_group_by_age)"
   ]
  },
  {
   "cell_type": "markdown",
   "id": "890ba523-9414-4e34-b236-853d77559bd6",
   "metadata": {},
   "source": [
    "## Correlate\n",
    "- generate random positively correlated data\n",
    "- genrate random negatively correlated data"
   ]
  },
  {
   "cell_type": "code",
   "execution_count": 42,
   "id": "c9c667c2-3c65-42cf-a8b5-2ad937305eb5",
   "metadata": {},
   "outputs": [
    {
     "name": "stdout",
     "output_type": "stream",
     "text": [
      "age 0    18\n",
      "1    19\n",
      "2    18\n",
      "3    20\n",
      "4    19\n",
      "5    18\n",
      "6    20\n",
      "7    19\n",
      "8    20\n",
      "9    18\n",
      "Name: Age, dtype: int64\n",
      "gpa 0     90\n",
      "1     85\n",
      "2     78\n",
      "3     92\n",
      "4     88\n",
      "5     95\n",
      "6     80\n",
      "7     75\n",
      "8     82\n",
      "9     88\n",
      "10    90\n",
      "Name: Score, dtype: int64\n",
      "coefficent of correlation:  -0.23028596075970892\n"
     ]
    }
   ],
   "source": [
    "# print('age', df_student['Age'])\n",
    "# print('gpa',df_student_enrollment['Score'])\n",
    "correlation = df_student[\"Age\"].corr(df_student_enrollment[\"Score\"])\n",
    "print('coefficent of correlation: ',correlation)\n"
   ]
  },
  {
   "cell_type": "code",
   "execution_count": 2,
   "id": "cc4a6d55-9bd0-4ed6-bb13-24eaef01d1a6",
   "metadata": {},
   "outputs": [
    {
     "name": "stdout",
     "output_type": "stream",
     "text": [
      "Dataset 1: Study Hours vs. Exam Grades (Positive Correlation)\n",
      "   Study_Hours_Per_Week  Exam_Grade\n",
      "0             12.490802   78.673938\n",
      "1             24.014286   98.885414\n",
      "2             19.639879   88.701516\n",
      "3             16.973170   82.440821\n",
      "4              8.120373   58.848136\n",
      "\n",
      "Correlation between Study_Hours_Per_Week and Exam_Grade:\n",
      "0.9278681504191161\n"
     ]
    }
   ],
   "source": [
    "# Example of positive correlation\n",
    "import pandas as pd\n",
    "import numpy as np\n",
    "\n",
    "# Set a seed for reproducibility\n",
    "np.random.seed(42)\n",
    "\n",
    "# Number of data points\n",
    "num_students = 50\n",
    "\n",
    "# Generate Study Hours (e.g., 5 to 25 hours per week)\n",
    "study_hours = np.random.uniform(5, 25, num_students)\n",
    "\n",
    "# Generate Grades (positively correlated with study hours, with some noise)\n",
    "# Positive Correlation achieved by add study hours * 2 to base grade of 50\n",
    "# Start with a base grade and add a factor of study_hours, plus some random variation\n",
    "grades = 50 + (study_hours * 2) + np.random.normal(0, 5, num_students)\n",
    "grades = np.clip(grades, 0, 100) # Ensure grades are between 0 and 100\n",
    "\n",
    "study_hours_vs_grades = pd.DataFrame({\n",
    "    'Study_Hours_Per_Week': study_hours,\n",
    "    'Exam_Grade': grades\n",
    "})\n",
    "\n",
    "print(\"Dataset 1: Study Hours vs. Exam Grades (Positive Correlation)\")\n",
    "print(study_hours_vs_grades.head()) # Print first 5 rows\n",
    "print(\"\\nCorrelation between Study_Hours_Per_Week and Exam_Grade:\")\n",
    "print(study_hours_vs_grades['Study_Hours_Per_Week'].corr(study_hours_vs_grades['Exam_Grade']))"
   ]
  },
  {
   "cell_type": "code",
   "execution_count": 4,
   "id": "a605938b-060e-44b4-b525-03b98f97638c",
   "metadata": {},
   "outputs": [
    {
     "name": "stdout",
     "output_type": "stream",
     "text": [
      "\n",
      "Dataset 2: Weekly Exercise Hours vs. BMI (Negative Correlation)\n",
      "   Weekly_Exercise_Hours        BMI\n",
      "0               8.831117  19.109590\n",
      "1               6.240492  19.889504\n",
      "2               3.509550  23.647016\n",
      "3               2.673201  26.565721\n",
      "4               4.699901  22.538508\n",
      "\n",
      "Correlation between Weekly_Exercise_Hours and BMI:\n",
      "-0.8686254162980963\n"
     ]
    }
   ],
   "source": [
    "# Example of negative correlation\n",
    "import pandas as pd\n",
    "import numpy as np\n",
    "\n",
    "# Set a seed for reproducibility\n",
    "np.random.seed(25) # Use a different seed\n",
    "\n",
    "# Number of data points\n",
    "num_people = 60\n",
    "\n",
    "# Generate Exercise Hours (e.g., 1 to 10 hours per week)\n",
    "exercise_hours = np.random.uniform(1, 10, num_people)\n",
    "\n",
    "# Generate BMI (negatively correlated with exercise hours, with some noise)\n",
    "# Negative correlation achieved by subtracting exercise_hours * 1.5 from base BMI\n",
    "# Start with a base BMI and subtract a factor of exercise_hours, plus some random variation\n",
    "bmi = 30 - (exercise_hours * 1.5) + np.random.normal(0, 2, num_people)\n",
    "bmi = np.clip(bmi, 18, 35) # Ensure BMI is within a reasonable range\n",
    "\n",
    "exercise_vs_bmi = pd.DataFrame({\n",
    "    'Weekly_Exercise_Hours': exercise_hours,\n",
    "    'BMI': bmi\n",
    "})\n",
    "\n",
    "print(\"\\nDataset 2: Weekly Exercise Hours vs. BMI (Negative Correlation)\")\n",
    "print(exercise_vs_bmi.head()) # Print first 5 rows\n",
    "print(\"\\nCorrelation between Weekly_Exercise_Hours and BMI:\")\n",
    "print(exercise_vs_bmi['Weekly_Exercise_Hours'].corr(exercise_vs_bmi['BMI']))"
   ]
  },
  {
   "cell_type": "code",
   "execution_count": null,
   "id": "cff76f17-3849-44f9-98c5-9ee3c6433b6b",
   "metadata": {},
   "outputs": [],
   "source": []
  }
 ],
 "metadata": {
  "kernelspec": {
   "display_name": "Python 3 (ipykernel)",
   "language": "python",
   "name": "python3"
  },
  "language_info": {
   "codemirror_mode": {
    "name": "ipython",
    "version": 3
   },
   "file_extension": ".py",
   "mimetype": "text/x-python",
   "name": "python",
   "nbconvert_exporter": "python",
   "pygments_lexer": "ipython3",
   "version": "3.13.3"
  }
 },
 "nbformat": 4,
 "nbformat_minor": 5
}
